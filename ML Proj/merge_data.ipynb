{
 "cells": [
  {
   "cell_type": "code",
   "execution_count": 2,
   "id": "9e07b34f-e1ea-4a73-8c79-4dc504533648",
   "metadata": {},
   "outputs": [
    {
     "name": "stdout",
     "output_type": "stream",
     "text": [
      "Processing c:\\users\\13490\\onedrive\\桌面\\csd\\isc_gh\\id2223\\pykoda\\pykoda\n",
      "  Preparing metadata (setup.py): started\n",
      "  Preparing metadata (setup.py): finished with status 'done'\n",
      "Requirement already satisfied: appdirs in d:\\lib\\site-packages (from pykoda==0.2) (1.4.4)\n",
      "Requirement already satisfied: requests in d:\\lib\\site-packages (from pykoda==0.2) (2.31.0)\n",
      "Requirement already satisfied: ey in d:\\lib\\site-packages (from pykoda==0.2) (0.3.5)\n",
      "Requirement already satisfied: numpy in d:\\lib\\site-packages (from pykoda==0.2) (1.26.2)\n",
      "Requirement already satisfied: pandas in d:\\lib\\site-packages (from pykoda==0.2) (2.1.3)\n",
      "Requirement already satisfied: pyarrow in d:\\lib\\site-packages (from pykoda==0.2) (18.0.0)\n",
      "Requirement already satisfied: scipy in d:\\lib\\site-packages (from pykoda==0.2) (1.13.1)\n",
      "Requirement already satisfied: cartopy in d:\\lib\\site-packages (from pykoda==0.2) (0.23.0)\n",
      "Requirement already satisfied: geopandas in d:\\lib\\site-packages (from pykoda==0.2) (1.0.1)\n",
      "Requirement already satisfied: matplotlib in d:\\lib\\site-packages (from pykoda==0.2) (3.8.2)\n",
      "Requirement already satisfied: protobuf in d:\\lib\\site-packages (from pykoda==0.2) (3.20.3)\n",
      "Requirement already satisfied: tqdm in d:\\lib\\site-packages (from pykoda==0.2) (4.66.1)\n",
      "Requirement already satisfied: joblib in d:\\lib\\site-packages (from pykoda==0.2) (1.3.2)\n",
      "Requirement already satisfied: geopy~=2.0.0 in d:\\lib\\site-packages (from pykoda==0.2) (2.0.0)\n",
      "Requirement already satisfied: networkx in d:\\lib\\site-packages (from pykoda==0.2) (3.2.1)\n",
      "Requirement already satisfied: geographiclib<2,>=1.49 in d:\\lib\\site-packages (from geopy~=2.0.0->pykoda==0.2) (1.52)\n",
      "Requirement already satisfied: shapely>=1.7 in d:\\lib\\site-packages (from cartopy->pykoda==0.2) (2.0.6)\n",
      "Requirement already satisfied: packaging>=20 in d:\\lib\\site-packages (from cartopy->pykoda==0.2) (23.2)\n",
      "Requirement already satisfied: pyshp>=2.3 in d:\\lib\\site-packages (from cartopy->pykoda==0.2) (2.3.1)\n",
      "Requirement already satisfied: pyproj>=3.3.1 in d:\\lib\\site-packages (from cartopy->pykoda==0.2) (3.6.1)\n",
      "Requirement already satisfied: contourpy>=1.0.1 in d:\\lib\\site-packages (from matplotlib->pykoda==0.2) (1.2.0)\n",
      "Requirement already satisfied: cycler>=0.10 in d:\\lib\\site-packages (from matplotlib->pykoda==0.2) (0.12.1)\n",
      "Requirement already satisfied: fonttools>=4.22.0 in d:\\lib\\site-packages (from matplotlib->pykoda==0.2) (4.45.1)\n",
      "Requirement already satisfied: kiwisolver>=1.3.1 in d:\\lib\\site-packages (from matplotlib->pykoda==0.2) (1.4.5)\n",
      "Requirement already satisfied: pillow>=8 in d:\\lib\\site-packages (from matplotlib->pykoda==0.2) (10.1.0)\n",
      "Requirement already satisfied: pyparsing>=2.3.1 in d:\\lib\\site-packages (from matplotlib->pykoda==0.2) (3.1.1)\n",
      "Requirement already satisfied: python-dateutil>=2.7 in d:\\lib\\site-packages (from matplotlib->pykoda==0.2) (2.8.2)\n",
      "Requirement already satisfied: importlib-resources>=3.2.0 in d:\\lib\\site-packages (from matplotlib->pykoda==0.2) (6.1.1)\n",
      "Requirement already satisfied: pyogrio>=0.7.2 in d:\\lib\\site-packages (from geopandas->pykoda==0.2) (0.10.0)\n",
      "Requirement already satisfied: pytz>=2020.1 in d:\\lib\\site-packages (from pandas->pykoda==0.2) (2023.3.post1)\n",
      "Requirement already satisfied: tzdata>=2022.1 in d:\\lib\\site-packages (from pandas->pykoda==0.2) (2023.3)\n",
      "Requirement already satisfied: charset-normalizer<4,>=2 in d:\\lib\\site-packages (from requests->pykoda==0.2) (3.3.2)\n",
      "Requirement already satisfied: idna<4,>=2.5 in d:\\lib\\site-packages (from requests->pykoda==0.2) (3.6)\n",
      "Requirement already satisfied: urllib3<3,>=1.21.1 in d:\\lib\\site-packages (from requests->pykoda==0.2) (1.26.20)\n",
      "Requirement already satisfied: certifi>=2017.4.17 in d:\\lib\\site-packages (from requests->pykoda==0.2) (2023.11.17)\n",
      "Requirement already satisfied: colorama in d:\\lib\\site-packages (from tqdm->pykoda==0.2) (0.4.6)\n",
      "Requirement already satisfied: zipp>=3.1.0 in d:\\lib\\site-packages (from importlib-resources>=3.2.0->matplotlib->pykoda==0.2) (3.17.0)\n",
      "Requirement already satisfied: six>=1.5 in d:\\lib\\site-packages (from python-dateutil>=2.7->matplotlib->pykoda==0.2) (1.16.0)\n",
      "Building wheels for collected packages: pykoda\n",
      "  Building wheel for pykoda (setup.py): started\n",
      "  Building wheel for pykoda (setup.py): finished with status 'done'\n",
      "  Created wheel for pykoda: filename=pykoda-0.2-py3-none-any.whl size=23095 sha256=4b4b9bf4740a7bc0b476a97c6d49e2a2cadfc42e0186b38a637a2392d86e0044\n",
      "  Stored in directory: C:\\Users\\13490\\AppData\\Local\\Temp\\pip-ephem-wheel-cache-b_e02hb8\\wheels\\88\\4f\\1a\\6edea922dfae17582ea49190acf7a7fae62439a75b32fa6141\n",
      "Successfully built pykoda\n",
      "Installing collected packages: pykoda\n",
      "  Attempting uninstall: pykoda\n",
      "    Found existing installation: pykoda 0.2\n",
      "    Uninstalling pykoda-0.2:\n",
      "      Successfully uninstalled pykoda-0.2\n",
      "Successfully installed pykoda-0.2\n"
     ]
    }
   ],
   "source": [
    "!pip install C:/Users/13490/OneDrive/桌面/csd/ISC_gh/ID2223/pykoda/pykoda --upgrade"
   ]
  },
  {
   "cell_type": "code",
   "execution_count": 5,
   "id": "306b8eeb-7516-4803-bdc7-0f1b333e54ad",
   "metadata": {},
   "outputs": [
    {
     "name": "stderr",
     "output_type": "stream",
     "text": [
      "Loading data:   0%|                                                                            | 0/312 [00:00<?, ?it/s]D:\\lib\\site-packages\\pykoda\\data\\datautils.py:90: RuntimeWarning: The API did not return data for 2022-12-02 01:00:00\n",
      "  warnings.warn(RuntimeWarning(f'The API did not return data for {date_hour}'))\n",
      "Loading data:   1%|▍                                                                   | 2/312 [00:00<00:23, 13.33it/s]"
     ]
    },
    {
     "name": "stdout",
     "output_type": "stream",
     "text": [
      "Getting C:/Users/13490/AppData/Local/pykoda/pykoda/Cache/sl_TripUpdates_2022_12_02_1.feather\n",
      "File or folder already exists, so skipping task: data (datafolder)\n",
      "File or folder already exists, so skipping task: C:/Users/13490/AppData/Local/pykoda/pykoda/Cache/sl-tripupdates-2022-12-02.bz2 (file)\n",
      "System tool failed: Command '['7z', 'e', '-oC:/Users/13490/AppData/Local/pykoda/pykoda/Cache/sl-tripupdates-2022-12-02', 'C:/Users/13490/AppData/Local/pykoda/pykoda/Cache/sl-tripupdates-2022-12-02.bz2']' returned non-zero exit status 255.\n",
      "None\n",
      "Executing python function, producing output(s): C:/Users/13490/AppData/Local/pykoda/pykoda/Cache/sl_TripUpdates_2022_12_02_1.feather.tmp\n",
      "Getting C:/Users/13490/AppData/Local/pykoda/pykoda/Cache/sl_TripUpdates_2022_12_02_2.feather\n",
      "File or folder already exists, so skipping task: data (datafolder)\n",
      "File or folder already exists, so skipping task: C:/Users/13490/AppData/Local/pykoda/pykoda/Cache/sl-tripupdates-2022-12-02.bz2 (file)\n",
      "System tool failed: Command '['7z', 'e', '-oC:/Users/13490/AppData/Local/pykoda/pykoda/Cache/sl-tripupdates-2022-12-02', 'C:/Users/13490/AppData/Local/pykoda/pykoda/Cache/sl-tripupdates-2022-12-02.bz2']' returned non-zero exit status 255.\n",
      "None\n",
      "Executing python function, producing output(s): C:/Users/13490/AppData/Local/pykoda/pykoda/Cache/sl_TripUpdates_2022_12_02_2.feather.tmp\n",
      "Getting C:/Users/13490/AppData/Local/pykoda/pykoda/Cache/sl_TripUpdates_2022_12_02_3.feather\n",
      "File or folder already exists, so skipping task: data (datafolder)\n",
      "File or folder already exists, so skipping task: C:/Users/13490/AppData/Local/pykoda/pykoda/Cache/sl-tripupdates-2022-12-02.bz2 (file)\n"
     ]
    },
    {
     "name": "stderr",
     "output_type": "stream",
     "text": [
      "D:\\lib\\site-packages\\pykoda\\data\\datautils.py:90: RuntimeWarning: The API did not return data for 2022-12-02 02:00:00\n",
      "  warnings.warn(RuntimeWarning(f'The API did not return data for {date_hour}'))\n",
      "D:\\lib\\site-packages\\pykoda\\data\\datautils.py:90: RuntimeWarning: The API did not return data for 2022-12-02 03:00:00\n",
      "  warnings.warn(RuntimeWarning(f'The API did not return data for {date_hour}'))\n",
      "Loading data:   1%|▊                                                                   | 4/312 [00:00<00:22, 13.62it/s]D:\\lib\\site-packages\\pykoda\\data\\datautils.py:90: RuntimeWarning: The API did not return data for 2022-12-02 04:00:00\n",
      "  warnings.warn(RuntimeWarning(f'The API did not return data for {date_hour}'))\n",
      "D:\\lib\\site-packages\\pykoda\\data\\datautils.py:90: RuntimeWarning: The API did not return data for 2022-12-02 05:00:00\n",
      "  warnings.warn(RuntimeWarning(f'The API did not return data for {date_hour}'))\n",
      "Loading data:   2%|█▎                                                                  | 6/312 [00:00<00:22, 13.80it/s]"
     ]
    },
    {
     "name": "stdout",
     "output_type": "stream",
     "text": [
      "System tool failed: Command '['7z', 'e', '-oC:/Users/13490/AppData/Local/pykoda/pykoda/Cache/sl-tripupdates-2022-12-02', 'C:/Users/13490/AppData/Local/pykoda/pykoda/Cache/sl-tripupdates-2022-12-02.bz2']' returned non-zero exit status 255.\n",
      "None\n",
      "Executing python function, producing output(s): C:/Users/13490/AppData/Local/pykoda/pykoda/Cache/sl_TripUpdates_2022_12_02_3.feather.tmp\n",
      "Getting C:/Users/13490/AppData/Local/pykoda/pykoda/Cache/sl_TripUpdates_2022_12_02_4.feather\n",
      "File or folder already exists, so skipping task: data (datafolder)\n",
      "File or folder already exists, so skipping task: C:/Users/13490/AppData/Local/pykoda/pykoda/Cache/sl-tripupdates-2022-12-02.bz2 (file)\n",
      "System tool failed: Command '['7z', 'e', '-oC:/Users/13490/AppData/Local/pykoda/pykoda/Cache/sl-tripupdates-2022-12-02', 'C:/Users/13490/AppData/Local/pykoda/pykoda/Cache/sl-tripupdates-2022-12-02.bz2']' returned non-zero exit status 255.\n",
      "None\n",
      "Executing python function, producing output(s): C:/Users/13490/AppData/Local/pykoda/pykoda/Cache/sl_TripUpdates_2022_12_02_4.feather.tmp\n",
      "Getting C:/Users/13490/AppData/Local/pykoda/pykoda/Cache/sl_TripUpdates_2022_12_02_5.feather\n",
      "File or folder already exists, so skipping task: data (datafolder)\n",
      "File or folder already exists, so skipping task: C:/Users/13490/AppData/Local/pykoda/pykoda/Cache/sl-tripupdates-2022-12-02.bz2 (file)\n",
      "System tool failed: Command '['7z', 'e', '-oC:/Users/13490/AppData/Local/pykoda/pykoda/Cache/sl-tripupdates-2022-12-02', 'C:/Users/13490/AppData/Local/pykoda/pykoda/Cache/sl-tripupdates-2022-12-02.bz2']' returned non-zero exit status 255.\n",
      "None\n",
      "Executing python function, producing output(s): C:/Users/13490/AppData/Local/pykoda/pykoda/Cache/sl_TripUpdates_2022_12_02_5.feather.tmp\n",
      "Getting C:/Users/13490/AppData/Local/pykoda/pykoda/Cache/sl_TripUpdates_2022_12_02_6.feather\n",
      "File or folder already exists, so skipping task: data (datafolder)\n",
      "File or folder already exists, so skipping task: C:/Users/13490/AppData/Local/pykoda/pykoda/Cache/sl-tripupdates-2022-12-02.bz2 (file)\n"
     ]
    },
    {
     "name": "stderr",
     "output_type": "stream",
     "text": [
      "D:\\lib\\site-packages\\pykoda\\data\\datautils.py:90: RuntimeWarning: The API did not return data for 2022-12-02 06:00:00\n",
      "  warnings.warn(RuntimeWarning(f'The API did not return data for {date_hour}'))\n",
      "D:\\lib\\site-packages\\pykoda\\data\\datautils.py:90: RuntimeWarning: The API did not return data for 2022-12-02 07:00:00\n",
      "  warnings.warn(RuntimeWarning(f'The API did not return data for {date_hour}'))\n",
      "Loading data:   3%|█▋                                                                  | 8/312 [00:00<00:21, 13.87it/s]"
     ]
    },
    {
     "name": "stdout",
     "output_type": "stream",
     "text": [
      "System tool failed: Command '['7z', 'e', '-oC:/Users/13490/AppData/Local/pykoda/pykoda/Cache/sl-tripupdates-2022-12-02', 'C:/Users/13490/AppData/Local/pykoda/pykoda/Cache/sl-tripupdates-2022-12-02.bz2']' returned non-zero exit status 255.\n",
      "None\n",
      "Executing python function, producing output(s): C:/Users/13490/AppData/Local/pykoda/pykoda/Cache/sl_TripUpdates_2022_12_02_6.feather.tmp\n",
      "Getting C:/Users/13490/AppData/Local/pykoda/pykoda/Cache/sl_TripUpdates_2022_12_02_7.feather\n",
      "File or folder already exists, so skipping task: data (datafolder)\n",
      "File or folder already exists, so skipping task: C:/Users/13490/AppData/Local/pykoda/pykoda/Cache/sl-tripupdates-2022-12-02.bz2 (file)\n",
      "System tool failed: Command '['7z', 'e', '-oC:/Users/13490/AppData/Local/pykoda/pykoda/Cache/sl-tripupdates-2022-12-02', 'C:/Users/13490/AppData/Local/pykoda/pykoda/Cache/sl-tripupdates-2022-12-02.bz2']' returned non-zero exit status 255.\n",
      "None\n",
      "Executing python function, producing output(s): C:/Users/13490/AppData/Local/pykoda/pykoda/Cache/sl_TripUpdates_2022_12_02_7.feather.tmp\n",
      "Getting C:/Users/13490/AppData/Local/pykoda/pykoda/Cache/sl_TripUpdates_2022_12_02_8.feather\n",
      "File or folder already exists, so skipping task: data (datafolder)\n",
      "File or folder already exists, so skipping task: C:/Users/13490/AppData/Local/pykoda/pykoda/Cache/sl-tripupdates-2022-12-02.bz2 (file)\n",
      "System tool failed: Command '['7z', 'e', '-oC:/Users/13490/AppData/Local/pykoda/pykoda/Cache/sl-tripupdates-2022-12-02', 'C:/Users/13490/AppData/Local/pykoda/pykoda/Cache/sl-tripupdates-2022-12-02.bz2']' returned non-zero exit status 255.\n",
      "None\n",
      "Executing python function, producing output(s): C:/Users/13490/AppData/Local/pykoda/pykoda/Cache/sl_TripUpdates_2022_12_02_8.feather.tmp\n",
      "Getting C:/Users/13490/AppData/Local/pykoda/pykoda/Cache/sl_TripUpdates_2022_12_02_9.feather\n",
      "File or folder already exists, so skipping task: data (datafolder)\n",
      "File or folder already exists, so skipping task: C:/Users/13490/AppData/Local/pykoda/pykoda/Cache/sl-tripupdates-2022-12-02.bz2 (file)\n"
     ]
    },
    {
     "name": "stderr",
     "output_type": "stream",
     "text": [
      "D:\\lib\\site-packages\\pykoda\\data\\datautils.py:90: RuntimeWarning: The API did not return data for 2022-12-02 08:00:00\n",
      "  warnings.warn(RuntimeWarning(f'The API did not return data for {date_hour}'))\n",
      "D:\\lib\\site-packages\\pykoda\\data\\datautils.py:90: RuntimeWarning: The API did not return data for 2022-12-02 09:00:00\n",
      "  warnings.warn(RuntimeWarning(f'The API did not return data for {date_hour}'))\n",
      "Loading data:   3%|██▏                                                                | 10/312 [00:00<00:21, 13.97it/s]D:\\lib\\site-packages\\pykoda\\data\\datautils.py:90: RuntimeWarning: The API did not return data for 2022-12-02 10:00:00\n",
      "  warnings.warn(RuntimeWarning(f'The API did not return data for {date_hour}'))\n",
      "D:\\lib\\site-packages\\pykoda\\data\\datautils.py:90: RuntimeWarning: The API did not return data for 2022-12-02 11:00:00\n",
      "  warnings.warn(RuntimeWarning(f'The API did not return data for {date_hour}'))\n",
      "Loading data:   4%|██▌                                                                | 12/312 [00:00<00:21, 13.70it/s]"
     ]
    },
    {
     "name": "stdout",
     "output_type": "stream",
     "text": [
      "System tool failed: Command '['7z', 'e', '-oC:/Users/13490/AppData/Local/pykoda/pykoda/Cache/sl-tripupdates-2022-12-02', 'C:/Users/13490/AppData/Local/pykoda/pykoda/Cache/sl-tripupdates-2022-12-02.bz2']' returned non-zero exit status 255.\n",
      "None\n",
      "Executing python function, producing output(s): C:/Users/13490/AppData/Local/pykoda/pykoda/Cache/sl_TripUpdates_2022_12_02_9.feather.tmp\n",
      "Getting C:/Users/13490/AppData/Local/pykoda/pykoda/Cache/sl_TripUpdates_2022_12_02_10.feather\n",
      "File or folder already exists, so skipping task: data (datafolder)\n",
      "File or folder already exists, so skipping task: C:/Users/13490/AppData/Local/pykoda/pykoda/Cache/sl-tripupdates-2022-12-02.bz2 (file)\n",
      "System tool failed: Command '['7z', 'e', '-oC:/Users/13490/AppData/Local/pykoda/pykoda/Cache/sl-tripupdates-2022-12-02', 'C:/Users/13490/AppData/Local/pykoda/pykoda/Cache/sl-tripupdates-2022-12-02.bz2']' returned non-zero exit status 255.\n",
      "None\n",
      "Executing python function, producing output(s): C:/Users/13490/AppData/Local/pykoda/pykoda/Cache/sl_TripUpdates_2022_12_02_10.feather.tmp\n",
      "Getting C:/Users/13490/AppData/Local/pykoda/pykoda/Cache/sl_TripUpdates_2022_12_02_11.feather\n",
      "File or folder already exists, so skipping task: data (datafolder)\n",
      "File or folder already exists, so skipping task: C:/Users/13490/AppData/Local/pykoda/pykoda/Cache/sl-tripupdates-2022-12-02.bz2 (file)\n",
      "System tool failed: Command '['7z', 'e', '-oC:/Users/13490/AppData/Local/pykoda/pykoda/Cache/sl-tripupdates-2022-12-02', 'C:/Users/13490/AppData/Local/pykoda/pykoda/Cache/sl-tripupdates-2022-12-02.bz2']' returned non-zero exit status 255.\n",
      "None\n",
      "Executing python function, producing output(s): C:/Users/13490/AppData/Local/pykoda/pykoda/Cache/sl_TripUpdates_2022_12_02_11.feather.tmp\n",
      "Getting C:/Users/13490/AppData/Local/pykoda/pykoda/Cache/sl_TripUpdates_2022_12_02_12.feather\n",
      "File or folder already exists, so skipping task: data (datafolder)\n",
      "File or folder already exists, so skipping task: C:/Users/13490/AppData/Local/pykoda/pykoda/Cache/sl-tripupdates-2022-12-02.bz2 (file)\n"
     ]
    },
    {
     "name": "stderr",
     "output_type": "stream",
     "text": [
      "D:\\lib\\site-packages\\pykoda\\data\\datautils.py:90: RuntimeWarning: The API did not return data for 2022-12-02 12:00:00\n",
      "  warnings.warn(RuntimeWarning(f'The API did not return data for {date_hour}'))\n",
      "D:\\lib\\site-packages\\pykoda\\data\\datautils.py:90: RuntimeWarning: The API did not return data for 2022-12-02 13:00:00\n",
      "  warnings.warn(RuntimeWarning(f'The API did not return data for {date_hour}'))\n",
      "Loading data:   4%|███                                                                | 14/312 [00:01<00:21, 13.89it/s]"
     ]
    },
    {
     "name": "stdout",
     "output_type": "stream",
     "text": [
      "System tool failed: Command '['7z', 'e', '-oC:/Users/13490/AppData/Local/pykoda/pykoda/Cache/sl-tripupdates-2022-12-02', 'C:/Users/13490/AppData/Local/pykoda/pykoda/Cache/sl-tripupdates-2022-12-02.bz2']' returned non-zero exit status 255.\n",
      "None\n",
      "Executing python function, producing output(s): C:/Users/13490/AppData/Local/pykoda/pykoda/Cache/sl_TripUpdates_2022_12_02_12.feather.tmp\n",
      "Getting C:/Users/13490/AppData/Local/pykoda/pykoda/Cache/sl_TripUpdates_2022_12_02_13.feather\n",
      "File or folder already exists, so skipping task: data (datafolder)\n",
      "File or folder already exists, so skipping task: C:/Users/13490/AppData/Local/pykoda/pykoda/Cache/sl-tripupdates-2022-12-02.bz2 (file)\n",
      "System tool failed: Command '['7z', 'e', '-oC:/Users/13490/AppData/Local/pykoda/pykoda/Cache/sl-tripupdates-2022-12-02', 'C:/Users/13490/AppData/Local/pykoda/pykoda/Cache/sl-tripupdates-2022-12-02.bz2']' returned non-zero exit status 255.\n",
      "None\n",
      "Executing python function, producing output(s): C:/Users/13490/AppData/Local/pykoda/pykoda/Cache/sl_TripUpdates_2022_12_02_13.feather.tmp\n",
      "Getting C:/Users/13490/AppData/Local/pykoda/pykoda/Cache/sl_TripUpdates_2022_12_02_14.feather\n",
      "File or folder already exists, so skipping task: data (datafolder)\n",
      "File or folder already exists, so skipping task: C:/Users/13490/AppData/Local/pykoda/pykoda/Cache/sl-tripupdates-2022-12-02.bz2 (file)\n",
      "System tool failed: Command '['7z', 'e', '-oC:/Users/13490/AppData/Local/pykoda/pykoda/Cache/sl-tripupdates-2022-12-02', 'C:/Users/13490/AppData/Local/pykoda/pykoda/Cache/sl-tripupdates-2022-12-02.bz2']' returned non-zero exit status 255.\n",
      "None\n",
      "Executing python function, producing output(s): C:/Users/13490/AppData/Local/pykoda/pykoda/Cache/sl_TripUpdates_2022_12_02_14.feather.tmp\n",
      "Getting C:/Users/13490/AppData/Local/pykoda/pykoda/Cache/sl_TripUpdates_2022_12_02_15.feather\n",
      "File or folder already exists, so skipping task: data (datafolder)\n",
      "File or folder already exists, so skipping task: C:/Users/13490/AppData/Local/pykoda/pykoda/Cache/sl-tripupdates-2022-12-02.bz2 (file)\n"
     ]
    },
    {
     "name": "stderr",
     "output_type": "stream",
     "text": [
      "D:\\lib\\site-packages\\pykoda\\data\\datautils.py:90: RuntimeWarning: The API did not return data for 2022-12-02 14:00:00\n",
      "  warnings.warn(RuntimeWarning(f'The API did not return data for {date_hour}'))\n",
      "D:\\lib\\site-packages\\pykoda\\data\\datautils.py:90: RuntimeWarning: The API did not return data for 2022-12-02 15:00:00\n",
      "  warnings.warn(RuntimeWarning(f'The API did not return data for {date_hour}'))\n",
      "Loading data:   5%|███▍                                                               | 16/312 [00:01<00:21, 14.02it/s]D:\\lib\\site-packages\\pykoda\\data\\datautils.py:90: RuntimeWarning: The API did not return data for 2022-12-02 16:00:00\n",
      "  warnings.warn(RuntimeWarning(f'The API did not return data for {date_hour}'))\n",
      "D:\\lib\\site-packages\\pykoda\\data\\datautils.py:90: RuntimeWarning: The API did not return data for 2022-12-02 17:00:00\n",
      "  warnings.warn(RuntimeWarning(f'The API did not return data for {date_hour}'))\n",
      "Loading data:   6%|███▊                                                               | 18/312 [00:01<00:21, 13.96it/s]"
     ]
    },
    {
     "name": "stdout",
     "output_type": "stream",
     "text": [
      "System tool failed: Command '['7z', 'e', '-oC:/Users/13490/AppData/Local/pykoda/pykoda/Cache/sl-tripupdates-2022-12-02', 'C:/Users/13490/AppData/Local/pykoda/pykoda/Cache/sl-tripupdates-2022-12-02.bz2']' returned non-zero exit status 255.\n",
      "None\n",
      "Executing python function, producing output(s): C:/Users/13490/AppData/Local/pykoda/pykoda/Cache/sl_TripUpdates_2022_12_02_15.feather.tmp\n",
      "Getting C:/Users/13490/AppData/Local/pykoda/pykoda/Cache/sl_TripUpdates_2022_12_02_16.feather\n",
      "File or folder already exists, so skipping task: data (datafolder)\n",
      "File or folder already exists, so skipping task: C:/Users/13490/AppData/Local/pykoda/pykoda/Cache/sl-tripupdates-2022-12-02.bz2 (file)\n",
      "System tool failed: Command '['7z', 'e', '-oC:/Users/13490/AppData/Local/pykoda/pykoda/Cache/sl-tripupdates-2022-12-02', 'C:/Users/13490/AppData/Local/pykoda/pykoda/Cache/sl-tripupdates-2022-12-02.bz2']' returned non-zero exit status 255.\n",
      "None\n",
      "Executing python function, producing output(s): C:/Users/13490/AppData/Local/pykoda/pykoda/Cache/sl_TripUpdates_2022_12_02_16.feather.tmp\n",
      "Getting C:/Users/13490/AppData/Local/pykoda/pykoda/Cache/sl_TripUpdates_2022_12_02_17.feather\n",
      "File or folder already exists, so skipping task: data (datafolder)\n",
      "File or folder already exists, so skipping task: C:/Users/13490/AppData/Local/pykoda/pykoda/Cache/sl-tripupdates-2022-12-02.bz2 (file)\n",
      "System tool failed: Command '['7z', 'e', '-oC:/Users/13490/AppData/Local/pykoda/pykoda/Cache/sl-tripupdates-2022-12-02', 'C:/Users/13490/AppData/Local/pykoda/pykoda/Cache/sl-tripupdates-2022-12-02.bz2']' returned non-zero exit status 255.\n",
      "None\n",
      "Executing python function, producing output(s): C:/Users/13490/AppData/Local/pykoda/pykoda/Cache/sl_TripUpdates_2022_12_02_17.feather.tmp\n",
      "Getting C:/Users/13490/AppData/Local/pykoda/pykoda/Cache/sl_TripUpdates_2022_12_02_18.feather\n",
      "File or folder already exists, so skipping task: data (datafolder)\n",
      "File or folder already exists, so skipping task: C:/Users/13490/AppData/Local/pykoda/pykoda/Cache/sl-tripupdates-2022-12-02.bz2 (file)\n",
      "System tool failed: Command '['7z', 'e', '-oC:/Users/13490/AppData/Local/pykoda/pykoda/Cache/sl-tripupdates-2022-12-02', 'C:/Users/13490/AppData/Local/pykoda/pykoda/Cache/sl-tripupdates-2022-12-02.bz2']' returned non-zero exit status 255.\n",
      "None\n",
      "Executing python function, producing output(s): C:/Users/13490/AppData/Local/pykoda/pykoda/Cache/sl_TripUpdates_2022_12_02_18.feather.tmp\n"
     ]
    },
    {
     "name": "stderr",
     "output_type": "stream",
     "text": [
      "D:\\lib\\site-packages\\pykoda\\data\\datautils.py:90: RuntimeWarning: The API did not return data for 2022-12-02 18:00:00\n",
      "  warnings.warn(RuntimeWarning(f'The API did not return data for {date_hour}'))\n",
      "D:\\lib\\site-packages\\pykoda\\data\\datautils.py:90: RuntimeWarning: The API did not return data for 2022-12-02 19:00:00\n",
      "  warnings.warn(RuntimeWarning(f'The API did not return data for {date_hour}'))\n",
      "Loading data:   6%|████▎                                                              | 20/312 [00:01<00:21, 13.89it/s]D:\\lib\\site-packages\\pykoda\\data\\datautils.py:90: RuntimeWarning: The API did not return data for 2022-12-02 20:00:00\n",
      "  warnings.warn(RuntimeWarning(f'The API did not return data for {date_hour}'))\n"
     ]
    },
    {
     "name": "stdout",
     "output_type": "stream",
     "text": [
      "Getting C:/Users/13490/AppData/Local/pykoda/pykoda/Cache/sl_TripUpdates_2022_12_02_19.feather\n",
      "File or folder already exists, so skipping task: data (datafolder)\n",
      "File or folder already exists, so skipping task: C:/Users/13490/AppData/Local/pykoda/pykoda/Cache/sl-tripupdates-2022-12-02.bz2 (file)\n",
      "System tool failed: Command '['7z', 'e', '-oC:/Users/13490/AppData/Local/pykoda/pykoda/Cache/sl-tripupdates-2022-12-02', 'C:/Users/13490/AppData/Local/pykoda/pykoda/Cache/sl-tripupdates-2022-12-02.bz2']' returned non-zero exit status 255.\n",
      "None\n",
      "Executing python function, producing output(s): C:/Users/13490/AppData/Local/pykoda/pykoda/Cache/sl_TripUpdates_2022_12_02_19.feather.tmp\n",
      "Getting C:/Users/13490/AppData/Local/pykoda/pykoda/Cache/sl_TripUpdates_2022_12_02_20.feather\n",
      "File or folder already exists, so skipping task: data (datafolder)\n",
      "File or folder already exists, so skipping task: C:/Users/13490/AppData/Local/pykoda/pykoda/Cache/sl-tripupdates-2022-12-02.bz2 (file)\n",
      "System tool failed: Command '['7z', 'e', '-oC:/Users/13490/AppData/Local/pykoda/pykoda/Cache/sl-tripupdates-2022-12-02', 'C:/Users/13490/AppData/Local/pykoda/pykoda/Cache/sl-tripupdates-2022-12-02.bz2']' returned non-zero exit status 255.\n",
      "None\n",
      "Executing python function, producing output(s): C:/Users/13490/AppData/Local/pykoda/pykoda/Cache/sl_TripUpdates_2022_12_02_20.feather.tmp\n",
      "Getting C:/Users/13490/AppData/Local/pykoda/pykoda/Cache/sl_TripUpdates_2022_12_02_21.feather\n",
      "File or folder already exists, so skipping task: data (datafolder)\n",
      "File or folder already exists, so skipping task: C:/Users/13490/AppData/Local/pykoda/pykoda/Cache/sl-tripupdates-2022-12-02.bz2 (file)\n"
     ]
    },
    {
     "name": "stderr",
     "output_type": "stream",
     "text": [
      "D:\\lib\\site-packages\\pykoda\\data\\datautils.py:90: RuntimeWarning: The API did not return data for 2022-12-02 21:00:00\n",
      "  warnings.warn(RuntimeWarning(f'The API did not return data for {date_hour}'))\n",
      "Loading data:   7%|████▋                                                              | 22/312 [00:01<00:20, 14.31it/s]D:\\lib\\site-packages\\pykoda\\data\\datautils.py:90: RuntimeWarning: The API did not return data for 2022-12-02 22:00:00\n",
      "  warnings.warn(RuntimeWarning(f'The API did not return data for {date_hour}'))\n",
      "D:\\lib\\site-packages\\pykoda\\data\\datautils.py:90: RuntimeWarning: The API did not return data for 2022-12-02 23:00:00\n",
      "  warnings.warn(RuntimeWarning(f'The API did not return data for {date_hour}'))\n",
      "Loading data:   8%|█████▏                                                             | 24/312 [00:01<00:20, 14.24it/s]"
     ]
    },
    {
     "name": "stdout",
     "output_type": "stream",
     "text": [
      "System tool failed: Command '['7z', 'e', '-oC:/Users/13490/AppData/Local/pykoda/pykoda/Cache/sl-tripupdates-2022-12-02', 'C:/Users/13490/AppData/Local/pykoda/pykoda/Cache/sl-tripupdates-2022-12-02.bz2']' returned non-zero exit status 255.\n",
      "None\n",
      "Executing python function, producing output(s): C:/Users/13490/AppData/Local/pykoda/pykoda/Cache/sl_TripUpdates_2022_12_02_21.feather.tmp\n",
      "Getting C:/Users/13490/AppData/Local/pykoda/pykoda/Cache/sl_TripUpdates_2022_12_02_22.feather\n",
      "File or folder already exists, so skipping task: data (datafolder)\n",
      "File or folder already exists, so skipping task: C:/Users/13490/AppData/Local/pykoda/pykoda/Cache/sl-tripupdates-2022-12-02.bz2 (file)\n",
      "System tool failed: Command '['7z', 'e', '-oC:/Users/13490/AppData/Local/pykoda/pykoda/Cache/sl-tripupdates-2022-12-02', 'C:/Users/13490/AppData/Local/pykoda/pykoda/Cache/sl-tripupdates-2022-12-02.bz2']' returned non-zero exit status 255.\n",
      "None\n",
      "Executing python function, producing output(s): C:/Users/13490/AppData/Local/pykoda/pykoda/Cache/sl_TripUpdates_2022_12_02_22.feather.tmp\n",
      "Getting C:/Users/13490/AppData/Local/pykoda/pykoda/Cache/sl_TripUpdates_2022_12_02_23.feather\n",
      "File or folder already exists, so skipping task: data (datafolder)\n",
      "File or folder already exists, so skipping task: C:/Users/13490/AppData/Local/pykoda/pykoda/Cache/sl-tripupdates-2022-12-02.bz2 (file)\n",
      "System tool failed: Command '['7z', 'e', '-oC:/Users/13490/AppData/Local/pykoda/pykoda/Cache/sl-tripupdates-2022-12-02', 'C:/Users/13490/AppData/Local/pykoda/pykoda/Cache/sl-tripupdates-2022-12-02.bz2']' returned non-zero exit status 255.\n",
      "None\n",
      "Executing python function, producing output(s): C:/Users/13490/AppData/Local/pykoda/pykoda/Cache/sl_TripUpdates_2022_12_02_23.feather.tmp\n"
     ]
    },
    {
     "name": "stderr",
     "output_type": "stream",
     "text": [
      "D:\\lib\\site-packages\\pykoda\\data\\datautils.py:90: RuntimeWarning: The API did not return data for 2022-12-03 01:00:00\n",
      "  warnings.warn(RuntimeWarning(f'The API did not return data for {date_hour}'))\n",
      "Loading data:   8%|█████▌                                                             | 26/312 [00:01<00:20, 13.73it/s]"
     ]
    },
    {
     "name": "stdout",
     "output_type": "stream",
     "text": [
      "Getting C:/Users/13490/AppData/Local/pykoda/pykoda/Cache/sl_TripUpdates_2022_12_03_1.feather\n",
      "File or folder already exists, so skipping task: data (datafolder)\n",
      "File or folder already exists, so skipping task: C:/Users/13490/AppData/Local/pykoda/pykoda/Cache/sl-tripupdates-2022-12-03.bz2 (file)\n",
      "System tool failed: Command '['7z', 'e', '-oC:/Users/13490/AppData/Local/pykoda/pykoda/Cache/sl-tripupdates-2022-12-03', 'C:/Users/13490/AppData/Local/pykoda/pykoda/Cache/sl-tripupdates-2022-12-03.bz2']' returned non-zero exit status 255.\n",
      "None\n",
      "Executing python function, producing output(s): C:/Users/13490/AppData/Local/pykoda/pykoda/Cache/sl_TripUpdates_2022_12_03_1.feather.tmp\n",
      "Getting C:/Users/13490/AppData/Local/pykoda/pykoda/Cache/sl_TripUpdates_2022_12_03_2.feather\n",
      "File or folder already exists, so skipping task: data (datafolder)\n",
      "File or folder already exists, so skipping task: C:/Users/13490/AppData/Local/pykoda/pykoda/Cache/sl-tripupdates-2022-12-03.bz2 (file)\n",
      "System tool failed: Command '['7z', 'e', '-oC:/Users/13490/AppData/Local/pykoda/pykoda/Cache/sl-tripupdates-2022-12-03', 'C:/Users/13490/AppData/Local/pykoda/pykoda/Cache/sl-tripupdates-2022-12-03.bz2']' returned non-zero exit status 255.\n",
      "None\n",
      "Executing python function, producing output(s): C:/Users/13490/AppData/Local/pykoda/pykoda/Cache/sl_TripUpdates_2022_12_03_2.feather.tmp\n",
      "Getting C:/Users/13490/AppData/Local/pykoda/pykoda/Cache/sl_TripUpdates_2022_12_03_3.feather\n",
      "File or folder already exists, so skipping task: data (datafolder)\n",
      "File or folder already exists, so skipping task: C:/Users/13490/AppData/Local/pykoda/pykoda/Cache/sl-tripupdates-2022-12-03.bz2 (file)\n"
     ]
    },
    {
     "name": "stderr",
     "output_type": "stream",
     "text": [
      "D:\\lib\\site-packages\\pykoda\\data\\datautils.py:90: RuntimeWarning: The API did not return data for 2022-12-03 02:00:00\n",
      "  warnings.warn(RuntimeWarning(f'The API did not return data for {date_hour}'))\n",
      "D:\\lib\\site-packages\\pykoda\\data\\datautils.py:90: RuntimeWarning: The API did not return data for 2022-12-03 03:00:00\n",
      "  warnings.warn(RuntimeWarning(f'The API did not return data for {date_hour}'))\n",
      "Loading data:   9%|██████                                                             | 28/312 [00:02<00:20, 13.89it/s]D:\\lib\\site-packages\\pykoda\\data\\datautils.py:90: RuntimeWarning: The API did not return data for 2022-12-03 04:00:00\n",
      "  warnings.warn(RuntimeWarning(f'The API did not return data for {date_hour}'))\n",
      "D:\\lib\\site-packages\\pykoda\\data\\datautils.py:90: RuntimeWarning: The API did not return data for 2022-12-03 05:00:00\n",
      "  warnings.warn(RuntimeWarning(f'The API did not return data for {date_hour}'))\n",
      "Loading data:  10%|██████▍                                                            | 30/312 [00:02<00:20, 13.71it/s]"
     ]
    },
    {
     "name": "stdout",
     "output_type": "stream",
     "text": [
      "System tool failed: Command '['7z', 'e', '-oC:/Users/13490/AppData/Local/pykoda/pykoda/Cache/sl-tripupdates-2022-12-03', 'C:/Users/13490/AppData/Local/pykoda/pykoda/Cache/sl-tripupdates-2022-12-03.bz2']' returned non-zero exit status 255.\n",
      "None\n",
      "Executing python function, producing output(s): C:/Users/13490/AppData/Local/pykoda/pykoda/Cache/sl_TripUpdates_2022_12_03_3.feather.tmp\n",
      "Getting C:/Users/13490/AppData/Local/pykoda/pykoda/Cache/sl_TripUpdates_2022_12_03_4.feather\n",
      "File or folder already exists, so skipping task: data (datafolder)\n",
      "File or folder already exists, so skipping task: C:/Users/13490/AppData/Local/pykoda/pykoda/Cache/sl-tripupdates-2022-12-03.bz2 (file)\n",
      "System tool failed: Command '['7z', 'e', '-oC:/Users/13490/AppData/Local/pykoda/pykoda/Cache/sl-tripupdates-2022-12-03', 'C:/Users/13490/AppData/Local/pykoda/pykoda/Cache/sl-tripupdates-2022-12-03.bz2']' returned non-zero exit status 255.\n",
      "None\n",
      "Executing python function, producing output(s): C:/Users/13490/AppData/Local/pykoda/pykoda/Cache/sl_TripUpdates_2022_12_03_4.feather.tmp\n",
      "Getting C:/Users/13490/AppData/Local/pykoda/pykoda/Cache/sl_TripUpdates_2022_12_03_5.feather\n",
      "File or folder already exists, so skipping task: data (datafolder)\n",
      "File or folder already exists, so skipping task: C:/Users/13490/AppData/Local/pykoda/pykoda/Cache/sl-tripupdates-2022-12-03.bz2 (file)\n",
      "System tool failed: Command '['7z', 'e', '-oC:/Users/13490/AppData/Local/pykoda/pykoda/Cache/sl-tripupdates-2022-12-03', 'C:/Users/13490/AppData/Local/pykoda/pykoda/Cache/sl-tripupdates-2022-12-03.bz2']' returned non-zero exit status 255.\n",
      "None\n",
      "Executing python function, producing output(s): C:/Users/13490/AppData/Local/pykoda/pykoda/Cache/sl_TripUpdates_2022_12_03_5.feather.tmp\n",
      "Getting C:/Users/13490/AppData/Local/pykoda/pykoda/Cache/sl_TripUpdates_2022_12_03_6.feather\n",
      "File or folder already exists, so skipping task: data (datafolder)\n",
      "File or folder already exists, so skipping task: C:/Users/13490/AppData/Local/pykoda/pykoda/Cache/sl-tripupdates-2022-12-03.bz2 (file)\n"
     ]
    },
    {
     "name": "stderr",
     "output_type": "stream",
     "text": [
      "D:\\lib\\site-packages\\pykoda\\data\\datautils.py:90: RuntimeWarning: The API did not return data for 2022-12-03 06:00:00\n",
      "  warnings.warn(RuntimeWarning(f'The API did not return data for {date_hour}'))\n",
      "D:\\lib\\site-packages\\pykoda\\data\\datautils.py:90: RuntimeWarning: The API did not return data for 2022-12-03 07:00:00\n",
      "  warnings.warn(RuntimeWarning(f'The API did not return data for {date_hour}'))\n",
      "Loading data:  10%|██████▊                                                            | 32/312 [00:02<00:20, 13.83it/s]"
     ]
    },
    {
     "name": "stdout",
     "output_type": "stream",
     "text": [
      "System tool failed: Command '['7z', 'e', '-oC:/Users/13490/AppData/Local/pykoda/pykoda/Cache/sl-tripupdates-2022-12-03', 'C:/Users/13490/AppData/Local/pykoda/pykoda/Cache/sl-tripupdates-2022-12-03.bz2']' returned non-zero exit status 255.\n",
      "None\n",
      "Executing python function, producing output(s): C:/Users/13490/AppData/Local/pykoda/pykoda/Cache/sl_TripUpdates_2022_12_03_6.feather.tmp\n",
      "Getting C:/Users/13490/AppData/Local/pykoda/pykoda/Cache/sl_TripUpdates_2022_12_03_7.feather\n",
      "File or folder already exists, so skipping task: data (datafolder)\n",
      "File or folder already exists, so skipping task: C:/Users/13490/AppData/Local/pykoda/pykoda/Cache/sl-tripupdates-2022-12-03.bz2 (file)\n",
      "System tool failed: Command '['7z', 'e', '-oC:/Users/13490/AppData/Local/pykoda/pykoda/Cache/sl-tripupdates-2022-12-03', 'C:/Users/13490/AppData/Local/pykoda/pykoda/Cache/sl-tripupdates-2022-12-03.bz2']' returned non-zero exit status 255.\n",
      "None\n",
      "Executing python function, producing output(s): C:/Users/13490/AppData/Local/pykoda/pykoda/Cache/sl_TripUpdates_2022_12_03_7.feather.tmp\n",
      "Getting C:/Users/13490/AppData/Local/pykoda/pykoda/Cache/sl_TripUpdates_2022_12_03_8.feather\n",
      "File or folder already exists, so skipping task: data (datafolder)\n",
      "File or folder already exists, so skipping task: C:/Users/13490/AppData/Local/pykoda/pykoda/Cache/sl-tripupdates-2022-12-03.bz2 (file)\n",
      "System tool failed: Command '['7z', 'e', '-oC:/Users/13490/AppData/Local/pykoda/pykoda/Cache/sl-tripupdates-2022-12-03', 'C:/Users/13490/AppData/Local/pykoda/pykoda/Cache/sl-tripupdates-2022-12-03.bz2']' returned non-zero exit status 255.\n",
      "None\n",
      "Executing python function, producing output(s): C:/Users/13490/AppData/Local/pykoda/pykoda/Cache/sl_TripUpdates_2022_12_03_8.feather.tmp\n",
      "Getting C:/Users/13490/AppData/Local/pykoda/pykoda/Cache/sl_TripUpdates_2022_12_03_9.feather\n",
      "File or folder already exists, so skipping task: data (datafolder)\n",
      "File or folder already exists, so skipping task: C:/Users/13490/AppData/Local/pykoda/pykoda/Cache/sl-tripupdates-2022-12-03.bz2 (file)\n"
     ]
    },
    {
     "name": "stderr",
     "output_type": "stream",
     "text": [
      "D:\\lib\\site-packages\\pykoda\\data\\datautils.py:90: RuntimeWarning: The API did not return data for 2022-12-03 08:00:00\n",
      "  warnings.warn(RuntimeWarning(f'The API did not return data for {date_hour}'))\n",
      "D:\\lib\\site-packages\\pykoda\\data\\datautils.py:90: RuntimeWarning: The API did not return data for 2022-12-03 09:00:00\n",
      "  warnings.warn(RuntimeWarning(f'The API did not return data for {date_hour}'))\n",
      "Loading data:  11%|███████▎                                                           | 34/312 [00:02<00:19, 13.99it/s]D:\\lib\\site-packages\\pykoda\\data\\datautils.py:90: RuntimeWarning: The API did not return data for 2022-12-03 10:00:00\n",
      "  warnings.warn(RuntimeWarning(f'The API did not return data for {date_hour}'))\n",
      "D:\\lib\\site-packages\\pykoda\\data\\datautils.py:90: RuntimeWarning: The API did not return data for 2022-12-03 11:00:00\n",
      "  warnings.warn(RuntimeWarning(f'The API did not return data for {date_hour}'))\n",
      "Loading data:  12%|███████▋                                                           | 36/312 [00:02<00:20, 13.26it/s]"
     ]
    },
    {
     "name": "stdout",
     "output_type": "stream",
     "text": [
      "System tool failed: Command '['7z', 'e', '-oC:/Users/13490/AppData/Local/pykoda/pykoda/Cache/sl-tripupdates-2022-12-03', 'C:/Users/13490/AppData/Local/pykoda/pykoda/Cache/sl-tripupdates-2022-12-03.bz2']' returned non-zero exit status 255.\n",
      "None\n",
      "Executing python function, producing output(s): C:/Users/13490/AppData/Local/pykoda/pykoda/Cache/sl_TripUpdates_2022_12_03_9.feather.tmp\n",
      "Getting C:/Users/13490/AppData/Local/pykoda/pykoda/Cache/sl_TripUpdates_2022_12_03_10.feather\n",
      "File or folder already exists, so skipping task: data (datafolder)\n",
      "File or folder already exists, so skipping task: C:/Users/13490/AppData/Local/pykoda/pykoda/Cache/sl-tripupdates-2022-12-03.bz2 (file)\n",
      "System tool failed: Command '['7z', 'e', '-oC:/Users/13490/AppData/Local/pykoda/pykoda/Cache/sl-tripupdates-2022-12-03', 'C:/Users/13490/AppData/Local/pykoda/pykoda/Cache/sl-tripupdates-2022-12-03.bz2']' returned non-zero exit status 255.\n",
      "None\n",
      "Executing python function, producing output(s): C:/Users/13490/AppData/Local/pykoda/pykoda/Cache/sl_TripUpdates_2022_12_03_10.feather.tmp\n",
      "Getting C:/Users/13490/AppData/Local/pykoda/pykoda/Cache/sl_TripUpdates_2022_12_03_11.feather\n",
      "File or folder already exists, so skipping task: data (datafolder)\n",
      "File or folder already exists, so skipping task: C:/Users/13490/AppData/Local/pykoda/pykoda/Cache/sl-tripupdates-2022-12-03.bz2 (file)\n",
      "System tool failed: Command '['7z', 'e', '-oC:/Users/13490/AppData/Local/pykoda/pykoda/Cache/sl-tripupdates-2022-12-03', 'C:/Users/13490/AppData/Local/pykoda/pykoda/Cache/sl-tripupdates-2022-12-03.bz2']' returned non-zero exit status 255.\n",
      "None\n",
      "Executing python function, producing output(s): C:/Users/13490/AppData/Local/pykoda/pykoda/Cache/sl_TripUpdates_2022_12_03_11.feather.tmp\n",
      "Getting C:/Users/13490/AppData/Local/pykoda/pykoda/Cache/sl_TripUpdates_2022_12_03_12.feather\n",
      "File or folder already exists, so skipping task: data (datafolder)\n",
      "File or folder already exists, so skipping task: C:/Users/13490/AppData/Local/pykoda/pykoda/Cache/sl-tripupdates-2022-12-03.bz2 (file)\n"
     ]
    },
    {
     "name": "stderr",
     "output_type": "stream",
     "text": [
      "D:\\lib\\site-packages\\pykoda\\data\\datautils.py:90: RuntimeWarning: The API did not return data for 2022-12-03 12:00:00\n",
      "  warnings.warn(RuntimeWarning(f'The API did not return data for {date_hour}'))\n",
      "D:\\lib\\site-packages\\pykoda\\data\\datautils.py:90: RuntimeWarning: The API did not return data for 2022-12-03 13:00:00\n",
      "  warnings.warn(RuntimeWarning(f'The API did not return data for {date_hour}'))\n",
      "Loading data:  12%|████████▏                                                          | 38/312 [00:02<00:20, 13.48it/s]"
     ]
    },
    {
     "name": "stdout",
     "output_type": "stream",
     "text": [
      "System tool failed: Command '['7z', 'e', '-oC:/Users/13490/AppData/Local/pykoda/pykoda/Cache/sl-tripupdates-2022-12-03', 'C:/Users/13490/AppData/Local/pykoda/pykoda/Cache/sl-tripupdates-2022-12-03.bz2']' returned non-zero exit status 255.\n",
      "None\n",
      "Executing python function, producing output(s): C:/Users/13490/AppData/Local/pykoda/pykoda/Cache/sl_TripUpdates_2022_12_03_12.feather.tmp\n",
      "Getting C:/Users/13490/AppData/Local/pykoda/pykoda/Cache/sl_TripUpdates_2022_12_03_13.feather\n",
      "File or folder already exists, so skipping task: data (datafolder)\n",
      "File or folder already exists, so skipping task: C:/Users/13490/AppData/Local/pykoda/pykoda/Cache/sl-tripupdates-2022-12-03.bz2 (file)\n",
      "System tool failed: Command '['7z', 'e', '-oC:/Users/13490/AppData/Local/pykoda/pykoda/Cache/sl-tripupdates-2022-12-03', 'C:/Users/13490/AppData/Local/pykoda/pykoda/Cache/sl-tripupdates-2022-12-03.bz2']' returned non-zero exit status 255.\n",
      "None\n",
      "Executing python function, producing output(s): C:/Users/13490/AppData/Local/pykoda/pykoda/Cache/sl_TripUpdates_2022_12_03_13.feather.tmp\n",
      "Getting C:/Users/13490/AppData/Local/pykoda/pykoda/Cache/sl_TripUpdates_2022_12_03_14.feather\n",
      "File or folder already exists, so skipping task: data (datafolder)\n",
      "File or folder already exists, so skipping task: C:/Users/13490/AppData/Local/pykoda/pykoda/Cache/sl-tripupdates-2022-12-03.bz2 (file)\n",
      "System tool failed: Command '['7z', 'e', '-oC:/Users/13490/AppData/Local/pykoda/pykoda/Cache/sl-tripupdates-2022-12-03', 'C:/Users/13490/AppData/Local/pykoda/pykoda/Cache/sl-tripupdates-2022-12-03.bz2']' returned non-zero exit status 255.\n",
      "None\n",
      "Executing python function, producing output(s): C:/Users/13490/AppData/Local/pykoda/pykoda/Cache/sl_TripUpdates_2022_12_03_14.feather.tmp\n",
      "Getting C:/Users/13490/AppData/Local/pykoda/pykoda/Cache/sl_TripUpdates_2022_12_03_15.feather\n",
      "File or folder already exists, so skipping task: data (datafolder)\n",
      "File or folder already exists, so skipping task: C:/Users/13490/AppData/Local/pykoda/pykoda/Cache/sl-tripupdates-2022-12-03.bz2 (file)\n"
     ]
    },
    {
     "name": "stderr",
     "output_type": "stream",
     "text": [
      "D:\\lib\\site-packages\\pykoda\\data\\datautils.py:90: RuntimeWarning: The API did not return data for 2022-12-03 14:00:00\n",
      "  warnings.warn(RuntimeWarning(f'The API did not return data for {date_hour}'))\n",
      "D:\\lib\\site-packages\\pykoda\\data\\datautils.py:90: RuntimeWarning: The API did not return data for 2022-12-03 15:00:00\n",
      "  warnings.warn(RuntimeWarning(f'The API did not return data for {date_hour}'))\n",
      "Loading data:  13%|████████▌                                                          | 40/312 [00:02<00:20, 13.46it/s]D:\\lib\\site-packages\\pykoda\\data\\datautils.py:90: RuntimeWarning: The API did not return data for 2022-12-03 16:00:00\n",
      "  warnings.warn(RuntimeWarning(f'The API did not return data for {date_hour}'))\n",
      "D:\\lib\\site-packages\\pykoda\\data\\datautils.py:90: RuntimeWarning: The API did not return data for 2022-12-03 17:00:00\n",
      "  warnings.warn(RuntimeWarning(f'The API did not return data for {date_hour}'))\n",
      "Loading data:  13%|█████████                                                          | 42/312 [00:03<00:19, 13.68it/s]"
     ]
    },
    {
     "name": "stdout",
     "output_type": "stream",
     "text": [
      "System tool failed: Command '['7z', 'e', '-oC:/Users/13490/AppData/Local/pykoda/pykoda/Cache/sl-tripupdates-2022-12-03', 'C:/Users/13490/AppData/Local/pykoda/pykoda/Cache/sl-tripupdates-2022-12-03.bz2']' returned non-zero exit status 255.\n",
      "None\n",
      "Executing python function, producing output(s): C:/Users/13490/AppData/Local/pykoda/pykoda/Cache/sl_TripUpdates_2022_12_03_15.feather.tmp\n",
      "Getting C:/Users/13490/AppData/Local/pykoda/pykoda/Cache/sl_TripUpdates_2022_12_03_16.feather\n",
      "File or folder already exists, so skipping task: data (datafolder)\n",
      "File or folder already exists, so skipping task: C:/Users/13490/AppData/Local/pykoda/pykoda/Cache/sl-tripupdates-2022-12-03.bz2 (file)\n",
      "System tool failed: Command '['7z', 'e', '-oC:/Users/13490/AppData/Local/pykoda/pykoda/Cache/sl-tripupdates-2022-12-03', 'C:/Users/13490/AppData/Local/pykoda/pykoda/Cache/sl-tripupdates-2022-12-03.bz2']' returned non-zero exit status 255.\n",
      "None\n",
      "Executing python function, producing output(s): C:/Users/13490/AppData/Local/pykoda/pykoda/Cache/sl_TripUpdates_2022_12_03_16.feather.tmp\n",
      "Getting C:/Users/13490/AppData/Local/pykoda/pykoda/Cache/sl_TripUpdates_2022_12_03_17.feather\n",
      "File or folder already exists, so skipping task: data (datafolder)\n",
      "File or folder already exists, so skipping task: C:/Users/13490/AppData/Local/pykoda/pykoda/Cache/sl-tripupdates-2022-12-03.bz2 (file)\n",
      "System tool failed: Command '['7z', 'e', '-oC:/Users/13490/AppData/Local/pykoda/pykoda/Cache/sl-tripupdates-2022-12-03', 'C:/Users/13490/AppData/Local/pykoda/pykoda/Cache/sl-tripupdates-2022-12-03.bz2']' returned non-zero exit status 255.\n",
      "None\n",
      "Executing python function, producing output(s): C:/Users/13490/AppData/Local/pykoda/pykoda/Cache/sl_TripUpdates_2022_12_03_17.feather.tmp\n",
      "Getting C:/Users/13490/AppData/Local/pykoda/pykoda/Cache/sl_TripUpdates_2022_12_03_18.feather\n",
      "File or folder already exists, so skipping task: data (datafolder)\n",
      "File or folder already exists, so skipping task: C:/Users/13490/AppData/Local/pykoda/pykoda/Cache/sl-tripupdates-2022-12-03.bz2 (file)\n"
     ]
    },
    {
     "name": "stderr",
     "output_type": "stream",
     "text": [
      "D:\\lib\\site-packages\\pykoda\\data\\datautils.py:90: RuntimeWarning: The API did not return data for 2022-12-03 18:00:00\n",
      "  warnings.warn(RuntimeWarning(f'The API did not return data for {date_hour}'))\n",
      "D:\\lib\\site-packages\\pykoda\\data\\datautils.py:90: RuntimeWarning: The API did not return data for 2022-12-03 19:00:00\n",
      "  warnings.warn(RuntimeWarning(f'The API did not return data for {date_hour}'))\n",
      "Loading data:  14%|█████████▍                                                         | 44/312 [00:03<00:20, 13.34it/s]"
     ]
    },
    {
     "name": "stdout",
     "output_type": "stream",
     "text": [
      "System tool failed: Command '['7z', 'e', '-oC:/Users/13490/AppData/Local/pykoda/pykoda/Cache/sl-tripupdates-2022-12-03', 'C:/Users/13490/AppData/Local/pykoda/pykoda/Cache/sl-tripupdates-2022-12-03.bz2']' returned non-zero exit status 255.\n",
      "None\n",
      "Executing python function, producing output(s): C:/Users/13490/AppData/Local/pykoda/pykoda/Cache/sl_TripUpdates_2022_12_03_18.feather.tmp\n",
      "Getting C:/Users/13490/AppData/Local/pykoda/pykoda/Cache/sl_TripUpdates_2022_12_03_19.feather\n",
      "File or folder already exists, so skipping task: data (datafolder)\n",
      "File or folder already exists, so skipping task: C:/Users/13490/AppData/Local/pykoda/pykoda/Cache/sl-tripupdates-2022-12-03.bz2 (file)\n",
      "System tool failed: Command '['7z', 'e', '-oC:/Users/13490/AppData/Local/pykoda/pykoda/Cache/sl-tripupdates-2022-12-03', 'C:/Users/13490/AppData/Local/pykoda/pykoda/Cache/sl-tripupdates-2022-12-03.bz2']' returned non-zero exit status 255.\n",
      "None\n",
      "Executing python function, producing output(s): C:/Users/13490/AppData/Local/pykoda/pykoda/Cache/sl_TripUpdates_2022_12_03_19.feather.tmp\n",
      "Getting C:/Users/13490/AppData/Local/pykoda/pykoda/Cache/sl_TripUpdates_2022_12_03_20.feather\n",
      "File or folder already exists, so skipping task: data (datafolder)\n",
      "File or folder already exists, so skipping task: C:/Users/13490/AppData/Local/pykoda/pykoda/Cache/sl-tripupdates-2022-12-03.bz2 (file)\n",
      "System tool failed: Command '['7z', 'e', '-oC:/Users/13490/AppData/Local/pykoda/pykoda/Cache/sl-tripupdates-2022-12-03', 'C:/Users/13490/AppData/Local/pykoda/pykoda/Cache/sl-tripupdates-2022-12-03.bz2']' returned non-zero exit status 255.\n",
      "None\n",
      "Executing python function, producing output(s): C:/Users/13490/AppData/Local/pykoda/pykoda/Cache/sl_TripUpdates_2022_12_03_20.feather.tmp\n",
      "Getting C:/Users/13490/AppData/Local/pykoda/pykoda/Cache/sl_TripUpdates_2022_12_03_21.feather\n",
      "File or folder already exists, so skipping task: data (datafolder)\n",
      "File or folder already exists, so skipping task: C:/Users/13490/AppData/Local/pykoda/pykoda/Cache/sl-tripupdates-2022-12-03.bz2 (file)\n"
     ]
    },
    {
     "name": "stderr",
     "output_type": "stream",
     "text": [
      "D:\\lib\\site-packages\\pykoda\\data\\datautils.py:90: RuntimeWarning: The API did not return data for 2022-12-03 20:00:00\n",
      "  warnings.warn(RuntimeWarning(f'The API did not return data for {date_hour}'))\n",
      "D:\\lib\\site-packages\\pykoda\\data\\datautils.py:90: RuntimeWarning: The API did not return data for 2022-12-03 21:00:00\n",
      "  warnings.warn(RuntimeWarning(f'The API did not return data for {date_hour}'))\n",
      "Loading data:  15%|█████████▉                                                         | 46/312 [00:03<00:19, 13.55it/s]D:\\lib\\site-packages\\pykoda\\data\\datautils.py:90: RuntimeWarning: The API did not return data for 2022-12-03 22:00:00\n",
      "  warnings.warn(RuntimeWarning(f'The API did not return data for {date_hour}'))\n",
      "D:\\lib\\site-packages\\pykoda\\data\\datautils.py:90: RuntimeWarning: The API did not return data for 2022-12-03 23:00:00\n",
      "  warnings.warn(RuntimeWarning(f'The API did not return data for {date_hour}'))\n",
      "Loading data:  15%|██████████▎                                                        | 48/312 [00:03<00:19, 13.73it/s]"
     ]
    },
    {
     "name": "stdout",
     "output_type": "stream",
     "text": [
      "System tool failed: Command '['7z', 'e', '-oC:/Users/13490/AppData/Local/pykoda/pykoda/Cache/sl-tripupdates-2022-12-03', 'C:/Users/13490/AppData/Local/pykoda/pykoda/Cache/sl-tripupdates-2022-12-03.bz2']' returned non-zero exit status 255.\n",
      "None\n",
      "Executing python function, producing output(s): C:/Users/13490/AppData/Local/pykoda/pykoda/Cache/sl_TripUpdates_2022_12_03_21.feather.tmp\n",
      "Getting C:/Users/13490/AppData/Local/pykoda/pykoda/Cache/sl_TripUpdates_2022_12_03_22.feather\n",
      "File or folder already exists, so skipping task: data (datafolder)\n",
      "File or folder already exists, so skipping task: C:/Users/13490/AppData/Local/pykoda/pykoda/Cache/sl-tripupdates-2022-12-03.bz2 (file)\n",
      "System tool failed: Command '['7z', 'e', '-oC:/Users/13490/AppData/Local/pykoda/pykoda/Cache/sl-tripupdates-2022-12-03', 'C:/Users/13490/AppData/Local/pykoda/pykoda/Cache/sl-tripupdates-2022-12-03.bz2']' returned non-zero exit status 255.\n",
      "None\n",
      "Executing python function, producing output(s): C:/Users/13490/AppData/Local/pykoda/pykoda/Cache/sl_TripUpdates_2022_12_03_22.feather.tmp\n",
      "Getting C:/Users/13490/AppData/Local/pykoda/pykoda/Cache/sl_TripUpdates_2022_12_03_23.feather\n",
      "File or folder already exists, so skipping task: data (datafolder)\n",
      "File or folder already exists, so skipping task: C:/Users/13490/AppData/Local/pykoda/pykoda/Cache/sl-tripupdates-2022-12-03.bz2 (file)\n",
      "System tool failed: Command '['7z', 'e', '-oC:/Users/13490/AppData/Local/pykoda/pykoda/Cache/sl-tripupdates-2022-12-03', 'C:/Users/13490/AppData/Local/pykoda/pykoda/Cache/sl-tripupdates-2022-12-03.bz2']' returned non-zero exit status 255.\n",
      "None\n",
      "Executing python function, producing output(s): C:/Users/13490/AppData/Local/pykoda/pykoda/Cache/sl_TripUpdates_2022_12_03_23.feather.tmp\n"
     ]
    },
    {
     "name": "stderr",
     "output_type": "stream",
     "text": [
      "D:\\lib\\site-packages\\pykoda\\data\\datautils.py:90: RuntimeWarning: The API did not return data for 2022-12-04 01:00:00\n",
      "  warnings.warn(RuntimeWarning(f'The API did not return data for {date_hour}'))\n",
      "Loading data:  16%|██████████▋                                                        | 50/312 [00:03<00:20, 12.93it/s]"
     ]
    },
    {
     "name": "stdout",
     "output_type": "stream",
     "text": [
      "Getting C:/Users/13490/AppData/Local/pykoda/pykoda/Cache/sl_TripUpdates_2022_12_04_1.feather\n",
      "File or folder already exists, so skipping task: data (datafolder)\n",
      "File or folder already exists, so skipping task: C:/Users/13490/AppData/Local/pykoda/pykoda/Cache/sl-tripupdates-2022-12-04.bz2 (file)\n",
      "System tool failed: Command '['7z', 'e', '-oC:/Users/13490/AppData/Local/pykoda/pykoda/Cache/sl-tripupdates-2022-12-04', 'C:/Users/13490/AppData/Local/pykoda/pykoda/Cache/sl-tripupdates-2022-12-04.bz2']' returned non-zero exit status 255.\n",
      "None\n",
      "Executing python function, producing output(s): C:/Users/13490/AppData/Local/pykoda/pykoda/Cache/sl_TripUpdates_2022_12_04_1.feather.tmp\n",
      "Getting C:/Users/13490/AppData/Local/pykoda/pykoda/Cache/sl_TripUpdates_2022_12_04_2.feather\n",
      "File or folder already exists, so skipping task: data (datafolder)\n",
      "File or folder already exists, so skipping task: C:/Users/13490/AppData/Local/pykoda/pykoda/Cache/sl-tripupdates-2022-12-04.bz2 (file)\n",
      "System tool failed: Command '['7z', 'e', '-oC:/Users/13490/AppData/Local/pykoda/pykoda/Cache/sl-tripupdates-2022-12-04', 'C:/Users/13490/AppData/Local/pykoda/pykoda/Cache/sl-tripupdates-2022-12-04.bz2']' returned non-zero exit status 255.\n",
      "None\n",
      "Executing python function, producing output(s): C:/Users/13490/AppData/Local/pykoda/pykoda/Cache/sl_TripUpdates_2022_12_04_2.feather.tmp\n",
      "Getting C:/Users/13490/AppData/Local/pykoda/pykoda/Cache/sl_TripUpdates_2022_12_04_3.feather\n",
      "File or folder already exists, so skipping task: data (datafolder)\n",
      "File or folder already exists, so skipping task: C:/Users/13490/AppData/Local/pykoda/pykoda/Cache/sl-tripupdates-2022-12-04.bz2 (file)\n"
     ]
    },
    {
     "name": "stderr",
     "output_type": "stream",
     "text": [
      "D:\\lib\\site-packages\\pykoda\\data\\datautils.py:90: RuntimeWarning: The API did not return data for 2022-12-04 02:00:00\n",
      "  warnings.warn(RuntimeWarning(f'The API did not return data for {date_hour}'))\n",
      "D:\\lib\\site-packages\\pykoda\\data\\datautils.py:90: RuntimeWarning: The API did not return data for 2022-12-04 03:00:00\n",
      "  warnings.warn(RuntimeWarning(f'The API did not return data for {date_hour}'))\n",
      "Loading data:  17%|███████████▏                                                       | 52/312 [00:03<00:19, 13.15it/s]D:\\lib\\site-packages\\pykoda\\data\\datautils.py:90: RuntimeWarning: The API did not return data for 2022-12-04 04:00:00\n",
      "  warnings.warn(RuntimeWarning(f'The API did not return data for {date_hour}'))\n",
      "D:\\lib\\site-packages\\pykoda\\data\\datautils.py:90: RuntimeWarning: The API did not return data for 2022-12-04 05:00:00\n",
      "  warnings.warn(RuntimeWarning(f'The API did not return data for {date_hour}'))\n",
      "Loading data:  17%|███████████▌                                                       | 54/312 [00:03<00:19, 13.31it/s]"
     ]
    },
    {
     "name": "stdout",
     "output_type": "stream",
     "text": [
      "System tool failed: Command '['7z', 'e', '-oC:/Users/13490/AppData/Local/pykoda/pykoda/Cache/sl-tripupdates-2022-12-04', 'C:/Users/13490/AppData/Local/pykoda/pykoda/Cache/sl-tripupdates-2022-12-04.bz2']' returned non-zero exit status 255.\n",
      "None\n",
      "Executing python function, producing output(s): C:/Users/13490/AppData/Local/pykoda/pykoda/Cache/sl_TripUpdates_2022_12_04_3.feather.tmp\n",
      "Getting C:/Users/13490/AppData/Local/pykoda/pykoda/Cache/sl_TripUpdates_2022_12_04_4.feather\n",
      "File or folder already exists, so skipping task: data (datafolder)\n",
      "File or folder already exists, so skipping task: C:/Users/13490/AppData/Local/pykoda/pykoda/Cache/sl-tripupdates-2022-12-04.bz2 (file)\n",
      "System tool failed: Command '['7z', 'e', '-oC:/Users/13490/AppData/Local/pykoda/pykoda/Cache/sl-tripupdates-2022-12-04', 'C:/Users/13490/AppData/Local/pykoda/pykoda/Cache/sl-tripupdates-2022-12-04.bz2']' returned non-zero exit status 255.\n",
      "None\n",
      "Executing python function, producing output(s): C:/Users/13490/AppData/Local/pykoda/pykoda/Cache/sl_TripUpdates_2022_12_04_4.feather.tmp\n",
      "Getting C:/Users/13490/AppData/Local/pykoda/pykoda/Cache/sl_TripUpdates_2022_12_04_5.feather\n",
      "File or folder already exists, so skipping task: data (datafolder)\n",
      "File or folder already exists, so skipping task: C:/Users/13490/AppData/Local/pykoda/pykoda/Cache/sl-tripupdates-2022-12-04.bz2 (file)\n",
      "System tool failed: Command '['7z', 'e', '-oC:/Users/13490/AppData/Local/pykoda/pykoda/Cache/sl-tripupdates-2022-12-04', 'C:/Users/13490/AppData/Local/pykoda/pykoda/Cache/sl-tripupdates-2022-12-04.bz2']' returned non-zero exit status 255.\n",
      "None\n",
      "Executing python function, producing output(s): C:/Users/13490/AppData/Local/pykoda/pykoda/Cache/sl_TripUpdates_2022_12_04_5.feather.tmp\n",
      "Getting C:/Users/13490/AppData/Local/pykoda/pykoda/Cache/sl_TripUpdates_2022_12_04_6.feather\n",
      "File or folder already exists, so skipping task: data (datafolder)\n",
      "File or folder already exists, so skipping task: C:/Users/13490/AppData/Local/pykoda/pykoda/Cache/sl-tripupdates-2022-12-04.bz2 (file)\n"
     ]
    },
    {
     "name": "stderr",
     "output_type": "stream",
     "text": [
      "D:\\lib\\site-packages\\pykoda\\data\\datautils.py:90: RuntimeWarning: The API did not return data for 2022-12-04 06:00:00\n",
      "  warnings.warn(RuntimeWarning(f'The API did not return data for {date_hour}'))\n",
      "D:\\lib\\site-packages\\pykoda\\data\\datautils.py:90: RuntimeWarning: The API did not return data for 2022-12-04 07:00:00\n",
      "  warnings.warn(RuntimeWarning(f'The API did not return data for {date_hour}'))\n",
      "Loading data:  18%|████████████                                                       | 56/312 [00:04<00:19, 13.36it/s]"
     ]
    },
    {
     "name": "stdout",
     "output_type": "stream",
     "text": [
      "System tool failed: Command '['7z', 'e', '-oC:/Users/13490/AppData/Local/pykoda/pykoda/Cache/sl-tripupdates-2022-12-04', 'C:/Users/13490/AppData/Local/pykoda/pykoda/Cache/sl-tripupdates-2022-12-04.bz2']' returned non-zero exit status 255.\n",
      "None\n",
      "Executing python function, producing output(s): C:/Users/13490/AppData/Local/pykoda/pykoda/Cache/sl_TripUpdates_2022_12_04_6.feather.tmp\n",
      "Getting C:/Users/13490/AppData/Local/pykoda/pykoda/Cache/sl_TripUpdates_2022_12_04_7.feather\n",
      "File or folder already exists, so skipping task: data (datafolder)\n",
      "File or folder already exists, so skipping task: C:/Users/13490/AppData/Local/pykoda/pykoda/Cache/sl-tripupdates-2022-12-04.bz2 (file)\n",
      "System tool failed: Command '['7z', 'e', '-oC:/Users/13490/AppData/Local/pykoda/pykoda/Cache/sl-tripupdates-2022-12-04', 'C:/Users/13490/AppData/Local/pykoda/pykoda/Cache/sl-tripupdates-2022-12-04.bz2']' returned non-zero exit status 255.\n",
      "None\n",
      "Executing python function, producing output(s): C:/Users/13490/AppData/Local/pykoda/pykoda/Cache/sl_TripUpdates_2022_12_04_7.feather.tmp\n",
      "Getting C:/Users/13490/AppData/Local/pykoda/pykoda/Cache/sl_TripUpdates_2022_12_04_8.feather\n",
      "File or folder already exists, so skipping task: data (datafolder)\n",
      "File or folder already exists, so skipping task: C:/Users/13490/AppData/Local/pykoda/pykoda/Cache/sl-tripupdates-2022-12-04.bz2 (file)\n",
      "System tool failed: Command '['7z', 'e', '-oC:/Users/13490/AppData/Local/pykoda/pykoda/Cache/sl-tripupdates-2022-12-04', 'C:/Users/13490/AppData/Local/pykoda/pykoda/Cache/sl-tripupdates-2022-12-04.bz2']' returned non-zero exit status 255.\n",
      "None\n",
      "Executing python function, producing output(s): C:/Users/13490/AppData/Local/pykoda/pykoda/Cache/sl_TripUpdates_2022_12_04_8.feather.tmp\n",
      "Getting C:/Users/13490/AppData/Local/pykoda/pykoda/Cache/sl_TripUpdates_2022_12_04_9.feather\n",
      "File or folder already exists, so skipping task: data (datafolder)\n",
      "File or folder already exists, so skipping task: C:/Users/13490/AppData/Local/pykoda/pykoda/Cache/sl-tripupdates-2022-12-04.bz2 (file)\n"
     ]
    },
    {
     "name": "stderr",
     "output_type": "stream",
     "text": [
      "D:\\lib\\site-packages\\pykoda\\data\\datautils.py:90: RuntimeWarning: The API did not return data for 2022-12-04 08:00:00\n",
      "  warnings.warn(RuntimeWarning(f'The API did not return data for {date_hour}'))\n",
      "D:\\lib\\site-packages\\pykoda\\data\\datautils.py:90: RuntimeWarning: The API did not return data for 2022-12-04 09:00:00\n",
      "  warnings.warn(RuntimeWarning(f'The API did not return data for {date_hour}'))\n",
      "Loading data:  19%|████████████▍                                                      | 58/312 [00:04<00:18, 13.56it/s]D:\\lib\\site-packages\\pykoda\\data\\datautils.py:90: RuntimeWarning: The API did not return data for 2022-12-04 10:00:00\n",
      "  warnings.warn(RuntimeWarning(f'The API did not return data for {date_hour}'))\n",
      "D:\\lib\\site-packages\\pykoda\\data\\datautils.py:90: RuntimeWarning: The API did not return data for 2022-12-04 11:00:00\n",
      "  warnings.warn(RuntimeWarning(f'The API did not return data for {date_hour}'))\n",
      "Loading data:  19%|████████████▉                                                      | 60/312 [00:04<00:18, 13.76it/s]"
     ]
    },
    {
     "name": "stdout",
     "output_type": "stream",
     "text": [
      "System tool failed: Command '['7z', 'e', '-oC:/Users/13490/AppData/Local/pykoda/pykoda/Cache/sl-tripupdates-2022-12-04', 'C:/Users/13490/AppData/Local/pykoda/pykoda/Cache/sl-tripupdates-2022-12-04.bz2']' returned non-zero exit status 255.\n",
      "None\n",
      "Executing python function, producing output(s): C:/Users/13490/AppData/Local/pykoda/pykoda/Cache/sl_TripUpdates_2022_12_04_9.feather.tmp\n",
      "Getting C:/Users/13490/AppData/Local/pykoda/pykoda/Cache/sl_TripUpdates_2022_12_04_10.feather\n",
      "File or folder already exists, so skipping task: data (datafolder)\n",
      "File or folder already exists, so skipping task: C:/Users/13490/AppData/Local/pykoda/pykoda/Cache/sl-tripupdates-2022-12-04.bz2 (file)\n",
      "System tool failed: Command '['7z', 'e', '-oC:/Users/13490/AppData/Local/pykoda/pykoda/Cache/sl-tripupdates-2022-12-04', 'C:/Users/13490/AppData/Local/pykoda/pykoda/Cache/sl-tripupdates-2022-12-04.bz2']' returned non-zero exit status 255.\n",
      "None\n",
      "Executing python function, producing output(s): C:/Users/13490/AppData/Local/pykoda/pykoda/Cache/sl_TripUpdates_2022_12_04_10.feather.tmp\n",
      "Getting C:/Users/13490/AppData/Local/pykoda/pykoda/Cache/sl_TripUpdates_2022_12_04_11.feather\n",
      "File or folder already exists, so skipping task: data (datafolder)\n",
      "File or folder already exists, so skipping task: C:/Users/13490/AppData/Local/pykoda/pykoda/Cache/sl-tripupdates-2022-12-04.bz2 (file)\n",
      "System tool failed: Command '['7z', 'e', '-oC:/Users/13490/AppData/Local/pykoda/pykoda/Cache/sl-tripupdates-2022-12-04', 'C:/Users/13490/AppData/Local/pykoda/pykoda/Cache/sl-tripupdates-2022-12-04.bz2']' returned non-zero exit status 255.\n",
      "None\n",
      "Executing python function, producing output(s): C:/Users/13490/AppData/Local/pykoda/pykoda/Cache/sl_TripUpdates_2022_12_04_11.feather.tmp\n",
      "Getting C:/Users/13490/AppData/Local/pykoda/pykoda/Cache/sl_TripUpdates_2022_12_04_12.feather\n",
      "File or folder already exists, so skipping task: data (datafolder)\n",
      "File or folder already exists, so skipping task: C:/Users/13490/AppData/Local/pykoda/pykoda/Cache/sl-tripupdates-2022-12-04.bz2 (file)\n"
     ]
    },
    {
     "name": "stderr",
     "output_type": "stream",
     "text": [
      "D:\\lib\\site-packages\\pykoda\\data\\datautils.py:90: RuntimeWarning: The API did not return data for 2022-12-04 12:00:00\n",
      "  warnings.warn(RuntimeWarning(f'The API did not return data for {date_hour}'))\n",
      "D:\\lib\\site-packages\\pykoda\\data\\datautils.py:90: RuntimeWarning: The API did not return data for 2022-12-04 13:00:00\n",
      "  warnings.warn(RuntimeWarning(f'The API did not return data for {date_hour}'))\n",
      "Loading data:  20%|█████████████▎                                                     | 62/312 [00:04<00:18, 13.57it/s]"
     ]
    },
    {
     "name": "stdout",
     "output_type": "stream",
     "text": [
      "System tool failed: Command '['7z', 'e', '-oC:/Users/13490/AppData/Local/pykoda/pykoda/Cache/sl-tripupdates-2022-12-04', 'C:/Users/13490/AppData/Local/pykoda/pykoda/Cache/sl-tripupdates-2022-12-04.bz2']' returned non-zero exit status 255.\n",
      "None\n",
      "Executing python function, producing output(s): C:/Users/13490/AppData/Local/pykoda/pykoda/Cache/sl_TripUpdates_2022_12_04_12.feather.tmp\n",
      "Getting C:/Users/13490/AppData/Local/pykoda/pykoda/Cache/sl_TripUpdates_2022_12_04_13.feather\n",
      "File or folder already exists, so skipping task: data (datafolder)\n",
      "File or folder already exists, so skipping task: C:/Users/13490/AppData/Local/pykoda/pykoda/Cache/sl-tripupdates-2022-12-04.bz2 (file)\n",
      "System tool failed: Command '['7z', 'e', '-oC:/Users/13490/AppData/Local/pykoda/pykoda/Cache/sl-tripupdates-2022-12-04', 'C:/Users/13490/AppData/Local/pykoda/pykoda/Cache/sl-tripupdates-2022-12-04.bz2']' returned non-zero exit status 255.\n",
      "None\n",
      "Executing python function, producing output(s): C:/Users/13490/AppData/Local/pykoda/pykoda/Cache/sl_TripUpdates_2022_12_04_13.feather.tmp\n",
      "Getting C:/Users/13490/AppData/Local/pykoda/pykoda/Cache/sl_TripUpdates_2022_12_04_14.feather\n",
      "File or folder already exists, so skipping task: data (datafolder)\n",
      "File or folder already exists, so skipping task: C:/Users/13490/AppData/Local/pykoda/pykoda/Cache/sl-tripupdates-2022-12-04.bz2 (file)\n",
      "System tool failed: Command '['7z', 'e', '-oC:/Users/13490/AppData/Local/pykoda/pykoda/Cache/sl-tripupdates-2022-12-04', 'C:/Users/13490/AppData/Local/pykoda/pykoda/Cache/sl-tripupdates-2022-12-04.bz2']' returned non-zero exit status 255.\n",
      "None\n",
      "Executing python function, producing output(s): C:/Users/13490/AppData/Local/pykoda/pykoda/Cache/sl_TripUpdates_2022_12_04_14.feather.tmp\n",
      "Getting C:/Users/13490/AppData/Local/pykoda/pykoda/Cache/sl_TripUpdates_2022_12_04_15.feather\n",
      "File or folder already exists, so skipping task: data (datafolder)\n",
      "File or folder already exists, so skipping task: C:/Users/13490/AppData/Local/pykoda/pykoda/Cache/sl-tripupdates-2022-12-04.bz2 (file)\n"
     ]
    },
    {
     "name": "stderr",
     "output_type": "stream",
     "text": [
      "D:\\lib\\site-packages\\pykoda\\data\\datautils.py:90: RuntimeWarning: The API did not return data for 2022-12-04 14:00:00\n",
      "  warnings.warn(RuntimeWarning(f'The API did not return data for {date_hour}'))\n",
      "D:\\lib\\site-packages\\pykoda\\data\\datautils.py:90: RuntimeWarning: The API did not return data for 2022-12-04 15:00:00\n",
      "  warnings.warn(RuntimeWarning(f'The API did not return data for {date_hour}'))\n",
      "Loading data:  21%|█████████████▋                                                     | 64/312 [00:04<00:18, 13.69it/s]D:\\lib\\site-packages\\pykoda\\data\\datautils.py:90: RuntimeWarning: The API did not return data for 2022-12-04 16:00:00\n",
      "  warnings.warn(RuntimeWarning(f'The API did not return data for {date_hour}'))\n",
      "D:\\lib\\site-packages\\pykoda\\data\\datautils.py:90: RuntimeWarning: The API did not return data for 2022-12-04 17:00:00\n",
      "  warnings.warn(RuntimeWarning(f'The API did not return data for {date_hour}'))\n",
      "Loading data:  21%|██████████████▏                                                    | 66/312 [00:04<00:18, 13.64it/s]"
     ]
    },
    {
     "name": "stdout",
     "output_type": "stream",
     "text": [
      "System tool failed: Command '['7z', 'e', '-oC:/Users/13490/AppData/Local/pykoda/pykoda/Cache/sl-tripupdates-2022-12-04', 'C:/Users/13490/AppData/Local/pykoda/pykoda/Cache/sl-tripupdates-2022-12-04.bz2']' returned non-zero exit status 255.\n",
      "None\n",
      "Executing python function, producing output(s): C:/Users/13490/AppData/Local/pykoda/pykoda/Cache/sl_TripUpdates_2022_12_04_15.feather.tmp\n",
      "Getting C:/Users/13490/AppData/Local/pykoda/pykoda/Cache/sl_TripUpdates_2022_12_04_16.feather\n",
      "File or folder already exists, so skipping task: data (datafolder)\n",
      "File or folder already exists, so skipping task: C:/Users/13490/AppData/Local/pykoda/pykoda/Cache/sl-tripupdates-2022-12-04.bz2 (file)\n",
      "System tool failed: Command '['7z', 'e', '-oC:/Users/13490/AppData/Local/pykoda/pykoda/Cache/sl-tripupdates-2022-12-04', 'C:/Users/13490/AppData/Local/pykoda/pykoda/Cache/sl-tripupdates-2022-12-04.bz2']' returned non-zero exit status 255.\n",
      "None\n",
      "Executing python function, producing output(s): C:/Users/13490/AppData/Local/pykoda/pykoda/Cache/sl_TripUpdates_2022_12_04_16.feather.tmp\n",
      "Getting C:/Users/13490/AppData/Local/pykoda/pykoda/Cache/sl_TripUpdates_2022_12_04_17.feather\n",
      "File or folder already exists, so skipping task: data (datafolder)\n",
      "File or folder already exists, so skipping task: C:/Users/13490/AppData/Local/pykoda/pykoda/Cache/sl-tripupdates-2022-12-04.bz2 (file)\n",
      "System tool failed: Command '['7z', 'e', '-oC:/Users/13490/AppData/Local/pykoda/pykoda/Cache/sl-tripupdates-2022-12-04', 'C:/Users/13490/AppData/Local/pykoda/pykoda/Cache/sl-tripupdates-2022-12-04.bz2']' returned non-zero exit status 255.\n",
      "None\n",
      "Executing python function, producing output(s): C:/Users/13490/AppData/Local/pykoda/pykoda/Cache/sl_TripUpdates_2022_12_04_17.feather.tmp\n",
      "Getting C:/Users/13490/AppData/Local/pykoda/pykoda/Cache/sl_TripUpdates_2022_12_04_18.feather\n",
      "File or folder already exists, so skipping task: data (datafolder)\n",
      "File or folder already exists, so skipping task: C:/Users/13490/AppData/Local/pykoda/pykoda/Cache/sl-tripupdates-2022-12-04.bz2 (file)\n"
     ]
    },
    {
     "name": "stderr",
     "output_type": "stream",
     "text": [
      "D:\\lib\\site-packages\\pykoda\\data\\datautils.py:90: RuntimeWarning: The API did not return data for 2022-12-04 18:00:00\n",
      "  warnings.warn(RuntimeWarning(f'The API did not return data for {date_hour}'))\n",
      "D:\\lib\\site-packages\\pykoda\\data\\datautils.py:90: RuntimeWarning: The API did not return data for 2022-12-04 19:00:00\n",
      "  warnings.warn(RuntimeWarning(f'The API did not return data for {date_hour}'))\n",
      "Loading data:  22%|██████████████▌                                                    | 68/312 [00:04<00:18, 13.52it/s]"
     ]
    },
    {
     "name": "stdout",
     "output_type": "stream",
     "text": [
      "System tool failed: Command '['7z', 'e', '-oC:/Users/13490/AppData/Local/pykoda/pykoda/Cache/sl-tripupdates-2022-12-04', 'C:/Users/13490/AppData/Local/pykoda/pykoda/Cache/sl-tripupdates-2022-12-04.bz2']' returned non-zero exit status 255.\n",
      "None\n",
      "Executing python function, producing output(s): C:/Users/13490/AppData/Local/pykoda/pykoda/Cache/sl_TripUpdates_2022_12_04_18.feather.tmp\n",
      "Getting C:/Users/13490/AppData/Local/pykoda/pykoda/Cache/sl_TripUpdates_2022_12_04_19.feather\n",
      "File or folder already exists, so skipping task: data (datafolder)\n",
      "File or folder already exists, so skipping task: C:/Users/13490/AppData/Local/pykoda/pykoda/Cache/sl-tripupdates-2022-12-04.bz2 (file)\n",
      "System tool failed: Command '['7z', 'e', '-oC:/Users/13490/AppData/Local/pykoda/pykoda/Cache/sl-tripupdates-2022-12-04', 'C:/Users/13490/AppData/Local/pykoda/pykoda/Cache/sl-tripupdates-2022-12-04.bz2']' returned non-zero exit status 255.\n",
      "None\n",
      "Executing python function, producing output(s): C:/Users/13490/AppData/Local/pykoda/pykoda/Cache/sl_TripUpdates_2022_12_04_19.feather.tmp\n",
      "Getting C:/Users/13490/AppData/Local/pykoda/pykoda/Cache/sl_TripUpdates_2022_12_04_20.feather\n",
      "File or folder already exists, so skipping task: data (datafolder)\n",
      "File or folder already exists, so skipping task: C:/Users/13490/AppData/Local/pykoda/pykoda/Cache/sl-tripupdates-2022-12-04.bz2 (file)\n",
      "System tool failed: Command '['7z', 'e', '-oC:/Users/13490/AppData/Local/pykoda/pykoda/Cache/sl-tripupdates-2022-12-04', 'C:/Users/13490/AppData/Local/pykoda/pykoda/Cache/sl-tripupdates-2022-12-04.bz2']' returned non-zero exit status 255.\n",
      "None\n",
      "Executing python function, producing output(s): C:/Users/13490/AppData/Local/pykoda/pykoda/Cache/sl_TripUpdates_2022_12_04_20.feather.tmp\n",
      "Getting C:/Users/13490/AppData/Local/pykoda/pykoda/Cache/sl_TripUpdates_2022_12_04_21.feather\n",
      "File or folder already exists, so skipping task: data (datafolder)\n",
      "File or folder already exists, so skipping task: C:/Users/13490/AppData/Local/pykoda/pykoda/Cache/sl-tripupdates-2022-12-04.bz2 (file)\n"
     ]
    },
    {
     "name": "stderr",
     "output_type": "stream",
     "text": [
      "D:\\lib\\site-packages\\pykoda\\data\\datautils.py:90: RuntimeWarning: The API did not return data for 2022-12-04 20:00:00\n",
      "  warnings.warn(RuntimeWarning(f'The API did not return data for {date_hour}'))\n",
      "D:\\lib\\site-packages\\pykoda\\data\\datautils.py:90: RuntimeWarning: The API did not return data for 2022-12-04 21:00:00\n",
      "  warnings.warn(RuntimeWarning(f'The API did not return data for {date_hour}'))\n",
      "Loading data:  22%|███████████████                                                    | 70/312 [00:05<00:18, 13.39it/s]D:\\lib\\site-packages\\pykoda\\data\\datautils.py:90: RuntimeWarning: The API did not return data for 2022-12-04 22:00:00\n",
      "  warnings.warn(RuntimeWarning(f'The API did not return data for {date_hour}'))\n",
      "D:\\lib\\site-packages\\pykoda\\data\\datautils.py:90: RuntimeWarning: The API did not return data for 2022-12-04 23:00:00\n",
      "  warnings.warn(RuntimeWarning(f'The API did not return data for {date_hour}'))\n",
      "Loading data:  23%|███████████████▍                                                   | 72/312 [00:05<00:17, 13.45it/s]"
     ]
    },
    {
     "name": "stdout",
     "output_type": "stream",
     "text": [
      "System tool failed: Command '['7z', 'e', '-oC:/Users/13490/AppData/Local/pykoda/pykoda/Cache/sl-tripupdates-2022-12-04', 'C:/Users/13490/AppData/Local/pykoda/pykoda/Cache/sl-tripupdates-2022-12-04.bz2']' returned non-zero exit status 255.\n",
      "None\n",
      "Executing python function, producing output(s): C:/Users/13490/AppData/Local/pykoda/pykoda/Cache/sl_TripUpdates_2022_12_04_21.feather.tmp\n",
      "Getting C:/Users/13490/AppData/Local/pykoda/pykoda/Cache/sl_TripUpdates_2022_12_04_22.feather\n",
      "File or folder already exists, so skipping task: data (datafolder)\n",
      "File or folder already exists, so skipping task: C:/Users/13490/AppData/Local/pykoda/pykoda/Cache/sl-tripupdates-2022-12-04.bz2 (file)\n",
      "System tool failed: Command '['7z', 'e', '-oC:/Users/13490/AppData/Local/pykoda/pykoda/Cache/sl-tripupdates-2022-12-04', 'C:/Users/13490/AppData/Local/pykoda/pykoda/Cache/sl-tripupdates-2022-12-04.bz2']' returned non-zero exit status 255.\n",
      "None\n",
      "Executing python function, producing output(s): C:/Users/13490/AppData/Local/pykoda/pykoda/Cache/sl_TripUpdates_2022_12_04_22.feather.tmp\n",
      "Getting C:/Users/13490/AppData/Local/pykoda/pykoda/Cache/sl_TripUpdates_2022_12_04_23.feather\n",
      "File or folder already exists, so skipping task: data (datafolder)\n",
      "File or folder already exists, so skipping task: C:/Users/13490/AppData/Local/pykoda/pykoda/Cache/sl-tripupdates-2022-12-04.bz2 (file)\n",
      "System tool failed: Command '['7z', 'e', '-oC:/Users/13490/AppData/Local/pykoda/pykoda/Cache/sl-tripupdates-2022-12-04', 'C:/Users/13490/AppData/Local/pykoda/pykoda/Cache/sl-tripupdates-2022-12-04.bz2']' returned non-zero exit status 255.\n",
      "None\n",
      "Executing python function, producing output(s): C:/Users/13490/AppData/Local/pykoda/pykoda/Cache/sl_TripUpdates_2022_12_04_23.feather.tmp\n"
     ]
    },
    {
     "name": "stderr",
     "output_type": "stream",
     "text": [
      "D:\\lib\\site-packages\\pykoda\\data\\datautils.py:90: RuntimeWarning: The API did not return data for 2022-12-05 01:00:00\n",
      "  warnings.warn(RuntimeWarning(f'The API did not return data for {date_hour}'))\n",
      "Loading data:  24%|███████████████▉                                                   | 74/312 [00:05<00:17, 13.52it/s]D:\\lib\\site-packages\\pykoda\\data\\datautils.py:90: RuntimeWarning: The API did not return data for 2022-12-05 02:00:00\n",
      "  warnings.warn(RuntimeWarning(f'The API did not return data for {date_hour}'))\n"
     ]
    },
    {
     "name": "stdout",
     "output_type": "stream",
     "text": [
      "Getting C:/Users/13490/AppData/Local/pykoda/pykoda/Cache/sl_TripUpdates_2022_12_05_1.feather\n",
      "File or folder already exists, so skipping task: data (datafolder)\n",
      "File or folder already exists, so skipping task: C:/Users/13490/AppData/Local/pykoda/pykoda/Cache/sl-tripupdates-2022-12-05.bz2 (file)\n",
      "System tool failed: Command '['7z', 'e', '-oC:/Users/13490/AppData/Local/pykoda/pykoda/Cache/sl-tripupdates-2022-12-05', 'C:/Users/13490/AppData/Local/pykoda/pykoda/Cache/sl-tripupdates-2022-12-05.bz2']' returned non-zero exit status 255.\n",
      "None\n",
      "Executing python function, producing output(s): C:/Users/13490/AppData/Local/pykoda/pykoda/Cache/sl_TripUpdates_2022_12_05_1.feather.tmp\n",
      "Getting C:/Users/13490/AppData/Local/pykoda/pykoda/Cache/sl_TripUpdates_2022_12_05_2.feather\n",
      "File or folder already exists, so skipping task: data (datafolder)\n",
      "File or folder already exists, so skipping task: C:/Users/13490/AppData/Local/pykoda/pykoda/Cache/sl-tripupdates-2022-12-05.bz2 (file)\n",
      "System tool failed: Command '['7z', 'e', '-oC:/Users/13490/AppData/Local/pykoda/pykoda/Cache/sl-tripupdates-2022-12-05', 'C:/Users/13490/AppData/Local/pykoda/pykoda/Cache/sl-tripupdates-2022-12-05.bz2']' returned non-zero exit status 255.\n",
      "None\n",
      "Executing python function, producing output(s): C:/Users/13490/AppData/Local/pykoda/pykoda/Cache/sl_TripUpdates_2022_12_05_2.feather.tmp\n",
      "Getting C:/Users/13490/AppData/Local/pykoda/pykoda/Cache/sl_TripUpdates_2022_12_05_3.feather\n",
      "File or folder already exists, so skipping task: data (datafolder)\n",
      "File or folder already exists, so skipping task: C:/Users/13490/AppData/Local/pykoda/pykoda/Cache/sl-tripupdates-2022-12-05.bz2 (file)\n"
     ]
    },
    {
     "name": "stderr",
     "output_type": "stream",
     "text": [
      "D:\\lib\\site-packages\\pykoda\\data\\datautils.py:90: RuntimeWarning: The API did not return data for 2022-12-05 03:00:00\n",
      "  warnings.warn(RuntimeWarning(f'The API did not return data for {date_hour}'))\n",
      "Loading data:  24%|████████████████▎                                                  | 76/312 [00:05<00:17, 13.56it/s]D:\\lib\\site-packages\\pykoda\\data\\datautils.py:90: RuntimeWarning: The API did not return data for 2022-12-05 04:00:00\n",
      "  warnings.warn(RuntimeWarning(f'The API did not return data for {date_hour}'))\n",
      "D:\\lib\\site-packages\\pykoda\\data\\datautils.py:90: RuntimeWarning: The API did not return data for 2022-12-05 05:00:00\n",
      "  warnings.warn(RuntimeWarning(f'The API did not return data for {date_hour}'))\n",
      "Loading data:  25%|████████████████▊                                                  | 78/312 [00:05<00:16, 13.87it/s]"
     ]
    },
    {
     "name": "stdout",
     "output_type": "stream",
     "text": [
      "System tool failed: Command '['7z', 'e', '-oC:/Users/13490/AppData/Local/pykoda/pykoda/Cache/sl-tripupdates-2022-12-05', 'C:/Users/13490/AppData/Local/pykoda/pykoda/Cache/sl-tripupdates-2022-12-05.bz2']' returned non-zero exit status 255.\n",
      "None\n",
      "Executing python function, producing output(s): C:/Users/13490/AppData/Local/pykoda/pykoda/Cache/sl_TripUpdates_2022_12_05_3.feather.tmp\n",
      "Getting C:/Users/13490/AppData/Local/pykoda/pykoda/Cache/sl_TripUpdates_2022_12_05_4.feather\n",
      "File or folder already exists, so skipping task: data (datafolder)\n",
      "File or folder already exists, so skipping task: C:/Users/13490/AppData/Local/pykoda/pykoda/Cache/sl-tripupdates-2022-12-05.bz2 (file)\n",
      "System tool failed: Command '['7z', 'e', '-oC:/Users/13490/AppData/Local/pykoda/pykoda/Cache/sl-tripupdates-2022-12-05', 'C:/Users/13490/AppData/Local/pykoda/pykoda/Cache/sl-tripupdates-2022-12-05.bz2']' returned non-zero exit status 255.\n",
      "None\n",
      "Executing python function, producing output(s): C:/Users/13490/AppData/Local/pykoda/pykoda/Cache/sl_TripUpdates_2022_12_05_4.feather.tmp\n",
      "Getting C:/Users/13490/AppData/Local/pykoda/pykoda/Cache/sl_TripUpdates_2022_12_05_5.feather\n",
      "File or folder already exists, so skipping task: data (datafolder)\n",
      "File or folder already exists, so skipping task: C:/Users/13490/AppData/Local/pykoda/pykoda/Cache/sl-tripupdates-2022-12-05.bz2 (file)\n",
      "System tool failed: Command '['7z', 'e', '-oC:/Users/13490/AppData/Local/pykoda/pykoda/Cache/sl-tripupdates-2022-12-05', 'C:/Users/13490/AppData/Local/pykoda/pykoda/Cache/sl-tripupdates-2022-12-05.bz2']' returned non-zero exit status 255.\n",
      "None\n",
      "Executing python function, producing output(s): C:/Users/13490/AppData/Local/pykoda/pykoda/Cache/sl_TripUpdates_2022_12_05_5.feather.tmp\n",
      "Getting C:/Users/13490/AppData/Local/pykoda/pykoda/Cache/sl_TripUpdates_2022_12_05_6.feather\n",
      "File or folder already exists, so skipping task: data (datafolder)\n",
      "File or folder already exists, so skipping task: C:/Users/13490/AppData/Local/pykoda/pykoda/Cache/sl-tripupdates-2022-12-05.bz2 (file)\n"
     ]
    },
    {
     "name": "stderr",
     "output_type": "stream",
     "text": [
      "D:\\lib\\site-packages\\pykoda\\data\\datautils.py:90: RuntimeWarning: The API did not return data for 2022-12-05 06:00:00\n",
      "  warnings.warn(RuntimeWarning(f'The API did not return data for {date_hour}'))\n",
      "D:\\lib\\site-packages\\pykoda\\data\\datautils.py:90: RuntimeWarning: The API did not return data for 2022-12-05 07:00:00\n",
      "  warnings.warn(RuntimeWarning(f'The API did not return data for {date_hour}'))\n",
      "Loading data:  26%|█████████████████▏                                                 | 80/312 [00:05<00:16, 14.18it/s]"
     ]
    },
    {
     "name": "stdout",
     "output_type": "stream",
     "text": [
      "System tool failed: Command '['7z', 'e', '-oC:/Users/13490/AppData/Local/pykoda/pykoda/Cache/sl-tripupdates-2022-12-05', 'C:/Users/13490/AppData/Local/pykoda/pykoda/Cache/sl-tripupdates-2022-12-05.bz2']' returned non-zero exit status 255.\n",
      "None\n",
      "Executing python function, producing output(s): C:/Users/13490/AppData/Local/pykoda/pykoda/Cache/sl_TripUpdates_2022_12_05_6.feather.tmp\n",
      "Getting C:/Users/13490/AppData/Local/pykoda/pykoda/Cache/sl_TripUpdates_2022_12_05_7.feather\n",
      "File or folder already exists, so skipping task: data (datafolder)\n",
      "File or folder already exists, so skipping task: C:/Users/13490/AppData/Local/pykoda/pykoda/Cache/sl-tripupdates-2022-12-05.bz2 (file)\n",
      "System tool failed: Command '['7z', 'e', '-oC:/Users/13490/AppData/Local/pykoda/pykoda/Cache/sl-tripupdates-2022-12-05', 'C:/Users/13490/AppData/Local/pykoda/pykoda/Cache/sl-tripupdates-2022-12-05.bz2']' returned non-zero exit status 255.\n",
      "None\n",
      "Executing python function, producing output(s): C:/Users/13490/AppData/Local/pykoda/pykoda/Cache/sl_TripUpdates_2022_12_05_7.feather.tmp\n",
      "Getting C:/Users/13490/AppData/Local/pykoda/pykoda/Cache/sl_TripUpdates_2022_12_05_8.feather\n",
      "File or folder already exists, so skipping task: data (datafolder)\n",
      "File or folder already exists, so skipping task: C:/Users/13490/AppData/Local/pykoda/pykoda/Cache/sl-tripupdates-2022-12-05.bz2 (file)\n",
      "System tool failed: Command '['7z', 'e', '-oC:/Users/13490/AppData/Local/pykoda/pykoda/Cache/sl-tripupdates-2022-12-05', 'C:/Users/13490/AppData/Local/pykoda/pykoda/Cache/sl-tripupdates-2022-12-05.bz2']' returned non-zero exit status 255.\n",
      "None\n",
      "Executing python function, producing output(s): C:/Users/13490/AppData/Local/pykoda/pykoda/Cache/sl_TripUpdates_2022_12_05_8.feather.tmp\n",
      "Getting C:/Users/13490/AppData/Local/pykoda/pykoda/Cache/sl_TripUpdates_2022_12_05_9.feather\n",
      "File or folder already exists, so skipping task: data (datafolder)\n",
      "File or folder already exists, so skipping task: C:/Users/13490/AppData/Local/pykoda/pykoda/Cache/sl-tripupdates-2022-12-05.bz2 (file)\n"
     ]
    },
    {
     "name": "stderr",
     "output_type": "stream",
     "text": [
      "D:\\lib\\site-packages\\pykoda\\data\\datautils.py:90: RuntimeWarning: The API did not return data for 2022-12-05 08:00:00\n",
      "  warnings.warn(RuntimeWarning(f'The API did not return data for {date_hour}'))\n",
      "D:\\lib\\site-packages\\pykoda\\data\\datautils.py:90: RuntimeWarning: The API did not return data for 2022-12-05 09:00:00\n",
      "  warnings.warn(RuntimeWarning(f'The API did not return data for {date_hour}'))\n",
      "Loading data:  26%|█████████████████▌                                                 | 82/312 [00:05<00:16, 13.82it/s]D:\\lib\\site-packages\\pykoda\\data\\datautils.py:90: RuntimeWarning: The API did not return data for 2022-12-05 10:00:00\n",
      "  warnings.warn(RuntimeWarning(f'The API did not return data for {date_hour}'))\n",
      "D:\\lib\\site-packages\\pykoda\\data\\datautils.py:90: RuntimeWarning: The API did not return data for 2022-12-05 11:00:00\n",
      "  warnings.warn(RuntimeWarning(f'The API did not return data for {date_hour}'))\n",
      "Loading data:  27%|██████████████████                                                 | 84/312 [00:06<00:16, 13.55it/s]"
     ]
    },
    {
     "name": "stdout",
     "output_type": "stream",
     "text": [
      "System tool failed: Command '['7z', 'e', '-oC:/Users/13490/AppData/Local/pykoda/pykoda/Cache/sl-tripupdates-2022-12-05', 'C:/Users/13490/AppData/Local/pykoda/pykoda/Cache/sl-tripupdates-2022-12-05.bz2']' returned non-zero exit status 255.\n",
      "None\n",
      "Executing python function, producing output(s): C:/Users/13490/AppData/Local/pykoda/pykoda/Cache/sl_TripUpdates_2022_12_05_9.feather.tmp\n",
      "Getting C:/Users/13490/AppData/Local/pykoda/pykoda/Cache/sl_TripUpdates_2022_12_05_10.feather\n",
      "File or folder already exists, so skipping task: data (datafolder)\n",
      "File or folder already exists, so skipping task: C:/Users/13490/AppData/Local/pykoda/pykoda/Cache/sl-tripupdates-2022-12-05.bz2 (file)\n",
      "System tool failed: Command '['7z', 'e', '-oC:/Users/13490/AppData/Local/pykoda/pykoda/Cache/sl-tripupdates-2022-12-05', 'C:/Users/13490/AppData/Local/pykoda/pykoda/Cache/sl-tripupdates-2022-12-05.bz2']' returned non-zero exit status 255.\n",
      "None\n",
      "Executing python function, producing output(s): C:/Users/13490/AppData/Local/pykoda/pykoda/Cache/sl_TripUpdates_2022_12_05_10.feather.tmp\n",
      "Getting C:/Users/13490/AppData/Local/pykoda/pykoda/Cache/sl_TripUpdates_2022_12_05_11.feather\n",
      "File or folder already exists, so skipping task: data (datafolder)\n",
      "File or folder already exists, so skipping task: C:/Users/13490/AppData/Local/pykoda/pykoda/Cache/sl-tripupdates-2022-12-05.bz2 (file)\n",
      "System tool failed: Command '['7z', 'e', '-oC:/Users/13490/AppData/Local/pykoda/pykoda/Cache/sl-tripupdates-2022-12-05', 'C:/Users/13490/AppData/Local/pykoda/pykoda/Cache/sl-tripupdates-2022-12-05.bz2']' returned non-zero exit status 255.\n",
      "None\n",
      "Executing python function, producing output(s): C:/Users/13490/AppData/Local/pykoda/pykoda/Cache/sl_TripUpdates_2022_12_05_11.feather.tmp\n",
      "Getting C:/Users/13490/AppData/Local/pykoda/pykoda/Cache/sl_TripUpdates_2022_12_05_12.feather\n",
      "File or folder already exists, so skipping task: data (datafolder)\n",
      "File or folder already exists, so skipping task: C:/Users/13490/AppData/Local/pykoda/pykoda/Cache/sl-tripupdates-2022-12-05.bz2 (file)\n"
     ]
    },
    {
     "name": "stderr",
     "output_type": "stream",
     "text": [
      "D:\\lib\\site-packages\\pykoda\\data\\datautils.py:90: RuntimeWarning: The API did not return data for 2022-12-05 12:00:00\n",
      "  warnings.warn(RuntimeWarning(f'The API did not return data for {date_hour}'))\n",
      "D:\\lib\\site-packages\\pykoda\\data\\datautils.py:90: RuntimeWarning: The API did not return data for 2022-12-05 13:00:00\n",
      "  warnings.warn(RuntimeWarning(f'The API did not return data for {date_hour}'))\n",
      "Loading data:  28%|██████████████████▍                                                | 86/312 [00:06<00:16, 13.70it/s]"
     ]
    },
    {
     "name": "stdout",
     "output_type": "stream",
     "text": [
      "System tool failed: Command '['7z', 'e', '-oC:/Users/13490/AppData/Local/pykoda/pykoda/Cache/sl-tripupdates-2022-12-05', 'C:/Users/13490/AppData/Local/pykoda/pykoda/Cache/sl-tripupdates-2022-12-05.bz2']' returned non-zero exit status 255.\n",
      "None\n",
      "Executing python function, producing output(s): C:/Users/13490/AppData/Local/pykoda/pykoda/Cache/sl_TripUpdates_2022_12_05_12.feather.tmp\n",
      "Getting C:/Users/13490/AppData/Local/pykoda/pykoda/Cache/sl_TripUpdates_2022_12_05_13.feather\n",
      "File or folder already exists, so skipping task: data (datafolder)\n",
      "File or folder already exists, so skipping task: C:/Users/13490/AppData/Local/pykoda/pykoda/Cache/sl-tripupdates-2022-12-05.bz2 (file)\n",
      "System tool failed: Command '['7z', 'e', '-oC:/Users/13490/AppData/Local/pykoda/pykoda/Cache/sl-tripupdates-2022-12-05', 'C:/Users/13490/AppData/Local/pykoda/pykoda/Cache/sl-tripupdates-2022-12-05.bz2']' returned non-zero exit status 255.\n",
      "None\n",
      "Executing python function, producing output(s): C:/Users/13490/AppData/Local/pykoda/pykoda/Cache/sl_TripUpdates_2022_12_05_13.feather.tmp\n",
      "Getting C:/Users/13490/AppData/Local/pykoda/pykoda/Cache/sl_TripUpdates_2022_12_05_14.feather\n",
      "File or folder already exists, so skipping task: data (datafolder)\n",
      "File or folder already exists, so skipping task: C:/Users/13490/AppData/Local/pykoda/pykoda/Cache/sl-tripupdates-2022-12-05.bz2 (file)\n",
      "System tool failed: Command '['7z', 'e', '-oC:/Users/13490/AppData/Local/pykoda/pykoda/Cache/sl-tripupdates-2022-12-05', 'C:/Users/13490/AppData/Local/pykoda/pykoda/Cache/sl-tripupdates-2022-12-05.bz2']' returned non-zero exit status 255.\n",
      "None\n",
      "Executing python function, producing output(s): C:/Users/13490/AppData/Local/pykoda/pykoda/Cache/sl_TripUpdates_2022_12_05_14.feather.tmp\n",
      "Getting C:/Users/13490/AppData/Local/pykoda/pykoda/Cache/sl_TripUpdates_2022_12_05_15.feather\n",
      "File or folder already exists, so skipping task: data (datafolder)\n",
      "File or folder already exists, so skipping task: C:/Users/13490/AppData/Local/pykoda/pykoda/Cache/sl-tripupdates-2022-12-05.bz2 (file)\n"
     ]
    },
    {
     "name": "stderr",
     "output_type": "stream",
     "text": [
      "D:\\lib\\site-packages\\pykoda\\data\\datautils.py:90: RuntimeWarning: The API did not return data for 2022-12-05 14:00:00\n",
      "  warnings.warn(RuntimeWarning(f'The API did not return data for {date_hour}'))\n",
      "D:\\lib\\site-packages\\pykoda\\data\\datautils.py:90: RuntimeWarning: The API did not return data for 2022-12-05 15:00:00\n",
      "  warnings.warn(RuntimeWarning(f'The API did not return data for {date_hour}'))\n",
      "Loading data:  28%|██████████████████▉                                                | 88/312 [00:06<00:15, 14.01it/s]D:\\lib\\site-packages\\pykoda\\data\\datautils.py:90: RuntimeWarning: The API did not return data for 2022-12-05 16:00:00\n",
      "  warnings.warn(RuntimeWarning(f'The API did not return data for {date_hour}'))\n",
      "D:\\lib\\site-packages\\pykoda\\data\\datautils.py:90: RuntimeWarning: The API did not return data for 2022-12-05 17:00:00\n",
      "  warnings.warn(RuntimeWarning(f'The API did not return data for {date_hour}'))\n",
      "Loading data:  29%|███████████████████▎                                               | 90/312 [00:06<00:15, 13.97it/s]"
     ]
    },
    {
     "name": "stdout",
     "output_type": "stream",
     "text": [
      "System tool failed: Command '['7z', 'e', '-oC:/Users/13490/AppData/Local/pykoda/pykoda/Cache/sl-tripupdates-2022-12-05', 'C:/Users/13490/AppData/Local/pykoda/pykoda/Cache/sl-tripupdates-2022-12-05.bz2']' returned non-zero exit status 255.\n",
      "None\n",
      "Executing python function, producing output(s): C:/Users/13490/AppData/Local/pykoda/pykoda/Cache/sl_TripUpdates_2022_12_05_15.feather.tmp\n",
      "Getting C:/Users/13490/AppData/Local/pykoda/pykoda/Cache/sl_TripUpdates_2022_12_05_16.feather\n",
      "File or folder already exists, so skipping task: data (datafolder)\n",
      "File or folder already exists, so skipping task: C:/Users/13490/AppData/Local/pykoda/pykoda/Cache/sl-tripupdates-2022-12-05.bz2 (file)\n",
      "System tool failed: Command '['7z', 'e', '-oC:/Users/13490/AppData/Local/pykoda/pykoda/Cache/sl-tripupdates-2022-12-05', 'C:/Users/13490/AppData/Local/pykoda/pykoda/Cache/sl-tripupdates-2022-12-05.bz2']' returned non-zero exit status 255.\n",
      "None\n",
      "Executing python function, producing output(s): C:/Users/13490/AppData/Local/pykoda/pykoda/Cache/sl_TripUpdates_2022_12_05_16.feather.tmp\n",
      "Getting C:/Users/13490/AppData/Local/pykoda/pykoda/Cache/sl_TripUpdates_2022_12_05_17.feather\n",
      "File or folder already exists, so skipping task: data (datafolder)\n",
      "File or folder already exists, so skipping task: C:/Users/13490/AppData/Local/pykoda/pykoda/Cache/sl-tripupdates-2022-12-05.bz2 (file)\n",
      "System tool failed: Command '['7z', 'e', '-oC:/Users/13490/AppData/Local/pykoda/pykoda/Cache/sl-tripupdates-2022-12-05', 'C:/Users/13490/AppData/Local/pykoda/pykoda/Cache/sl-tripupdates-2022-12-05.bz2']' returned non-zero exit status 255.\n",
      "None\n",
      "Executing python function, producing output(s): C:/Users/13490/AppData/Local/pykoda/pykoda/Cache/sl_TripUpdates_2022_12_05_17.feather.tmp\n",
      "Getting C:/Users/13490/AppData/Local/pykoda/pykoda/Cache/sl_TripUpdates_2022_12_05_18.feather\n",
      "File or folder already exists, so skipping task: data (datafolder)\n",
      "File or folder already exists, so skipping task: C:/Users/13490/AppData/Local/pykoda/pykoda/Cache/sl-tripupdates-2022-12-05.bz2 (file)\n"
     ]
    },
    {
     "name": "stderr",
     "output_type": "stream",
     "text": [
      "D:\\lib\\site-packages\\pykoda\\data\\datautils.py:90: RuntimeWarning: The API did not return data for 2022-12-05 18:00:00\n",
      "  warnings.warn(RuntimeWarning(f'The API did not return data for {date_hour}'))\n",
      "D:\\lib\\site-packages\\pykoda\\data\\datautils.py:90: RuntimeWarning: The API did not return data for 2022-12-05 19:00:00\n",
      "  warnings.warn(RuntimeWarning(f'The API did not return data for {date_hour}'))\n",
      "Loading data:  29%|███████████████████▊                                               | 92/312 [00:06<00:15, 13.83it/s]D:\\lib\\site-packages\\pykoda\\data\\datautils.py:90: RuntimeWarning: The API did not return data for 2022-12-05 20:00:00\n",
      "  warnings.warn(RuntimeWarning(f'The API did not return data for {date_hour}'))\n"
     ]
    },
    {
     "name": "stdout",
     "output_type": "stream",
     "text": [
      "System tool failed: Command '['7z', 'e', '-oC:/Users/13490/AppData/Local/pykoda/pykoda/Cache/sl-tripupdates-2022-12-05', 'C:/Users/13490/AppData/Local/pykoda/pykoda/Cache/sl-tripupdates-2022-12-05.bz2']' returned non-zero exit status 255.\n",
      "None\n",
      "Executing python function, producing output(s): C:/Users/13490/AppData/Local/pykoda/pykoda/Cache/sl_TripUpdates_2022_12_05_18.feather.tmp\n",
      "Getting C:/Users/13490/AppData/Local/pykoda/pykoda/Cache/sl_TripUpdates_2022_12_05_19.feather\n",
      "File or folder already exists, so skipping task: data (datafolder)\n",
      "File or folder already exists, so skipping task: C:/Users/13490/AppData/Local/pykoda/pykoda/Cache/sl-tripupdates-2022-12-05.bz2 (file)\n",
      "System tool failed: Command '['7z', 'e', '-oC:/Users/13490/AppData/Local/pykoda/pykoda/Cache/sl-tripupdates-2022-12-05', 'C:/Users/13490/AppData/Local/pykoda/pykoda/Cache/sl-tripupdates-2022-12-05.bz2']' returned non-zero exit status 255.\n",
      "None\n",
      "Executing python function, producing output(s): C:/Users/13490/AppData/Local/pykoda/pykoda/Cache/sl_TripUpdates_2022_12_05_19.feather.tmp\n",
      "Getting C:/Users/13490/AppData/Local/pykoda/pykoda/Cache/sl_TripUpdates_2022_12_05_20.feather\n",
      "File or folder already exists, so skipping task: data (datafolder)\n",
      "File or folder already exists, so skipping task: C:/Users/13490/AppData/Local/pykoda/pykoda/Cache/sl-tripupdates-2022-12-05.bz2 (file)\n",
      "System tool failed: Command '['7z', 'e', '-oC:/Users/13490/AppData/Local/pykoda/pykoda/Cache/sl-tripupdates-2022-12-05', 'C:/Users/13490/AppData/Local/pykoda/pykoda/Cache/sl-tripupdates-2022-12-05.bz2']' returned non-zero exit status 255.\n",
      "None\n",
      "Executing python function, producing output(s): C:/Users/13490/AppData/Local/pykoda/pykoda/Cache/sl_TripUpdates_2022_12_05_20.feather.tmp\n",
      "Getting C:/Users/13490/AppData/Local/pykoda/pykoda/Cache/sl_TripUpdates_2022_12_05_21.feather\n",
      "File or folder already exists, so skipping task: data (datafolder)\n",
      "File or folder already exists, so skipping task: C:/Users/13490/AppData/Local/pykoda/pykoda/Cache/sl-tripupdates-2022-12-05.bz2 (file)\n"
     ]
    },
    {
     "name": "stderr",
     "output_type": "stream",
     "text": [
      "D:\\lib\\site-packages\\pykoda\\data\\datautils.py:90: RuntimeWarning: The API did not return data for 2022-12-05 21:00:00\n",
      "  warnings.warn(RuntimeWarning(f'The API did not return data for {date_hour}'))\n",
      "Loading data:  30%|████████████████████▏                                              | 94/312 [00:06<00:16, 13.59it/s]D:\\lib\\site-packages\\pykoda\\data\\datautils.py:90: RuntimeWarning: The API did not return data for 2022-12-05 22:00:00\n",
      "  warnings.warn(RuntimeWarning(f'The API did not return data for {date_hour}'))\n",
      "D:\\lib\\site-packages\\pykoda\\data\\datautils.py:90: RuntimeWarning: The API did not return data for 2022-12-05 23:00:00\n",
      "  warnings.warn(RuntimeWarning(f'The API did not return data for {date_hour}'))\n",
      "Loading data:  31%|████████████████████▌                                              | 96/312 [00:07<00:15, 13.53it/s]"
     ]
    },
    {
     "name": "stdout",
     "output_type": "stream",
     "text": [
      "System tool failed: Command '['7z', 'e', '-oC:/Users/13490/AppData/Local/pykoda/pykoda/Cache/sl-tripupdates-2022-12-05', 'C:/Users/13490/AppData/Local/pykoda/pykoda/Cache/sl-tripupdates-2022-12-05.bz2']' returned non-zero exit status 255.\n",
      "None\n",
      "Executing python function, producing output(s): C:/Users/13490/AppData/Local/pykoda/pykoda/Cache/sl_TripUpdates_2022_12_05_21.feather.tmp\n",
      "Getting C:/Users/13490/AppData/Local/pykoda/pykoda/Cache/sl_TripUpdates_2022_12_05_22.feather\n",
      "File or folder already exists, so skipping task: data (datafolder)\n",
      "File or folder already exists, so skipping task: C:/Users/13490/AppData/Local/pykoda/pykoda/Cache/sl-tripupdates-2022-12-05.bz2 (file)\n",
      "System tool failed: Command '['7z', 'e', '-oC:/Users/13490/AppData/Local/pykoda/pykoda/Cache/sl-tripupdates-2022-12-05', 'C:/Users/13490/AppData/Local/pykoda/pykoda/Cache/sl-tripupdates-2022-12-05.bz2']' returned non-zero exit status 255.\n",
      "None\n",
      "Executing python function, producing output(s): C:/Users/13490/AppData/Local/pykoda/pykoda/Cache/sl_TripUpdates_2022_12_05_22.feather.tmp\n",
      "Getting C:/Users/13490/AppData/Local/pykoda/pykoda/Cache/sl_TripUpdates_2022_12_05_23.feather\n",
      "File or folder already exists, so skipping task: data (datafolder)\n",
      "File or folder already exists, so skipping task: C:/Users/13490/AppData/Local/pykoda/pykoda/Cache/sl-tripupdates-2022-12-05.bz2 (file)\n",
      "System tool failed: Command '['7z', 'e', '-oC:/Users/13490/AppData/Local/pykoda/pykoda/Cache/sl-tripupdates-2022-12-05', 'C:/Users/13490/AppData/Local/pykoda/pykoda/Cache/sl-tripupdates-2022-12-05.bz2']' returned non-zero exit status 255.\n",
      "None\n",
      "Executing python function, producing output(s): C:/Users/13490/AppData/Local/pykoda/pykoda/Cache/sl_TripUpdates_2022_12_05_23.feather.tmp\n"
     ]
    },
    {
     "name": "stderr",
     "output_type": "stream",
     "text": [
      "D:\\lib\\site-packages\\pykoda\\data\\datautils.py:90: RuntimeWarning: The API did not return data for 2022-12-06 01:00:00\n",
      "  warnings.warn(RuntimeWarning(f'The API did not return data for {date_hour}'))\n",
      "Loading data:  31%|█████████████████████                                              | 98/312 [00:07<00:15, 14.00it/s]"
     ]
    },
    {
     "name": "stdout",
     "output_type": "stream",
     "text": [
      "Getting C:/Users/13490/AppData/Local/pykoda/pykoda/Cache/sl_TripUpdates_2022_12_06_1.feather\n",
      "File or folder already exists, so skipping task: data (datafolder)\n",
      "File or folder already exists, so skipping task: C:/Users/13490/AppData/Local/pykoda/pykoda/Cache/sl-tripupdates-2022-12-06.bz2 (file)\n",
      "System tool failed: Command '['7z', 'e', '-oC:/Users/13490/AppData/Local/pykoda/pykoda/Cache/sl-tripupdates-2022-12-06', 'C:/Users/13490/AppData/Local/pykoda/pykoda/Cache/sl-tripupdates-2022-12-06.bz2']' returned non-zero exit status 255.\n",
      "None\n",
      "Executing python function, producing output(s): C:/Users/13490/AppData/Local/pykoda/pykoda/Cache/sl_TripUpdates_2022_12_06_1.feather.tmp\n",
      "Getting C:/Users/13490/AppData/Local/pykoda/pykoda/Cache/sl_TripUpdates_2022_12_06_2.feather\n",
      "File or folder already exists, so skipping task: data (datafolder)\n",
      "File or folder already exists, so skipping task: C:/Users/13490/AppData/Local/pykoda/pykoda/Cache/sl-tripupdates-2022-12-06.bz2 (file)\n",
      "System tool failed: Command '['7z', 'e', '-oC:/Users/13490/AppData/Local/pykoda/pykoda/Cache/sl-tripupdates-2022-12-06', 'C:/Users/13490/AppData/Local/pykoda/pykoda/Cache/sl-tripupdates-2022-12-06.bz2']' returned non-zero exit status 255.\n",
      "None\n",
      "Executing python function, producing output(s): C:/Users/13490/AppData/Local/pykoda/pykoda/Cache/sl_TripUpdates_2022_12_06_2.feather.tmp\n",
      "Getting C:/Users/13490/AppData/Local/pykoda/pykoda/Cache/sl_TripUpdates_2022_12_06_3.feather\n",
      "File or folder already exists, so skipping task: data (datafolder)\n",
      "File or folder already exists, so skipping task: C:/Users/13490/AppData/Local/pykoda/pykoda/Cache/sl-tripupdates-2022-12-06.bz2 (file)\n"
     ]
    },
    {
     "name": "stderr",
     "output_type": "stream",
     "text": [
      "D:\\lib\\site-packages\\pykoda\\data\\datautils.py:90: RuntimeWarning: The API did not return data for 2022-12-06 02:00:00\n",
      "  warnings.warn(RuntimeWarning(f'The API did not return data for {date_hour}'))\n",
      "D:\\lib\\site-packages\\pykoda\\data\\datautils.py:90: RuntimeWarning: The API did not return data for 2022-12-06 03:00:00\n",
      "  warnings.warn(RuntimeWarning(f'The API did not return data for {date_hour}'))\n",
      "Loading data:  32%|█████████████████████▏                                            | 100/312 [00:07<00:15, 14.07it/s]D:\\lib\\site-packages\\pykoda\\data\\datautils.py:90: RuntimeWarning: The API did not return data for 2022-12-06 04:00:00\n",
      "  warnings.warn(RuntimeWarning(f'The API did not return data for {date_hour}'))\n",
      "D:\\lib\\site-packages\\pykoda\\data\\datautils.py:90: RuntimeWarning: The API did not return data for 2022-12-06 05:00:00\n",
      "  warnings.warn(RuntimeWarning(f'The API did not return data for {date_hour}'))\n",
      "Loading data:  33%|█████████████████████▌                                            | 102/312 [00:07<00:16, 13.12it/s]"
     ]
    },
    {
     "name": "stdout",
     "output_type": "stream",
     "text": [
      "System tool failed: Command '['7z', 'e', '-oC:/Users/13490/AppData/Local/pykoda/pykoda/Cache/sl-tripupdates-2022-12-06', 'C:/Users/13490/AppData/Local/pykoda/pykoda/Cache/sl-tripupdates-2022-12-06.bz2']' returned non-zero exit status 255.\n",
      "None\n",
      "Executing python function, producing output(s): C:/Users/13490/AppData/Local/pykoda/pykoda/Cache/sl_TripUpdates_2022_12_06_3.feather.tmp\n",
      "Getting C:/Users/13490/AppData/Local/pykoda/pykoda/Cache/sl_TripUpdates_2022_12_06_4.feather\n",
      "File or folder already exists, so skipping task: data (datafolder)\n",
      "File or folder already exists, so skipping task: C:/Users/13490/AppData/Local/pykoda/pykoda/Cache/sl-tripupdates-2022-12-06.bz2 (file)\n",
      "System tool failed: Command '['7z', 'e', '-oC:/Users/13490/AppData/Local/pykoda/pykoda/Cache/sl-tripupdates-2022-12-06', 'C:/Users/13490/AppData/Local/pykoda/pykoda/Cache/sl-tripupdates-2022-12-06.bz2']' returned non-zero exit status 255.\n",
      "None\n",
      "Executing python function, producing output(s): C:/Users/13490/AppData/Local/pykoda/pykoda/Cache/sl_TripUpdates_2022_12_06_4.feather.tmp\n",
      "Getting C:/Users/13490/AppData/Local/pykoda/pykoda/Cache/sl_TripUpdates_2022_12_06_5.feather\n",
      "File or folder already exists, so skipping task: data (datafolder)\n",
      "File or folder already exists, so skipping task: C:/Users/13490/AppData/Local/pykoda/pykoda/Cache/sl-tripupdates-2022-12-06.bz2 (file)\n",
      "System tool failed: Command '['7z', 'e', '-oC:/Users/13490/AppData/Local/pykoda/pykoda/Cache/sl-tripupdates-2022-12-06', 'C:/Users/13490/AppData/Local/pykoda/pykoda/Cache/sl-tripupdates-2022-12-06.bz2']' returned non-zero exit status 255.\n",
      "None\n",
      "Executing python function, producing output(s): C:/Users/13490/AppData/Local/pykoda/pykoda/Cache/sl_TripUpdates_2022_12_06_5.feather.tmp\n",
      "Getting C:/Users/13490/AppData/Local/pykoda/pykoda/Cache/sl_TripUpdates_2022_12_06_6.feather\n",
      "File or folder already exists, so skipping task: data (datafolder)\n",
      "File or folder already exists, so skipping task: C:/Users/13490/AppData/Local/pykoda/pykoda/Cache/sl-tripupdates-2022-12-06.bz2 (file)\n"
     ]
    },
    {
     "name": "stderr",
     "output_type": "stream",
     "text": [
      "D:\\lib\\site-packages\\pykoda\\data\\datautils.py:90: RuntimeWarning: The API did not return data for 2022-12-06 06:00:00\n",
      "  warnings.warn(RuntimeWarning(f'The API did not return data for {date_hour}'))\n",
      "D:\\lib\\site-packages\\pykoda\\data\\datautils.py:90: RuntimeWarning: The API did not return data for 2022-12-06 07:00:00\n",
      "  warnings.warn(RuntimeWarning(f'The API did not return data for {date_hour}'))\n",
      "Loading data:  33%|██████████████████████                                            | 104/312 [00:07<00:15, 13.55it/s]"
     ]
    },
    {
     "name": "stdout",
     "output_type": "stream",
     "text": [
      "System tool failed: Command '['7z', 'e', '-oC:/Users/13490/AppData/Local/pykoda/pykoda/Cache/sl-tripupdates-2022-12-06', 'C:/Users/13490/AppData/Local/pykoda/pykoda/Cache/sl-tripupdates-2022-12-06.bz2']' returned non-zero exit status 255.\n",
      "None\n",
      "Executing python function, producing output(s): C:/Users/13490/AppData/Local/pykoda/pykoda/Cache/sl_TripUpdates_2022_12_06_6.feather.tmp\n",
      "Getting C:/Users/13490/AppData/Local/pykoda/pykoda/Cache/sl_TripUpdates_2022_12_06_7.feather\n",
      "File or folder already exists, so skipping task: data (datafolder)\n",
      "File or folder already exists, so skipping task: C:/Users/13490/AppData/Local/pykoda/pykoda/Cache/sl-tripupdates-2022-12-06.bz2 (file)\n",
      "System tool failed: Command '['7z', 'e', '-oC:/Users/13490/AppData/Local/pykoda/pykoda/Cache/sl-tripupdates-2022-12-06', 'C:/Users/13490/AppData/Local/pykoda/pykoda/Cache/sl-tripupdates-2022-12-06.bz2']' returned non-zero exit status 255.\n",
      "None\n",
      "Executing python function, producing output(s): C:/Users/13490/AppData/Local/pykoda/pykoda/Cache/sl_TripUpdates_2022_12_06_7.feather.tmp\n",
      "Getting C:/Users/13490/AppData/Local/pykoda/pykoda/Cache/sl_TripUpdates_2022_12_06_8.feather\n",
      "File or folder already exists, so skipping task: data (datafolder)\n",
      "File or folder already exists, so skipping task: C:/Users/13490/AppData/Local/pykoda/pykoda/Cache/sl-tripupdates-2022-12-06.bz2 (file)\n",
      "System tool failed: Command '['7z', 'e', '-oC:/Users/13490/AppData/Local/pykoda/pykoda/Cache/sl-tripupdates-2022-12-06', 'C:/Users/13490/AppData/Local/pykoda/pykoda/Cache/sl-tripupdates-2022-12-06.bz2']' returned non-zero exit status 255.\n",
      "None\n",
      "Executing python function, producing output(s): C:/Users/13490/AppData/Local/pykoda/pykoda/Cache/sl_TripUpdates_2022_12_06_8.feather.tmp\n",
      "Getting C:/Users/13490/AppData/Local/pykoda/pykoda/Cache/sl_TripUpdates_2022_12_06_9.feather\n",
      "File or folder already exists, so skipping task: data (datafolder)\n",
      "File or folder already exists, so skipping task: C:/Users/13490/AppData/Local/pykoda/pykoda/Cache/sl-tripupdates-2022-12-06.bz2 (file)\n"
     ]
    },
    {
     "name": "stderr",
     "output_type": "stream",
     "text": [
      "D:\\lib\\site-packages\\pykoda\\data\\datautils.py:90: RuntimeWarning: The API did not return data for 2022-12-06 08:00:00\n",
      "  warnings.warn(RuntimeWarning(f'The API did not return data for {date_hour}'))\n",
      "D:\\lib\\site-packages\\pykoda\\data\\datautils.py:90: RuntimeWarning: The API did not return data for 2022-12-06 09:00:00\n",
      "  warnings.warn(RuntimeWarning(f'The API did not return data for {date_hour}'))\n",
      "Loading data:  34%|██████████████████████▍                                           | 106/312 [00:07<00:14, 13.74it/s]D:\\lib\\site-packages\\pykoda\\data\\datautils.py:90: RuntimeWarning: The API did not return data for 2022-12-06 10:00:00\n",
      "  warnings.warn(RuntimeWarning(f'The API did not return data for {date_hour}'))\n",
      "D:\\lib\\site-packages\\pykoda\\data\\datautils.py:90: RuntimeWarning: The API did not return data for 2022-12-06 11:00:00\n",
      "  warnings.warn(RuntimeWarning(f'The API did not return data for {date_hour}'))\n",
      "Loading data:  35%|██████████████████████▊                                           | 108/312 [00:07<00:14, 13.97it/s]"
     ]
    },
    {
     "name": "stdout",
     "output_type": "stream",
     "text": [
      "System tool failed: Command '['7z', 'e', '-oC:/Users/13490/AppData/Local/pykoda/pykoda/Cache/sl-tripupdates-2022-12-06', 'C:/Users/13490/AppData/Local/pykoda/pykoda/Cache/sl-tripupdates-2022-12-06.bz2']' returned non-zero exit status 255.\n",
      "None\n",
      "Executing python function, producing output(s): C:/Users/13490/AppData/Local/pykoda/pykoda/Cache/sl_TripUpdates_2022_12_06_9.feather.tmp\n",
      "Getting C:/Users/13490/AppData/Local/pykoda/pykoda/Cache/sl_TripUpdates_2022_12_06_10.feather\n",
      "File or folder already exists, so skipping task: data (datafolder)\n",
      "File or folder already exists, so skipping task: C:/Users/13490/AppData/Local/pykoda/pykoda/Cache/sl-tripupdates-2022-12-06.bz2 (file)\n",
      "System tool failed: Command '['7z', 'e', '-oC:/Users/13490/AppData/Local/pykoda/pykoda/Cache/sl-tripupdates-2022-12-06', 'C:/Users/13490/AppData/Local/pykoda/pykoda/Cache/sl-tripupdates-2022-12-06.bz2']' returned non-zero exit status 255.\n",
      "None\n",
      "Executing python function, producing output(s): C:/Users/13490/AppData/Local/pykoda/pykoda/Cache/sl_TripUpdates_2022_12_06_10.feather.tmp\n",
      "Getting C:/Users/13490/AppData/Local/pykoda/pykoda/Cache/sl_TripUpdates_2022_12_06_11.feather\n",
      "File or folder already exists, so skipping task: data (datafolder)\n",
      "File or folder already exists, so skipping task: C:/Users/13490/AppData/Local/pykoda/pykoda/Cache/sl-tripupdates-2022-12-06.bz2 (file)\n",
      "System tool failed: Command '['7z', 'e', '-oC:/Users/13490/AppData/Local/pykoda/pykoda/Cache/sl-tripupdates-2022-12-06', 'C:/Users/13490/AppData/Local/pykoda/pykoda/Cache/sl-tripupdates-2022-12-06.bz2']' returned non-zero exit status 255.\n",
      "None\n",
      "Executing python function, producing output(s): C:/Users/13490/AppData/Local/pykoda/pykoda/Cache/sl_TripUpdates_2022_12_06_11.feather.tmp\n",
      "Getting C:/Users/13490/AppData/Local/pykoda/pykoda/Cache/sl_TripUpdates_2022_12_06_12.feather\n",
      "File or folder already exists, so skipping task: data (datafolder)\n",
      "File or folder already exists, so skipping task: C:/Users/13490/AppData/Local/pykoda/pykoda/Cache/sl-tripupdates-2022-12-06.bz2 (file)\n",
      "System tool failed: Command '['7z', 'e', '-oC:/Users/13490/AppData/Local/pykoda/pykoda/Cache/sl-tripupdates-2022-12-06', 'C:/Users/13490/AppData/Local/pykoda/pykoda/Cache/sl-tripupdates-2022-12-06.bz2']' returned non-zero exit status 255.\n",
      "None\n",
      "Executing python function, producing output(s): C:/Users/13490/AppData/Local/pykoda/pykoda/Cache/sl_TripUpdates_2022_12_06_12.feather.tmp\n"
     ]
    },
    {
     "name": "stderr",
     "output_type": "stream",
     "text": [
      "D:\\lib\\site-packages\\pykoda\\data\\datautils.py:90: RuntimeWarning: The API did not return data for 2022-12-06 12:00:00\n",
      "  warnings.warn(RuntimeWarning(f'The API did not return data for {date_hour}'))\n",
      "D:\\lib\\site-packages\\pykoda\\data\\datautils.py:90: RuntimeWarning: The API did not return data for 2022-12-06 13:00:00\n",
      "  warnings.warn(RuntimeWarning(f'The API did not return data for {date_hour}'))\n",
      "Loading data:  35%|███████████████████████▎                                          | 110/312 [00:08<00:14, 14.00it/s]D:\\lib\\site-packages\\pykoda\\data\\datautils.py:90: RuntimeWarning: The API did not return data for 2022-12-06 14:00:00\n",
      "  warnings.warn(RuntimeWarning(f'The API did not return data for {date_hour}'))\n"
     ]
    },
    {
     "name": "stdout",
     "output_type": "stream",
     "text": [
      "Getting C:/Users/13490/AppData/Local/pykoda/pykoda/Cache/sl_TripUpdates_2022_12_06_13.feather\n",
      "File or folder already exists, so skipping task: data (datafolder)\n",
      "File or folder already exists, so skipping task: C:/Users/13490/AppData/Local/pykoda/pykoda/Cache/sl-tripupdates-2022-12-06.bz2 (file)\n",
      "System tool failed: Command '['7z', 'e', '-oC:/Users/13490/AppData/Local/pykoda/pykoda/Cache/sl-tripupdates-2022-12-06', 'C:/Users/13490/AppData/Local/pykoda/pykoda/Cache/sl-tripupdates-2022-12-06.bz2']' returned non-zero exit status 255.\n",
      "None\n",
      "Executing python function, producing output(s): C:/Users/13490/AppData/Local/pykoda/pykoda/Cache/sl_TripUpdates_2022_12_06_13.feather.tmp\n",
      "Getting C:/Users/13490/AppData/Local/pykoda/pykoda/Cache/sl_TripUpdates_2022_12_06_14.feather\n",
      "File or folder already exists, so skipping task: data (datafolder)\n",
      "File or folder already exists, so skipping task: C:/Users/13490/AppData/Local/pykoda/pykoda/Cache/sl-tripupdates-2022-12-06.bz2 (file)\n",
      "System tool failed: Command '['7z', 'e', '-oC:/Users/13490/AppData/Local/pykoda/pykoda/Cache/sl-tripupdates-2022-12-06', 'C:/Users/13490/AppData/Local/pykoda/pykoda/Cache/sl-tripupdates-2022-12-06.bz2']' returned non-zero exit status 255.\n",
      "None\n",
      "Executing python function, producing output(s): C:/Users/13490/AppData/Local/pykoda/pykoda/Cache/sl_TripUpdates_2022_12_06_14.feather.tmp\n",
      "Getting C:/Users/13490/AppData/Local/pykoda/pykoda/Cache/sl_TripUpdates_2022_12_06_15.feather\n",
      "File or folder already exists, so skipping task: data (datafolder)\n",
      "File or folder already exists, so skipping task: C:/Users/13490/AppData/Local/pykoda/pykoda/Cache/sl-tripupdates-2022-12-06.bz2 (file)\n"
     ]
    },
    {
     "name": "stderr",
     "output_type": "stream",
     "text": [
      "D:\\lib\\site-packages\\pykoda\\data\\datautils.py:90: RuntimeWarning: The API did not return data for 2022-12-06 15:00:00\n",
      "  warnings.warn(RuntimeWarning(f'The API did not return data for {date_hour}'))\n",
      "Loading data:  36%|███████████████████████▋                                          | 112/312 [00:08<00:14, 13.94it/s]D:\\lib\\site-packages\\pykoda\\data\\datautils.py:90: RuntimeWarning: The API did not return data for 2022-12-06 16:00:00\n",
      "  warnings.warn(RuntimeWarning(f'The API did not return data for {date_hour}'))\n",
      "D:\\lib\\site-packages\\pykoda\\data\\datautils.py:90: RuntimeWarning: The API did not return data for 2022-12-06 17:00:00\n",
      "  warnings.warn(RuntimeWarning(f'The API did not return data for {date_hour}'))\n",
      "Loading data:  37%|████████████████████████                                          | 114/312 [00:08<00:14, 14.08it/s]"
     ]
    },
    {
     "name": "stdout",
     "output_type": "stream",
     "text": [
      "System tool failed: Command '['7z', 'e', '-oC:/Users/13490/AppData/Local/pykoda/pykoda/Cache/sl-tripupdates-2022-12-06', 'C:/Users/13490/AppData/Local/pykoda/pykoda/Cache/sl-tripupdates-2022-12-06.bz2']' returned non-zero exit status 255.\n",
      "None\n",
      "Executing python function, producing output(s): C:/Users/13490/AppData/Local/pykoda/pykoda/Cache/sl_TripUpdates_2022_12_06_15.feather.tmp\n",
      "Getting C:/Users/13490/AppData/Local/pykoda/pykoda/Cache/sl_TripUpdates_2022_12_06_16.feather\n",
      "File or folder already exists, so skipping task: data (datafolder)\n",
      "File or folder already exists, so skipping task: C:/Users/13490/AppData/Local/pykoda/pykoda/Cache/sl-tripupdates-2022-12-06.bz2 (file)\n",
      "System tool failed: Command '['7z', 'e', '-oC:/Users/13490/AppData/Local/pykoda/pykoda/Cache/sl-tripupdates-2022-12-06', 'C:/Users/13490/AppData/Local/pykoda/pykoda/Cache/sl-tripupdates-2022-12-06.bz2']' returned non-zero exit status 255.\n",
      "None\n",
      "Executing python function, producing output(s): C:/Users/13490/AppData/Local/pykoda/pykoda/Cache/sl_TripUpdates_2022_12_06_16.feather.tmp\n",
      "Getting C:/Users/13490/AppData/Local/pykoda/pykoda/Cache/sl_TripUpdates_2022_12_06_17.feather\n",
      "File or folder already exists, so skipping task: data (datafolder)\n",
      "File or folder already exists, so skipping task: C:/Users/13490/AppData/Local/pykoda/pykoda/Cache/sl-tripupdates-2022-12-06.bz2 (file)\n",
      "System tool failed: Command '['7z', 'e', '-oC:/Users/13490/AppData/Local/pykoda/pykoda/Cache/sl-tripupdates-2022-12-06', 'C:/Users/13490/AppData/Local/pykoda/pykoda/Cache/sl-tripupdates-2022-12-06.bz2']' returned non-zero exit status 255.\n",
      "None\n",
      "Executing python function, producing output(s): C:/Users/13490/AppData/Local/pykoda/pykoda/Cache/sl_TripUpdates_2022_12_06_17.feather.tmp\n",
      "Getting C:/Users/13490/AppData/Local/pykoda/pykoda/Cache/sl_TripUpdates_2022_12_06_18.feather\n",
      "File or folder already exists, so skipping task: data (datafolder)\n",
      "File or folder already exists, so skipping task: C:/Users/13490/AppData/Local/pykoda/pykoda/Cache/sl-tripupdates-2022-12-06.bz2 (file)\n",
      "System tool failed: Command '['7z', 'e', '-oC:/Users/13490/AppData/Local/pykoda/pykoda/Cache/sl-tripupdates-2022-12-06', 'C:/Users/13490/AppData/Local/pykoda/pykoda/Cache/sl-tripupdates-2022-12-06.bz2']' returned non-zero exit status 255.\n",
      "None\n",
      "Executing python function, producing output(s): C:/Users/13490/AppData/Local/pykoda/pykoda/Cache/sl_TripUpdates_2022_12_06_18.feather.tmp\n"
     ]
    },
    {
     "name": "stderr",
     "output_type": "stream",
     "text": [
      "D:\\lib\\site-packages\\pykoda\\data\\datautils.py:90: RuntimeWarning: The API did not return data for 2022-12-06 18:00:00\n",
      "  warnings.warn(RuntimeWarning(f'The API did not return data for {date_hour}'))\n",
      "D:\\lib\\site-packages\\pykoda\\data\\datautils.py:90: RuntimeWarning: The API did not return data for 2022-12-06 19:00:00\n",
      "  warnings.warn(RuntimeWarning(f'The API did not return data for {date_hour}'))\n",
      "Loading data:  37%|████████████████████████▌                                         | 116/312 [00:08<00:13, 14.07it/s]D:\\lib\\site-packages\\pykoda\\data\\datautils.py:90: RuntimeWarning: The API did not return data for 2022-12-06 20:00:00\n",
      "  warnings.warn(RuntimeWarning(f'The API did not return data for {date_hour}'))\n"
     ]
    },
    {
     "name": "stdout",
     "output_type": "stream",
     "text": [
      "Getting C:/Users/13490/AppData/Local/pykoda/pykoda/Cache/sl_TripUpdates_2022_12_06_19.feather\n",
      "File or folder already exists, so skipping task: data (datafolder)\n",
      "File or folder already exists, so skipping task: C:/Users/13490/AppData/Local/pykoda/pykoda/Cache/sl-tripupdates-2022-12-06.bz2 (file)\n",
      "System tool failed: Command '['7z', 'e', '-oC:/Users/13490/AppData/Local/pykoda/pykoda/Cache/sl-tripupdates-2022-12-06', 'C:/Users/13490/AppData/Local/pykoda/pykoda/Cache/sl-tripupdates-2022-12-06.bz2']' returned non-zero exit status 255.\n",
      "None\n",
      "Executing python function, producing output(s): C:/Users/13490/AppData/Local/pykoda/pykoda/Cache/sl_TripUpdates_2022_12_06_19.feather.tmp\n",
      "Getting C:/Users/13490/AppData/Local/pykoda/pykoda/Cache/sl_TripUpdates_2022_12_06_20.feather\n",
      "File or folder already exists, so skipping task: data (datafolder)\n",
      "File or folder already exists, so skipping task: C:/Users/13490/AppData/Local/pykoda/pykoda/Cache/sl-tripupdates-2022-12-06.bz2 (file)\n",
      "System tool failed: Command '['7z', 'e', '-oC:/Users/13490/AppData/Local/pykoda/pykoda/Cache/sl-tripupdates-2022-12-06', 'C:/Users/13490/AppData/Local/pykoda/pykoda/Cache/sl-tripupdates-2022-12-06.bz2']' returned non-zero exit status 255.\n",
      "None\n",
      "Executing python function, producing output(s): C:/Users/13490/AppData/Local/pykoda/pykoda/Cache/sl_TripUpdates_2022_12_06_20.feather.tmp\n",
      "Getting C:/Users/13490/AppData/Local/pykoda/pykoda/Cache/sl_TripUpdates_2022_12_06_21.feather\n",
      "File or folder already exists, so skipping task: data (datafolder)\n",
      "File or folder already exists, so skipping task: C:/Users/13490/AppData/Local/pykoda/pykoda/Cache/sl-tripupdates-2022-12-06.bz2 (file)\n"
     ]
    },
    {
     "name": "stderr",
     "output_type": "stream",
     "text": [
      "D:\\lib\\site-packages\\pykoda\\data\\datautils.py:90: RuntimeWarning: The API did not return data for 2022-12-06 21:00:00\n",
      "  warnings.warn(RuntimeWarning(f'The API did not return data for {date_hour}'))\n",
      "Loading data:  38%|████████████████████████▉                                         | 118/312 [00:08<00:13, 14.13it/s]D:\\lib\\site-packages\\pykoda\\data\\datautils.py:90: RuntimeWarning: The API did not return data for 2022-12-06 22:00:00\n",
      "  warnings.warn(RuntimeWarning(f'The API did not return data for {date_hour}'))\n",
      "D:\\lib\\site-packages\\pykoda\\data\\datautils.py:90: RuntimeWarning: The API did not return data for 2022-12-06 23:00:00\n",
      "  warnings.warn(RuntimeWarning(f'The API did not return data for {date_hour}'))\n",
      "Loading data:  38%|█████████████████████████▍                                        | 120/312 [00:08<00:13, 14.11it/s]"
     ]
    },
    {
     "name": "stdout",
     "output_type": "stream",
     "text": [
      "System tool failed: Command '['7z', 'e', '-oC:/Users/13490/AppData/Local/pykoda/pykoda/Cache/sl-tripupdates-2022-12-06', 'C:/Users/13490/AppData/Local/pykoda/pykoda/Cache/sl-tripupdates-2022-12-06.bz2']' returned non-zero exit status 255.\n",
      "None\n",
      "Executing python function, producing output(s): C:/Users/13490/AppData/Local/pykoda/pykoda/Cache/sl_TripUpdates_2022_12_06_21.feather.tmp\n",
      "Getting C:/Users/13490/AppData/Local/pykoda/pykoda/Cache/sl_TripUpdates_2022_12_06_22.feather\n",
      "File or folder already exists, so skipping task: data (datafolder)\n",
      "File or folder already exists, so skipping task: C:/Users/13490/AppData/Local/pykoda/pykoda/Cache/sl-tripupdates-2022-12-06.bz2 (file)\n",
      "System tool failed: Command '['7z', 'e', '-oC:/Users/13490/AppData/Local/pykoda/pykoda/Cache/sl-tripupdates-2022-12-06', 'C:/Users/13490/AppData/Local/pykoda/pykoda/Cache/sl-tripupdates-2022-12-06.bz2']' returned non-zero exit status 255.\n",
      "None\n",
      "Executing python function, producing output(s): C:/Users/13490/AppData/Local/pykoda/pykoda/Cache/sl_TripUpdates_2022_12_06_22.feather.tmp\n",
      "Getting C:/Users/13490/AppData/Local/pykoda/pykoda/Cache/sl_TripUpdates_2022_12_06_23.feather\n",
      "File or folder already exists, so skipping task: data (datafolder)\n",
      "File or folder already exists, so skipping task: C:/Users/13490/AppData/Local/pykoda/pykoda/Cache/sl-tripupdates-2022-12-06.bz2 (file)\n",
      "System tool failed: Command '['7z', 'e', '-oC:/Users/13490/AppData/Local/pykoda/pykoda/Cache/sl-tripupdates-2022-12-06', 'C:/Users/13490/AppData/Local/pykoda/pykoda/Cache/sl-tripupdates-2022-12-06.bz2']' returned non-zero exit status 255.\n",
      "None\n",
      "Executing python function, producing output(s): C:/Users/13490/AppData/Local/pykoda/pykoda/Cache/sl_TripUpdates_2022_12_06_23.feather.tmp\n"
     ]
    },
    {
     "name": "stderr",
     "output_type": "stream",
     "text": [
      "D:\\lib\\site-packages\\pykoda\\data\\datautils.py:90: RuntimeWarning: The API did not return data for 2022-12-07 01:00:00\n",
      "  warnings.warn(RuntimeWarning(f'The API did not return data for {date_hour}'))\n",
      "Loading data:  39%|█████████████████████████▊                                        | 122/312 [00:08<00:13, 14.21it/s]"
     ]
    },
    {
     "name": "stdout",
     "output_type": "stream",
     "text": [
      "Getting C:/Users/13490/AppData/Local/pykoda/pykoda/Cache/sl_TripUpdates_2022_12_07_1.feather\n",
      "File or folder already exists, so skipping task: data (datafolder)\n",
      "File or folder already exists, so skipping task: C:/Users/13490/AppData/Local/pykoda/pykoda/Cache/sl-tripupdates-2022-12-07.bz2 (file)\n",
      "System tool failed: Command '['7z', 'e', '-oC:/Users/13490/AppData/Local/pykoda/pykoda/Cache/sl-tripupdates-2022-12-07', 'C:/Users/13490/AppData/Local/pykoda/pykoda/Cache/sl-tripupdates-2022-12-07.bz2']' returned non-zero exit status 255.\n",
      "None\n",
      "Executing python function, producing output(s): C:/Users/13490/AppData/Local/pykoda/pykoda/Cache/sl_TripUpdates_2022_12_07_1.feather.tmp\n",
      "Getting C:/Users/13490/AppData/Local/pykoda/pykoda/Cache/sl_TripUpdates_2022_12_07_2.feather\n",
      "File or folder already exists, so skipping task: data (datafolder)\n",
      "File or folder already exists, so skipping task: C:/Users/13490/AppData/Local/pykoda/pykoda/Cache/sl-tripupdates-2022-12-07.bz2 (file)\n",
      "System tool failed: Command '['7z', 'e', '-oC:/Users/13490/AppData/Local/pykoda/pykoda/Cache/sl-tripupdates-2022-12-07', 'C:/Users/13490/AppData/Local/pykoda/pykoda/Cache/sl-tripupdates-2022-12-07.bz2']' returned non-zero exit status 255.\n",
      "None\n",
      "Executing python function, producing output(s): C:/Users/13490/AppData/Local/pykoda/pykoda/Cache/sl_TripUpdates_2022_12_07_2.feather.tmp\n",
      "Getting C:/Users/13490/AppData/Local/pykoda/pykoda/Cache/sl_TripUpdates_2022_12_07_3.feather\n",
      "File or folder already exists, so skipping task: data (datafolder)\n",
      "File or folder already exists, so skipping task: C:/Users/13490/AppData/Local/pykoda/pykoda/Cache/sl-tripupdates-2022-12-07.bz2 (file)\n"
     ]
    },
    {
     "name": "stderr",
     "output_type": "stream",
     "text": [
      "D:\\lib\\site-packages\\pykoda\\data\\datautils.py:90: RuntimeWarning: The API did not return data for 2022-12-07 02:00:00\n",
      "  warnings.warn(RuntimeWarning(f'The API did not return data for {date_hour}'))\n",
      "D:\\lib\\site-packages\\pykoda\\data\\datautils.py:90: RuntimeWarning: The API did not return data for 2022-12-07 03:00:00\n",
      "  warnings.warn(RuntimeWarning(f'The API did not return data for {date_hour}'))\n",
      "Loading data:  40%|██████████████████████████▏                                       | 124/312 [00:09<00:13, 14.28it/s]D:\\lib\\site-packages\\pykoda\\data\\datautils.py:90: RuntimeWarning: The API did not return data for 2022-12-07 04:00:00\n",
      "  warnings.warn(RuntimeWarning(f'The API did not return data for {date_hour}'))\n",
      "D:\\lib\\site-packages\\pykoda\\data\\datautils.py:90: RuntimeWarning: The API did not return data for 2022-12-07 05:00:00\n",
      "  warnings.warn(RuntimeWarning(f'The API did not return data for {date_hour}'))\n",
      "Loading data:  40%|██████████████████████████▋                                       | 126/312 [00:09<00:13, 13.31it/s]"
     ]
    },
    {
     "name": "stdout",
     "output_type": "stream",
     "text": [
      "System tool failed: Command '['7z', 'e', '-oC:/Users/13490/AppData/Local/pykoda/pykoda/Cache/sl-tripupdates-2022-12-07', 'C:/Users/13490/AppData/Local/pykoda/pykoda/Cache/sl-tripupdates-2022-12-07.bz2']' returned non-zero exit status 255.\n",
      "None\n",
      "Executing python function, producing output(s): C:/Users/13490/AppData/Local/pykoda/pykoda/Cache/sl_TripUpdates_2022_12_07_3.feather.tmp\n",
      "Getting C:/Users/13490/AppData/Local/pykoda/pykoda/Cache/sl_TripUpdates_2022_12_07_4.feather\n",
      "File or folder already exists, so skipping task: data (datafolder)\n",
      "File or folder already exists, so skipping task: C:/Users/13490/AppData/Local/pykoda/pykoda/Cache/sl-tripupdates-2022-12-07.bz2 (file)\n",
      "System tool failed: Command '['7z', 'e', '-oC:/Users/13490/AppData/Local/pykoda/pykoda/Cache/sl-tripupdates-2022-12-07', 'C:/Users/13490/AppData/Local/pykoda/pykoda/Cache/sl-tripupdates-2022-12-07.bz2']' returned non-zero exit status 255.\n",
      "None\n",
      "Executing python function, producing output(s): C:/Users/13490/AppData/Local/pykoda/pykoda/Cache/sl_TripUpdates_2022_12_07_4.feather.tmp\n",
      "Getting C:/Users/13490/AppData/Local/pykoda/pykoda/Cache/sl_TripUpdates_2022_12_07_5.feather\n",
      "File or folder already exists, so skipping task: data (datafolder)\n",
      "File or folder already exists, so skipping task: C:/Users/13490/AppData/Local/pykoda/pykoda/Cache/sl-tripupdates-2022-12-07.bz2 (file)\n",
      "System tool failed: Command '['7z', 'e', '-oC:/Users/13490/AppData/Local/pykoda/pykoda/Cache/sl-tripupdates-2022-12-07', 'C:/Users/13490/AppData/Local/pykoda/pykoda/Cache/sl-tripupdates-2022-12-07.bz2']' returned non-zero exit status 255.\n",
      "None\n",
      "Executing python function, producing output(s): C:/Users/13490/AppData/Local/pykoda/pykoda/Cache/sl_TripUpdates_2022_12_07_5.feather.tmp\n",
      "Getting C:/Users/13490/AppData/Local/pykoda/pykoda/Cache/sl_TripUpdates_2022_12_07_6.feather\n",
      "File or folder already exists, so skipping task: data (datafolder)\n",
      "File or folder already exists, so skipping task: C:/Users/13490/AppData/Local/pykoda/pykoda/Cache/sl-tripupdates-2022-12-07.bz2 (file)\n"
     ]
    },
    {
     "name": "stderr",
     "output_type": "stream",
     "text": [
      "D:\\lib\\site-packages\\pykoda\\data\\datautils.py:90: RuntimeWarning: The API did not return data for 2022-12-07 06:00:00\n",
      "  warnings.warn(RuntimeWarning(f'The API did not return data for {date_hour}'))\n",
      "D:\\lib\\site-packages\\pykoda\\data\\datautils.py:90: RuntimeWarning: The API did not return data for 2022-12-07 07:00:00\n",
      "  warnings.warn(RuntimeWarning(f'The API did not return data for {date_hour}'))\n",
      "Loading data:  41%|███████████████████████████                                       | 128/312 [00:09<00:13, 13.50it/s]D:\\lib\\site-packages\\pykoda\\data\\datautils.py:90: RuntimeWarning: The API did not return data for 2022-12-07 08:00:00\n",
      "  warnings.warn(RuntimeWarning(f'The API did not return data for {date_hour}'))\n",
      "D:\\lib\\site-packages\\pykoda\\data\\datautils.py:90: RuntimeWarning: The API did not return data for 2022-12-07 09:00:00\n",
      "  warnings.warn(RuntimeWarning(f'The API did not return data for {date_hour}'))\n",
      "Loading data:  42%|███████████████████████████▌                                      | 130/312 [00:09<00:13, 13.68it/s]"
     ]
    },
    {
     "name": "stdout",
     "output_type": "stream",
     "text": [
      "System tool failed: Command '['7z', 'e', '-oC:/Users/13490/AppData/Local/pykoda/pykoda/Cache/sl-tripupdates-2022-12-07', 'C:/Users/13490/AppData/Local/pykoda/pykoda/Cache/sl-tripupdates-2022-12-07.bz2']' returned non-zero exit status 255.\n",
      "None\n",
      "Executing python function, producing output(s): C:/Users/13490/AppData/Local/pykoda/pykoda/Cache/sl_TripUpdates_2022_12_07_6.feather.tmp\n",
      "Getting C:/Users/13490/AppData/Local/pykoda/pykoda/Cache/sl_TripUpdates_2022_12_07_7.feather\n",
      "File or folder already exists, so skipping task: data (datafolder)\n",
      "File or folder already exists, so skipping task: C:/Users/13490/AppData/Local/pykoda/pykoda/Cache/sl-tripupdates-2022-12-07.bz2 (file)\n",
      "System tool failed: Command '['7z', 'e', '-oC:/Users/13490/AppData/Local/pykoda/pykoda/Cache/sl-tripupdates-2022-12-07', 'C:/Users/13490/AppData/Local/pykoda/pykoda/Cache/sl-tripupdates-2022-12-07.bz2']' returned non-zero exit status 255.\n",
      "None\n",
      "Executing python function, producing output(s): C:/Users/13490/AppData/Local/pykoda/pykoda/Cache/sl_TripUpdates_2022_12_07_7.feather.tmp\n",
      "Getting C:/Users/13490/AppData/Local/pykoda/pykoda/Cache/sl_TripUpdates_2022_12_07_8.feather\n",
      "File or folder already exists, so skipping task: data (datafolder)\n",
      "File or folder already exists, so skipping task: C:/Users/13490/AppData/Local/pykoda/pykoda/Cache/sl-tripupdates-2022-12-07.bz2 (file)\n",
      "System tool failed: Command '['7z', 'e', '-oC:/Users/13490/AppData/Local/pykoda/pykoda/Cache/sl-tripupdates-2022-12-07', 'C:/Users/13490/AppData/Local/pykoda/pykoda/Cache/sl-tripupdates-2022-12-07.bz2']' returned non-zero exit status 255.\n",
      "None\n",
      "Executing python function, producing output(s): C:/Users/13490/AppData/Local/pykoda/pykoda/Cache/sl_TripUpdates_2022_12_07_8.feather.tmp\n",
      "Getting C:/Users/13490/AppData/Local/pykoda/pykoda/Cache/sl_TripUpdates_2022_12_07_9.feather\n",
      "File or folder already exists, so skipping task: data (datafolder)\n",
      "File or folder already exists, so skipping task: C:/Users/13490/AppData/Local/pykoda/pykoda/Cache/sl-tripupdates-2022-12-07.bz2 (file)\n",
      "System tool failed: Command '['7z', 'e', '-oC:/Users/13490/AppData/Local/pykoda/pykoda/Cache/sl-tripupdates-2022-12-07', 'C:/Users/13490/AppData/Local/pykoda/pykoda/Cache/sl-tripupdates-2022-12-07.bz2']' returned non-zero exit status 255.\n",
      "None\n",
      "Executing python function, producing output(s): C:/Users/13490/AppData/Local/pykoda/pykoda/Cache/sl_TripUpdates_2022_12_07_9.feather.tmp\n"
     ]
    },
    {
     "name": "stderr",
     "output_type": "stream",
     "text": [
      "D:\\lib\\site-packages\\pykoda\\data\\datautils.py:90: RuntimeWarning: The API did not return data for 2022-12-07 10:00:00\n",
      "  warnings.warn(RuntimeWarning(f'The API did not return data for {date_hour}'))\n",
      "D:\\lib\\site-packages\\pykoda\\data\\datautils.py:90: RuntimeWarning: The API did not return data for 2022-12-07 11:00:00\n",
      "  warnings.warn(RuntimeWarning(f'The API did not return data for {date_hour}'))\n",
      "Loading data:  42%|███████████████████████████▉                                      | 132/312 [00:09<00:12, 13.87it/s]"
     ]
    },
    {
     "name": "stdout",
     "output_type": "stream",
     "text": [
      "Getting C:/Users/13490/AppData/Local/pykoda/pykoda/Cache/sl_TripUpdates_2022_12_07_10.feather\n",
      "File or folder already exists, so skipping task: data (datafolder)\n",
      "File or folder already exists, so skipping task: C:/Users/13490/AppData/Local/pykoda/pykoda/Cache/sl-tripupdates-2022-12-07.bz2 (file)\n",
      "System tool failed: Command '['7z', 'e', '-oC:/Users/13490/AppData/Local/pykoda/pykoda/Cache/sl-tripupdates-2022-12-07', 'C:/Users/13490/AppData/Local/pykoda/pykoda/Cache/sl-tripupdates-2022-12-07.bz2']' returned non-zero exit status 255.\n",
      "None\n",
      "Executing python function, producing output(s): C:/Users/13490/AppData/Local/pykoda/pykoda/Cache/sl_TripUpdates_2022_12_07_10.feather.tmp\n",
      "Getting C:/Users/13490/AppData/Local/pykoda/pykoda/Cache/sl_TripUpdates_2022_12_07_11.feather\n",
      "File or folder already exists, so skipping task: data (datafolder)\n",
      "File or folder already exists, so skipping task: C:/Users/13490/AppData/Local/pykoda/pykoda/Cache/sl-tripupdates-2022-12-07.bz2 (file)\n",
      "System tool failed: Command '['7z', 'e', '-oC:/Users/13490/AppData/Local/pykoda/pykoda/Cache/sl-tripupdates-2022-12-07', 'C:/Users/13490/AppData/Local/pykoda/pykoda/Cache/sl-tripupdates-2022-12-07.bz2']' returned non-zero exit status 255.\n",
      "None\n",
      "Executing python function, producing output(s): C:/Users/13490/AppData/Local/pykoda/pykoda/Cache/sl_TripUpdates_2022_12_07_11.feather.tmp\n",
      "Getting C:/Users/13490/AppData/Local/pykoda/pykoda/Cache/sl_TripUpdates_2022_12_07_12.feather\n",
      "File or folder already exists, so skipping task: data (datafolder)\n",
      "File or folder already exists, so skipping task: C:/Users/13490/AppData/Local/pykoda/pykoda/Cache/sl-tripupdates-2022-12-07.bz2 (file)\n"
     ]
    },
    {
     "name": "stderr",
     "output_type": "stream",
     "text": [
      "D:\\lib\\site-packages\\pykoda\\data\\datautils.py:90: RuntimeWarning: The API did not return data for 2022-12-07 12:00:00\n",
      "  warnings.warn(RuntimeWarning(f'The API did not return data for {date_hour}'))\n",
      "D:\\lib\\site-packages\\pykoda\\data\\datautils.py:90: RuntimeWarning: The API did not return data for 2022-12-07 13:00:00\n",
      "  warnings.warn(RuntimeWarning(f'The API did not return data for {date_hour}'))\n",
      "Loading data:  43%|████████████████████████████▎                                     | 134/312 [00:09<00:12, 13.89it/s]D:\\lib\\site-packages\\pykoda\\data\\datautils.py:90: RuntimeWarning: The API did not return data for 2022-12-07 14:00:00\n",
      "  warnings.warn(RuntimeWarning(f'The API did not return data for {date_hour}'))\n",
      "D:\\lib\\site-packages\\pykoda\\data\\datautils.py:90: RuntimeWarning: The API did not return data for 2022-12-07 15:00:00\n",
      "  warnings.warn(RuntimeWarning(f'The API did not return data for {date_hour}'))\n",
      "Loading data:  44%|████████████████████████████▊                                     | 136/312 [00:09<00:12, 14.02it/s]"
     ]
    },
    {
     "name": "stdout",
     "output_type": "stream",
     "text": [
      "System tool failed: Command '['7z', 'e', '-oC:/Users/13490/AppData/Local/pykoda/pykoda/Cache/sl-tripupdates-2022-12-07', 'C:/Users/13490/AppData/Local/pykoda/pykoda/Cache/sl-tripupdates-2022-12-07.bz2']' returned non-zero exit status 255.\n",
      "None\n",
      "Executing python function, producing output(s): C:/Users/13490/AppData/Local/pykoda/pykoda/Cache/sl_TripUpdates_2022_12_07_12.feather.tmp\n",
      "Getting C:/Users/13490/AppData/Local/pykoda/pykoda/Cache/sl_TripUpdates_2022_12_07_13.feather\n",
      "File or folder already exists, so skipping task: data (datafolder)\n",
      "File or folder already exists, so skipping task: C:/Users/13490/AppData/Local/pykoda/pykoda/Cache/sl-tripupdates-2022-12-07.bz2 (file)\n",
      "System tool failed: Command '['7z', 'e', '-oC:/Users/13490/AppData/Local/pykoda/pykoda/Cache/sl-tripupdates-2022-12-07', 'C:/Users/13490/AppData/Local/pykoda/pykoda/Cache/sl-tripupdates-2022-12-07.bz2']' returned non-zero exit status 255.\n",
      "None\n",
      "Executing python function, producing output(s): C:/Users/13490/AppData/Local/pykoda/pykoda/Cache/sl_TripUpdates_2022_12_07_13.feather.tmp\n",
      "Getting C:/Users/13490/AppData/Local/pykoda/pykoda/Cache/sl_TripUpdates_2022_12_07_14.feather\n",
      "File or folder already exists, so skipping task: data (datafolder)\n",
      "File or folder already exists, so skipping task: C:/Users/13490/AppData/Local/pykoda/pykoda/Cache/sl-tripupdates-2022-12-07.bz2 (file)\n",
      "System tool failed: Command '['7z', 'e', '-oC:/Users/13490/AppData/Local/pykoda/pykoda/Cache/sl-tripupdates-2022-12-07', 'C:/Users/13490/AppData/Local/pykoda/pykoda/Cache/sl-tripupdates-2022-12-07.bz2']' returned non-zero exit status 255.\n",
      "None\n",
      "Executing python function, producing output(s): C:/Users/13490/AppData/Local/pykoda/pykoda/Cache/sl_TripUpdates_2022_12_07_14.feather.tmp\n",
      "Getting C:/Users/13490/AppData/Local/pykoda/pykoda/Cache/sl_TripUpdates_2022_12_07_15.feather\n",
      "File or folder already exists, so skipping task: data (datafolder)\n",
      "File or folder already exists, so skipping task: C:/Users/13490/AppData/Local/pykoda/pykoda/Cache/sl-tripupdates-2022-12-07.bz2 (file)\n",
      "System tool failed: Command '['7z', 'e', '-oC:/Users/13490/AppData/Local/pykoda/pykoda/Cache/sl-tripupdates-2022-12-07', 'C:/Users/13490/AppData/Local/pykoda/pykoda/Cache/sl-tripupdates-2022-12-07.bz2']' returned non-zero exit status 255.\n",
      "None\n",
      "Executing python function, producing output(s): C:/Users/13490/AppData/Local/pykoda/pykoda/Cache/sl_TripUpdates_2022_12_07_15.feather.tmp\n"
     ]
    },
    {
     "name": "stderr",
     "output_type": "stream",
     "text": [
      "D:\\lib\\site-packages\\pykoda\\data\\datautils.py:90: RuntimeWarning: The API did not return data for 2022-12-07 16:00:00\n",
      "  warnings.warn(RuntimeWarning(f'The API did not return data for {date_hour}'))\n",
      "D:\\lib\\site-packages\\pykoda\\data\\datautils.py:90: RuntimeWarning: The API did not return data for 2022-12-07 17:00:00\n",
      "  warnings.warn(RuntimeWarning(f'The API did not return data for {date_hour}'))\n",
      "Loading data:  44%|█████████████████████████████▏                                    | 138/312 [00:10<00:12, 13.62it/s]"
     ]
    },
    {
     "name": "stdout",
     "output_type": "stream",
     "text": [
      "Getting C:/Users/13490/AppData/Local/pykoda/pykoda/Cache/sl_TripUpdates_2022_12_07_16.feather\n",
      "File or folder already exists, so skipping task: data (datafolder)\n",
      "File or folder already exists, so skipping task: C:/Users/13490/AppData/Local/pykoda/pykoda/Cache/sl-tripupdates-2022-12-07.bz2 (file)\n",
      "System tool failed: Command '['7z', 'e', '-oC:/Users/13490/AppData/Local/pykoda/pykoda/Cache/sl-tripupdates-2022-12-07', 'C:/Users/13490/AppData/Local/pykoda/pykoda/Cache/sl-tripupdates-2022-12-07.bz2']' returned non-zero exit status 255.\n",
      "None\n",
      "Executing python function, producing output(s): C:/Users/13490/AppData/Local/pykoda/pykoda/Cache/sl_TripUpdates_2022_12_07_16.feather.tmp\n",
      "Getting C:/Users/13490/AppData/Local/pykoda/pykoda/Cache/sl_TripUpdates_2022_12_07_17.feather\n",
      "File or folder already exists, so skipping task: data (datafolder)\n",
      "File or folder already exists, so skipping task: C:/Users/13490/AppData/Local/pykoda/pykoda/Cache/sl-tripupdates-2022-12-07.bz2 (file)\n",
      "System tool failed: Command '['7z', 'e', '-oC:/Users/13490/AppData/Local/pykoda/pykoda/Cache/sl-tripupdates-2022-12-07', 'C:/Users/13490/AppData/Local/pykoda/pykoda/Cache/sl-tripupdates-2022-12-07.bz2']' returned non-zero exit status 255.\n",
      "None\n",
      "Executing python function, producing output(s): C:/Users/13490/AppData/Local/pykoda/pykoda/Cache/sl_TripUpdates_2022_12_07_17.feather.tmp\n",
      "Getting C:/Users/13490/AppData/Local/pykoda/pykoda/Cache/sl_TripUpdates_2022_12_07_18.feather\n",
      "File or folder already exists, so skipping task: data (datafolder)\n",
      "File or folder already exists, so skipping task: C:/Users/13490/AppData/Local/pykoda/pykoda/Cache/sl-tripupdates-2022-12-07.bz2 (file)\n"
     ]
    },
    {
     "name": "stderr",
     "output_type": "stream",
     "text": [
      "D:\\lib\\site-packages\\pykoda\\data\\datautils.py:90: RuntimeWarning: The API did not return data for 2022-12-07 18:00:00\n",
      "  warnings.warn(RuntimeWarning(f'The API did not return data for {date_hour}'))\n",
      "D:\\lib\\site-packages\\pykoda\\data\\datautils.py:90: RuntimeWarning: The API did not return data for 2022-12-07 19:00:00\n",
      "  warnings.warn(RuntimeWarning(f'The API did not return data for {date_hour}'))\n",
      "Loading data:  45%|█████████████████████████████▌                                    | 140/312 [00:10<00:12, 13.63it/s]"
     ]
    },
    {
     "name": "stdout",
     "output_type": "stream",
     "text": [
      "System tool failed: Command '['7z', 'e', '-oC:/Users/13490/AppData/Local/pykoda/pykoda/Cache/sl-tripupdates-2022-12-07', 'C:/Users/13490/AppData/Local/pykoda/pykoda/Cache/sl-tripupdates-2022-12-07.bz2']' returned non-zero exit status 255.\n",
      "None\n",
      "Executing python function, producing output(s): C:/Users/13490/AppData/Local/pykoda/pykoda/Cache/sl_TripUpdates_2022_12_07_18.feather.tmp\n",
      "Getting C:/Users/13490/AppData/Local/pykoda/pykoda/Cache/sl_TripUpdates_2022_12_07_19.feather\n",
      "File or folder already exists, so skipping task: data (datafolder)\n",
      "File or folder already exists, so skipping task: C:/Users/13490/AppData/Local/pykoda/pykoda/Cache/sl-tripupdates-2022-12-07.bz2 (file)\n",
      "System tool failed: Command '['7z', 'e', '-oC:/Users/13490/AppData/Local/pykoda/pykoda/Cache/sl-tripupdates-2022-12-07', 'C:/Users/13490/AppData/Local/pykoda/pykoda/Cache/sl-tripupdates-2022-12-07.bz2']' returned non-zero exit status 255.\n",
      "None\n",
      "Executing python function, producing output(s): C:/Users/13490/AppData/Local/pykoda/pykoda/Cache/sl_TripUpdates_2022_12_07_19.feather.tmp\n",
      "Getting C:/Users/13490/AppData/Local/pykoda/pykoda/Cache/sl_TripUpdates_2022_12_07_20.feather\n",
      "File or folder already exists, so skipping task: data (datafolder)\n",
      "File or folder already exists, so skipping task: C:/Users/13490/AppData/Local/pykoda/pykoda/Cache/sl-tripupdates-2022-12-07.bz2 (file)\n",
      "System tool failed: Command '['7z', 'e', '-oC:/Users/13490/AppData/Local/pykoda/pykoda/Cache/sl-tripupdates-2022-12-07', 'C:/Users/13490/AppData/Local/pykoda/pykoda/Cache/sl-tripupdates-2022-12-07.bz2']' returned non-zero exit status 255.\n",
      "None\n",
      "Executing python function, producing output(s): C:/Users/13490/AppData/Local/pykoda/pykoda/Cache/sl_TripUpdates_2022_12_07_20.feather.tmp\n",
      "Getting C:/Users/13490/AppData/Local/pykoda/pykoda/Cache/sl_TripUpdates_2022_12_07_21.feather\n",
      "File or folder already exists, so skipping task: data (datafolder)\n",
      "File or folder already exists, so skipping task: C:/Users/13490/AppData/Local/pykoda/pykoda/Cache/sl-tripupdates-2022-12-07.bz2 (file)\n"
     ]
    },
    {
     "name": "stderr",
     "output_type": "stream",
     "text": [
      "D:\\lib\\site-packages\\pykoda\\data\\datautils.py:90: RuntimeWarning: The API did not return data for 2022-12-07 20:00:00\n",
      "  warnings.warn(RuntimeWarning(f'The API did not return data for {date_hour}'))\n",
      "D:\\lib\\site-packages\\pykoda\\data\\datautils.py:90: RuntimeWarning: The API did not return data for 2022-12-07 21:00:00\n",
      "  warnings.warn(RuntimeWarning(f'The API did not return data for {date_hour}'))\n",
      "Loading data:  46%|██████████████████████████████                                    | 142/312 [00:10<00:12, 13.67it/s]D:\\lib\\site-packages\\pykoda\\data\\datautils.py:90: RuntimeWarning: The API did not return data for 2022-12-07 22:00:00\n",
      "  warnings.warn(RuntimeWarning(f'The API did not return data for {date_hour}'))\n",
      "D:\\lib\\site-packages\\pykoda\\data\\datautils.py:90: RuntimeWarning: The API did not return data for 2022-12-07 23:00:00\n",
      "  warnings.warn(RuntimeWarning(f'The API did not return data for {date_hour}'))\n",
      "Loading data:  46%|██████████████████████████████▍                                   | 144/312 [00:10<00:12, 13.72it/s]"
     ]
    },
    {
     "name": "stdout",
     "output_type": "stream",
     "text": [
      "System tool failed: Command '['7z', 'e', '-oC:/Users/13490/AppData/Local/pykoda/pykoda/Cache/sl-tripupdates-2022-12-07', 'C:/Users/13490/AppData/Local/pykoda/pykoda/Cache/sl-tripupdates-2022-12-07.bz2']' returned non-zero exit status 255.\n",
      "None\n",
      "Executing python function, producing output(s): C:/Users/13490/AppData/Local/pykoda/pykoda/Cache/sl_TripUpdates_2022_12_07_21.feather.tmp\n",
      "Getting C:/Users/13490/AppData/Local/pykoda/pykoda/Cache/sl_TripUpdates_2022_12_07_22.feather\n",
      "File or folder already exists, so skipping task: data (datafolder)\n",
      "File or folder already exists, so skipping task: C:/Users/13490/AppData/Local/pykoda/pykoda/Cache/sl-tripupdates-2022-12-07.bz2 (file)\n",
      "System tool failed: Command '['7z', 'e', '-oC:/Users/13490/AppData/Local/pykoda/pykoda/Cache/sl-tripupdates-2022-12-07', 'C:/Users/13490/AppData/Local/pykoda/pykoda/Cache/sl-tripupdates-2022-12-07.bz2']' returned non-zero exit status 255.\n",
      "None\n",
      "Executing python function, producing output(s): C:/Users/13490/AppData/Local/pykoda/pykoda/Cache/sl_TripUpdates_2022_12_07_22.feather.tmp\n",
      "Getting C:/Users/13490/AppData/Local/pykoda/pykoda/Cache/sl_TripUpdates_2022_12_07_23.feather\n",
      "File or folder already exists, so skipping task: data (datafolder)\n",
      "File or folder already exists, so skipping task: C:/Users/13490/AppData/Local/pykoda/pykoda/Cache/sl-tripupdates-2022-12-07.bz2 (file)\n",
      "System tool failed: Command '['7z', 'e', '-oC:/Users/13490/AppData/Local/pykoda/pykoda/Cache/sl-tripupdates-2022-12-07', 'C:/Users/13490/AppData/Local/pykoda/pykoda/Cache/sl-tripupdates-2022-12-07.bz2']' returned non-zero exit status 255.\n",
      "None\n",
      "Executing python function, producing output(s): C:/Users/13490/AppData/Local/pykoda/pykoda/Cache/sl_TripUpdates_2022_12_07_23.feather.tmp\n"
     ]
    },
    {
     "name": "stderr",
     "output_type": "stream",
     "text": [
      "D:\\lib\\site-packages\\pykoda\\data\\datautils.py:90: RuntimeWarning: The API did not return data for 2022-12-08 01:00:00\n",
      "  warnings.warn(RuntimeWarning(f'The API did not return data for {date_hour}'))\n",
      "Loading data:  47%|██████████████████████████████▉                                   | 146/312 [00:10<00:12, 13.72it/s]"
     ]
    },
    {
     "name": "stdout",
     "output_type": "stream",
     "text": [
      "Getting C:/Users/13490/AppData/Local/pykoda/pykoda/Cache/sl_TripUpdates_2022_12_08_1.feather\n",
      "File or folder already exists, so skipping task: data (datafolder)\n",
      "File or folder already exists, so skipping task: C:/Users/13490/AppData/Local/pykoda/pykoda/Cache/sl-tripupdates-2022-12-08.bz2 (file)\n",
      "System tool failed: Command '['7z', 'e', '-oC:/Users/13490/AppData/Local/pykoda/pykoda/Cache/sl-tripupdates-2022-12-08', 'C:/Users/13490/AppData/Local/pykoda/pykoda/Cache/sl-tripupdates-2022-12-08.bz2']' returned non-zero exit status 255.\n",
      "None\n",
      "Executing python function, producing output(s): C:/Users/13490/AppData/Local/pykoda/pykoda/Cache/sl_TripUpdates_2022_12_08_1.feather.tmp\n",
      "Getting C:/Users/13490/AppData/Local/pykoda/pykoda/Cache/sl_TripUpdates_2022_12_08_2.feather\n",
      "File or folder already exists, so skipping task: data (datafolder)\n",
      "File or folder already exists, so skipping task: C:/Users/13490/AppData/Local/pykoda/pykoda/Cache/sl-tripupdates-2022-12-08.bz2 (file)\n",
      "System tool failed: Command '['7z', 'e', '-oC:/Users/13490/AppData/Local/pykoda/pykoda/Cache/sl-tripupdates-2022-12-08', 'C:/Users/13490/AppData/Local/pykoda/pykoda/Cache/sl-tripupdates-2022-12-08.bz2']' returned non-zero exit status 255.\n",
      "None\n",
      "Executing python function, producing output(s): C:/Users/13490/AppData/Local/pykoda/pykoda/Cache/sl_TripUpdates_2022_12_08_2.feather.tmp\n",
      "Getting C:/Users/13490/AppData/Local/pykoda/pykoda/Cache/sl_TripUpdates_2022_12_08_3.feather\n",
      "File or folder already exists, so skipping task: data (datafolder)\n",
      "File or folder already exists, so skipping task: C:/Users/13490/AppData/Local/pykoda/pykoda/Cache/sl-tripupdates-2022-12-08.bz2 (file)\n"
     ]
    },
    {
     "name": "stderr",
     "output_type": "stream",
     "text": [
      "D:\\lib\\site-packages\\pykoda\\data\\datautils.py:90: RuntimeWarning: The API did not return data for 2022-12-08 02:00:00\n",
      "  warnings.warn(RuntimeWarning(f'The API did not return data for {date_hour}'))\n",
      "D:\\lib\\site-packages\\pykoda\\data\\datautils.py:90: RuntimeWarning: The API did not return data for 2022-12-08 03:00:00\n",
      "  warnings.warn(RuntimeWarning(f'The API did not return data for {date_hour}'))\n",
      "Loading data:  47%|███████████████████████████████▎                                  | 148/312 [00:10<00:11, 13.77it/s]D:\\lib\\site-packages\\pykoda\\data\\datautils.py:90: RuntimeWarning: The API did not return data for 2022-12-08 04:00:00\n",
      "  warnings.warn(RuntimeWarning(f'The API did not return data for {date_hour}'))\n",
      "D:\\lib\\site-packages\\pykoda\\data\\datautils.py:90: RuntimeWarning: The API did not return data for 2022-12-08 05:00:00\n",
      "  warnings.warn(RuntimeWarning(f'The API did not return data for {date_hour}'))\n",
      "Loading data:  48%|███████████████████████████████▋                                  | 150/312 [00:10<00:11, 13.66it/s]"
     ]
    },
    {
     "name": "stdout",
     "output_type": "stream",
     "text": [
      "System tool failed: Command '['7z', 'e', '-oC:/Users/13490/AppData/Local/pykoda/pykoda/Cache/sl-tripupdates-2022-12-08', 'C:/Users/13490/AppData/Local/pykoda/pykoda/Cache/sl-tripupdates-2022-12-08.bz2']' returned non-zero exit status 255.\n",
      "None\n",
      "Executing python function, producing output(s): C:/Users/13490/AppData/Local/pykoda/pykoda/Cache/sl_TripUpdates_2022_12_08_3.feather.tmp\n",
      "Getting C:/Users/13490/AppData/Local/pykoda/pykoda/Cache/sl_TripUpdates_2022_12_08_4.feather\n",
      "File or folder already exists, so skipping task: data (datafolder)\n",
      "File or folder already exists, so skipping task: C:/Users/13490/AppData/Local/pykoda/pykoda/Cache/sl-tripupdates-2022-12-08.bz2 (file)\n",
      "System tool failed: Command '['7z', 'e', '-oC:/Users/13490/AppData/Local/pykoda/pykoda/Cache/sl-tripupdates-2022-12-08', 'C:/Users/13490/AppData/Local/pykoda/pykoda/Cache/sl-tripupdates-2022-12-08.bz2']' returned non-zero exit status 255.\n",
      "None\n",
      "Executing python function, producing output(s): C:/Users/13490/AppData/Local/pykoda/pykoda/Cache/sl_TripUpdates_2022_12_08_4.feather.tmp\n",
      "Getting C:/Users/13490/AppData/Local/pykoda/pykoda/Cache/sl_TripUpdates_2022_12_08_5.feather\n",
      "File or folder already exists, so skipping task: data (datafolder)\n",
      "File or folder already exists, so skipping task: C:/Users/13490/AppData/Local/pykoda/pykoda/Cache/sl-tripupdates-2022-12-08.bz2 (file)\n",
      "System tool failed: Command '['7z', 'e', '-oC:/Users/13490/AppData/Local/pykoda/pykoda/Cache/sl-tripupdates-2022-12-08', 'C:/Users/13490/AppData/Local/pykoda/pykoda/Cache/sl-tripupdates-2022-12-08.bz2']' returned non-zero exit status 255.\n",
      "None\n",
      "Executing python function, producing output(s): C:/Users/13490/AppData/Local/pykoda/pykoda/Cache/sl_TripUpdates_2022_12_08_5.feather.tmp\n",
      "Getting C:/Users/13490/AppData/Local/pykoda/pykoda/Cache/sl_TripUpdates_2022_12_08_6.feather\n",
      "File or folder already exists, so skipping task: data (datafolder)\n",
      "File or folder already exists, so skipping task: C:/Users/13490/AppData/Local/pykoda/pykoda/Cache/sl-tripupdates-2022-12-08.bz2 (file)\n"
     ]
    },
    {
     "name": "stderr",
     "output_type": "stream",
     "text": [
      "D:\\lib\\site-packages\\pykoda\\data\\datautils.py:90: RuntimeWarning: The API did not return data for 2022-12-08 06:00:00\n",
      "  warnings.warn(RuntimeWarning(f'The API did not return data for {date_hour}'))\n",
      "D:\\lib\\site-packages\\pykoda\\data\\datautils.py:90: RuntimeWarning: The API did not return data for 2022-12-08 07:00:00\n",
      "  warnings.warn(RuntimeWarning(f'The API did not return data for {date_hour}'))\n",
      "Loading data:  49%|████████████████████████████████▏                                 | 152/312 [00:11<00:11, 13.74it/s]"
     ]
    },
    {
     "name": "stdout",
     "output_type": "stream",
     "text": [
      "System tool failed: Command '['7z', 'e', '-oC:/Users/13490/AppData/Local/pykoda/pykoda/Cache/sl-tripupdates-2022-12-08', 'C:/Users/13490/AppData/Local/pykoda/pykoda/Cache/sl-tripupdates-2022-12-08.bz2']' returned non-zero exit status 255.\n",
      "None\n",
      "Executing python function, producing output(s): C:/Users/13490/AppData/Local/pykoda/pykoda/Cache/sl_TripUpdates_2022_12_08_6.feather.tmp\n",
      "Getting C:/Users/13490/AppData/Local/pykoda/pykoda/Cache/sl_TripUpdates_2022_12_08_7.feather\n",
      "File or folder already exists, so skipping task: data (datafolder)\n",
      "File or folder already exists, so skipping task: C:/Users/13490/AppData/Local/pykoda/pykoda/Cache/sl-tripupdates-2022-12-08.bz2 (file)\n",
      "System tool failed: Command '['7z', 'e', '-oC:/Users/13490/AppData/Local/pykoda/pykoda/Cache/sl-tripupdates-2022-12-08', 'C:/Users/13490/AppData/Local/pykoda/pykoda/Cache/sl-tripupdates-2022-12-08.bz2']' returned non-zero exit status 255.\n",
      "None\n",
      "Executing python function, producing output(s): C:/Users/13490/AppData/Local/pykoda/pykoda/Cache/sl_TripUpdates_2022_12_08_7.feather.tmp\n",
      "Getting C:/Users/13490/AppData/Local/pykoda/pykoda/Cache/sl_TripUpdates_2022_12_08_8.feather\n",
      "File or folder already exists, so skipping task: data (datafolder)\n",
      "File or folder already exists, so skipping task: C:/Users/13490/AppData/Local/pykoda/pykoda/Cache/sl-tripupdates-2022-12-08.bz2 (file)\n",
      "System tool failed: Command '['7z', 'e', '-oC:/Users/13490/AppData/Local/pykoda/pykoda/Cache/sl-tripupdates-2022-12-08', 'C:/Users/13490/AppData/Local/pykoda/pykoda/Cache/sl-tripupdates-2022-12-08.bz2']' returned non-zero exit status 255.\n",
      "None\n",
      "Executing python function, producing output(s): C:/Users/13490/AppData/Local/pykoda/pykoda/Cache/sl_TripUpdates_2022_12_08_8.feather.tmp\n",
      "Getting C:/Users/13490/AppData/Local/pykoda/pykoda/Cache/sl_TripUpdates_2022_12_08_9.feather\n",
      "File or folder already exists, so skipping task: data (datafolder)\n",
      "File or folder already exists, so skipping task: C:/Users/13490/AppData/Local/pykoda/pykoda/Cache/sl-tripupdates-2022-12-08.bz2 (file)\n"
     ]
    },
    {
     "name": "stderr",
     "output_type": "stream",
     "text": [
      "D:\\lib\\site-packages\\pykoda\\data\\datautils.py:90: RuntimeWarning: The API did not return data for 2022-12-08 08:00:00\n",
      "  warnings.warn(RuntimeWarning(f'The API did not return data for {date_hour}'))\n",
      "D:\\lib\\site-packages\\pykoda\\data\\datautils.py:90: RuntimeWarning: The API did not return data for 2022-12-08 09:00:00\n",
      "  warnings.warn(RuntimeWarning(f'The API did not return data for {date_hour}'))\n",
      "Loading data:  49%|████████████████████████████████▌                                 | 154/312 [00:11<00:12, 12.98it/s]D:\\lib\\site-packages\\pykoda\\data\\datautils.py:90: RuntimeWarning: The API did not return data for 2022-12-08 10:00:00\n",
      "  warnings.warn(RuntimeWarning(f'The API did not return data for {date_hour}'))\n",
      "D:\\lib\\site-packages\\pykoda\\data\\datautils.py:90: RuntimeWarning: The API did not return data for 2022-12-08 11:00:00\n",
      "  warnings.warn(RuntimeWarning(f'The API did not return data for {date_hour}'))\n",
      "Loading data:  50%|█████████████████████████████████                                 | 156/312 [00:11<00:12, 12.54it/s]"
     ]
    },
    {
     "name": "stdout",
     "output_type": "stream",
     "text": [
      "System tool failed: Command '['7z', 'e', '-oC:/Users/13490/AppData/Local/pykoda/pykoda/Cache/sl-tripupdates-2022-12-08', 'C:/Users/13490/AppData/Local/pykoda/pykoda/Cache/sl-tripupdates-2022-12-08.bz2']' returned non-zero exit status 255.\n",
      "None\n",
      "Executing python function, producing output(s): C:/Users/13490/AppData/Local/pykoda/pykoda/Cache/sl_TripUpdates_2022_12_08_9.feather.tmp\n",
      "Getting C:/Users/13490/AppData/Local/pykoda/pykoda/Cache/sl_TripUpdates_2022_12_08_10.feather\n",
      "File or folder already exists, so skipping task: data (datafolder)\n",
      "File or folder already exists, so skipping task: C:/Users/13490/AppData/Local/pykoda/pykoda/Cache/sl-tripupdates-2022-12-08.bz2 (file)\n",
      "System tool failed: Command '['7z', 'e', '-oC:/Users/13490/AppData/Local/pykoda/pykoda/Cache/sl-tripupdates-2022-12-08', 'C:/Users/13490/AppData/Local/pykoda/pykoda/Cache/sl-tripupdates-2022-12-08.bz2']' returned non-zero exit status 255.\n",
      "None\n",
      "Executing python function, producing output(s): C:/Users/13490/AppData/Local/pykoda/pykoda/Cache/sl_TripUpdates_2022_12_08_10.feather.tmp\n",
      "Getting C:/Users/13490/AppData/Local/pykoda/pykoda/Cache/sl_TripUpdates_2022_12_08_11.feather\n",
      "File or folder already exists, so skipping task: data (datafolder)\n",
      "File or folder already exists, so skipping task: C:/Users/13490/AppData/Local/pykoda/pykoda/Cache/sl-tripupdates-2022-12-08.bz2 (file)\n",
      "System tool failed: Command '['7z', 'e', '-oC:/Users/13490/AppData/Local/pykoda/pykoda/Cache/sl-tripupdates-2022-12-08', 'C:/Users/13490/AppData/Local/pykoda/pykoda/Cache/sl-tripupdates-2022-12-08.bz2']' returned non-zero exit status 255.\n",
      "None\n",
      "Executing python function, producing output(s): C:/Users/13490/AppData/Local/pykoda/pykoda/Cache/sl_TripUpdates_2022_12_08_11.feather.tmp\n",
      "Getting C:/Users/13490/AppData/Local/pykoda/pykoda/Cache/sl_TripUpdates_2022_12_08_12.feather\n",
      "File or folder already exists, so skipping task: data (datafolder)\n",
      "File or folder already exists, so skipping task: C:/Users/13490/AppData/Local/pykoda/pykoda/Cache/sl-tripupdates-2022-12-08.bz2 (file)\n"
     ]
    },
    {
     "name": "stderr",
     "output_type": "stream",
     "text": [
      "D:\\lib\\site-packages\\pykoda\\data\\datautils.py:90: RuntimeWarning: The API did not return data for 2022-12-08 12:00:00\n",
      "  warnings.warn(RuntimeWarning(f'The API did not return data for {date_hour}'))\n",
      "D:\\lib\\site-packages\\pykoda\\data\\datautils.py:90: RuntimeWarning: The API did not return data for 2022-12-08 13:00:00\n",
      "  warnings.warn(RuntimeWarning(f'The API did not return data for {date_hour}'))\n",
      "Loading data:  51%|█████████████████████████████████▍                                | 158/312 [00:11<00:11, 13.08it/s]"
     ]
    },
    {
     "name": "stdout",
     "output_type": "stream",
     "text": [
      "System tool failed: Command '['7z', 'e', '-oC:/Users/13490/AppData/Local/pykoda/pykoda/Cache/sl-tripupdates-2022-12-08', 'C:/Users/13490/AppData/Local/pykoda/pykoda/Cache/sl-tripupdates-2022-12-08.bz2']' returned non-zero exit status 255.\n",
      "None\n",
      "Executing python function, producing output(s): C:/Users/13490/AppData/Local/pykoda/pykoda/Cache/sl_TripUpdates_2022_12_08_12.feather.tmp\n",
      "Getting C:/Users/13490/AppData/Local/pykoda/pykoda/Cache/sl_TripUpdates_2022_12_08_13.feather\n",
      "File or folder already exists, so skipping task: data (datafolder)\n",
      "File or folder already exists, so skipping task: C:/Users/13490/AppData/Local/pykoda/pykoda/Cache/sl-tripupdates-2022-12-08.bz2 (file)\n",
      "System tool failed: Command '['7z', 'e', '-oC:/Users/13490/AppData/Local/pykoda/pykoda/Cache/sl-tripupdates-2022-12-08', 'C:/Users/13490/AppData/Local/pykoda/pykoda/Cache/sl-tripupdates-2022-12-08.bz2']' returned non-zero exit status 255.\n",
      "None\n",
      "Executing python function, producing output(s): C:/Users/13490/AppData/Local/pykoda/pykoda/Cache/sl_TripUpdates_2022_12_08_13.feather.tmp\n",
      "Getting C:/Users/13490/AppData/Local/pykoda/pykoda/Cache/sl_TripUpdates_2022_12_08_14.feather\n",
      "File or folder already exists, so skipping task: data (datafolder)\n",
      "File or folder already exists, so skipping task: C:/Users/13490/AppData/Local/pykoda/pykoda/Cache/sl-tripupdates-2022-12-08.bz2 (file)\n",
      "System tool failed: Command '['7z', 'e', '-oC:/Users/13490/AppData/Local/pykoda/pykoda/Cache/sl-tripupdates-2022-12-08', 'C:/Users/13490/AppData/Local/pykoda/pykoda/Cache/sl-tripupdates-2022-12-08.bz2']' returned non-zero exit status 255.\n",
      "None\n",
      "Executing python function, producing output(s): C:/Users/13490/AppData/Local/pykoda/pykoda/Cache/sl_TripUpdates_2022_12_08_14.feather.tmp\n",
      "Getting C:/Users/13490/AppData/Local/pykoda/pykoda/Cache/sl_TripUpdates_2022_12_08_15.feather\n",
      "File or folder already exists, so skipping task: data (datafolder)\n",
      "File or folder already exists, so skipping task: C:/Users/13490/AppData/Local/pykoda/pykoda/Cache/sl-tripupdates-2022-12-08.bz2 (file)\n"
     ]
    },
    {
     "name": "stderr",
     "output_type": "stream",
     "text": [
      "D:\\lib\\site-packages\\pykoda\\data\\datautils.py:90: RuntimeWarning: The API did not return data for 2022-12-08 14:00:00\n",
      "  warnings.warn(RuntimeWarning(f'The API did not return data for {date_hour}'))\n",
      "D:\\lib\\site-packages\\pykoda\\data\\datautils.py:90: RuntimeWarning: The API did not return data for 2022-12-08 15:00:00\n",
      "  warnings.warn(RuntimeWarning(f'The API did not return data for {date_hour}'))\n",
      "Loading data:  51%|█████████████████████████████████▊                                | 160/312 [00:11<00:11, 13.17it/s]D:\\lib\\site-packages\\pykoda\\data\\datautils.py:90: RuntimeWarning: The API did not return data for 2022-12-08 16:00:00\n",
      "  warnings.warn(RuntimeWarning(f'The API did not return data for {date_hour}'))\n",
      "D:\\lib\\site-packages\\pykoda\\data\\datautils.py:90: RuntimeWarning: The API did not return data for 2022-12-08 17:00:00\n",
      "  warnings.warn(RuntimeWarning(f'The API did not return data for {date_hour}'))\n",
      "Loading data:  52%|██████████████████████████████████▎                               | 162/312 [00:11<00:11, 13.39it/s]"
     ]
    },
    {
     "name": "stdout",
     "output_type": "stream",
     "text": [
      "System tool failed: Command '['7z', 'e', '-oC:/Users/13490/AppData/Local/pykoda/pykoda/Cache/sl-tripupdates-2022-12-08', 'C:/Users/13490/AppData/Local/pykoda/pykoda/Cache/sl-tripupdates-2022-12-08.bz2']' returned non-zero exit status 255.\n",
      "None\n",
      "Executing python function, producing output(s): C:/Users/13490/AppData/Local/pykoda/pykoda/Cache/sl_TripUpdates_2022_12_08_15.feather.tmp\n",
      "Getting C:/Users/13490/AppData/Local/pykoda/pykoda/Cache/sl_TripUpdates_2022_12_08_16.feather\n",
      "File or folder already exists, so skipping task: data (datafolder)\n",
      "File or folder already exists, so skipping task: C:/Users/13490/AppData/Local/pykoda/pykoda/Cache/sl-tripupdates-2022-12-08.bz2 (file)\n",
      "System tool failed: Command '['7z', 'e', '-oC:/Users/13490/AppData/Local/pykoda/pykoda/Cache/sl-tripupdates-2022-12-08', 'C:/Users/13490/AppData/Local/pykoda/pykoda/Cache/sl-tripupdates-2022-12-08.bz2']' returned non-zero exit status 255.\n",
      "None\n",
      "Executing python function, producing output(s): C:/Users/13490/AppData/Local/pykoda/pykoda/Cache/sl_TripUpdates_2022_12_08_16.feather.tmp\n",
      "Getting C:/Users/13490/AppData/Local/pykoda/pykoda/Cache/sl_TripUpdates_2022_12_08_17.feather\n",
      "File or folder already exists, so skipping task: data (datafolder)\n",
      "File or folder already exists, so skipping task: C:/Users/13490/AppData/Local/pykoda/pykoda/Cache/sl-tripupdates-2022-12-08.bz2 (file)\n",
      "System tool failed: Command '['7z', 'e', '-oC:/Users/13490/AppData/Local/pykoda/pykoda/Cache/sl-tripupdates-2022-12-08', 'C:/Users/13490/AppData/Local/pykoda/pykoda/Cache/sl-tripupdates-2022-12-08.bz2']' returned non-zero exit status 255.\n",
      "None\n",
      "Executing python function, producing output(s): C:/Users/13490/AppData/Local/pykoda/pykoda/Cache/sl_TripUpdates_2022_12_08_17.feather.tmp\n",
      "Getting C:/Users/13490/AppData/Local/pykoda/pykoda/Cache/sl_TripUpdates_2022_12_08_18.feather\n",
      "File or folder already exists, so skipping task: data (datafolder)\n",
      "File or folder already exists, so skipping task: C:/Users/13490/AppData/Local/pykoda/pykoda/Cache/sl-tripupdates-2022-12-08.bz2 (file)\n"
     ]
    },
    {
     "name": "stderr",
     "output_type": "stream",
     "text": [
      "D:\\lib\\site-packages\\pykoda\\data\\datautils.py:90: RuntimeWarning: The API did not return data for 2022-12-08 18:00:00\n",
      "  warnings.warn(RuntimeWarning(f'The API did not return data for {date_hour}'))\n",
      "D:\\lib\\site-packages\\pykoda\\data\\datautils.py:90: RuntimeWarning: The API did not return data for 2022-12-08 19:00:00\n",
      "  warnings.warn(RuntimeWarning(f'The API did not return data for {date_hour}'))\n",
      "Loading data:  53%|██████████████████████████████████▋                               | 164/312 [00:11<00:10, 13.61it/s]"
     ]
    },
    {
     "name": "stdout",
     "output_type": "stream",
     "text": [
      "System tool failed: Command '['7z', 'e', '-oC:/Users/13490/AppData/Local/pykoda/pykoda/Cache/sl-tripupdates-2022-12-08', 'C:/Users/13490/AppData/Local/pykoda/pykoda/Cache/sl-tripupdates-2022-12-08.bz2']' returned non-zero exit status 255.\n",
      "None\n",
      "Executing python function, producing output(s): C:/Users/13490/AppData/Local/pykoda/pykoda/Cache/sl_TripUpdates_2022_12_08_18.feather.tmp\n",
      "Getting C:/Users/13490/AppData/Local/pykoda/pykoda/Cache/sl_TripUpdates_2022_12_08_19.feather\n",
      "File or folder already exists, so skipping task: data (datafolder)\n",
      "File or folder already exists, so skipping task: C:/Users/13490/AppData/Local/pykoda/pykoda/Cache/sl-tripupdates-2022-12-08.bz2 (file)\n",
      "System tool failed: Command '['7z', 'e', '-oC:/Users/13490/AppData/Local/pykoda/pykoda/Cache/sl-tripupdates-2022-12-08', 'C:/Users/13490/AppData/Local/pykoda/pykoda/Cache/sl-tripupdates-2022-12-08.bz2']' returned non-zero exit status 255.\n",
      "None\n",
      "Executing python function, producing output(s): C:/Users/13490/AppData/Local/pykoda/pykoda/Cache/sl_TripUpdates_2022_12_08_19.feather.tmp\n",
      "Getting C:/Users/13490/AppData/Local/pykoda/pykoda/Cache/sl_TripUpdates_2022_12_08_20.feather\n",
      "File or folder already exists, so skipping task: data (datafolder)\n",
      "File or folder already exists, so skipping task: C:/Users/13490/AppData/Local/pykoda/pykoda/Cache/sl-tripupdates-2022-12-08.bz2 (file)\n",
      "System tool failed: Command '['7z', 'e', '-oC:/Users/13490/AppData/Local/pykoda/pykoda/Cache/sl-tripupdates-2022-12-08', 'C:/Users/13490/AppData/Local/pykoda/pykoda/Cache/sl-tripupdates-2022-12-08.bz2']' returned non-zero exit status 255.\n",
      "None\n",
      "Executing python function, producing output(s): C:/Users/13490/AppData/Local/pykoda/pykoda/Cache/sl_TripUpdates_2022_12_08_20.feather.tmp\n",
      "Getting C:/Users/13490/AppData/Local/pykoda/pykoda/Cache/sl_TripUpdates_2022_12_08_21.feather\n",
      "File or folder already exists, so skipping task: data (datafolder)\n",
      "File or folder already exists, so skipping task: C:/Users/13490/AppData/Local/pykoda/pykoda/Cache/sl-tripupdates-2022-12-08.bz2 (file)\n"
     ]
    },
    {
     "name": "stderr",
     "output_type": "stream",
     "text": [
      "D:\\lib\\site-packages\\pykoda\\data\\datautils.py:90: RuntimeWarning: The API did not return data for 2022-12-08 20:00:00\n",
      "  warnings.warn(RuntimeWarning(f'The API did not return data for {date_hour}'))\n",
      "D:\\lib\\site-packages\\pykoda\\data\\datautils.py:90: RuntimeWarning: The API did not return data for 2022-12-08 21:00:00\n",
      "  warnings.warn(RuntimeWarning(f'The API did not return data for {date_hour}'))\n",
      "Loading data:  53%|███████████████████████████████████                               | 166/312 [00:12<00:10, 13.55it/s]D:\\lib\\site-packages\\pykoda\\data\\datautils.py:90: RuntimeWarning: The API did not return data for 2022-12-08 22:00:00\n",
      "  warnings.warn(RuntimeWarning(f'The API did not return data for {date_hour}'))\n",
      "D:\\lib\\site-packages\\pykoda\\data\\datautils.py:90: RuntimeWarning: The API did not return data for 2022-12-08 23:00:00\n",
      "  warnings.warn(RuntimeWarning(f'The API did not return data for {date_hour}'))\n",
      "Loading data:  54%|███████████████████████████████████▌                              | 168/312 [00:12<00:10, 13.74it/s]"
     ]
    },
    {
     "name": "stdout",
     "output_type": "stream",
     "text": [
      "System tool failed: Command '['7z', 'e', '-oC:/Users/13490/AppData/Local/pykoda/pykoda/Cache/sl-tripupdates-2022-12-08', 'C:/Users/13490/AppData/Local/pykoda/pykoda/Cache/sl-tripupdates-2022-12-08.bz2']' returned non-zero exit status 255.\n",
      "None\n",
      "Executing python function, producing output(s): C:/Users/13490/AppData/Local/pykoda/pykoda/Cache/sl_TripUpdates_2022_12_08_21.feather.tmp\n",
      "Getting C:/Users/13490/AppData/Local/pykoda/pykoda/Cache/sl_TripUpdates_2022_12_08_22.feather\n",
      "File or folder already exists, so skipping task: data (datafolder)\n",
      "File or folder already exists, so skipping task: C:/Users/13490/AppData/Local/pykoda/pykoda/Cache/sl-tripupdates-2022-12-08.bz2 (file)\n",
      "System tool failed: Command '['7z', 'e', '-oC:/Users/13490/AppData/Local/pykoda/pykoda/Cache/sl-tripupdates-2022-12-08', 'C:/Users/13490/AppData/Local/pykoda/pykoda/Cache/sl-tripupdates-2022-12-08.bz2']' returned non-zero exit status 255.\n",
      "None\n",
      "Executing python function, producing output(s): C:/Users/13490/AppData/Local/pykoda/pykoda/Cache/sl_TripUpdates_2022_12_08_22.feather.tmp\n",
      "Getting C:/Users/13490/AppData/Local/pykoda/pykoda/Cache/sl_TripUpdates_2022_12_08_23.feather\n",
      "File or folder already exists, so skipping task: data (datafolder)\n",
      "File or folder already exists, so skipping task: C:/Users/13490/AppData/Local/pykoda/pykoda/Cache/sl-tripupdates-2022-12-08.bz2 (file)\n",
      "System tool failed: Command '['7z', 'e', '-oC:/Users/13490/AppData/Local/pykoda/pykoda/Cache/sl-tripupdates-2022-12-08', 'C:/Users/13490/AppData/Local/pykoda/pykoda/Cache/sl-tripupdates-2022-12-08.bz2']' returned non-zero exit status 255.\n",
      "None\n",
      "Executing python function, producing output(s): C:/Users/13490/AppData/Local/pykoda/pykoda/Cache/sl_TripUpdates_2022_12_08_23.feather.tmp\n",
      "Getting C:/Users/13490/AppData/Local/pykoda/pykoda/Cache/sl_TripUpdates_2022_12_09_1.feather\n",
      "File or folder already exists, so skipping task: data (datafolder)\n",
      "File or folder already exists, so skipping task: C:/Users/13490/AppData/Local/pykoda/pykoda/Cache/sl-tripupdates-2022-12-09.bz2 (file)\n"
     ]
    },
    {
     "name": "stderr",
     "output_type": "stream",
     "text": [
      "D:\\lib\\site-packages\\pykoda\\data\\datautils.py:90: RuntimeWarning: The API did not return data for 2022-12-09 01:00:00\n",
      "  warnings.warn(RuntimeWarning(f'The API did not return data for {date_hour}'))\n",
      "Loading data:  54%|███████████████████████████████████▉                              | 170/312 [00:12<00:10, 13.87it/s]D:\\lib\\site-packages\\pykoda\\data\\datautils.py:90: RuntimeWarning: The API did not return data for 2022-12-09 02:00:00\n",
      "  warnings.warn(RuntimeWarning(f'The API did not return data for {date_hour}'))\n",
      "D:\\lib\\site-packages\\pykoda\\data\\datautils.py:90: RuntimeWarning: The API did not return data for 2022-12-09 03:00:00\n",
      "  warnings.warn(RuntimeWarning(f'The API did not return data for {date_hour}'))\n",
      "Loading data:  55%|████████████████████████████████████▍                             | 172/312 [00:12<00:10, 13.91it/s]"
     ]
    },
    {
     "name": "stdout",
     "output_type": "stream",
     "text": [
      "System tool failed: Command '['7z', 'e', '-oC:/Users/13490/AppData/Local/pykoda/pykoda/Cache/sl-tripupdates-2022-12-09', 'C:/Users/13490/AppData/Local/pykoda/pykoda/Cache/sl-tripupdates-2022-12-09.bz2']' returned non-zero exit status 255.\n",
      "None\n",
      "Executing python function, producing output(s): C:/Users/13490/AppData/Local/pykoda/pykoda/Cache/sl_TripUpdates_2022_12_09_1.feather.tmp\n",
      "Getting C:/Users/13490/AppData/Local/pykoda/pykoda/Cache/sl_TripUpdates_2022_12_09_2.feather\n",
      "File or folder already exists, so skipping task: data (datafolder)\n",
      "File or folder already exists, so skipping task: C:/Users/13490/AppData/Local/pykoda/pykoda/Cache/sl-tripupdates-2022-12-09.bz2 (file)\n",
      "System tool failed: Command '['7z', 'e', '-oC:/Users/13490/AppData/Local/pykoda/pykoda/Cache/sl-tripupdates-2022-12-09', 'C:/Users/13490/AppData/Local/pykoda/pykoda/Cache/sl-tripupdates-2022-12-09.bz2']' returned non-zero exit status 255.\n",
      "None\n",
      "Executing python function, producing output(s): C:/Users/13490/AppData/Local/pykoda/pykoda/Cache/sl_TripUpdates_2022_12_09_2.feather.tmp\n",
      "Getting C:/Users/13490/AppData/Local/pykoda/pykoda/Cache/sl_TripUpdates_2022_12_09_3.feather\n",
      "File or folder already exists, so skipping task: data (datafolder)\n",
      "File or folder already exists, so skipping task: C:/Users/13490/AppData/Local/pykoda/pykoda/Cache/sl-tripupdates-2022-12-09.bz2 (file)\n",
      "System tool failed: Command '['7z', 'e', '-oC:/Users/13490/AppData/Local/pykoda/pykoda/Cache/sl-tripupdates-2022-12-09', 'C:/Users/13490/AppData/Local/pykoda/pykoda/Cache/sl-tripupdates-2022-12-09.bz2']' returned non-zero exit status 255.\n",
      "None\n",
      "Executing python function, producing output(s): C:/Users/13490/AppData/Local/pykoda/pykoda/Cache/sl_TripUpdates_2022_12_09_3.feather.tmp\n",
      "Getting C:/Users/13490/AppData/Local/pykoda/pykoda/Cache/sl_TripUpdates_2022_12_09_4.feather\n",
      "File or folder already exists, so skipping task: data (datafolder)\n",
      "File or folder already exists, so skipping task: C:/Users/13490/AppData/Local/pykoda/pykoda/Cache/sl-tripupdates-2022-12-09.bz2 (file)\n"
     ]
    },
    {
     "name": "stderr",
     "output_type": "stream",
     "text": [
      "D:\\lib\\site-packages\\pykoda\\data\\datautils.py:90: RuntimeWarning: The API did not return data for 2022-12-09 04:00:00\n",
      "  warnings.warn(RuntimeWarning(f'The API did not return data for {date_hour}'))\n",
      "D:\\lib\\site-packages\\pykoda\\data\\datautils.py:90: RuntimeWarning: The API did not return data for 2022-12-09 05:00:00\n",
      "  warnings.warn(RuntimeWarning(f'The API did not return data for {date_hour}'))\n",
      "Loading data:  56%|████████████████████████████████████▊                             | 174/312 [00:12<00:10, 13.57it/s]"
     ]
    },
    {
     "name": "stdout",
     "output_type": "stream",
     "text": [
      "System tool failed: Command '['7z', 'e', '-oC:/Users/13490/AppData/Local/pykoda/pykoda/Cache/sl-tripupdates-2022-12-09', 'C:/Users/13490/AppData/Local/pykoda/pykoda/Cache/sl-tripupdates-2022-12-09.bz2']' returned non-zero exit status 255.\n",
      "None\n",
      "Executing python function, producing output(s): C:/Users/13490/AppData/Local/pykoda/pykoda/Cache/sl_TripUpdates_2022_12_09_4.feather.tmp\n",
      "Getting C:/Users/13490/AppData/Local/pykoda/pykoda/Cache/sl_TripUpdates_2022_12_09_5.feather\n",
      "File or folder already exists, so skipping task: data (datafolder)\n",
      "File or folder already exists, so skipping task: C:/Users/13490/AppData/Local/pykoda/pykoda/Cache/sl-tripupdates-2022-12-09.bz2 (file)\n",
      "System tool failed: Command '['7z', 'e', '-oC:/Users/13490/AppData/Local/pykoda/pykoda/Cache/sl-tripupdates-2022-12-09', 'C:/Users/13490/AppData/Local/pykoda/pykoda/Cache/sl-tripupdates-2022-12-09.bz2']' returned non-zero exit status 255.\n",
      "None\n",
      "Executing python function, producing output(s): C:/Users/13490/AppData/Local/pykoda/pykoda/Cache/sl_TripUpdates_2022_12_09_5.feather.tmp\n",
      "Getting C:/Users/13490/AppData/Local/pykoda/pykoda/Cache/sl_TripUpdates_2022_12_09_6.feather\n",
      "File or folder already exists, so skipping task: data (datafolder)\n",
      "File or folder already exists, so skipping task: C:/Users/13490/AppData/Local/pykoda/pykoda/Cache/sl-tripupdates-2022-12-09.bz2 (file)\n",
      "System tool failed: Command '['7z', 'e', '-oC:/Users/13490/AppData/Local/pykoda/pykoda/Cache/sl-tripupdates-2022-12-09', 'C:/Users/13490/AppData/Local/pykoda/pykoda/Cache/sl-tripupdates-2022-12-09.bz2']' returned non-zero exit status 255.\n",
      "None\n",
      "Executing python function, producing output(s): C:/Users/13490/AppData/Local/pykoda/pykoda/Cache/sl_TripUpdates_2022_12_09_6.feather.tmp\n",
      "Getting C:/Users/13490/AppData/Local/pykoda/pykoda/Cache/sl_TripUpdates_2022_12_09_7.feather\n",
      "File or folder already exists, so skipping task: data (datafolder)\n",
      "File or folder already exists, so skipping task: C:/Users/13490/AppData/Local/pykoda/pykoda/Cache/sl-tripupdates-2022-12-09.bz2 (file)\n"
     ]
    },
    {
     "name": "stderr",
     "output_type": "stream",
     "text": [
      "D:\\lib\\site-packages\\pykoda\\data\\datautils.py:90: RuntimeWarning: The API did not return data for 2022-12-09 06:00:00\n",
      "  warnings.warn(RuntimeWarning(f'The API did not return data for {date_hour}'))\n",
      "D:\\lib\\site-packages\\pykoda\\data\\datautils.py:90: RuntimeWarning: The API did not return data for 2022-12-09 07:00:00\n",
      "  warnings.warn(RuntimeWarning(f'The API did not return data for {date_hour}'))\n",
      "Loading data:  56%|█████████████████████████████████████▏                            | 176/312 [00:12<00:09, 13.62it/s]D:\\lib\\site-packages\\pykoda\\data\\datautils.py:90: RuntimeWarning: The API did not return data for 2022-12-09 08:00:00\n",
      "  warnings.warn(RuntimeWarning(f'The API did not return data for {date_hour}'))\n",
      "D:\\lib\\site-packages\\pykoda\\data\\datautils.py:90: RuntimeWarning: The API did not return data for 2022-12-09 09:00:00\n",
      "  warnings.warn(RuntimeWarning(f'The API did not return data for {date_hour}'))\n",
      "Loading data:  57%|█████████████████████████████████████▋                            | 178/312 [00:13<00:09, 13.53it/s]"
     ]
    },
    {
     "name": "stdout",
     "output_type": "stream",
     "text": [
      "System tool failed: Command '['7z', 'e', '-oC:/Users/13490/AppData/Local/pykoda/pykoda/Cache/sl-tripupdates-2022-12-09', 'C:/Users/13490/AppData/Local/pykoda/pykoda/Cache/sl-tripupdates-2022-12-09.bz2']' returned non-zero exit status 255.\n",
      "None\n",
      "Executing python function, producing output(s): C:/Users/13490/AppData/Local/pykoda/pykoda/Cache/sl_TripUpdates_2022_12_09_7.feather.tmp\n",
      "Getting C:/Users/13490/AppData/Local/pykoda/pykoda/Cache/sl_TripUpdates_2022_12_09_8.feather\n",
      "File or folder already exists, so skipping task: data (datafolder)\n",
      "File or folder already exists, so skipping task: C:/Users/13490/AppData/Local/pykoda/pykoda/Cache/sl-tripupdates-2022-12-09.bz2 (file)\n",
      "System tool failed: Command '['7z', 'e', '-oC:/Users/13490/AppData/Local/pykoda/pykoda/Cache/sl-tripupdates-2022-12-09', 'C:/Users/13490/AppData/Local/pykoda/pykoda/Cache/sl-tripupdates-2022-12-09.bz2']' returned non-zero exit status 255.\n",
      "None\n",
      "Executing python function, producing output(s): C:/Users/13490/AppData/Local/pykoda/pykoda/Cache/sl_TripUpdates_2022_12_09_8.feather.tmp\n",
      "Getting C:/Users/13490/AppData/Local/pykoda/pykoda/Cache/sl_TripUpdates_2022_12_09_9.feather\n",
      "File or folder already exists, so skipping task: data (datafolder)\n",
      "File or folder already exists, so skipping task: C:/Users/13490/AppData/Local/pykoda/pykoda/Cache/sl-tripupdates-2022-12-09.bz2 (file)\n",
      "System tool failed: Command '['7z', 'e', '-oC:/Users/13490/AppData/Local/pykoda/pykoda/Cache/sl-tripupdates-2022-12-09', 'C:/Users/13490/AppData/Local/pykoda/pykoda/Cache/sl-tripupdates-2022-12-09.bz2']' returned non-zero exit status 255.\n",
      "None\n",
      "Executing python function, producing output(s): C:/Users/13490/AppData/Local/pykoda/pykoda/Cache/sl_TripUpdates_2022_12_09_9.feather.tmp\n",
      "Getting C:/Users/13490/AppData/Local/pykoda/pykoda/Cache/sl_TripUpdates_2022_12_09_10.feather\n",
      "File or folder already exists, so skipping task: data (datafolder)\n",
      "File or folder already exists, so skipping task: C:/Users/13490/AppData/Local/pykoda/pykoda/Cache/sl-tripupdates-2022-12-09.bz2 (file)\n"
     ]
    },
    {
     "name": "stderr",
     "output_type": "stream",
     "text": [
      "D:\\lib\\site-packages\\pykoda\\data\\datautils.py:90: RuntimeWarning: The API did not return data for 2022-12-09 10:00:00\n",
      "  warnings.warn(RuntimeWarning(f'The API did not return data for {date_hour}'))\n",
      "D:\\lib\\site-packages\\pykoda\\data\\datautils.py:90: RuntimeWarning: The API did not return data for 2022-12-09 11:00:00\n",
      "  warnings.warn(RuntimeWarning(f'The API did not return data for {date_hour}'))\n",
      "Loading data:  58%|██████████████████████████████████████                            | 180/312 [00:13<00:09, 13.37it/s]"
     ]
    },
    {
     "name": "stdout",
     "output_type": "stream",
     "text": [
      "System tool failed: Command '['7z', 'e', '-oC:/Users/13490/AppData/Local/pykoda/pykoda/Cache/sl-tripupdates-2022-12-09', 'C:/Users/13490/AppData/Local/pykoda/pykoda/Cache/sl-tripupdates-2022-12-09.bz2']' returned non-zero exit status 255.\n",
      "None\n",
      "Executing python function, producing output(s): C:/Users/13490/AppData/Local/pykoda/pykoda/Cache/sl_TripUpdates_2022_12_09_10.feather.tmp\n",
      "Getting C:/Users/13490/AppData/Local/pykoda/pykoda/Cache/sl_TripUpdates_2022_12_09_11.feather\n",
      "File or folder already exists, so skipping task: data (datafolder)\n",
      "File or folder already exists, so skipping task: C:/Users/13490/AppData/Local/pykoda/pykoda/Cache/sl-tripupdates-2022-12-09.bz2 (file)\n",
      "System tool failed: Command '['7z', 'e', '-oC:/Users/13490/AppData/Local/pykoda/pykoda/Cache/sl-tripupdates-2022-12-09', 'C:/Users/13490/AppData/Local/pykoda/pykoda/Cache/sl-tripupdates-2022-12-09.bz2']' returned non-zero exit status 255.\n",
      "None\n",
      "Executing python function, producing output(s): C:/Users/13490/AppData/Local/pykoda/pykoda/Cache/sl_TripUpdates_2022_12_09_11.feather.tmp\n",
      "Getting C:/Users/13490/AppData/Local/pykoda/pykoda/Cache/sl_TripUpdates_2022_12_09_12.feather\n",
      "File or folder already exists, so skipping task: data (datafolder)\n",
      "File or folder already exists, so skipping task: C:/Users/13490/AppData/Local/pykoda/pykoda/Cache/sl-tripupdates-2022-12-09.bz2 (file)\n",
      "System tool failed: Command '['7z', 'e', '-oC:/Users/13490/AppData/Local/pykoda/pykoda/Cache/sl-tripupdates-2022-12-09', 'C:/Users/13490/AppData/Local/pykoda/pykoda/Cache/sl-tripupdates-2022-12-09.bz2']' returned non-zero exit status 255.\n",
      "None\n",
      "Executing python function, producing output(s): C:/Users/13490/AppData/Local/pykoda/pykoda/Cache/sl_TripUpdates_2022_12_09_12.feather.tmp\n",
      "Getting C:/Users/13490/AppData/Local/pykoda/pykoda/Cache/sl_TripUpdates_2022_12_09_13.feather\n",
      "File or folder already exists, so skipping task: data (datafolder)\n",
      "File or folder already exists, so skipping task: C:/Users/13490/AppData/Local/pykoda/pykoda/Cache/sl-tripupdates-2022-12-09.bz2 (file)\n"
     ]
    },
    {
     "name": "stderr",
     "output_type": "stream",
     "text": [
      "D:\\lib\\site-packages\\pykoda\\data\\datautils.py:90: RuntimeWarning: The API did not return data for 2022-12-09 12:00:00\n",
      "  warnings.warn(RuntimeWarning(f'The API did not return data for {date_hour}'))\n",
      "D:\\lib\\site-packages\\pykoda\\data\\datautils.py:90: RuntimeWarning: The API did not return data for 2022-12-09 13:00:00\n",
      "  warnings.warn(RuntimeWarning(f'The API did not return data for {date_hour}'))\n",
      "Loading data:  58%|██████████████████████████████████████▌                           | 182/312 [00:13<00:09, 13.46it/s]D:\\lib\\site-packages\\pykoda\\data\\datautils.py:90: RuntimeWarning: The API did not return data for 2022-12-09 14:00:00\n",
      "  warnings.warn(RuntimeWarning(f'The API did not return data for {date_hour}'))\n",
      "D:\\lib\\site-packages\\pykoda\\data\\datautils.py:90: RuntimeWarning: The API did not return data for 2022-12-09 15:00:00\n",
      "  warnings.warn(RuntimeWarning(f'The API did not return data for {date_hour}'))\n",
      "Loading data:  59%|██████████████████████████████████████▉                           | 184/312 [00:13<00:09, 13.61it/s]"
     ]
    },
    {
     "name": "stdout",
     "output_type": "stream",
     "text": [
      "System tool failed: Command '['7z', 'e', '-oC:/Users/13490/AppData/Local/pykoda/pykoda/Cache/sl-tripupdates-2022-12-09', 'C:/Users/13490/AppData/Local/pykoda/pykoda/Cache/sl-tripupdates-2022-12-09.bz2']' returned non-zero exit status 255.\n",
      "None\n",
      "Executing python function, producing output(s): C:/Users/13490/AppData/Local/pykoda/pykoda/Cache/sl_TripUpdates_2022_12_09_13.feather.tmp\n",
      "Getting C:/Users/13490/AppData/Local/pykoda/pykoda/Cache/sl_TripUpdates_2022_12_09_14.feather\n",
      "File or folder already exists, so skipping task: data (datafolder)\n",
      "File or folder already exists, so skipping task: C:/Users/13490/AppData/Local/pykoda/pykoda/Cache/sl-tripupdates-2022-12-09.bz2 (file)\n",
      "System tool failed: Command '['7z', 'e', '-oC:/Users/13490/AppData/Local/pykoda/pykoda/Cache/sl-tripupdates-2022-12-09', 'C:/Users/13490/AppData/Local/pykoda/pykoda/Cache/sl-tripupdates-2022-12-09.bz2']' returned non-zero exit status 255.\n",
      "None\n",
      "Executing python function, producing output(s): C:/Users/13490/AppData/Local/pykoda/pykoda/Cache/sl_TripUpdates_2022_12_09_14.feather.tmp\n",
      "Getting C:/Users/13490/AppData/Local/pykoda/pykoda/Cache/sl_TripUpdates_2022_12_09_15.feather\n",
      "File or folder already exists, so skipping task: data (datafolder)\n",
      "File or folder already exists, so skipping task: C:/Users/13490/AppData/Local/pykoda/pykoda/Cache/sl-tripupdates-2022-12-09.bz2 (file)\n",
      "System tool failed: Command '['7z', 'e', '-oC:/Users/13490/AppData/Local/pykoda/pykoda/Cache/sl-tripupdates-2022-12-09', 'C:/Users/13490/AppData/Local/pykoda/pykoda/Cache/sl-tripupdates-2022-12-09.bz2']' returned non-zero exit status 255.\n",
      "None\n",
      "Executing python function, producing output(s): C:/Users/13490/AppData/Local/pykoda/pykoda/Cache/sl_TripUpdates_2022_12_09_15.feather.tmp\n",
      "Getting C:/Users/13490/AppData/Local/pykoda/pykoda/Cache/sl_TripUpdates_2022_12_09_16.feather\n",
      "File or folder already exists, so skipping task: data (datafolder)\n",
      "File or folder already exists, so skipping task: C:/Users/13490/AppData/Local/pykoda/pykoda/Cache/sl-tripupdates-2022-12-09.bz2 (file)\n"
     ]
    },
    {
     "name": "stderr",
     "output_type": "stream",
     "text": [
      "D:\\lib\\site-packages\\pykoda\\data\\datautils.py:90: RuntimeWarning: The API did not return data for 2022-12-09 16:00:00\n",
      "  warnings.warn(RuntimeWarning(f'The API did not return data for {date_hour}'))\n",
      "D:\\lib\\site-packages\\pykoda\\data\\datautils.py:90: RuntimeWarning: The API did not return data for 2022-12-09 17:00:00\n",
      "  warnings.warn(RuntimeWarning(f'The API did not return data for {date_hour}'))\n",
      "Loading data:  60%|███████████████████████████████████████▎                          | 186/312 [00:13<00:09, 13.79it/s]"
     ]
    },
    {
     "name": "stdout",
     "output_type": "stream",
     "text": [
      "System tool failed: Command '['7z', 'e', '-oC:/Users/13490/AppData/Local/pykoda/pykoda/Cache/sl-tripupdates-2022-12-09', 'C:/Users/13490/AppData/Local/pykoda/pykoda/Cache/sl-tripupdates-2022-12-09.bz2']' returned non-zero exit status 255.\n",
      "None\n",
      "Executing python function, producing output(s): C:/Users/13490/AppData/Local/pykoda/pykoda/Cache/sl_TripUpdates_2022_12_09_16.feather.tmp\n",
      "Getting C:/Users/13490/AppData/Local/pykoda/pykoda/Cache/sl_TripUpdates_2022_12_09_17.feather\n",
      "File or folder already exists, so skipping task: data (datafolder)\n",
      "File or folder already exists, so skipping task: C:/Users/13490/AppData/Local/pykoda/pykoda/Cache/sl-tripupdates-2022-12-09.bz2 (file)\n",
      "System tool failed: Command '['7z', 'e', '-oC:/Users/13490/AppData/Local/pykoda/pykoda/Cache/sl-tripupdates-2022-12-09', 'C:/Users/13490/AppData/Local/pykoda/pykoda/Cache/sl-tripupdates-2022-12-09.bz2']' returned non-zero exit status 255.\n",
      "None\n",
      "Executing python function, producing output(s): C:/Users/13490/AppData/Local/pykoda/pykoda/Cache/sl_TripUpdates_2022_12_09_17.feather.tmp\n",
      "Getting C:/Users/13490/AppData/Local/pykoda/pykoda/Cache/sl_TripUpdates_2022_12_09_18.feather\n",
      "File or folder already exists, so skipping task: data (datafolder)\n",
      "File or folder already exists, so skipping task: C:/Users/13490/AppData/Local/pykoda/pykoda/Cache/sl-tripupdates-2022-12-09.bz2 (file)\n",
      "System tool failed: Command '['7z', 'e', '-oC:/Users/13490/AppData/Local/pykoda/pykoda/Cache/sl-tripupdates-2022-12-09', 'C:/Users/13490/AppData/Local/pykoda/pykoda/Cache/sl-tripupdates-2022-12-09.bz2']' returned non-zero exit status 255.\n",
      "None\n",
      "Executing python function, producing output(s): C:/Users/13490/AppData/Local/pykoda/pykoda/Cache/sl_TripUpdates_2022_12_09_18.feather.tmp\n",
      "Getting C:/Users/13490/AppData/Local/pykoda/pykoda/Cache/sl_TripUpdates_2022_12_09_19.feather\n",
      "File or folder already exists, so skipping task: data (datafolder)\n",
      "File or folder already exists, so skipping task: C:/Users/13490/AppData/Local/pykoda/pykoda/Cache/sl-tripupdates-2022-12-09.bz2 (file)\n"
     ]
    },
    {
     "name": "stderr",
     "output_type": "stream",
     "text": [
      "D:\\lib\\site-packages\\pykoda\\data\\datautils.py:90: RuntimeWarning: The API did not return data for 2022-12-09 18:00:00\n",
      "  warnings.warn(RuntimeWarning(f'The API did not return data for {date_hour}'))\n",
      "D:\\lib\\site-packages\\pykoda\\data\\datautils.py:90: RuntimeWarning: The API did not return data for 2022-12-09 19:00:00\n",
      "  warnings.warn(RuntimeWarning(f'The API did not return data for {date_hour}'))\n",
      "Loading data:  60%|███████████████████████████████████████▊                          | 188/312 [00:13<00:08, 13.89it/s]D:\\lib\\site-packages\\pykoda\\data\\datautils.py:90: RuntimeWarning: The API did not return data for 2022-12-09 20:00:00\n",
      "  warnings.warn(RuntimeWarning(f'The API did not return data for {date_hour}'))\n",
      "D:\\lib\\site-packages\\pykoda\\data\\datautils.py:90: RuntimeWarning: The API did not return data for 2022-12-09 21:00:00\n",
      "  warnings.warn(RuntimeWarning(f'The API did not return data for {date_hour}'))\n",
      "Loading data:  61%|████████████████████████████████████████▏                         | 190/312 [00:13<00:08, 13.98it/s]"
     ]
    },
    {
     "name": "stdout",
     "output_type": "stream",
     "text": [
      "System tool failed: Command '['7z', 'e', '-oC:/Users/13490/AppData/Local/pykoda/pykoda/Cache/sl-tripupdates-2022-12-09', 'C:/Users/13490/AppData/Local/pykoda/pykoda/Cache/sl-tripupdates-2022-12-09.bz2']' returned non-zero exit status 255.\n",
      "None\n",
      "Executing python function, producing output(s): C:/Users/13490/AppData/Local/pykoda/pykoda/Cache/sl_TripUpdates_2022_12_09_19.feather.tmp\n",
      "Getting C:/Users/13490/AppData/Local/pykoda/pykoda/Cache/sl_TripUpdates_2022_12_09_20.feather\n",
      "File or folder already exists, so skipping task: data (datafolder)\n",
      "File or folder already exists, so skipping task: C:/Users/13490/AppData/Local/pykoda/pykoda/Cache/sl-tripupdates-2022-12-09.bz2 (file)\n",
      "System tool failed: Command '['7z', 'e', '-oC:/Users/13490/AppData/Local/pykoda/pykoda/Cache/sl-tripupdates-2022-12-09', 'C:/Users/13490/AppData/Local/pykoda/pykoda/Cache/sl-tripupdates-2022-12-09.bz2']' returned non-zero exit status 255.\n",
      "None\n",
      "Executing python function, producing output(s): C:/Users/13490/AppData/Local/pykoda/pykoda/Cache/sl_TripUpdates_2022_12_09_20.feather.tmp\n",
      "Getting C:/Users/13490/AppData/Local/pykoda/pykoda/Cache/sl_TripUpdates_2022_12_09_21.feather\n",
      "File or folder already exists, so skipping task: data (datafolder)\n",
      "File or folder already exists, so skipping task: C:/Users/13490/AppData/Local/pykoda/pykoda/Cache/sl-tripupdates-2022-12-09.bz2 (file)\n",
      "System tool failed: Command '['7z', 'e', '-oC:/Users/13490/AppData/Local/pykoda/pykoda/Cache/sl-tripupdates-2022-12-09', 'C:/Users/13490/AppData/Local/pykoda/pykoda/Cache/sl-tripupdates-2022-12-09.bz2']' returned non-zero exit status 255.\n",
      "None\n",
      "Executing python function, producing output(s): C:/Users/13490/AppData/Local/pykoda/pykoda/Cache/sl_TripUpdates_2022_12_09_21.feather.tmp\n",
      "Getting C:/Users/13490/AppData/Local/pykoda/pykoda/Cache/sl_TripUpdates_2022_12_09_22.feather\n",
      "File or folder already exists, so skipping task: data (datafolder)\n",
      "File or folder already exists, so skipping task: C:/Users/13490/AppData/Local/pykoda/pykoda/Cache/sl-tripupdates-2022-12-09.bz2 (file)\n"
     ]
    },
    {
     "name": "stderr",
     "output_type": "stream",
     "text": [
      "D:\\lib\\site-packages\\pykoda\\data\\datautils.py:90: RuntimeWarning: The API did not return data for 2022-12-09 22:00:00\n",
      "  warnings.warn(RuntimeWarning(f'The API did not return data for {date_hour}'))\n",
      "D:\\lib\\site-packages\\pykoda\\data\\datautils.py:90: RuntimeWarning: The API did not return data for 2022-12-09 23:00:00\n",
      "  warnings.warn(RuntimeWarning(f'The API did not return data for {date_hour}'))\n",
      "Loading data:  62%|████████████████████████████████████████▌                         | 192/312 [00:14<00:08, 14.02it/s]"
     ]
    },
    {
     "name": "stdout",
     "output_type": "stream",
     "text": [
      "System tool failed: Command '['7z', 'e', '-oC:/Users/13490/AppData/Local/pykoda/pykoda/Cache/sl-tripupdates-2022-12-09', 'C:/Users/13490/AppData/Local/pykoda/pykoda/Cache/sl-tripupdates-2022-12-09.bz2']' returned non-zero exit status 255.\n",
      "None\n",
      "Executing python function, producing output(s): C:/Users/13490/AppData/Local/pykoda/pykoda/Cache/sl_TripUpdates_2022_12_09_22.feather.tmp\n",
      "Getting C:/Users/13490/AppData/Local/pykoda/pykoda/Cache/sl_TripUpdates_2022_12_09_23.feather\n",
      "File or folder already exists, so skipping task: data (datafolder)\n",
      "File or folder already exists, so skipping task: C:/Users/13490/AppData/Local/pykoda/pykoda/Cache/sl-tripupdates-2022-12-09.bz2 (file)\n",
      "System tool failed: Command '['7z', 'e', '-oC:/Users/13490/AppData/Local/pykoda/pykoda/Cache/sl-tripupdates-2022-12-09', 'C:/Users/13490/AppData/Local/pykoda/pykoda/Cache/sl-tripupdates-2022-12-09.bz2']' returned non-zero exit status 255.\n",
      "None\n",
      "Executing python function, producing output(s): C:/Users/13490/AppData/Local/pykoda/pykoda/Cache/sl_TripUpdates_2022_12_09_23.feather.tmp\n",
      "Getting C:/Users/13490/AppData/Local/pykoda/pykoda/Cache/sl_TripUpdates_2022_12_10_0.feather\n",
      "File or folder already exists, so skipping task: data (datafolder)\n",
      "File or folder already exists, so skipping task: C:/Users/13490/AppData/Local/pykoda/pykoda/Cache/sl-tripupdates-2022-12-10.bz2 (file)\n",
      "System tool failed: Command '['7z', 'e', '-oC:/Users/13490/AppData/Local/pykoda/pykoda/Cache/sl-tripupdates-2022-12-10', 'C:/Users/13490/AppData/Local/pykoda/pykoda/Cache/sl-tripupdates-2022-12-10.bz2']' returned non-zero exit status 255.\n",
      "None\n",
      "Executing python function, producing output(s): C:/Users/13490/AppData/Local/pykoda/pykoda/Cache/sl_TripUpdates_2022_12_10_0.feather.tmp\n",
      "Getting C:/Users/13490/AppData/Local/pykoda/pykoda/Cache/sl_TripUpdates_2022_12_10_1.feather\n",
      "File or folder already exists, so skipping task: data (datafolder)\n",
      "File or folder already exists, so skipping task: C:/Users/13490/AppData/Local/pykoda/pykoda/Cache/sl-tripupdates-2022-12-10.bz2 (file)\n"
     ]
    },
    {
     "name": "stderr",
     "output_type": "stream",
     "text": [
      "D:\\lib\\site-packages\\pykoda\\data\\datautils.py:90: RuntimeWarning: The API did not return data for 2022-12-10 00:00:00\n",
      "  warnings.warn(RuntimeWarning(f'The API did not return data for {date_hour}'))\n",
      "D:\\lib\\site-packages\\pykoda\\data\\datautils.py:90: RuntimeWarning: The API did not return data for 2022-12-10 01:00:00\n",
      "  warnings.warn(RuntimeWarning(f'The API did not return data for {date_hour}'))\n",
      "Loading data:  62%|█████████████████████████████████████████                         | 194/312 [00:14<00:08, 13.87it/s]D:\\lib\\site-packages\\pykoda\\data\\datautils.py:90: RuntimeWarning: The API did not return data for 2022-12-10 02:00:00\n",
      "  warnings.warn(RuntimeWarning(f'The API did not return data for {date_hour}'))\n",
      "D:\\lib\\site-packages\\pykoda\\data\\datautils.py:90: RuntimeWarning: The API did not return data for 2022-12-10 03:00:00\n",
      "  warnings.warn(RuntimeWarning(f'The API did not return data for {date_hour}'))\n",
      "Loading data:  63%|█████████████████████████████████████████▍                        | 196/312 [00:14<00:08, 13.25it/s]"
     ]
    },
    {
     "name": "stdout",
     "output_type": "stream",
     "text": [
      "System tool failed: Command '['7z', 'e', '-oC:/Users/13490/AppData/Local/pykoda/pykoda/Cache/sl-tripupdates-2022-12-10', 'C:/Users/13490/AppData/Local/pykoda/pykoda/Cache/sl-tripupdates-2022-12-10.bz2']' returned non-zero exit status 255.\n",
      "None\n",
      "Executing python function, producing output(s): C:/Users/13490/AppData/Local/pykoda/pykoda/Cache/sl_TripUpdates_2022_12_10_1.feather.tmp\n",
      "Getting C:/Users/13490/AppData/Local/pykoda/pykoda/Cache/sl_TripUpdates_2022_12_10_2.feather\n",
      "File or folder already exists, so skipping task: data (datafolder)\n",
      "File or folder already exists, so skipping task: C:/Users/13490/AppData/Local/pykoda/pykoda/Cache/sl-tripupdates-2022-12-10.bz2 (file)\n",
      "System tool failed: Command '['7z', 'e', '-oC:/Users/13490/AppData/Local/pykoda/pykoda/Cache/sl-tripupdates-2022-12-10', 'C:/Users/13490/AppData/Local/pykoda/pykoda/Cache/sl-tripupdates-2022-12-10.bz2']' returned non-zero exit status 255.\n",
      "None\n",
      "Executing python function, producing output(s): C:/Users/13490/AppData/Local/pykoda/pykoda/Cache/sl_TripUpdates_2022_12_10_2.feather.tmp\n",
      "Getting C:/Users/13490/AppData/Local/pykoda/pykoda/Cache/sl_TripUpdates_2022_12_10_3.feather\n",
      "File or folder already exists, so skipping task: data (datafolder)\n",
      "File or folder already exists, so skipping task: C:/Users/13490/AppData/Local/pykoda/pykoda/Cache/sl-tripupdates-2022-12-10.bz2 (file)\n",
      "System tool failed: Command '['7z', 'e', '-oC:/Users/13490/AppData/Local/pykoda/pykoda/Cache/sl-tripupdates-2022-12-10', 'C:/Users/13490/AppData/Local/pykoda/pykoda/Cache/sl-tripupdates-2022-12-10.bz2']' returned non-zero exit status 255.\n",
      "None\n",
      "Executing python function, producing output(s): C:/Users/13490/AppData/Local/pykoda/pykoda/Cache/sl_TripUpdates_2022_12_10_3.feather.tmp\n",
      "Getting C:/Users/13490/AppData/Local/pykoda/pykoda/Cache/sl_TripUpdates_2022_12_10_4.feather\n",
      "File or folder already exists, so skipping task: data (datafolder)\n",
      "File or folder already exists, so skipping task: C:/Users/13490/AppData/Local/pykoda/pykoda/Cache/sl-tripupdates-2022-12-10.bz2 (file)\n"
     ]
    },
    {
     "name": "stderr",
     "output_type": "stream",
     "text": [
      "D:\\lib\\site-packages\\pykoda\\data\\datautils.py:90: RuntimeWarning: The API did not return data for 2022-12-10 04:00:00\n",
      "  warnings.warn(RuntimeWarning(f'The API did not return data for {date_hour}'))\n",
      "D:\\lib\\site-packages\\pykoda\\data\\datautils.py:90: RuntimeWarning: The API did not return data for 2022-12-10 05:00:00\n",
      "  warnings.warn(RuntimeWarning(f'The API did not return data for {date_hour}'))\n",
      "Loading data:  63%|█████████████████████████████████████████▉                        | 198/312 [00:14<00:08, 13.37it/s]"
     ]
    },
    {
     "name": "stdout",
     "output_type": "stream",
     "text": [
      "System tool failed: Command '['7z', 'e', '-oC:/Users/13490/AppData/Local/pykoda/pykoda/Cache/sl-tripupdates-2022-12-10', 'C:/Users/13490/AppData/Local/pykoda/pykoda/Cache/sl-tripupdates-2022-12-10.bz2']' returned non-zero exit status 255.\n",
      "None\n",
      "Executing python function, producing output(s): C:/Users/13490/AppData/Local/pykoda/pykoda/Cache/sl_TripUpdates_2022_12_10_4.feather.tmp\n",
      "Getting C:/Users/13490/AppData/Local/pykoda/pykoda/Cache/sl_TripUpdates_2022_12_10_5.feather\n",
      "File or folder already exists, so skipping task: data (datafolder)\n",
      "File or folder already exists, so skipping task: C:/Users/13490/AppData/Local/pykoda/pykoda/Cache/sl-tripupdates-2022-12-10.bz2 (file)\n",
      "System tool failed: Command '['7z', 'e', '-oC:/Users/13490/AppData/Local/pykoda/pykoda/Cache/sl-tripupdates-2022-12-10', 'C:/Users/13490/AppData/Local/pykoda/pykoda/Cache/sl-tripupdates-2022-12-10.bz2']' returned non-zero exit status 255.\n",
      "None\n",
      "Executing python function, producing output(s): C:/Users/13490/AppData/Local/pykoda/pykoda/Cache/sl_TripUpdates_2022_12_10_5.feather.tmp\n",
      "Getting C:/Users/13490/AppData/Local/pykoda/pykoda/Cache/sl_TripUpdates_2022_12_10_6.feather\n",
      "File or folder already exists, so skipping task: data (datafolder)\n",
      "File or folder already exists, so skipping task: C:/Users/13490/AppData/Local/pykoda/pykoda/Cache/sl-tripupdates-2022-12-10.bz2 (file)\n",
      "System tool failed: Command '['7z', 'e', '-oC:/Users/13490/AppData/Local/pykoda/pykoda/Cache/sl-tripupdates-2022-12-10', 'C:/Users/13490/AppData/Local/pykoda/pykoda/Cache/sl-tripupdates-2022-12-10.bz2']' returned non-zero exit status 255.\n",
      "None\n",
      "Executing python function, producing output(s): C:/Users/13490/AppData/Local/pykoda/pykoda/Cache/sl_TripUpdates_2022_12_10_6.feather.tmp\n",
      "Getting C:/Users/13490/AppData/Local/pykoda/pykoda/Cache/sl_TripUpdates_2022_12_10_7.feather\n",
      "File or folder already exists, so skipping task: data (datafolder)\n",
      "File or folder already exists, so skipping task: C:/Users/13490/AppData/Local/pykoda/pykoda/Cache/sl-tripupdates-2022-12-10.bz2 (file)\n"
     ]
    },
    {
     "name": "stderr",
     "output_type": "stream",
     "text": [
      "D:\\lib\\site-packages\\pykoda\\data\\datautils.py:90: RuntimeWarning: The API did not return data for 2022-12-10 06:00:00\n",
      "  warnings.warn(RuntimeWarning(f'The API did not return data for {date_hour}'))\n",
      "D:\\lib\\site-packages\\pykoda\\data\\datautils.py:90: RuntimeWarning: The API did not return data for 2022-12-10 07:00:00\n",
      "  warnings.warn(RuntimeWarning(f'The API did not return data for {date_hour}'))\n",
      "Loading data:  64%|██████████████████████████████████████████▎                       | 200/312 [00:14<00:08, 12.58it/s]D:\\lib\\site-packages\\pykoda\\data\\datautils.py:90: RuntimeWarning: The API did not return data for 2022-12-10 08:00:00\n",
      "  warnings.warn(RuntimeWarning(f'The API did not return data for {date_hour}'))\n",
      "D:\\lib\\site-packages\\pykoda\\data\\datautils.py:90: RuntimeWarning: The API did not return data for 2022-12-10 09:00:00\n",
      "  warnings.warn(RuntimeWarning(f'The API did not return data for {date_hour}'))\n",
      "Loading data:  65%|██████████████████████████████████████████▋                       | 202/312 [00:14<00:08, 13.04it/s]"
     ]
    },
    {
     "name": "stdout",
     "output_type": "stream",
     "text": [
      "System tool failed: Command '['7z', 'e', '-oC:/Users/13490/AppData/Local/pykoda/pykoda/Cache/sl-tripupdates-2022-12-10', 'C:/Users/13490/AppData/Local/pykoda/pykoda/Cache/sl-tripupdates-2022-12-10.bz2']' returned non-zero exit status 255.\n",
      "None\n",
      "Executing python function, producing output(s): C:/Users/13490/AppData/Local/pykoda/pykoda/Cache/sl_TripUpdates_2022_12_10_7.feather.tmp\n",
      "Getting C:/Users/13490/AppData/Local/pykoda/pykoda/Cache/sl_TripUpdates_2022_12_10_8.feather\n",
      "File or folder already exists, so skipping task: data (datafolder)\n",
      "File or folder already exists, so skipping task: C:/Users/13490/AppData/Local/pykoda/pykoda/Cache/sl-tripupdates-2022-12-10.bz2 (file)\n",
      "System tool failed: Command '['7z', 'e', '-oC:/Users/13490/AppData/Local/pykoda/pykoda/Cache/sl-tripupdates-2022-12-10', 'C:/Users/13490/AppData/Local/pykoda/pykoda/Cache/sl-tripupdates-2022-12-10.bz2']' returned non-zero exit status 255.\n",
      "None\n",
      "Executing python function, producing output(s): C:/Users/13490/AppData/Local/pykoda/pykoda/Cache/sl_TripUpdates_2022_12_10_8.feather.tmp\n",
      "Getting C:/Users/13490/AppData/Local/pykoda/pykoda/Cache/sl_TripUpdates_2022_12_10_9.feather\n",
      "File or folder already exists, so skipping task: data (datafolder)\n",
      "File or folder already exists, so skipping task: C:/Users/13490/AppData/Local/pykoda/pykoda/Cache/sl-tripupdates-2022-12-10.bz2 (file)\n",
      "System tool failed: Command '['7z', 'e', '-oC:/Users/13490/AppData/Local/pykoda/pykoda/Cache/sl-tripupdates-2022-12-10', 'C:/Users/13490/AppData/Local/pykoda/pykoda/Cache/sl-tripupdates-2022-12-10.bz2']' returned non-zero exit status 255.\n",
      "None\n",
      "Executing python function, producing output(s): C:/Users/13490/AppData/Local/pykoda/pykoda/Cache/sl_TripUpdates_2022_12_10_9.feather.tmp\n",
      "Getting C:/Users/13490/AppData/Local/pykoda/pykoda/Cache/sl_TripUpdates_2022_12_10_10.feather\n",
      "File or folder already exists, so skipping task: data (datafolder)\n",
      "File or folder already exists, so skipping task: C:/Users/13490/AppData/Local/pykoda/pykoda/Cache/sl-tripupdates-2022-12-10.bz2 (file)\n"
     ]
    },
    {
     "name": "stderr",
     "output_type": "stream",
     "text": [
      "D:\\lib\\site-packages\\pykoda\\data\\datautils.py:90: RuntimeWarning: The API did not return data for 2022-12-10 10:00:00\n",
      "  warnings.warn(RuntimeWarning(f'The API did not return data for {date_hour}'))\n",
      "D:\\lib\\site-packages\\pykoda\\data\\datautils.py:90: RuntimeWarning: The API did not return data for 2022-12-10 11:00:00\n",
      "  warnings.warn(RuntimeWarning(f'The API did not return data for {date_hour}'))\n",
      "Loading data:  65%|███████████████████████████████████████████▏                      | 204/312 [00:14<00:08, 13.39it/s]"
     ]
    },
    {
     "name": "stdout",
     "output_type": "stream",
     "text": [
      "System tool failed: Command '['7z', 'e', '-oC:/Users/13490/AppData/Local/pykoda/pykoda/Cache/sl-tripupdates-2022-12-10', 'C:/Users/13490/AppData/Local/pykoda/pykoda/Cache/sl-tripupdates-2022-12-10.bz2']' returned non-zero exit status 255.\n",
      "None\n",
      "Executing python function, producing output(s): C:/Users/13490/AppData/Local/pykoda/pykoda/Cache/sl_TripUpdates_2022_12_10_10.feather.tmp\n",
      "Getting C:/Users/13490/AppData/Local/pykoda/pykoda/Cache/sl_TripUpdates_2022_12_10_11.feather\n",
      "File or folder already exists, so skipping task: data (datafolder)\n",
      "File or folder already exists, so skipping task: C:/Users/13490/AppData/Local/pykoda/pykoda/Cache/sl-tripupdates-2022-12-10.bz2 (file)\n",
      "System tool failed: Command '['7z', 'e', '-oC:/Users/13490/AppData/Local/pykoda/pykoda/Cache/sl-tripupdates-2022-12-10', 'C:/Users/13490/AppData/Local/pykoda/pykoda/Cache/sl-tripupdates-2022-12-10.bz2']' returned non-zero exit status 255.\n",
      "None\n",
      "Executing python function, producing output(s): C:/Users/13490/AppData/Local/pykoda/pykoda/Cache/sl_TripUpdates_2022_12_10_11.feather.tmp\n",
      "Getting C:/Users/13490/AppData/Local/pykoda/pykoda/Cache/sl_TripUpdates_2022_12_10_12.feather\n",
      "File or folder already exists, so skipping task: data (datafolder)\n",
      "File or folder already exists, so skipping task: C:/Users/13490/AppData/Local/pykoda/pykoda/Cache/sl-tripupdates-2022-12-10.bz2 (file)\n",
      "System tool failed: Command '['7z', 'e', '-oC:/Users/13490/AppData/Local/pykoda/pykoda/Cache/sl-tripupdates-2022-12-10', 'C:/Users/13490/AppData/Local/pykoda/pykoda/Cache/sl-tripupdates-2022-12-10.bz2']' returned non-zero exit status 255.\n",
      "None\n",
      "Executing python function, producing output(s): C:/Users/13490/AppData/Local/pykoda/pykoda/Cache/sl_TripUpdates_2022_12_10_12.feather.tmp\n",
      "Getting C:/Users/13490/AppData/Local/pykoda/pykoda/Cache/sl_TripUpdates_2022_12_10_13.feather\n",
      "File or folder already exists, so skipping task: data (datafolder)\n",
      "File or folder already exists, so skipping task: C:/Users/13490/AppData/Local/pykoda/pykoda/Cache/sl-tripupdates-2022-12-10.bz2 (file)\n"
     ]
    },
    {
     "name": "stderr",
     "output_type": "stream",
     "text": [
      "D:\\lib\\site-packages\\pykoda\\data\\datautils.py:90: RuntimeWarning: The API did not return data for 2022-12-10 12:00:00\n",
      "  warnings.warn(RuntimeWarning(f'The API did not return data for {date_hour}'))\n",
      "D:\\lib\\site-packages\\pykoda\\data\\datautils.py:90: RuntimeWarning: The API did not return data for 2022-12-10 13:00:00\n",
      "  warnings.warn(RuntimeWarning(f'The API did not return data for {date_hour}'))\n",
      "Loading data:  66%|███████████████████████████████████████████▌                      | 206/312 [00:15<00:08, 13.23it/s]D:\\lib\\site-packages\\pykoda\\data\\datautils.py:90: RuntimeWarning: The API did not return data for 2022-12-10 14:00:00\n",
      "  warnings.warn(RuntimeWarning(f'The API did not return data for {date_hour}'))\n",
      "D:\\lib\\site-packages\\pykoda\\data\\datautils.py:90: RuntimeWarning: The API did not return data for 2022-12-10 15:00:00\n",
      "  warnings.warn(RuntimeWarning(f'The API did not return data for {date_hour}'))\n",
      "Loading data:  67%|████████████████████████████████████████████                      | 208/312 [00:15<00:07, 13.61it/s]"
     ]
    },
    {
     "name": "stdout",
     "output_type": "stream",
     "text": [
      "System tool failed: Command '['7z', 'e', '-oC:/Users/13490/AppData/Local/pykoda/pykoda/Cache/sl-tripupdates-2022-12-10', 'C:/Users/13490/AppData/Local/pykoda/pykoda/Cache/sl-tripupdates-2022-12-10.bz2']' returned non-zero exit status 255.\n",
      "None\n",
      "Executing python function, producing output(s): C:/Users/13490/AppData/Local/pykoda/pykoda/Cache/sl_TripUpdates_2022_12_10_13.feather.tmp\n",
      "Getting C:/Users/13490/AppData/Local/pykoda/pykoda/Cache/sl_TripUpdates_2022_12_10_14.feather\n",
      "File or folder already exists, so skipping task: data (datafolder)\n",
      "File or folder already exists, so skipping task: C:/Users/13490/AppData/Local/pykoda/pykoda/Cache/sl-tripupdates-2022-12-10.bz2 (file)\n",
      "System tool failed: Command '['7z', 'e', '-oC:/Users/13490/AppData/Local/pykoda/pykoda/Cache/sl-tripupdates-2022-12-10', 'C:/Users/13490/AppData/Local/pykoda/pykoda/Cache/sl-tripupdates-2022-12-10.bz2']' returned non-zero exit status 255.\n",
      "None\n",
      "Executing python function, producing output(s): C:/Users/13490/AppData/Local/pykoda/pykoda/Cache/sl_TripUpdates_2022_12_10_14.feather.tmp\n",
      "Getting C:/Users/13490/AppData/Local/pykoda/pykoda/Cache/sl_TripUpdates_2022_12_10_15.feather\n",
      "File or folder already exists, so skipping task: data (datafolder)\n",
      "File or folder already exists, so skipping task: C:/Users/13490/AppData/Local/pykoda/pykoda/Cache/sl-tripupdates-2022-12-10.bz2 (file)\n",
      "System tool failed: Command '['7z', 'e', '-oC:/Users/13490/AppData/Local/pykoda/pykoda/Cache/sl-tripupdates-2022-12-10', 'C:/Users/13490/AppData/Local/pykoda/pykoda/Cache/sl-tripupdates-2022-12-10.bz2']' returned non-zero exit status 255.\n",
      "None\n",
      "Executing python function, producing output(s): C:/Users/13490/AppData/Local/pykoda/pykoda/Cache/sl_TripUpdates_2022_12_10_15.feather.tmp\n",
      "Getting C:/Users/13490/AppData/Local/pykoda/pykoda/Cache/sl_TripUpdates_2022_12_10_16.feather\n",
      "File or folder already exists, so skipping task: data (datafolder)\n",
      "File or folder already exists, so skipping task: C:/Users/13490/AppData/Local/pykoda/pykoda/Cache/sl-tripupdates-2022-12-10.bz2 (file)\n"
     ]
    },
    {
     "name": "stderr",
     "output_type": "stream",
     "text": [
      "D:\\lib\\site-packages\\pykoda\\data\\datautils.py:90: RuntimeWarning: The API did not return data for 2022-12-10 16:00:00\n",
      "  warnings.warn(RuntimeWarning(f'The API did not return data for {date_hour}'))\n",
      "D:\\lib\\site-packages\\pykoda\\data\\datautils.py:90: RuntimeWarning: The API did not return data for 2022-12-10 17:00:00\n",
      "  warnings.warn(RuntimeWarning(f'The API did not return data for {date_hour}'))\n",
      "Loading data:  67%|████████████████████████████████████████████▍                     | 210/312 [00:15<00:07, 13.26it/s]"
     ]
    },
    {
     "name": "stdout",
     "output_type": "stream",
     "text": [
      "System tool failed: Command '['7z', 'e', '-oC:/Users/13490/AppData/Local/pykoda/pykoda/Cache/sl-tripupdates-2022-12-10', 'C:/Users/13490/AppData/Local/pykoda/pykoda/Cache/sl-tripupdates-2022-12-10.bz2']' returned non-zero exit status 255.\n",
      "None\n",
      "Executing python function, producing output(s): C:/Users/13490/AppData/Local/pykoda/pykoda/Cache/sl_TripUpdates_2022_12_10_16.feather.tmp\n",
      "Getting C:/Users/13490/AppData/Local/pykoda/pykoda/Cache/sl_TripUpdates_2022_12_10_17.feather\n",
      "File or folder already exists, so skipping task: data (datafolder)\n",
      "File or folder already exists, so skipping task: C:/Users/13490/AppData/Local/pykoda/pykoda/Cache/sl-tripupdates-2022-12-10.bz2 (file)\n",
      "System tool failed: Command '['7z', 'e', '-oC:/Users/13490/AppData/Local/pykoda/pykoda/Cache/sl-tripupdates-2022-12-10', 'C:/Users/13490/AppData/Local/pykoda/pykoda/Cache/sl-tripupdates-2022-12-10.bz2']' returned non-zero exit status 255.\n",
      "None\n",
      "Executing python function, producing output(s): C:/Users/13490/AppData/Local/pykoda/pykoda/Cache/sl_TripUpdates_2022_12_10_17.feather.tmp\n",
      "Getting C:/Users/13490/AppData/Local/pykoda/pykoda/Cache/sl_TripUpdates_2022_12_10_18.feather\n",
      "File or folder already exists, so skipping task: data (datafolder)\n",
      "File or folder already exists, so skipping task: C:/Users/13490/AppData/Local/pykoda/pykoda/Cache/sl-tripupdates-2022-12-10.bz2 (file)\n",
      "System tool failed: Command '['7z', 'e', '-oC:/Users/13490/AppData/Local/pykoda/pykoda/Cache/sl-tripupdates-2022-12-10', 'C:/Users/13490/AppData/Local/pykoda/pykoda/Cache/sl-tripupdates-2022-12-10.bz2']' returned non-zero exit status 255.\n",
      "None\n",
      "Executing python function, producing output(s): C:/Users/13490/AppData/Local/pykoda/pykoda/Cache/sl_TripUpdates_2022_12_10_18.feather.tmp\n",
      "Getting C:/Users/13490/AppData/Local/pykoda/pykoda/Cache/sl_TripUpdates_2022_12_10_19.feather\n",
      "File or folder already exists, so skipping task: data (datafolder)\n",
      "File or folder already exists, so skipping task: C:/Users/13490/AppData/Local/pykoda/pykoda/Cache/sl-tripupdates-2022-12-10.bz2 (file)\n"
     ]
    },
    {
     "name": "stderr",
     "output_type": "stream",
     "text": [
      "D:\\lib\\site-packages\\pykoda\\data\\datautils.py:90: RuntimeWarning: The API did not return data for 2022-12-10 18:00:00\n",
      "  warnings.warn(RuntimeWarning(f'The API did not return data for {date_hour}'))\n",
      "D:\\lib\\site-packages\\pykoda\\data\\datautils.py:90: RuntimeWarning: The API did not return data for 2022-12-10 19:00:00\n",
      "  warnings.warn(RuntimeWarning(f'The API did not return data for {date_hour}'))\n",
      "Loading data:  68%|████████████████████████████████████████████▊                     | 212/312 [00:15<00:07, 13.50it/s]D:\\lib\\site-packages\\pykoda\\data\\datautils.py:90: RuntimeWarning: The API did not return data for 2022-12-10 20:00:00\n",
      "  warnings.warn(RuntimeWarning(f'The API did not return data for {date_hour}'))\n",
      "D:\\lib\\site-packages\\pykoda\\data\\datautils.py:90: RuntimeWarning: The API did not return data for 2022-12-10 21:00:00\n",
      "  warnings.warn(RuntimeWarning(f'The API did not return data for {date_hour}'))\n",
      "Loading data:  69%|█████████████████████████████████████████████▎                    | 214/312 [00:15<00:07, 13.22it/s]"
     ]
    },
    {
     "name": "stdout",
     "output_type": "stream",
     "text": [
      "System tool failed: Command '['7z', 'e', '-oC:/Users/13490/AppData/Local/pykoda/pykoda/Cache/sl-tripupdates-2022-12-10', 'C:/Users/13490/AppData/Local/pykoda/pykoda/Cache/sl-tripupdates-2022-12-10.bz2']' returned non-zero exit status 255.\n",
      "None\n",
      "Executing python function, producing output(s): C:/Users/13490/AppData/Local/pykoda/pykoda/Cache/sl_TripUpdates_2022_12_10_19.feather.tmp\n",
      "Getting C:/Users/13490/AppData/Local/pykoda/pykoda/Cache/sl_TripUpdates_2022_12_10_20.feather\n",
      "File or folder already exists, so skipping task: data (datafolder)\n",
      "File or folder already exists, so skipping task: C:/Users/13490/AppData/Local/pykoda/pykoda/Cache/sl-tripupdates-2022-12-10.bz2 (file)\n",
      "System tool failed: Command '['7z', 'e', '-oC:/Users/13490/AppData/Local/pykoda/pykoda/Cache/sl-tripupdates-2022-12-10', 'C:/Users/13490/AppData/Local/pykoda/pykoda/Cache/sl-tripupdates-2022-12-10.bz2']' returned non-zero exit status 255.\n",
      "None\n",
      "Executing python function, producing output(s): C:/Users/13490/AppData/Local/pykoda/pykoda/Cache/sl_TripUpdates_2022_12_10_20.feather.tmp\n",
      "Getting C:/Users/13490/AppData/Local/pykoda/pykoda/Cache/sl_TripUpdates_2022_12_10_21.feather\n",
      "File or folder already exists, so skipping task: data (datafolder)\n",
      "File or folder already exists, so skipping task: C:/Users/13490/AppData/Local/pykoda/pykoda/Cache/sl-tripupdates-2022-12-10.bz2 (file)\n",
      "System tool failed: Command '['7z', 'e', '-oC:/Users/13490/AppData/Local/pykoda/pykoda/Cache/sl-tripupdates-2022-12-10', 'C:/Users/13490/AppData/Local/pykoda/pykoda/Cache/sl-tripupdates-2022-12-10.bz2']' returned non-zero exit status 255.\n",
      "None\n",
      "Executing python function, producing output(s): C:/Users/13490/AppData/Local/pykoda/pykoda/Cache/sl_TripUpdates_2022_12_10_21.feather.tmp\n",
      "Getting C:/Users/13490/AppData/Local/pykoda/pykoda/Cache/sl_TripUpdates_2022_12_10_22.feather\n",
      "File or folder already exists, so skipping task: data (datafolder)\n",
      "File or folder already exists, so skipping task: C:/Users/13490/AppData/Local/pykoda/pykoda/Cache/sl-tripupdates-2022-12-10.bz2 (file)\n"
     ]
    },
    {
     "name": "stderr",
     "output_type": "stream",
     "text": [
      "D:\\lib\\site-packages\\pykoda\\data\\datautils.py:90: RuntimeWarning: The API did not return data for 2022-12-10 22:00:00\n",
      "  warnings.warn(RuntimeWarning(f'The API did not return data for {date_hour}'))\n",
      "D:\\lib\\site-packages\\pykoda\\data\\datautils.py:90: RuntimeWarning: The API did not return data for 2022-12-10 23:00:00\n",
      "  warnings.warn(RuntimeWarning(f'The API did not return data for {date_hour}'))\n",
      "Loading data:  69%|█████████████████████████████████████████████▋                    | 216/312 [00:15<00:07, 13.14it/s]"
     ]
    },
    {
     "name": "stdout",
     "output_type": "stream",
     "text": [
      "System tool failed: Command '['7z', 'e', '-oC:/Users/13490/AppData/Local/pykoda/pykoda/Cache/sl-tripupdates-2022-12-10', 'C:/Users/13490/AppData/Local/pykoda/pykoda/Cache/sl-tripupdates-2022-12-10.bz2']' returned non-zero exit status 255.\n",
      "None\n",
      "Executing python function, producing output(s): C:/Users/13490/AppData/Local/pykoda/pykoda/Cache/sl_TripUpdates_2022_12_10_22.feather.tmp\n",
      "Getting C:/Users/13490/AppData/Local/pykoda/pykoda/Cache/sl_TripUpdates_2022_12_10_23.feather\n",
      "File or folder already exists, so skipping task: data (datafolder)\n",
      "File or folder already exists, so skipping task: C:/Users/13490/AppData/Local/pykoda/pykoda/Cache/sl-tripupdates-2022-12-10.bz2 (file)\n",
      "System tool failed: Command '['7z', 'e', '-oC:/Users/13490/AppData/Local/pykoda/pykoda/Cache/sl-tripupdates-2022-12-10', 'C:/Users/13490/AppData/Local/pykoda/pykoda/Cache/sl-tripupdates-2022-12-10.bz2']' returned non-zero exit status 255.\n",
      "None\n",
      "Executing python function, producing output(s): C:/Users/13490/AppData/Local/pykoda/pykoda/Cache/sl_TripUpdates_2022_12_10_23.feather.tmp\n",
      "Getting C:/Users/13490/AppData/Local/pykoda/pykoda/Cache/sl_TripUpdates_2022_12_11_1.feather\n",
      "File or folder already exists, so skipping task: data (datafolder)\n",
      "File or folder already exists, so skipping task: C:/Users/13490/AppData/Local/pykoda/pykoda/Cache/sl-tripupdates-2022-12-11.bz2 (file)\n"
     ]
    },
    {
     "name": "stderr",
     "output_type": "stream",
     "text": [
      "D:\\lib\\site-packages\\pykoda\\data\\datautils.py:90: RuntimeWarning: The API did not return data for 2022-12-11 01:00:00\n",
      "  warnings.warn(RuntimeWarning(f'The API did not return data for {date_hour}'))\n",
      "Loading data:  70%|██████████████████████████████████████████████                    | 218/312 [00:15<00:07, 13.34it/s]D:\\lib\\site-packages\\pykoda\\data\\datautils.py:90: RuntimeWarning: The API did not return data for 2022-12-11 02:00:00\n",
      "  warnings.warn(RuntimeWarning(f'The API did not return data for {date_hour}'))\n",
      "D:\\lib\\site-packages\\pykoda\\data\\datautils.py:90: RuntimeWarning: The API did not return data for 2022-12-11 03:00:00\n",
      "  warnings.warn(RuntimeWarning(f'The API did not return data for {date_hour}'))\n",
      "Loading data:  71%|██████████████████████████████████████████████▌                   | 220/312 [00:16<00:06, 13.58it/s]"
     ]
    },
    {
     "name": "stdout",
     "output_type": "stream",
     "text": [
      "System tool failed: Command '['7z', 'e', '-oC:/Users/13490/AppData/Local/pykoda/pykoda/Cache/sl-tripupdates-2022-12-11', 'C:/Users/13490/AppData/Local/pykoda/pykoda/Cache/sl-tripupdates-2022-12-11.bz2']' returned non-zero exit status 255.\n",
      "None\n",
      "Executing python function, producing output(s): C:/Users/13490/AppData/Local/pykoda/pykoda/Cache/sl_TripUpdates_2022_12_11_1.feather.tmp\n",
      "Getting C:/Users/13490/AppData/Local/pykoda/pykoda/Cache/sl_TripUpdates_2022_12_11_2.feather\n",
      "File or folder already exists, so skipping task: data (datafolder)\n",
      "File or folder already exists, so skipping task: C:/Users/13490/AppData/Local/pykoda/pykoda/Cache/sl-tripupdates-2022-12-11.bz2 (file)\n",
      "System tool failed: Command '['7z', 'e', '-oC:/Users/13490/AppData/Local/pykoda/pykoda/Cache/sl-tripupdates-2022-12-11', 'C:/Users/13490/AppData/Local/pykoda/pykoda/Cache/sl-tripupdates-2022-12-11.bz2']' returned non-zero exit status 255.\n",
      "None\n",
      "Executing python function, producing output(s): C:/Users/13490/AppData/Local/pykoda/pykoda/Cache/sl_TripUpdates_2022_12_11_2.feather.tmp\n",
      "Getting C:/Users/13490/AppData/Local/pykoda/pykoda/Cache/sl_TripUpdates_2022_12_11_3.feather\n",
      "File or folder already exists, so skipping task: data (datafolder)\n",
      "File or folder already exists, so skipping task: C:/Users/13490/AppData/Local/pykoda/pykoda/Cache/sl-tripupdates-2022-12-11.bz2 (file)\n",
      "System tool failed: Command '['7z', 'e', '-oC:/Users/13490/AppData/Local/pykoda/pykoda/Cache/sl-tripupdates-2022-12-11', 'C:/Users/13490/AppData/Local/pykoda/pykoda/Cache/sl-tripupdates-2022-12-11.bz2']' returned non-zero exit status 255.\n",
      "None\n",
      "Executing python function, producing output(s): C:/Users/13490/AppData/Local/pykoda/pykoda/Cache/sl_TripUpdates_2022_12_11_3.feather.tmp\n",
      "Getting C:/Users/13490/AppData/Local/pykoda/pykoda/Cache/sl_TripUpdates_2022_12_11_4.feather\n",
      "File or folder already exists, so skipping task: data (datafolder)\n",
      "File or folder already exists, so skipping task: C:/Users/13490/AppData/Local/pykoda/pykoda/Cache/sl-tripupdates-2022-12-11.bz2 (file)\n"
     ]
    },
    {
     "name": "stderr",
     "output_type": "stream",
     "text": [
      "D:\\lib\\site-packages\\pykoda\\data\\datautils.py:90: RuntimeWarning: The API did not return data for 2022-12-11 04:00:00\n",
      "  warnings.warn(RuntimeWarning(f'The API did not return data for {date_hour}'))\n",
      "D:\\lib\\site-packages\\pykoda\\data\\datautils.py:90: RuntimeWarning: The API did not return data for 2022-12-11 05:00:00\n",
      "  warnings.warn(RuntimeWarning(f'The API did not return data for {date_hour}'))\n",
      "Loading data:  71%|██████████████████████████████████████████████▉                   | 222/312 [00:16<00:06, 13.50it/s]"
     ]
    },
    {
     "name": "stdout",
     "output_type": "stream",
     "text": [
      "System tool failed: Command '['7z', 'e', '-oC:/Users/13490/AppData/Local/pykoda/pykoda/Cache/sl-tripupdates-2022-12-11', 'C:/Users/13490/AppData/Local/pykoda/pykoda/Cache/sl-tripupdates-2022-12-11.bz2']' returned non-zero exit status 255.\n",
      "None\n",
      "Executing python function, producing output(s): C:/Users/13490/AppData/Local/pykoda/pykoda/Cache/sl_TripUpdates_2022_12_11_4.feather.tmp\n",
      "Getting C:/Users/13490/AppData/Local/pykoda/pykoda/Cache/sl_TripUpdates_2022_12_11_5.feather\n",
      "File or folder already exists, so skipping task: data (datafolder)\n",
      "File or folder already exists, so skipping task: C:/Users/13490/AppData/Local/pykoda/pykoda/Cache/sl-tripupdates-2022-12-11.bz2 (file)\n",
      "System tool failed: Command '['7z', 'e', '-oC:/Users/13490/AppData/Local/pykoda/pykoda/Cache/sl-tripupdates-2022-12-11', 'C:/Users/13490/AppData/Local/pykoda/pykoda/Cache/sl-tripupdates-2022-12-11.bz2']' returned non-zero exit status 255.\n",
      "None\n",
      "Executing python function, producing output(s): C:/Users/13490/AppData/Local/pykoda/pykoda/Cache/sl_TripUpdates_2022_12_11_5.feather.tmp\n",
      "Getting C:/Users/13490/AppData/Local/pykoda/pykoda/Cache/sl_TripUpdates_2022_12_11_6.feather\n",
      "File or folder already exists, so skipping task: data (datafolder)\n",
      "File or folder already exists, so skipping task: C:/Users/13490/AppData/Local/pykoda/pykoda/Cache/sl-tripupdates-2022-12-11.bz2 (file)\n",
      "System tool failed: Command '['7z', 'e', '-oC:/Users/13490/AppData/Local/pykoda/pykoda/Cache/sl-tripupdates-2022-12-11', 'C:/Users/13490/AppData/Local/pykoda/pykoda/Cache/sl-tripupdates-2022-12-11.bz2']' returned non-zero exit status 255.\n",
      "None\n",
      "Executing python function, producing output(s): C:/Users/13490/AppData/Local/pykoda/pykoda/Cache/sl_TripUpdates_2022_12_11_6.feather.tmp\n",
      "Getting C:/Users/13490/AppData/Local/pykoda/pykoda/Cache/sl_TripUpdates_2022_12_11_7.feather\n",
      "File or folder already exists, so skipping task: data (datafolder)\n",
      "File or folder already exists, so skipping task: C:/Users/13490/AppData/Local/pykoda/pykoda/Cache/sl-tripupdates-2022-12-11.bz2 (file)\n"
     ]
    },
    {
     "name": "stderr",
     "output_type": "stream",
     "text": [
      "D:\\lib\\site-packages\\pykoda\\data\\datautils.py:90: RuntimeWarning: The API did not return data for 2022-12-11 06:00:00\n",
      "  warnings.warn(RuntimeWarning(f'The API did not return data for {date_hour}'))\n",
      "D:\\lib\\site-packages\\pykoda\\data\\datautils.py:90: RuntimeWarning: The API did not return data for 2022-12-11 07:00:00\n",
      "  warnings.warn(RuntimeWarning(f'The API did not return data for {date_hour}'))\n",
      "Loading data:  72%|███████████████████████████████████████████████▍                  | 224/312 [00:16<00:06, 13.39it/s]D:\\lib\\site-packages\\pykoda\\data\\datautils.py:90: RuntimeWarning: The API did not return data for 2022-12-11 08:00:00\n",
      "  warnings.warn(RuntimeWarning(f'The API did not return data for {date_hour}'))\n",
      "D:\\lib\\site-packages\\pykoda\\data\\datautils.py:90: RuntimeWarning: The API did not return data for 2022-12-11 09:00:00\n",
      "  warnings.warn(RuntimeWarning(f'The API did not return data for {date_hour}'))\n",
      "Loading data:  72%|███████████████████████████████████████████████▊                  | 226/312 [00:16<00:06, 13.52it/s]"
     ]
    },
    {
     "name": "stdout",
     "output_type": "stream",
     "text": [
      "System tool failed: Command '['7z', 'e', '-oC:/Users/13490/AppData/Local/pykoda/pykoda/Cache/sl-tripupdates-2022-12-11', 'C:/Users/13490/AppData/Local/pykoda/pykoda/Cache/sl-tripupdates-2022-12-11.bz2']' returned non-zero exit status 255.\n",
      "None\n",
      "Executing python function, producing output(s): C:/Users/13490/AppData/Local/pykoda/pykoda/Cache/sl_TripUpdates_2022_12_11_7.feather.tmp\n",
      "Getting C:/Users/13490/AppData/Local/pykoda/pykoda/Cache/sl_TripUpdates_2022_12_11_8.feather\n",
      "File or folder already exists, so skipping task: data (datafolder)\n",
      "File or folder already exists, so skipping task: C:/Users/13490/AppData/Local/pykoda/pykoda/Cache/sl-tripupdates-2022-12-11.bz2 (file)\n",
      "System tool failed: Command '['7z', 'e', '-oC:/Users/13490/AppData/Local/pykoda/pykoda/Cache/sl-tripupdates-2022-12-11', 'C:/Users/13490/AppData/Local/pykoda/pykoda/Cache/sl-tripupdates-2022-12-11.bz2']' returned non-zero exit status 255.\n",
      "None\n",
      "Executing python function, producing output(s): C:/Users/13490/AppData/Local/pykoda/pykoda/Cache/sl_TripUpdates_2022_12_11_8.feather.tmp\n",
      "Getting C:/Users/13490/AppData/Local/pykoda/pykoda/Cache/sl_TripUpdates_2022_12_11_9.feather\n",
      "File or folder already exists, so skipping task: data (datafolder)\n",
      "File or folder already exists, so skipping task: C:/Users/13490/AppData/Local/pykoda/pykoda/Cache/sl-tripupdates-2022-12-11.bz2 (file)\n",
      "System tool failed: Command '['7z', 'e', '-oC:/Users/13490/AppData/Local/pykoda/pykoda/Cache/sl-tripupdates-2022-12-11', 'C:/Users/13490/AppData/Local/pykoda/pykoda/Cache/sl-tripupdates-2022-12-11.bz2']' returned non-zero exit status 255.\n",
      "None\n",
      "Executing python function, producing output(s): C:/Users/13490/AppData/Local/pykoda/pykoda/Cache/sl_TripUpdates_2022_12_11_9.feather.tmp\n",
      "Getting C:/Users/13490/AppData/Local/pykoda/pykoda/Cache/sl_TripUpdates_2022_12_11_10.feather\n",
      "File or folder already exists, so skipping task: data (datafolder)\n",
      "File or folder already exists, so skipping task: C:/Users/13490/AppData/Local/pykoda/pykoda/Cache/sl-tripupdates-2022-12-11.bz2 (file)\n"
     ]
    },
    {
     "name": "stderr",
     "output_type": "stream",
     "text": [
      "D:\\lib\\site-packages\\pykoda\\data\\datautils.py:90: RuntimeWarning: The API did not return data for 2022-12-11 10:00:00\n",
      "  warnings.warn(RuntimeWarning(f'The API did not return data for {date_hour}'))\n",
      "D:\\lib\\site-packages\\pykoda\\data\\datautils.py:90: RuntimeWarning: The API did not return data for 2022-12-11 11:00:00\n",
      "  warnings.warn(RuntimeWarning(f'The API did not return data for {date_hour}'))\n",
      "Loading data:  73%|████████████████████████████████████████████████▏                 | 228/312 [00:16<00:06, 13.39it/s]"
     ]
    },
    {
     "name": "stdout",
     "output_type": "stream",
     "text": [
      "System tool failed: Command '['7z', 'e', '-oC:/Users/13490/AppData/Local/pykoda/pykoda/Cache/sl-tripupdates-2022-12-11', 'C:/Users/13490/AppData/Local/pykoda/pykoda/Cache/sl-tripupdates-2022-12-11.bz2']' returned non-zero exit status 255.\n",
      "None\n",
      "Executing python function, producing output(s): C:/Users/13490/AppData/Local/pykoda/pykoda/Cache/sl_TripUpdates_2022_12_11_10.feather.tmp\n",
      "Getting C:/Users/13490/AppData/Local/pykoda/pykoda/Cache/sl_TripUpdates_2022_12_11_11.feather\n",
      "File or folder already exists, so skipping task: data (datafolder)\n",
      "File or folder already exists, so skipping task: C:/Users/13490/AppData/Local/pykoda/pykoda/Cache/sl-tripupdates-2022-12-11.bz2 (file)\n",
      "System tool failed: Command '['7z', 'e', '-oC:/Users/13490/AppData/Local/pykoda/pykoda/Cache/sl-tripupdates-2022-12-11', 'C:/Users/13490/AppData/Local/pykoda/pykoda/Cache/sl-tripupdates-2022-12-11.bz2']' returned non-zero exit status 255.\n",
      "None\n",
      "Executing python function, producing output(s): C:/Users/13490/AppData/Local/pykoda/pykoda/Cache/sl_TripUpdates_2022_12_11_11.feather.tmp\n",
      "Getting C:/Users/13490/AppData/Local/pykoda/pykoda/Cache/sl_TripUpdates_2022_12_11_12.feather\n",
      "File or folder already exists, so skipping task: data (datafolder)\n",
      "File or folder already exists, so skipping task: C:/Users/13490/AppData/Local/pykoda/pykoda/Cache/sl-tripupdates-2022-12-11.bz2 (file)\n",
      "System tool failed: Command '['7z', 'e', '-oC:/Users/13490/AppData/Local/pykoda/pykoda/Cache/sl-tripupdates-2022-12-11', 'C:/Users/13490/AppData/Local/pykoda/pykoda/Cache/sl-tripupdates-2022-12-11.bz2']' returned non-zero exit status 255.\n",
      "None\n",
      "Executing python function, producing output(s): C:/Users/13490/AppData/Local/pykoda/pykoda/Cache/sl_TripUpdates_2022_12_11_12.feather.tmp\n",
      "Getting C:/Users/13490/AppData/Local/pykoda/pykoda/Cache/sl_TripUpdates_2022_12_11_13.feather\n",
      "File or folder already exists, so skipping task: data (datafolder)\n",
      "File or folder already exists, so skipping task: C:/Users/13490/AppData/Local/pykoda/pykoda/Cache/sl-tripupdates-2022-12-11.bz2 (file)\n"
     ]
    },
    {
     "name": "stderr",
     "output_type": "stream",
     "text": [
      "D:\\lib\\site-packages\\pykoda\\data\\datautils.py:90: RuntimeWarning: The API did not return data for 2022-12-11 12:00:00\n",
      "  warnings.warn(RuntimeWarning(f'The API did not return data for {date_hour}'))\n",
      "D:\\lib\\site-packages\\pykoda\\data\\datautils.py:90: RuntimeWarning: The API did not return data for 2022-12-11 13:00:00\n",
      "  warnings.warn(RuntimeWarning(f'The API did not return data for {date_hour}'))\n",
      "Loading data:  74%|████████████████████████████████████████████████▋                 | 230/312 [00:16<00:06, 13.55it/s]D:\\lib\\site-packages\\pykoda\\data\\datautils.py:90: RuntimeWarning: The API did not return data for 2022-12-11 14:00:00\n",
      "  warnings.warn(RuntimeWarning(f'The API did not return data for {date_hour}'))\n",
      "D:\\lib\\site-packages\\pykoda\\data\\datautils.py:90: RuntimeWarning: The API did not return data for 2022-12-11 15:00:00\n",
      "  warnings.warn(RuntimeWarning(f'The API did not return data for {date_hour}'))\n",
      "Loading data:  74%|█████████████████████████████████████████████████                 | 232/312 [00:17<00:05, 13.51it/s]"
     ]
    },
    {
     "name": "stdout",
     "output_type": "stream",
     "text": [
      "System tool failed: Command '['7z', 'e', '-oC:/Users/13490/AppData/Local/pykoda/pykoda/Cache/sl-tripupdates-2022-12-11', 'C:/Users/13490/AppData/Local/pykoda/pykoda/Cache/sl-tripupdates-2022-12-11.bz2']' returned non-zero exit status 255.\n",
      "None\n",
      "Executing python function, producing output(s): C:/Users/13490/AppData/Local/pykoda/pykoda/Cache/sl_TripUpdates_2022_12_11_13.feather.tmp\n",
      "Getting C:/Users/13490/AppData/Local/pykoda/pykoda/Cache/sl_TripUpdates_2022_12_11_14.feather\n",
      "File or folder already exists, so skipping task: data (datafolder)\n",
      "File or folder already exists, so skipping task: C:/Users/13490/AppData/Local/pykoda/pykoda/Cache/sl-tripupdates-2022-12-11.bz2 (file)\n",
      "System tool failed: Command '['7z', 'e', '-oC:/Users/13490/AppData/Local/pykoda/pykoda/Cache/sl-tripupdates-2022-12-11', 'C:/Users/13490/AppData/Local/pykoda/pykoda/Cache/sl-tripupdates-2022-12-11.bz2']' returned non-zero exit status 255.\n",
      "None\n",
      "Executing python function, producing output(s): C:/Users/13490/AppData/Local/pykoda/pykoda/Cache/sl_TripUpdates_2022_12_11_14.feather.tmp\n",
      "Getting C:/Users/13490/AppData/Local/pykoda/pykoda/Cache/sl_TripUpdates_2022_12_11_15.feather\n",
      "File or folder already exists, so skipping task: data (datafolder)\n",
      "File or folder already exists, so skipping task: C:/Users/13490/AppData/Local/pykoda/pykoda/Cache/sl-tripupdates-2022-12-11.bz2 (file)\n",
      "System tool failed: Command '['7z', 'e', '-oC:/Users/13490/AppData/Local/pykoda/pykoda/Cache/sl-tripupdates-2022-12-11', 'C:/Users/13490/AppData/Local/pykoda/pykoda/Cache/sl-tripupdates-2022-12-11.bz2']' returned non-zero exit status 255.\n",
      "None\n",
      "Executing python function, producing output(s): C:/Users/13490/AppData/Local/pykoda/pykoda/Cache/sl_TripUpdates_2022_12_11_15.feather.tmp\n",
      "Getting C:/Users/13490/AppData/Local/pykoda/pykoda/Cache/sl_TripUpdates_2022_12_11_16.feather\n",
      "File or folder already exists, so skipping task: data (datafolder)\n",
      "File or folder already exists, so skipping task: C:/Users/13490/AppData/Local/pykoda/pykoda/Cache/sl-tripupdates-2022-12-11.bz2 (file)\n"
     ]
    },
    {
     "name": "stderr",
     "output_type": "stream",
     "text": [
      "D:\\lib\\site-packages\\pykoda\\data\\datautils.py:90: RuntimeWarning: The API did not return data for 2022-12-11 16:00:00\n",
      "  warnings.warn(RuntimeWarning(f'The API did not return data for {date_hour}'))\n",
      "D:\\lib\\site-packages\\pykoda\\data\\datautils.py:90: RuntimeWarning: The API did not return data for 2022-12-11 17:00:00\n",
      "  warnings.warn(RuntimeWarning(f'The API did not return data for {date_hour}'))\n",
      "Loading data:  75%|█████████████████████████████████████████████████▌                | 234/312 [00:17<00:05, 13.61it/s]"
     ]
    },
    {
     "name": "stdout",
     "output_type": "stream",
     "text": [
      "System tool failed: Command '['7z', 'e', '-oC:/Users/13490/AppData/Local/pykoda/pykoda/Cache/sl-tripupdates-2022-12-11', 'C:/Users/13490/AppData/Local/pykoda/pykoda/Cache/sl-tripupdates-2022-12-11.bz2']' returned non-zero exit status 255.\n",
      "None\n",
      "Executing python function, producing output(s): C:/Users/13490/AppData/Local/pykoda/pykoda/Cache/sl_TripUpdates_2022_12_11_16.feather.tmp\n",
      "Getting C:/Users/13490/AppData/Local/pykoda/pykoda/Cache/sl_TripUpdates_2022_12_11_17.feather\n",
      "File or folder already exists, so skipping task: data (datafolder)\n",
      "File or folder already exists, so skipping task: C:/Users/13490/AppData/Local/pykoda/pykoda/Cache/sl-tripupdates-2022-12-11.bz2 (file)\n",
      "System tool failed: Command '['7z', 'e', '-oC:/Users/13490/AppData/Local/pykoda/pykoda/Cache/sl-tripupdates-2022-12-11', 'C:/Users/13490/AppData/Local/pykoda/pykoda/Cache/sl-tripupdates-2022-12-11.bz2']' returned non-zero exit status 255.\n",
      "None\n",
      "Executing python function, producing output(s): C:/Users/13490/AppData/Local/pykoda/pykoda/Cache/sl_TripUpdates_2022_12_11_17.feather.tmp\n",
      "Getting C:/Users/13490/AppData/Local/pykoda/pykoda/Cache/sl_TripUpdates_2022_12_11_18.feather\n",
      "File or folder already exists, so skipping task: data (datafolder)\n",
      "File or folder already exists, so skipping task: C:/Users/13490/AppData/Local/pykoda/pykoda/Cache/sl-tripupdates-2022-12-11.bz2 (file)\n",
      "System tool failed: Command '['7z', 'e', '-oC:/Users/13490/AppData/Local/pykoda/pykoda/Cache/sl-tripupdates-2022-12-11', 'C:/Users/13490/AppData/Local/pykoda/pykoda/Cache/sl-tripupdates-2022-12-11.bz2']' returned non-zero exit status 255.\n",
      "None\n",
      "Executing python function, producing output(s): C:/Users/13490/AppData/Local/pykoda/pykoda/Cache/sl_TripUpdates_2022_12_11_18.feather.tmp\n",
      "Getting C:/Users/13490/AppData/Local/pykoda/pykoda/Cache/sl_TripUpdates_2022_12_11_19.feather\n",
      "File or folder already exists, so skipping task: data (datafolder)\n",
      "File or folder already exists, so skipping task: C:/Users/13490/AppData/Local/pykoda/pykoda/Cache/sl-tripupdates-2022-12-11.bz2 (file)\n"
     ]
    },
    {
     "name": "stderr",
     "output_type": "stream",
     "text": [
      "D:\\lib\\site-packages\\pykoda\\data\\datautils.py:90: RuntimeWarning: The API did not return data for 2022-12-11 18:00:00\n",
      "  warnings.warn(RuntimeWarning(f'The API did not return data for {date_hour}'))\n",
      "D:\\lib\\site-packages\\pykoda\\data\\datautils.py:90: RuntimeWarning: The API did not return data for 2022-12-11 19:00:00\n",
      "  warnings.warn(RuntimeWarning(f'The API did not return data for {date_hour}'))\n",
      "Loading data:  76%|█████████████████████████████████████████████████▉                | 236/312 [00:17<00:05, 13.76it/s]D:\\lib\\site-packages\\pykoda\\data\\datautils.py:90: RuntimeWarning: The API did not return data for 2022-12-11 20:00:00\n",
      "  warnings.warn(RuntimeWarning(f'The API did not return data for {date_hour}'))\n",
      "D:\\lib\\site-packages\\pykoda\\data\\datautils.py:90: RuntimeWarning: The API did not return data for 2022-12-11 21:00:00\n",
      "  warnings.warn(RuntimeWarning(f'The API did not return data for {date_hour}'))\n",
      "Loading data:  76%|██████████████████████████████████████████████████▎               | 238/312 [00:17<00:05, 13.32it/s]"
     ]
    },
    {
     "name": "stdout",
     "output_type": "stream",
     "text": [
      "System tool failed: Command '['7z', 'e', '-oC:/Users/13490/AppData/Local/pykoda/pykoda/Cache/sl-tripupdates-2022-12-11', 'C:/Users/13490/AppData/Local/pykoda/pykoda/Cache/sl-tripupdates-2022-12-11.bz2']' returned non-zero exit status 255.\n",
      "None\n",
      "Executing python function, producing output(s): C:/Users/13490/AppData/Local/pykoda/pykoda/Cache/sl_TripUpdates_2022_12_11_19.feather.tmp\n",
      "Getting C:/Users/13490/AppData/Local/pykoda/pykoda/Cache/sl_TripUpdates_2022_12_11_20.feather\n",
      "File or folder already exists, so skipping task: data (datafolder)\n",
      "File or folder already exists, so skipping task: C:/Users/13490/AppData/Local/pykoda/pykoda/Cache/sl-tripupdates-2022-12-11.bz2 (file)\n",
      "System tool failed: Command '['7z', 'e', '-oC:/Users/13490/AppData/Local/pykoda/pykoda/Cache/sl-tripupdates-2022-12-11', 'C:/Users/13490/AppData/Local/pykoda/pykoda/Cache/sl-tripupdates-2022-12-11.bz2']' returned non-zero exit status 255.\n",
      "None\n",
      "Executing python function, producing output(s): C:/Users/13490/AppData/Local/pykoda/pykoda/Cache/sl_TripUpdates_2022_12_11_20.feather.tmp\n",
      "Getting C:/Users/13490/AppData/Local/pykoda/pykoda/Cache/sl_TripUpdates_2022_12_11_21.feather\n",
      "File or folder already exists, so skipping task: data (datafolder)\n",
      "File or folder already exists, so skipping task: C:/Users/13490/AppData/Local/pykoda/pykoda/Cache/sl-tripupdates-2022-12-11.bz2 (file)\n",
      "System tool failed: Command '['7z', 'e', '-oC:/Users/13490/AppData/Local/pykoda/pykoda/Cache/sl-tripupdates-2022-12-11', 'C:/Users/13490/AppData/Local/pykoda/pykoda/Cache/sl-tripupdates-2022-12-11.bz2']' returned non-zero exit status 255.\n",
      "None\n",
      "Executing python function, producing output(s): C:/Users/13490/AppData/Local/pykoda/pykoda/Cache/sl_TripUpdates_2022_12_11_21.feather.tmp\n",
      "Getting C:/Users/13490/AppData/Local/pykoda/pykoda/Cache/sl_TripUpdates_2022_12_11_22.feather\n",
      "File or folder already exists, so skipping task: data (datafolder)\n",
      "File or folder already exists, so skipping task: C:/Users/13490/AppData/Local/pykoda/pykoda/Cache/sl-tripupdates-2022-12-11.bz2 (file)\n"
     ]
    },
    {
     "name": "stderr",
     "output_type": "stream",
     "text": [
      "D:\\lib\\site-packages\\pykoda\\data\\datautils.py:90: RuntimeWarning: The API did not return data for 2022-12-11 22:00:00\n",
      "  warnings.warn(RuntimeWarning(f'The API did not return data for {date_hour}'))\n",
      "D:\\lib\\site-packages\\pykoda\\data\\datautils.py:90: RuntimeWarning: The API did not return data for 2022-12-11 23:00:00\n",
      "  warnings.warn(RuntimeWarning(f'The API did not return data for {date_hour}'))\n",
      "Loading data:  77%|██████████████████████████████████████████████████▊               | 240/312 [00:17<00:05, 13.34it/s]"
     ]
    },
    {
     "name": "stdout",
     "output_type": "stream",
     "text": [
      "System tool failed: Command '['7z', 'e', '-oC:/Users/13490/AppData/Local/pykoda/pykoda/Cache/sl-tripupdates-2022-12-11', 'C:/Users/13490/AppData/Local/pykoda/pykoda/Cache/sl-tripupdates-2022-12-11.bz2']' returned non-zero exit status 255.\n",
      "None\n",
      "Executing python function, producing output(s): C:/Users/13490/AppData/Local/pykoda/pykoda/Cache/sl_TripUpdates_2022_12_11_22.feather.tmp\n",
      "Getting C:/Users/13490/AppData/Local/pykoda/pykoda/Cache/sl_TripUpdates_2022_12_11_23.feather\n",
      "File or folder already exists, so skipping task: data (datafolder)\n",
      "File or folder already exists, so skipping task: C:/Users/13490/AppData/Local/pykoda/pykoda/Cache/sl-tripupdates-2022-12-11.bz2 (file)\n",
      "System tool failed: Command '['7z', 'e', '-oC:/Users/13490/AppData/Local/pykoda/pykoda/Cache/sl-tripupdates-2022-12-11', 'C:/Users/13490/AppData/Local/pykoda/pykoda/Cache/sl-tripupdates-2022-12-11.bz2']' returned non-zero exit status 255.\n",
      "None\n",
      "Executing python function, producing output(s): C:/Users/13490/AppData/Local/pykoda/pykoda/Cache/sl_TripUpdates_2022_12_11_23.feather.tmp\n",
      "Getting C:/Users/13490/AppData/Local/pykoda/pykoda/Cache/sl_TripUpdates_2022_12_12_1.feather\n",
      "File or folder already exists, so skipping task: data (datafolder)\n",
      "File or folder already exists, so skipping task: C:/Users/13490/AppData/Local/pykoda/pykoda/Cache/sl-tripupdates-2022-12-12.bz2 (file)\n"
     ]
    },
    {
     "name": "stderr",
     "output_type": "stream",
     "text": [
      "D:\\lib\\site-packages\\pykoda\\data\\datautils.py:90: RuntimeWarning: The API did not return data for 2022-12-12 01:00:00\n",
      "  warnings.warn(RuntimeWarning(f'The API did not return data for {date_hour}'))\n",
      "Loading data:  78%|███████████████████████████████████████████████████▏              | 242/312 [00:17<00:05, 12.88it/s]D:\\lib\\site-packages\\pykoda\\data\\datautils.py:90: RuntimeWarning: The API did not return data for 2022-12-12 02:00:00\n",
      "  warnings.warn(RuntimeWarning(f'The API did not return data for {date_hour}'))\n",
      "D:\\lib\\site-packages\\pykoda\\data\\datautils.py:90: RuntimeWarning: The API did not return data for 2022-12-12 03:00:00\n",
      "  warnings.warn(RuntimeWarning(f'The API did not return data for {date_hour}'))\n",
      "Loading data:  78%|███████████████████████████████████████████████████▌              | 244/312 [00:17<00:05, 13.06it/s]"
     ]
    },
    {
     "name": "stdout",
     "output_type": "stream",
     "text": [
      "System tool failed: Command '['7z', 'e', '-oC:/Users/13490/AppData/Local/pykoda/pykoda/Cache/sl-tripupdates-2022-12-12', 'C:/Users/13490/AppData/Local/pykoda/pykoda/Cache/sl-tripupdates-2022-12-12.bz2']' returned non-zero exit status 255.\n",
      "None\n",
      "Executing python function, producing output(s): C:/Users/13490/AppData/Local/pykoda/pykoda/Cache/sl_TripUpdates_2022_12_12_1.feather.tmp\n",
      "Getting C:/Users/13490/AppData/Local/pykoda/pykoda/Cache/sl_TripUpdates_2022_12_12_2.feather\n",
      "File or folder already exists, so skipping task: data (datafolder)\n",
      "File or folder already exists, so skipping task: C:/Users/13490/AppData/Local/pykoda/pykoda/Cache/sl-tripupdates-2022-12-12.bz2 (file)\n",
      "System tool failed: Command '['7z', 'e', '-oC:/Users/13490/AppData/Local/pykoda/pykoda/Cache/sl-tripupdates-2022-12-12', 'C:/Users/13490/AppData/Local/pykoda/pykoda/Cache/sl-tripupdates-2022-12-12.bz2']' returned non-zero exit status 255.\n",
      "None\n",
      "Executing python function, producing output(s): C:/Users/13490/AppData/Local/pykoda/pykoda/Cache/sl_TripUpdates_2022_12_12_2.feather.tmp\n",
      "Getting C:/Users/13490/AppData/Local/pykoda/pykoda/Cache/sl_TripUpdates_2022_12_12_3.feather\n",
      "File or folder already exists, so skipping task: data (datafolder)\n",
      "File or folder already exists, so skipping task: C:/Users/13490/AppData/Local/pykoda/pykoda/Cache/sl-tripupdates-2022-12-12.bz2 (file)\n",
      "System tool failed: Command '['7z', 'e', '-oC:/Users/13490/AppData/Local/pykoda/pykoda/Cache/sl-tripupdates-2022-12-12', 'C:/Users/13490/AppData/Local/pykoda/pykoda/Cache/sl-tripupdates-2022-12-12.bz2']' returned non-zero exit status 255.\n",
      "None\n",
      "Executing python function, producing output(s): C:/Users/13490/AppData/Local/pykoda/pykoda/Cache/sl_TripUpdates_2022_12_12_3.feather.tmp\n",
      "Getting C:/Users/13490/AppData/Local/pykoda/pykoda/Cache/sl_TripUpdates_2022_12_12_4.feather\n",
      "File or folder already exists, so skipping task: data (datafolder)\n",
      "File or folder already exists, so skipping task: C:/Users/13490/AppData/Local/pykoda/pykoda/Cache/sl-tripupdates-2022-12-12.bz2 (file)\n"
     ]
    },
    {
     "name": "stderr",
     "output_type": "stream",
     "text": [
      "D:\\lib\\site-packages\\pykoda\\data\\datautils.py:90: RuntimeWarning: The API did not return data for 2022-12-12 04:00:00\n",
      "  warnings.warn(RuntimeWarning(f'The API did not return data for {date_hour}'))\n",
      "D:\\lib\\site-packages\\pykoda\\data\\datautils.py:90: RuntimeWarning: The API did not return data for 2022-12-12 05:00:00\n",
      "  warnings.warn(RuntimeWarning(f'The API did not return data for {date_hour}'))\n",
      "Loading data:  79%|████████████████████████████████████████████████████              | 246/312 [00:18<00:04, 13.20it/s]"
     ]
    },
    {
     "name": "stdout",
     "output_type": "stream",
     "text": [
      "System tool failed: Command '['7z', 'e', '-oC:/Users/13490/AppData/Local/pykoda/pykoda/Cache/sl-tripupdates-2022-12-12', 'C:/Users/13490/AppData/Local/pykoda/pykoda/Cache/sl-tripupdates-2022-12-12.bz2']' returned non-zero exit status 255.\n",
      "None\n",
      "Executing python function, producing output(s): C:/Users/13490/AppData/Local/pykoda/pykoda/Cache/sl_TripUpdates_2022_12_12_4.feather.tmp\n",
      "Getting C:/Users/13490/AppData/Local/pykoda/pykoda/Cache/sl_TripUpdates_2022_12_12_5.feather\n",
      "File or folder already exists, so skipping task: data (datafolder)\n",
      "File or folder already exists, so skipping task: C:/Users/13490/AppData/Local/pykoda/pykoda/Cache/sl-tripupdates-2022-12-12.bz2 (file)\n",
      "System tool failed: Command '['7z', 'e', '-oC:/Users/13490/AppData/Local/pykoda/pykoda/Cache/sl-tripupdates-2022-12-12', 'C:/Users/13490/AppData/Local/pykoda/pykoda/Cache/sl-tripupdates-2022-12-12.bz2']' returned non-zero exit status 255.\n",
      "None\n",
      "Executing python function, producing output(s): C:/Users/13490/AppData/Local/pykoda/pykoda/Cache/sl_TripUpdates_2022_12_12_5.feather.tmp\n",
      "Getting C:/Users/13490/AppData/Local/pykoda/pykoda/Cache/sl_TripUpdates_2022_12_12_6.feather\n",
      "File or folder already exists, so skipping task: data (datafolder)\n",
      "File or folder already exists, so skipping task: C:/Users/13490/AppData/Local/pykoda/pykoda/Cache/sl-tripupdates-2022-12-12.bz2 (file)\n",
      "System tool failed: Command '['7z', 'e', '-oC:/Users/13490/AppData/Local/pykoda/pykoda/Cache/sl-tripupdates-2022-12-12', 'C:/Users/13490/AppData/Local/pykoda/pykoda/Cache/sl-tripupdates-2022-12-12.bz2']' returned non-zero exit status 255.\n",
      "None\n",
      "Executing python function, producing output(s): C:/Users/13490/AppData/Local/pykoda/pykoda/Cache/sl_TripUpdates_2022_12_12_6.feather.tmp\n",
      "Getting C:/Users/13490/AppData/Local/pykoda/pykoda/Cache/sl_TripUpdates_2022_12_12_7.feather\n",
      "File or folder already exists, so skipping task: data (datafolder)\n",
      "File or folder already exists, so skipping task: C:/Users/13490/AppData/Local/pykoda/pykoda/Cache/sl-tripupdates-2022-12-12.bz2 (file)\n"
     ]
    },
    {
     "name": "stderr",
     "output_type": "stream",
     "text": [
      "D:\\lib\\site-packages\\pykoda\\data\\datautils.py:90: RuntimeWarning: The API did not return data for 2022-12-12 06:00:00\n",
      "  warnings.warn(RuntimeWarning(f'The API did not return data for {date_hour}'))\n",
      "D:\\lib\\site-packages\\pykoda\\data\\datautils.py:90: RuntimeWarning: The API did not return data for 2022-12-12 07:00:00\n",
      "  warnings.warn(RuntimeWarning(f'The API did not return data for {date_hour}'))\n",
      "Loading data:  79%|████████████████████████████████████████████████████▍             | 248/312 [00:18<00:04, 13.55it/s]D:\\lib\\site-packages\\pykoda\\data\\datautils.py:90: RuntimeWarning: The API did not return data for 2022-12-12 08:00:00\n",
      "  warnings.warn(RuntimeWarning(f'The API did not return data for {date_hour}'))\n",
      "D:\\lib\\site-packages\\pykoda\\data\\datautils.py:90: RuntimeWarning: The API did not return data for 2022-12-12 09:00:00\n",
      "  warnings.warn(RuntimeWarning(f'The API did not return data for {date_hour}'))\n",
      "Loading data:  80%|████████████████████████████████████████████████████▉             | 250/312 [00:18<00:04, 13.75it/s]"
     ]
    },
    {
     "name": "stdout",
     "output_type": "stream",
     "text": [
      "System tool failed: Command '['7z', 'e', '-oC:/Users/13490/AppData/Local/pykoda/pykoda/Cache/sl-tripupdates-2022-12-12', 'C:/Users/13490/AppData/Local/pykoda/pykoda/Cache/sl-tripupdates-2022-12-12.bz2']' returned non-zero exit status 255.\n",
      "None\n",
      "Executing python function, producing output(s): C:/Users/13490/AppData/Local/pykoda/pykoda/Cache/sl_TripUpdates_2022_12_12_7.feather.tmp\n",
      "Getting C:/Users/13490/AppData/Local/pykoda/pykoda/Cache/sl_TripUpdates_2022_12_12_8.feather\n",
      "File or folder already exists, so skipping task: data (datafolder)\n",
      "File or folder already exists, so skipping task: C:/Users/13490/AppData/Local/pykoda/pykoda/Cache/sl-tripupdates-2022-12-12.bz2 (file)\n",
      "System tool failed: Command '['7z', 'e', '-oC:/Users/13490/AppData/Local/pykoda/pykoda/Cache/sl-tripupdates-2022-12-12', 'C:/Users/13490/AppData/Local/pykoda/pykoda/Cache/sl-tripupdates-2022-12-12.bz2']' returned non-zero exit status 255.\n",
      "None\n",
      "Executing python function, producing output(s): C:/Users/13490/AppData/Local/pykoda/pykoda/Cache/sl_TripUpdates_2022_12_12_8.feather.tmp\n",
      "Getting C:/Users/13490/AppData/Local/pykoda/pykoda/Cache/sl_TripUpdates_2022_12_12_9.feather\n",
      "File or folder already exists, so skipping task: data (datafolder)\n",
      "File or folder already exists, so skipping task: C:/Users/13490/AppData/Local/pykoda/pykoda/Cache/sl-tripupdates-2022-12-12.bz2 (file)\n",
      "System tool failed: Command '['7z', 'e', '-oC:/Users/13490/AppData/Local/pykoda/pykoda/Cache/sl-tripupdates-2022-12-12', 'C:/Users/13490/AppData/Local/pykoda/pykoda/Cache/sl-tripupdates-2022-12-12.bz2']' returned non-zero exit status 255.\n",
      "None\n",
      "Executing python function, producing output(s): C:/Users/13490/AppData/Local/pykoda/pykoda/Cache/sl_TripUpdates_2022_12_12_9.feather.tmp\n",
      "Getting C:/Users/13490/AppData/Local/pykoda/pykoda/Cache/sl_TripUpdates_2022_12_12_10.feather\n",
      "File or folder already exists, so skipping task: data (datafolder)\n",
      "File or folder already exists, so skipping task: C:/Users/13490/AppData/Local/pykoda/pykoda/Cache/sl-tripupdates-2022-12-12.bz2 (file)\n"
     ]
    },
    {
     "name": "stderr",
     "output_type": "stream",
     "text": [
      "D:\\lib\\site-packages\\pykoda\\data\\datautils.py:90: RuntimeWarning: The API did not return data for 2022-12-12 10:00:00\n",
      "  warnings.warn(RuntimeWarning(f'The API did not return data for {date_hour}'))\n",
      "D:\\lib\\site-packages\\pykoda\\data\\datautils.py:90: RuntimeWarning: The API did not return data for 2022-12-12 11:00:00\n",
      "  warnings.warn(RuntimeWarning(f'The API did not return data for {date_hour}'))\n",
      "Loading data:  81%|█████████████████████████████████████████████████████▎            | 252/312 [00:18<00:04, 13.87it/s]D:\\lib\\site-packages\\pykoda\\data\\datautils.py:90: RuntimeWarning: The API did not return data for 2022-12-12 12:00:00\n",
      "  warnings.warn(RuntimeWarning(f'The API did not return data for {date_hour}'))\n",
      "D:\\lib\\site-packages\\pykoda\\data\\datautils.py:90: RuntimeWarning: The API did not return data for 2022-12-12 13:00:00\n",
      "  warnings.warn(RuntimeWarning(f'The API did not return data for {date_hour}'))\n",
      "Loading data:  81%|█████████████████████████████████████████████████████▋            | 254/312 [00:18<00:04, 14.16it/s]"
     ]
    },
    {
     "name": "stdout",
     "output_type": "stream",
     "text": [
      "System tool failed: Command '['7z', 'e', '-oC:/Users/13490/AppData/Local/pykoda/pykoda/Cache/sl-tripupdates-2022-12-12', 'C:/Users/13490/AppData/Local/pykoda/pykoda/Cache/sl-tripupdates-2022-12-12.bz2']' returned non-zero exit status 255.\n",
      "None\n",
      "Executing python function, producing output(s): C:/Users/13490/AppData/Local/pykoda/pykoda/Cache/sl_TripUpdates_2022_12_12_10.feather.tmp\n",
      "Getting C:/Users/13490/AppData/Local/pykoda/pykoda/Cache/sl_TripUpdates_2022_12_12_11.feather\n",
      "File or folder already exists, so skipping task: data (datafolder)\n",
      "File or folder already exists, so skipping task: C:/Users/13490/AppData/Local/pykoda/pykoda/Cache/sl-tripupdates-2022-12-12.bz2 (file)\n",
      "System tool failed: Command '['7z', 'e', '-oC:/Users/13490/AppData/Local/pykoda/pykoda/Cache/sl-tripupdates-2022-12-12', 'C:/Users/13490/AppData/Local/pykoda/pykoda/Cache/sl-tripupdates-2022-12-12.bz2']' returned non-zero exit status 255.\n",
      "None\n",
      "Executing python function, producing output(s): C:/Users/13490/AppData/Local/pykoda/pykoda/Cache/sl_TripUpdates_2022_12_12_11.feather.tmp\n",
      "Getting C:/Users/13490/AppData/Local/pykoda/pykoda/Cache/sl_TripUpdates_2022_12_12_12.feather\n",
      "File or folder already exists, so skipping task: data (datafolder)\n",
      "File or folder already exists, so skipping task: C:/Users/13490/AppData/Local/pykoda/pykoda/Cache/sl-tripupdates-2022-12-12.bz2 (file)\n",
      "System tool failed: Command '['7z', 'e', '-oC:/Users/13490/AppData/Local/pykoda/pykoda/Cache/sl-tripupdates-2022-12-12', 'C:/Users/13490/AppData/Local/pykoda/pykoda/Cache/sl-tripupdates-2022-12-12.bz2']' returned non-zero exit status 255.\n",
      "None\n",
      "Executing python function, producing output(s): C:/Users/13490/AppData/Local/pykoda/pykoda/Cache/sl_TripUpdates_2022_12_12_12.feather.tmp\n",
      "Getting C:/Users/13490/AppData/Local/pykoda/pykoda/Cache/sl_TripUpdates_2022_12_12_13.feather\n",
      "File or folder already exists, so skipping task: data (datafolder)\n",
      "File or folder already exists, so skipping task: C:/Users/13490/AppData/Local/pykoda/pykoda/Cache/sl-tripupdates-2022-12-12.bz2 (file)\n",
      "System tool failed: Command '['7z', 'e', '-oC:/Users/13490/AppData/Local/pykoda/pykoda/Cache/sl-tripupdates-2022-12-12', 'C:/Users/13490/AppData/Local/pykoda/pykoda/Cache/sl-tripupdates-2022-12-12.bz2']' returned non-zero exit status 255.\n",
      "None\n",
      "Executing python function, producing output(s): C:/Users/13490/AppData/Local/pykoda/pykoda/Cache/sl_TripUpdates_2022_12_12_13.feather.tmp\n"
     ]
    },
    {
     "name": "stderr",
     "output_type": "stream",
     "text": [
      "D:\\lib\\site-packages\\pykoda\\data\\datautils.py:90: RuntimeWarning: The API did not return data for 2022-12-12 14:00:00\n",
      "  warnings.warn(RuntimeWarning(f'The API did not return data for {date_hour}'))\n",
      "D:\\lib\\site-packages\\pykoda\\data\\datautils.py:90: RuntimeWarning: The API did not return data for 2022-12-12 15:00:00\n",
      "  warnings.warn(RuntimeWarning(f'The API did not return data for {date_hour}'))\n",
      "Loading data:  82%|██████████████████████████████████████████████████████▏           | 256/312 [00:18<00:04, 13.62it/s]"
     ]
    },
    {
     "name": "stdout",
     "output_type": "stream",
     "text": [
      "Getting C:/Users/13490/AppData/Local/pykoda/pykoda/Cache/sl_TripUpdates_2022_12_12_14.feather\n",
      "File or folder already exists, so skipping task: data (datafolder)\n",
      "File or folder already exists, so skipping task: C:/Users/13490/AppData/Local/pykoda/pykoda/Cache/sl-tripupdates-2022-12-12.bz2 (file)\n",
      "System tool failed: Command '['7z', 'e', '-oC:/Users/13490/AppData/Local/pykoda/pykoda/Cache/sl-tripupdates-2022-12-12', 'C:/Users/13490/AppData/Local/pykoda/pykoda/Cache/sl-tripupdates-2022-12-12.bz2']' returned non-zero exit status 255.\n",
      "None\n",
      "Executing python function, producing output(s): C:/Users/13490/AppData/Local/pykoda/pykoda/Cache/sl_TripUpdates_2022_12_12_14.feather.tmp\n",
      "Getting C:/Users/13490/AppData/Local/pykoda/pykoda/Cache/sl_TripUpdates_2022_12_12_15.feather\n",
      "File or folder already exists, so skipping task: data (datafolder)\n",
      "File or folder already exists, so skipping task: C:/Users/13490/AppData/Local/pykoda/pykoda/Cache/sl-tripupdates-2022-12-12.bz2 (file)\n",
      "System tool failed: Command '['7z', 'e', '-oC:/Users/13490/AppData/Local/pykoda/pykoda/Cache/sl-tripupdates-2022-12-12', 'C:/Users/13490/AppData/Local/pykoda/pykoda/Cache/sl-tripupdates-2022-12-12.bz2']' returned non-zero exit status 255.\n",
      "None\n",
      "Executing python function, producing output(s): C:/Users/13490/AppData/Local/pykoda/pykoda/Cache/sl_TripUpdates_2022_12_12_15.feather.tmp\n",
      "Getting C:/Users/13490/AppData/Local/pykoda/pykoda/Cache/sl_TripUpdates_2022_12_12_16.feather\n",
      "File or folder already exists, so skipping task: data (datafolder)\n",
      "File or folder already exists, so skipping task: C:/Users/13490/AppData/Local/pykoda/pykoda/Cache/sl-tripupdates-2022-12-12.bz2 (file)\n"
     ]
    },
    {
     "name": "stderr",
     "output_type": "stream",
     "text": [
      "D:\\lib\\site-packages\\pykoda\\data\\datautils.py:90: RuntimeWarning: The API did not return data for 2022-12-12 16:00:00\n",
      "  warnings.warn(RuntimeWarning(f'The API did not return data for {date_hour}'))\n",
      "D:\\lib\\site-packages\\pykoda\\data\\datautils.py:90: RuntimeWarning: The API did not return data for 2022-12-12 17:00:00\n",
      "  warnings.warn(RuntimeWarning(f'The API did not return data for {date_hour}'))\n",
      "Loading data:  83%|██████████████████████████████████████████████████████▌           | 258/312 [00:18<00:04, 13.27it/s]"
     ]
    },
    {
     "name": "stdout",
     "output_type": "stream",
     "text": [
      "System tool failed: Command '['7z', 'e', '-oC:/Users/13490/AppData/Local/pykoda/pykoda/Cache/sl-tripupdates-2022-12-12', 'C:/Users/13490/AppData/Local/pykoda/pykoda/Cache/sl-tripupdates-2022-12-12.bz2']' returned non-zero exit status 255.\n",
      "None\n",
      "Executing python function, producing output(s): C:/Users/13490/AppData/Local/pykoda/pykoda/Cache/sl_TripUpdates_2022_12_12_16.feather.tmp\n",
      "Getting C:/Users/13490/AppData/Local/pykoda/pykoda/Cache/sl_TripUpdates_2022_12_12_17.feather\n",
      "File or folder already exists, so skipping task: data (datafolder)\n",
      "File or folder already exists, so skipping task: C:/Users/13490/AppData/Local/pykoda/pykoda/Cache/sl-tripupdates-2022-12-12.bz2 (file)\n",
      "System tool failed: Command '['7z', 'e', '-oC:/Users/13490/AppData/Local/pykoda/pykoda/Cache/sl-tripupdates-2022-12-12', 'C:/Users/13490/AppData/Local/pykoda/pykoda/Cache/sl-tripupdates-2022-12-12.bz2']' returned non-zero exit status 255.\n",
      "None\n",
      "Executing python function, producing output(s): C:/Users/13490/AppData/Local/pykoda/pykoda/Cache/sl_TripUpdates_2022_12_12_17.feather.tmp\n",
      "Getting C:/Users/13490/AppData/Local/pykoda/pykoda/Cache/sl_TripUpdates_2022_12_12_18.feather\n",
      "File or folder already exists, so skipping task: data (datafolder)\n",
      "File or folder already exists, so skipping task: C:/Users/13490/AppData/Local/pykoda/pykoda/Cache/sl-tripupdates-2022-12-12.bz2 (file)\n",
      "System tool failed: Command '['7z', 'e', '-oC:/Users/13490/AppData/Local/pykoda/pykoda/Cache/sl-tripupdates-2022-12-12', 'C:/Users/13490/AppData/Local/pykoda/pykoda/Cache/sl-tripupdates-2022-12-12.bz2']' returned non-zero exit status 255.\n",
      "None\n",
      "Executing python function, producing output(s): C:/Users/13490/AppData/Local/pykoda/pykoda/Cache/sl_TripUpdates_2022_12_12_18.feather.tmp\n",
      "Getting C:/Users/13490/AppData/Local/pykoda/pykoda/Cache/sl_TripUpdates_2022_12_12_19.feather\n",
      "File or folder already exists, so skipping task: data (datafolder)\n",
      "File or folder already exists, so skipping task: C:/Users/13490/AppData/Local/pykoda/pykoda/Cache/sl-tripupdates-2022-12-12.bz2 (file)\n"
     ]
    },
    {
     "name": "stderr",
     "output_type": "stream",
     "text": [
      "D:\\lib\\site-packages\\pykoda\\data\\datautils.py:90: RuntimeWarning: The API did not return data for 2022-12-12 18:00:00\n",
      "  warnings.warn(RuntimeWarning(f'The API did not return data for {date_hour}'))\n",
      "D:\\lib\\site-packages\\pykoda\\data\\datautils.py:90: RuntimeWarning: The API did not return data for 2022-12-12 19:00:00\n",
      "  warnings.warn(RuntimeWarning(f'The API did not return data for {date_hour}'))\n",
      "Loading data:  83%|███████████████████████████████████████████████████████           | 260/312 [00:19<00:03, 13.03it/s]D:\\lib\\site-packages\\pykoda\\data\\datautils.py:90: RuntimeWarning: The API did not return data for 2022-12-12 20:00:00\n",
      "  warnings.warn(RuntimeWarning(f'The API did not return data for {date_hour}'))\n",
      "D:\\lib\\site-packages\\pykoda\\data\\datautils.py:90: RuntimeWarning: The API did not return data for 2022-12-12 21:00:00\n",
      "  warnings.warn(RuntimeWarning(f'The API did not return data for {date_hour}'))\n",
      "Loading data:  84%|███████████████████████████████████████████████████████▍          | 262/312 [00:19<00:03, 13.32it/s]"
     ]
    },
    {
     "name": "stdout",
     "output_type": "stream",
     "text": [
      "System tool failed: Command '['7z', 'e', '-oC:/Users/13490/AppData/Local/pykoda/pykoda/Cache/sl-tripupdates-2022-12-12', 'C:/Users/13490/AppData/Local/pykoda/pykoda/Cache/sl-tripupdates-2022-12-12.bz2']' returned non-zero exit status 255.\n",
      "None\n",
      "Executing python function, producing output(s): C:/Users/13490/AppData/Local/pykoda/pykoda/Cache/sl_TripUpdates_2022_12_12_19.feather.tmp\n",
      "Getting C:/Users/13490/AppData/Local/pykoda/pykoda/Cache/sl_TripUpdates_2022_12_12_20.feather\n",
      "File or folder already exists, so skipping task: data (datafolder)\n",
      "File or folder already exists, so skipping task: C:/Users/13490/AppData/Local/pykoda/pykoda/Cache/sl-tripupdates-2022-12-12.bz2 (file)\n",
      "System tool failed: Command '['7z', 'e', '-oC:/Users/13490/AppData/Local/pykoda/pykoda/Cache/sl-tripupdates-2022-12-12', 'C:/Users/13490/AppData/Local/pykoda/pykoda/Cache/sl-tripupdates-2022-12-12.bz2']' returned non-zero exit status 255.\n",
      "None\n",
      "Executing python function, producing output(s): C:/Users/13490/AppData/Local/pykoda/pykoda/Cache/sl_TripUpdates_2022_12_12_20.feather.tmp\n",
      "Getting C:/Users/13490/AppData/Local/pykoda/pykoda/Cache/sl_TripUpdates_2022_12_12_21.feather\n",
      "File or folder already exists, so skipping task: data (datafolder)\n",
      "File or folder already exists, so skipping task: C:/Users/13490/AppData/Local/pykoda/pykoda/Cache/sl-tripupdates-2022-12-12.bz2 (file)\n",
      "System tool failed: Command '['7z', 'e', '-oC:/Users/13490/AppData/Local/pykoda/pykoda/Cache/sl-tripupdates-2022-12-12', 'C:/Users/13490/AppData/Local/pykoda/pykoda/Cache/sl-tripupdates-2022-12-12.bz2']' returned non-zero exit status 255.\n",
      "None\n",
      "Executing python function, producing output(s): C:/Users/13490/AppData/Local/pykoda/pykoda/Cache/sl_TripUpdates_2022_12_12_21.feather.tmp\n",
      "Getting C:/Users/13490/AppData/Local/pykoda/pykoda/Cache/sl_TripUpdates_2022_12_12_22.feather\n",
      "File or folder already exists, so skipping task: data (datafolder)\n",
      "File or folder already exists, so skipping task: C:/Users/13490/AppData/Local/pykoda/pykoda/Cache/sl-tripupdates-2022-12-12.bz2 (file)\n"
     ]
    },
    {
     "name": "stderr",
     "output_type": "stream",
     "text": [
      "D:\\lib\\site-packages\\pykoda\\data\\datautils.py:90: RuntimeWarning: The API did not return data for 2022-12-12 22:00:00\n",
      "  warnings.warn(RuntimeWarning(f'The API did not return data for {date_hour}'))\n",
      "D:\\lib\\site-packages\\pykoda\\data\\datautils.py:90: RuntimeWarning: The API did not return data for 2022-12-12 23:00:00\n",
      "  warnings.warn(RuntimeWarning(f'The API did not return data for {date_hour}'))\n",
      "Loading data:  85%|███████████████████████████████████████████████████████▊          | 264/312 [00:19<00:03, 13.59it/s]D:\\lib\\site-packages\\pykoda\\data\\datautils.py:90: RuntimeWarning: The API did not return data for 2022-12-13 00:00:00\n",
      "  warnings.warn(RuntimeWarning(f'The API did not return data for {date_hour}'))\n",
      "D:\\lib\\site-packages\\pykoda\\data\\datautils.py:90: RuntimeWarning: The API did not return data for 2022-12-13 01:00:00\n",
      "  warnings.warn(RuntimeWarning(f'The API did not return data for {date_hour}'))\n",
      "Loading data:  85%|████████████████████████████████████████████████████████▎         | 266/312 [00:19<00:03, 13.86it/s]"
     ]
    },
    {
     "name": "stdout",
     "output_type": "stream",
     "text": [
      "System tool failed: Command '['7z', 'e', '-oC:/Users/13490/AppData/Local/pykoda/pykoda/Cache/sl-tripupdates-2022-12-12', 'C:/Users/13490/AppData/Local/pykoda/pykoda/Cache/sl-tripupdates-2022-12-12.bz2']' returned non-zero exit status 255.\n",
      "None\n",
      "Executing python function, producing output(s): C:/Users/13490/AppData/Local/pykoda/pykoda/Cache/sl_TripUpdates_2022_12_12_22.feather.tmp\n",
      "Getting C:/Users/13490/AppData/Local/pykoda/pykoda/Cache/sl_TripUpdates_2022_12_12_23.feather\n",
      "File or folder already exists, so skipping task: data (datafolder)\n",
      "File or folder already exists, so skipping task: C:/Users/13490/AppData/Local/pykoda/pykoda/Cache/sl-tripupdates-2022-12-12.bz2 (file)\n",
      "System tool failed: Command '['7z', 'e', '-oC:/Users/13490/AppData/Local/pykoda/pykoda/Cache/sl-tripupdates-2022-12-12', 'C:/Users/13490/AppData/Local/pykoda/pykoda/Cache/sl-tripupdates-2022-12-12.bz2']' returned non-zero exit status 255.\n",
      "None\n",
      "Executing python function, producing output(s): C:/Users/13490/AppData/Local/pykoda/pykoda/Cache/sl_TripUpdates_2022_12_12_23.feather.tmp\n",
      "Getting C:/Users/13490/AppData/Local/pykoda/pykoda/Cache/sl_TripUpdates_2022_12_13_0.feather\n",
      "File or folder already exists, so skipping task: data (datafolder)\n",
      "File or folder already exists, so skipping task: C:/Users/13490/AppData/Local/pykoda/pykoda/Cache/sl-tripupdates-2022-12-13.bz2 (file)\n",
      "System tool failed: Command '['7z', 'e', '-oC:/Users/13490/AppData/Local/pykoda/pykoda/Cache/sl-tripupdates-2022-12-13', 'C:/Users/13490/AppData/Local/pykoda/pykoda/Cache/sl-tripupdates-2022-12-13.bz2']' returned non-zero exit status 255.\n",
      "None\n",
      "Executing python function, producing output(s): C:/Users/13490/AppData/Local/pykoda/pykoda/Cache/sl_TripUpdates_2022_12_13_0.feather.tmp\n",
      "Getting C:/Users/13490/AppData/Local/pykoda/pykoda/Cache/sl_TripUpdates_2022_12_13_1.feather\n",
      "File or folder already exists, so skipping task: data (datafolder)\n",
      "File or folder already exists, so skipping task: C:/Users/13490/AppData/Local/pykoda/pykoda/Cache/sl-tripupdates-2022-12-13.bz2 (file)\n",
      "System tool failed: Command '['7z', 'e', '-oC:/Users/13490/AppData/Local/pykoda/pykoda/Cache/sl-tripupdates-2022-12-13', 'C:/Users/13490/AppData/Local/pykoda/pykoda/Cache/sl-tripupdates-2022-12-13.bz2']' returned non-zero exit status 255.\n",
      "None\n",
      "Executing python function, producing output(s): C:/Users/13490/AppData/Local/pykoda/pykoda/Cache/sl_TripUpdates_2022_12_13_1.feather.tmp\n"
     ]
    },
    {
     "name": "stderr",
     "output_type": "stream",
     "text": [
      "D:\\lib\\site-packages\\pykoda\\data\\datautils.py:90: RuntimeWarning: The API did not return data for 2022-12-13 02:00:00\n",
      "  warnings.warn(RuntimeWarning(f'The API did not return data for {date_hour}'))\n",
      "D:\\lib\\site-packages\\pykoda\\data\\datautils.py:90: RuntimeWarning: The API did not return data for 2022-12-13 03:00:00\n",
      "  warnings.warn(RuntimeWarning(f'The API did not return data for {date_hour}'))\n",
      "Loading data:  86%|████████████████████████████████████████████████████████▋         | 268/312 [00:19<00:03, 14.16it/s]"
     ]
    },
    {
     "name": "stdout",
     "output_type": "stream",
     "text": [
      "Getting C:/Users/13490/AppData/Local/pykoda/pykoda/Cache/sl_TripUpdates_2022_12_13_2.feather\n",
      "File or folder already exists, so skipping task: data (datafolder)\n",
      "File or folder already exists, so skipping task: C:/Users/13490/AppData/Local/pykoda/pykoda/Cache/sl-tripupdates-2022-12-13.bz2 (file)\n",
      "System tool failed: Command '['7z', 'e', '-oC:/Users/13490/AppData/Local/pykoda/pykoda/Cache/sl-tripupdates-2022-12-13', 'C:/Users/13490/AppData/Local/pykoda/pykoda/Cache/sl-tripupdates-2022-12-13.bz2']' returned non-zero exit status 255.\n",
      "None\n",
      "Executing python function, producing output(s): C:/Users/13490/AppData/Local/pykoda/pykoda/Cache/sl_TripUpdates_2022_12_13_2.feather.tmp\n",
      "Getting C:/Users/13490/AppData/Local/pykoda/pykoda/Cache/sl_TripUpdates_2022_12_13_3.feather\n",
      "File or folder already exists, so skipping task: data (datafolder)\n",
      "File or folder already exists, so skipping task: C:/Users/13490/AppData/Local/pykoda/pykoda/Cache/sl-tripupdates-2022-12-13.bz2 (file)\n",
      "System tool failed: Command '['7z', 'e', '-oC:/Users/13490/AppData/Local/pykoda/pykoda/Cache/sl-tripupdates-2022-12-13', 'C:/Users/13490/AppData/Local/pykoda/pykoda/Cache/sl-tripupdates-2022-12-13.bz2']' returned non-zero exit status 255.\n",
      "None\n",
      "Executing python function, producing output(s): C:/Users/13490/AppData/Local/pykoda/pykoda/Cache/sl_TripUpdates_2022_12_13_3.feather.tmp\n",
      "Getting C:/Users/13490/AppData/Local/pykoda/pykoda/Cache/sl_TripUpdates_2022_12_13_4.feather\n",
      "File or folder already exists, so skipping task: data (datafolder)\n",
      "File or folder already exists, so skipping task: C:/Users/13490/AppData/Local/pykoda/pykoda/Cache/sl-tripupdates-2022-12-13.bz2 (file)\n",
      "System tool failed: Command '['7z', 'e', '-oC:/Users/13490/AppData/Local/pykoda/pykoda/Cache/sl-tripupdates-2022-12-13', 'C:/Users/13490/AppData/Local/pykoda/pykoda/Cache/sl-tripupdates-2022-12-13.bz2']' returned non-zero exit status 255.\n",
      "None\n",
      "Executing python function, producing output(s): C:/Users/13490/AppData/Local/pykoda/pykoda/Cache/sl_TripUpdates_2022_12_13_4.feather.tmp\n"
     ]
    },
    {
     "name": "stderr",
     "output_type": "stream",
     "text": [
      "D:\\lib\\site-packages\\pykoda\\data\\datautils.py:90: RuntimeWarning: The API did not return data for 2022-12-13 04:00:00\n",
      "  warnings.warn(RuntimeWarning(f'The API did not return data for {date_hour}'))\n",
      "D:\\lib\\site-packages\\pykoda\\data\\datautils.py:90: RuntimeWarning: The API did not return data for 2022-12-13 05:00:00\n",
      "  warnings.warn(RuntimeWarning(f'The API did not return data for {date_hour}'))\n",
      "Loading data:  87%|█████████████████████████████████████████████████████████         | 270/312 [00:19<00:02, 14.06it/s]D:\\lib\\site-packages\\pykoda\\data\\datautils.py:90: RuntimeWarning: The API did not return data for 2022-12-13 06:00:00\n",
      "  warnings.warn(RuntimeWarning(f'The API did not return data for {date_hour}'))\n"
     ]
    },
    {
     "name": "stdout",
     "output_type": "stream",
     "text": [
      "Getting C:/Users/13490/AppData/Local/pykoda/pykoda/Cache/sl_TripUpdates_2022_12_13_5.feather\n",
      "File or folder already exists, so skipping task: data (datafolder)\n",
      "File or folder already exists, so skipping task: C:/Users/13490/AppData/Local/pykoda/pykoda/Cache/sl-tripupdates-2022-12-13.bz2 (file)\n",
      "System tool failed: Command '['7z', 'e', '-oC:/Users/13490/AppData/Local/pykoda/pykoda/Cache/sl-tripupdates-2022-12-13', 'C:/Users/13490/AppData/Local/pykoda/pykoda/Cache/sl-tripupdates-2022-12-13.bz2']' returned non-zero exit status 255.\n",
      "None\n",
      "Executing python function, producing output(s): C:/Users/13490/AppData/Local/pykoda/pykoda/Cache/sl_TripUpdates_2022_12_13_5.feather.tmp\n",
      "Getting C:/Users/13490/AppData/Local/pykoda/pykoda/Cache/sl_TripUpdates_2022_12_13_6.feather\n",
      "File or folder already exists, so skipping task: data (datafolder)\n",
      "File or folder already exists, so skipping task: C:/Users/13490/AppData/Local/pykoda/pykoda/Cache/sl-tripupdates-2022-12-13.bz2 (file)\n",
      "System tool failed: Command '['7z', 'e', '-oC:/Users/13490/AppData/Local/pykoda/pykoda/Cache/sl-tripupdates-2022-12-13', 'C:/Users/13490/AppData/Local/pykoda/pykoda/Cache/sl-tripupdates-2022-12-13.bz2']' returned non-zero exit status 255.\n",
      "None\n",
      "Executing python function, producing output(s): C:/Users/13490/AppData/Local/pykoda/pykoda/Cache/sl_TripUpdates_2022_12_13_6.feather.tmp\n",
      "Getting C:/Users/13490/AppData/Local/pykoda/pykoda/Cache/sl_TripUpdates_2022_12_13_7.feather\n",
      "File or folder already exists, so skipping task: data (datafolder)\n",
      "File or folder already exists, so skipping task: C:/Users/13490/AppData/Local/pykoda/pykoda/Cache/sl-tripupdates-2022-12-13.bz2 (file)\n"
     ]
    },
    {
     "name": "stderr",
     "output_type": "stream",
     "text": [
      "D:\\lib\\site-packages\\pykoda\\data\\datautils.py:90: RuntimeWarning: The API did not return data for 2022-12-13 07:00:00\n",
      "  warnings.warn(RuntimeWarning(f'The API did not return data for {date_hour}'))\n",
      "Loading data:  87%|█████████████████████████████████████████████████████████▌        | 272/312 [00:19<00:03, 13.32it/s]D:\\lib\\site-packages\\pykoda\\data\\datautils.py:90: RuntimeWarning: The API did not return data for 2022-12-13 08:00:00\n",
      "  warnings.warn(RuntimeWarning(f'The API did not return data for {date_hour}'))\n",
      "D:\\lib\\site-packages\\pykoda\\data\\datautils.py:90: RuntimeWarning: The API did not return data for 2022-12-13 09:00:00\n",
      "  warnings.warn(RuntimeWarning(f'The API did not return data for {date_hour}'))\n",
      "Loading data:  88%|█████████████████████████████████████████████████████████▉        | 274/312 [00:20<00:02, 13.25it/s]"
     ]
    },
    {
     "name": "stdout",
     "output_type": "stream",
     "text": [
      "System tool failed: Command '['7z', 'e', '-oC:/Users/13490/AppData/Local/pykoda/pykoda/Cache/sl-tripupdates-2022-12-13', 'C:/Users/13490/AppData/Local/pykoda/pykoda/Cache/sl-tripupdates-2022-12-13.bz2']' returned non-zero exit status 255.\n",
      "None\n",
      "Executing python function, producing output(s): C:/Users/13490/AppData/Local/pykoda/pykoda/Cache/sl_TripUpdates_2022_12_13_7.feather.tmp\n",
      "Getting C:/Users/13490/AppData/Local/pykoda/pykoda/Cache/sl_TripUpdates_2022_12_13_8.feather\n",
      "File or folder already exists, so skipping task: data (datafolder)\n",
      "File or folder already exists, so skipping task: C:/Users/13490/AppData/Local/pykoda/pykoda/Cache/sl-tripupdates-2022-12-13.bz2 (file)\n",
      "System tool failed: Command '['7z', 'e', '-oC:/Users/13490/AppData/Local/pykoda/pykoda/Cache/sl-tripupdates-2022-12-13', 'C:/Users/13490/AppData/Local/pykoda/pykoda/Cache/sl-tripupdates-2022-12-13.bz2']' returned non-zero exit status 255.\n",
      "None\n",
      "Executing python function, producing output(s): C:/Users/13490/AppData/Local/pykoda/pykoda/Cache/sl_TripUpdates_2022_12_13_8.feather.tmp\n",
      "Getting C:/Users/13490/AppData/Local/pykoda/pykoda/Cache/sl_TripUpdates_2022_12_13_9.feather\n",
      "File or folder already exists, so skipping task: data (datafolder)\n",
      "File or folder already exists, so skipping task: C:/Users/13490/AppData/Local/pykoda/pykoda/Cache/sl-tripupdates-2022-12-13.bz2 (file)\n",
      "System tool failed: Command '['7z', 'e', '-oC:/Users/13490/AppData/Local/pykoda/pykoda/Cache/sl-tripupdates-2022-12-13', 'C:/Users/13490/AppData/Local/pykoda/pykoda/Cache/sl-tripupdates-2022-12-13.bz2']' returned non-zero exit status 255.\n",
      "None\n",
      "Executing python function, producing output(s): C:/Users/13490/AppData/Local/pykoda/pykoda/Cache/sl_TripUpdates_2022_12_13_9.feather.tmp\n",
      "Getting C:/Users/13490/AppData/Local/pykoda/pykoda/Cache/sl_TripUpdates_2022_12_13_10.feather\n",
      "File or folder already exists, so skipping task: data (datafolder)\n",
      "File or folder already exists, so skipping task: C:/Users/13490/AppData/Local/pykoda/pykoda/Cache/sl-tripupdates-2022-12-13.bz2 (file)\n"
     ]
    },
    {
     "name": "stderr",
     "output_type": "stream",
     "text": [
      "D:\\lib\\site-packages\\pykoda\\data\\datautils.py:90: RuntimeWarning: The API did not return data for 2022-12-13 10:00:00\n",
      "  warnings.warn(RuntimeWarning(f'The API did not return data for {date_hour}'))\n",
      "D:\\lib\\site-packages\\pykoda\\data\\datautils.py:90: RuntimeWarning: The API did not return data for 2022-12-13 11:00:00\n",
      "  warnings.warn(RuntimeWarning(f'The API did not return data for {date_hour}'))\n",
      "Loading data:  88%|██████████████████████████████████████████████████████████▍       | 276/312 [00:20<00:02, 13.28it/s]"
     ]
    },
    {
     "name": "stdout",
     "output_type": "stream",
     "text": [
      "System tool failed: Command '['7z', 'e', '-oC:/Users/13490/AppData/Local/pykoda/pykoda/Cache/sl-tripupdates-2022-12-13', 'C:/Users/13490/AppData/Local/pykoda/pykoda/Cache/sl-tripupdates-2022-12-13.bz2']' returned non-zero exit status 255.\n",
      "None\n",
      "Executing python function, producing output(s): C:/Users/13490/AppData/Local/pykoda/pykoda/Cache/sl_TripUpdates_2022_12_13_10.feather.tmp\n",
      "Getting C:/Users/13490/AppData/Local/pykoda/pykoda/Cache/sl_TripUpdates_2022_12_13_11.feather\n",
      "File or folder already exists, so skipping task: data (datafolder)\n",
      "File or folder already exists, so skipping task: C:/Users/13490/AppData/Local/pykoda/pykoda/Cache/sl-tripupdates-2022-12-13.bz2 (file)\n",
      "System tool failed: Command '['7z', 'e', '-oC:/Users/13490/AppData/Local/pykoda/pykoda/Cache/sl-tripupdates-2022-12-13', 'C:/Users/13490/AppData/Local/pykoda/pykoda/Cache/sl-tripupdates-2022-12-13.bz2']' returned non-zero exit status 255.\n",
      "None\n",
      "Executing python function, producing output(s): C:/Users/13490/AppData/Local/pykoda/pykoda/Cache/sl_TripUpdates_2022_12_13_11.feather.tmp\n",
      "Getting C:/Users/13490/AppData/Local/pykoda/pykoda/Cache/sl_TripUpdates_2022_12_13_12.feather\n",
      "File or folder already exists, so skipping task: data (datafolder)\n",
      "File or folder already exists, so skipping task: C:/Users/13490/AppData/Local/pykoda/pykoda/Cache/sl-tripupdates-2022-12-13.bz2 (file)\n",
      "System tool failed: Command '['7z', 'e', '-oC:/Users/13490/AppData/Local/pykoda/pykoda/Cache/sl-tripupdates-2022-12-13', 'C:/Users/13490/AppData/Local/pykoda/pykoda/Cache/sl-tripupdates-2022-12-13.bz2']' returned non-zero exit status 255.\n",
      "None\n",
      "Executing python function, producing output(s): C:/Users/13490/AppData/Local/pykoda/pykoda/Cache/sl_TripUpdates_2022_12_13_12.feather.tmp\n",
      "Getting C:/Users/13490/AppData/Local/pykoda/pykoda/Cache/sl_TripUpdates_2022_12_13_13.feather\n",
      "File or folder already exists, so skipping task: data (datafolder)\n",
      "File or folder already exists, so skipping task: C:/Users/13490/AppData/Local/pykoda/pykoda/Cache/sl-tripupdates-2022-12-13.bz2 (file)\n"
     ]
    },
    {
     "name": "stderr",
     "output_type": "stream",
     "text": [
      "D:\\lib\\site-packages\\pykoda\\data\\datautils.py:90: RuntimeWarning: The API did not return data for 2022-12-13 12:00:00\n",
      "  warnings.warn(RuntimeWarning(f'The API did not return data for {date_hour}'))\n",
      "D:\\lib\\site-packages\\pykoda\\data\\datautils.py:90: RuntimeWarning: The API did not return data for 2022-12-13 13:00:00\n",
      "  warnings.warn(RuntimeWarning(f'The API did not return data for {date_hour}'))\n",
      "Loading data:  89%|██████████████████████████████████████████████████████████▊       | 278/312 [00:20<00:02, 13.33it/s]D:\\lib\\site-packages\\pykoda\\data\\datautils.py:90: RuntimeWarning: The API did not return data for 2022-12-13 14:00:00\n",
      "  warnings.warn(RuntimeWarning(f'The API did not return data for {date_hour}'))\n",
      "D:\\lib\\site-packages\\pykoda\\data\\datautils.py:90: RuntimeWarning: The API did not return data for 2022-12-13 15:00:00\n",
      "  warnings.warn(RuntimeWarning(f'The API did not return data for {date_hour}'))\n",
      "Loading data:  90%|███████████████████████████████████████████████████████████▏      | 280/312 [00:20<00:02, 13.59it/s]"
     ]
    },
    {
     "name": "stdout",
     "output_type": "stream",
     "text": [
      "System tool failed: Command '['7z', 'e', '-oC:/Users/13490/AppData/Local/pykoda/pykoda/Cache/sl-tripupdates-2022-12-13', 'C:/Users/13490/AppData/Local/pykoda/pykoda/Cache/sl-tripupdates-2022-12-13.bz2']' returned non-zero exit status 255.\n",
      "None\n",
      "Executing python function, producing output(s): C:/Users/13490/AppData/Local/pykoda/pykoda/Cache/sl_TripUpdates_2022_12_13_13.feather.tmp\n",
      "Getting C:/Users/13490/AppData/Local/pykoda/pykoda/Cache/sl_TripUpdates_2022_12_13_14.feather\n",
      "File or folder already exists, so skipping task: data (datafolder)\n",
      "File or folder already exists, so skipping task: C:/Users/13490/AppData/Local/pykoda/pykoda/Cache/sl-tripupdates-2022-12-13.bz2 (file)\n",
      "System tool failed: Command '['7z', 'e', '-oC:/Users/13490/AppData/Local/pykoda/pykoda/Cache/sl-tripupdates-2022-12-13', 'C:/Users/13490/AppData/Local/pykoda/pykoda/Cache/sl-tripupdates-2022-12-13.bz2']' returned non-zero exit status 255.\n",
      "None\n",
      "Executing python function, producing output(s): C:/Users/13490/AppData/Local/pykoda/pykoda/Cache/sl_TripUpdates_2022_12_13_14.feather.tmp\n",
      "Getting C:/Users/13490/AppData/Local/pykoda/pykoda/Cache/sl_TripUpdates_2022_12_13_15.feather\n",
      "File or folder already exists, so skipping task: data (datafolder)\n",
      "File or folder already exists, so skipping task: C:/Users/13490/AppData/Local/pykoda/pykoda/Cache/sl-tripupdates-2022-12-13.bz2 (file)\n",
      "System tool failed: Command '['7z', 'e', '-oC:/Users/13490/AppData/Local/pykoda/pykoda/Cache/sl-tripupdates-2022-12-13', 'C:/Users/13490/AppData/Local/pykoda/pykoda/Cache/sl-tripupdates-2022-12-13.bz2']' returned non-zero exit status 255.\n",
      "None\n",
      "Executing python function, producing output(s): C:/Users/13490/AppData/Local/pykoda/pykoda/Cache/sl_TripUpdates_2022_12_13_15.feather.tmp\n",
      "Getting C:/Users/13490/AppData/Local/pykoda/pykoda/Cache/sl_TripUpdates_2022_12_13_16.feather\n",
      "File or folder already exists, so skipping task: data (datafolder)\n",
      "File or folder already exists, so skipping task: C:/Users/13490/AppData/Local/pykoda/pykoda/Cache/sl-tripupdates-2022-12-13.bz2 (file)\n"
     ]
    },
    {
     "name": "stderr",
     "output_type": "stream",
     "text": [
      "D:\\lib\\site-packages\\pykoda\\data\\datautils.py:90: RuntimeWarning: The API did not return data for 2022-12-13 16:00:00\n",
      "  warnings.warn(RuntimeWarning(f'The API did not return data for {date_hour}'))\n",
      "D:\\lib\\site-packages\\pykoda\\data\\datautils.py:90: RuntimeWarning: The API did not return data for 2022-12-13 17:00:00\n",
      "  warnings.warn(RuntimeWarning(f'The API did not return data for {date_hour}'))\n",
      "Loading data:  90%|███████████████████████████████████████████████████████████▋      | 282/312 [00:20<00:02, 13.77it/s]"
     ]
    },
    {
     "name": "stdout",
     "output_type": "stream",
     "text": [
      "System tool failed: Command '['7z', 'e', '-oC:/Users/13490/AppData/Local/pykoda/pykoda/Cache/sl-tripupdates-2022-12-13', 'C:/Users/13490/AppData/Local/pykoda/pykoda/Cache/sl-tripupdates-2022-12-13.bz2']' returned non-zero exit status 255.\n",
      "None\n",
      "Executing python function, producing output(s): C:/Users/13490/AppData/Local/pykoda/pykoda/Cache/sl_TripUpdates_2022_12_13_16.feather.tmp\n",
      "Getting C:/Users/13490/AppData/Local/pykoda/pykoda/Cache/sl_TripUpdates_2022_12_13_17.feather\n",
      "File or folder already exists, so skipping task: data (datafolder)\n",
      "File or folder already exists, so skipping task: C:/Users/13490/AppData/Local/pykoda/pykoda/Cache/sl-tripupdates-2022-12-13.bz2 (file)\n",
      "System tool failed: Command '['7z', 'e', '-oC:/Users/13490/AppData/Local/pykoda/pykoda/Cache/sl-tripupdates-2022-12-13', 'C:/Users/13490/AppData/Local/pykoda/pykoda/Cache/sl-tripupdates-2022-12-13.bz2']' returned non-zero exit status 255.\n",
      "None\n",
      "Executing python function, producing output(s): C:/Users/13490/AppData/Local/pykoda/pykoda/Cache/sl_TripUpdates_2022_12_13_17.feather.tmp\n",
      "Getting C:/Users/13490/AppData/Local/pykoda/pykoda/Cache/sl_TripUpdates_2022_12_13_18.feather\n",
      "File or folder already exists, so skipping task: data (datafolder)\n",
      "File or folder already exists, so skipping task: C:/Users/13490/AppData/Local/pykoda/pykoda/Cache/sl-tripupdates-2022-12-13.bz2 (file)\n",
      "System tool failed: Command '['7z', 'e', '-oC:/Users/13490/AppData/Local/pykoda/pykoda/Cache/sl-tripupdates-2022-12-13', 'C:/Users/13490/AppData/Local/pykoda/pykoda/Cache/sl-tripupdates-2022-12-13.bz2']' returned non-zero exit status 255.\n",
      "None\n",
      "Executing python function, producing output(s): C:/Users/13490/AppData/Local/pykoda/pykoda/Cache/sl_TripUpdates_2022_12_13_18.feather.tmp\n",
      "Getting C:/Users/13490/AppData/Local/pykoda/pykoda/Cache/sl_TripUpdates_2022_12_13_19.feather\n",
      "File or folder already exists, so skipping task: data (datafolder)\n",
      "File or folder already exists, so skipping task: C:/Users/13490/AppData/Local/pykoda/pykoda/Cache/sl-tripupdates-2022-12-13.bz2 (file)\n"
     ]
    },
    {
     "name": "stderr",
     "output_type": "stream",
     "text": [
      "D:\\lib\\site-packages\\pykoda\\data\\datautils.py:90: RuntimeWarning: The API did not return data for 2022-12-13 18:00:00\n",
      "  warnings.warn(RuntimeWarning(f'The API did not return data for {date_hour}'))\n",
      "D:\\lib\\site-packages\\pykoda\\data\\datautils.py:90: RuntimeWarning: The API did not return data for 2022-12-13 19:00:00\n",
      "  warnings.warn(RuntimeWarning(f'The API did not return data for {date_hour}'))\n",
      "Loading data:  91%|████████████████████████████████████████████████████████████      | 284/312 [00:20<00:02, 13.72it/s]D:\\lib\\site-packages\\pykoda\\data\\datautils.py:90: RuntimeWarning: The API did not return data for 2022-12-13 20:00:00\n",
      "  warnings.warn(RuntimeWarning(f'The API did not return data for {date_hour}'))\n",
      "D:\\lib\\site-packages\\pykoda\\data\\datautils.py:90: RuntimeWarning: The API did not return data for 2022-12-13 21:00:00\n",
      "  warnings.warn(RuntimeWarning(f'The API did not return data for {date_hour}'))\n",
      "Loading data:  92%|████████████████████████████████████████████████████████████▌     | 286/312 [00:21<00:01, 13.49it/s]"
     ]
    },
    {
     "name": "stdout",
     "output_type": "stream",
     "text": [
      "System tool failed: Command '['7z', 'e', '-oC:/Users/13490/AppData/Local/pykoda/pykoda/Cache/sl-tripupdates-2022-12-13', 'C:/Users/13490/AppData/Local/pykoda/pykoda/Cache/sl-tripupdates-2022-12-13.bz2']' returned non-zero exit status 255.\n",
      "None\n",
      "Executing python function, producing output(s): C:/Users/13490/AppData/Local/pykoda/pykoda/Cache/sl_TripUpdates_2022_12_13_19.feather.tmp\n",
      "Getting C:/Users/13490/AppData/Local/pykoda/pykoda/Cache/sl_TripUpdates_2022_12_13_20.feather\n",
      "File or folder already exists, so skipping task: data (datafolder)\n",
      "File or folder already exists, so skipping task: C:/Users/13490/AppData/Local/pykoda/pykoda/Cache/sl-tripupdates-2022-12-13.bz2 (file)\n",
      "System tool failed: Command '['7z', 'e', '-oC:/Users/13490/AppData/Local/pykoda/pykoda/Cache/sl-tripupdates-2022-12-13', 'C:/Users/13490/AppData/Local/pykoda/pykoda/Cache/sl-tripupdates-2022-12-13.bz2']' returned non-zero exit status 255.\n",
      "None\n",
      "Executing python function, producing output(s): C:/Users/13490/AppData/Local/pykoda/pykoda/Cache/sl_TripUpdates_2022_12_13_20.feather.tmp\n",
      "Getting C:/Users/13490/AppData/Local/pykoda/pykoda/Cache/sl_TripUpdates_2022_12_13_21.feather\n",
      "File or folder already exists, so skipping task: data (datafolder)\n",
      "File or folder already exists, so skipping task: C:/Users/13490/AppData/Local/pykoda/pykoda/Cache/sl-tripupdates-2022-12-13.bz2 (file)\n",
      "System tool failed: Command '['7z', 'e', '-oC:/Users/13490/AppData/Local/pykoda/pykoda/Cache/sl-tripupdates-2022-12-13', 'C:/Users/13490/AppData/Local/pykoda/pykoda/Cache/sl-tripupdates-2022-12-13.bz2']' returned non-zero exit status 255.\n",
      "None\n",
      "Executing python function, producing output(s): C:/Users/13490/AppData/Local/pykoda/pykoda/Cache/sl_TripUpdates_2022_12_13_21.feather.tmp\n",
      "Getting C:/Users/13490/AppData/Local/pykoda/pykoda/Cache/sl_TripUpdates_2022_12_13_22.feather\n",
      "File or folder already exists, so skipping task: data (datafolder)\n",
      "File or folder already exists, so skipping task: C:/Users/13490/AppData/Local/pykoda/pykoda/Cache/sl-tripupdates-2022-12-13.bz2 (file)\n"
     ]
    },
    {
     "name": "stderr",
     "output_type": "stream",
     "text": [
      "D:\\lib\\site-packages\\pykoda\\data\\datautils.py:90: RuntimeWarning: The API did not return data for 2022-12-13 22:00:00\n",
      "  warnings.warn(RuntimeWarning(f'The API did not return data for {date_hour}'))\n",
      "D:\\lib\\site-packages\\pykoda\\data\\datautils.py:90: RuntimeWarning: The API did not return data for 2022-12-13 23:00:00\n",
      "  warnings.warn(RuntimeWarning(f'The API did not return data for {date_hour}'))\n",
      "Loading data:  92%|████████████████████████████████████████████████████████████▉     | 288/312 [00:21<00:01, 13.52it/s]"
     ]
    },
    {
     "name": "stdout",
     "output_type": "stream",
     "text": [
      "System tool failed: Command '['7z', 'e', '-oC:/Users/13490/AppData/Local/pykoda/pykoda/Cache/sl-tripupdates-2022-12-13', 'C:/Users/13490/AppData/Local/pykoda/pykoda/Cache/sl-tripupdates-2022-12-13.bz2']' returned non-zero exit status 255.\n",
      "None\n",
      "Executing python function, producing output(s): C:/Users/13490/AppData/Local/pykoda/pykoda/Cache/sl_TripUpdates_2022_12_13_22.feather.tmp\n",
      "Getting C:/Users/13490/AppData/Local/pykoda/pykoda/Cache/sl_TripUpdates_2022_12_13_23.feather\n",
      "File or folder already exists, so skipping task: data (datafolder)\n",
      "File or folder already exists, so skipping task: C:/Users/13490/AppData/Local/pykoda/pykoda/Cache/sl-tripupdates-2022-12-13.bz2 (file)\n",
      "System tool failed: Command '['7z', 'e', '-oC:/Users/13490/AppData/Local/pykoda/pykoda/Cache/sl-tripupdates-2022-12-13', 'C:/Users/13490/AppData/Local/pykoda/pykoda/Cache/sl-tripupdates-2022-12-13.bz2']' returned non-zero exit status 255.\n",
      "None\n",
      "Executing python function, producing output(s): C:/Users/13490/AppData/Local/pykoda/pykoda/Cache/sl_TripUpdates_2022_12_13_23.feather.tmp\n",
      "Getting C:/Users/13490/AppData/Local/pykoda/pykoda/Cache/sl_TripUpdates_2022_12_14_1.feather\n",
      "File or folder already exists, so skipping task: data (datafolder)\n",
      "File or folder already exists, so skipping task: C:/Users/13490/AppData/Local/pykoda/pykoda/Cache/sl-tripupdates-2022-12-14.bz2 (file)\n"
     ]
    },
    {
     "name": "stderr",
     "output_type": "stream",
     "text": [
      "D:\\lib\\site-packages\\pykoda\\data\\datautils.py:90: RuntimeWarning: The API did not return data for 2022-12-14 01:00:00\n",
      "  warnings.warn(RuntimeWarning(f'The API did not return data for {date_hour}'))\n",
      "Loading data:  93%|█████████████████████████████████████████████████████████████▎    | 290/312 [00:21<00:01, 13.71it/s]D:\\lib\\site-packages\\pykoda\\data\\datautils.py:90: RuntimeWarning: The API did not return data for 2022-12-14 02:00:00\n",
      "  warnings.warn(RuntimeWarning(f'The API did not return data for {date_hour}'))\n",
      "D:\\lib\\site-packages\\pykoda\\data\\datautils.py:90: RuntimeWarning: The API did not return data for 2022-12-14 03:00:00\n",
      "  warnings.warn(RuntimeWarning(f'The API did not return data for {date_hour}'))\n",
      "Loading data:  94%|█████████████████████████████████████████████████████████████▊    | 292/312 [00:21<00:01, 13.86it/s]"
     ]
    },
    {
     "name": "stdout",
     "output_type": "stream",
     "text": [
      "System tool failed: Command '['7z', 'e', '-oC:/Users/13490/AppData/Local/pykoda/pykoda/Cache/sl-tripupdates-2022-12-14', 'C:/Users/13490/AppData/Local/pykoda/pykoda/Cache/sl-tripupdates-2022-12-14.bz2']' returned non-zero exit status 255.\n",
      "None\n",
      "Executing python function, producing output(s): C:/Users/13490/AppData/Local/pykoda/pykoda/Cache/sl_TripUpdates_2022_12_14_1.feather.tmp\n",
      "Getting C:/Users/13490/AppData/Local/pykoda/pykoda/Cache/sl_TripUpdates_2022_12_14_2.feather\n",
      "File or folder already exists, so skipping task: data (datafolder)\n",
      "File or folder already exists, so skipping task: C:/Users/13490/AppData/Local/pykoda/pykoda/Cache/sl-tripupdates-2022-12-14.bz2 (file)\n",
      "System tool failed: Command '['7z', 'e', '-oC:/Users/13490/AppData/Local/pykoda/pykoda/Cache/sl-tripupdates-2022-12-14', 'C:/Users/13490/AppData/Local/pykoda/pykoda/Cache/sl-tripupdates-2022-12-14.bz2']' returned non-zero exit status 255.\n",
      "None\n",
      "Executing python function, producing output(s): C:/Users/13490/AppData/Local/pykoda/pykoda/Cache/sl_TripUpdates_2022_12_14_2.feather.tmp\n",
      "Getting C:/Users/13490/AppData/Local/pykoda/pykoda/Cache/sl_TripUpdates_2022_12_14_3.feather\n",
      "File or folder already exists, so skipping task: data (datafolder)\n",
      "File or folder already exists, so skipping task: C:/Users/13490/AppData/Local/pykoda/pykoda/Cache/sl-tripupdates-2022-12-14.bz2 (file)\n",
      "System tool failed: Command '['7z', 'e', '-oC:/Users/13490/AppData/Local/pykoda/pykoda/Cache/sl-tripupdates-2022-12-14', 'C:/Users/13490/AppData/Local/pykoda/pykoda/Cache/sl-tripupdates-2022-12-14.bz2']' returned non-zero exit status 255.\n",
      "None\n",
      "Executing python function, producing output(s): C:/Users/13490/AppData/Local/pykoda/pykoda/Cache/sl_TripUpdates_2022_12_14_3.feather.tmp\n",
      "Getting C:/Users/13490/AppData/Local/pykoda/pykoda/Cache/sl_TripUpdates_2022_12_14_4.feather\n",
      "File or folder already exists, so skipping task: data (datafolder)\n",
      "File or folder already exists, so skipping task: C:/Users/13490/AppData/Local/pykoda/pykoda/Cache/sl-tripupdates-2022-12-14.bz2 (file)\n"
     ]
    },
    {
     "name": "stderr",
     "output_type": "stream",
     "text": [
      "D:\\lib\\site-packages\\pykoda\\data\\datautils.py:90: RuntimeWarning: The API did not return data for 2022-12-14 04:00:00\n",
      "  warnings.warn(RuntimeWarning(f'The API did not return data for {date_hour}'))\n",
      "D:\\lib\\site-packages\\pykoda\\data\\datautils.py:90: RuntimeWarning: The API did not return data for 2022-12-14 05:00:00\n",
      "  warnings.warn(RuntimeWarning(f'The API did not return data for {date_hour}'))\n",
      "Loading data:  94%|██████████████████████████████████████████████████████████████▏   | 294/312 [00:21<00:01, 13.87it/s]"
     ]
    },
    {
     "name": "stdout",
     "output_type": "stream",
     "text": [
      "System tool failed: Command '['7z', 'e', '-oC:/Users/13490/AppData/Local/pykoda/pykoda/Cache/sl-tripupdates-2022-12-14', 'C:/Users/13490/AppData/Local/pykoda/pykoda/Cache/sl-tripupdates-2022-12-14.bz2']' returned non-zero exit status 255.\n",
      "None\n",
      "Executing python function, producing output(s): C:/Users/13490/AppData/Local/pykoda/pykoda/Cache/sl_TripUpdates_2022_12_14_4.feather.tmp\n",
      "Getting C:/Users/13490/AppData/Local/pykoda/pykoda/Cache/sl_TripUpdates_2022_12_14_5.feather\n",
      "File or folder already exists, so skipping task: data (datafolder)\n",
      "File or folder already exists, so skipping task: C:/Users/13490/AppData/Local/pykoda/pykoda/Cache/sl-tripupdates-2022-12-14.bz2 (file)\n",
      "System tool failed: Command '['7z', 'e', '-oC:/Users/13490/AppData/Local/pykoda/pykoda/Cache/sl-tripupdates-2022-12-14', 'C:/Users/13490/AppData/Local/pykoda/pykoda/Cache/sl-tripupdates-2022-12-14.bz2']' returned non-zero exit status 255.\n",
      "None\n",
      "Executing python function, producing output(s): C:/Users/13490/AppData/Local/pykoda/pykoda/Cache/sl_TripUpdates_2022_12_14_5.feather.tmp\n",
      "Getting C:/Users/13490/AppData/Local/pykoda/pykoda/Cache/sl_TripUpdates_2022_12_14_6.feather\n",
      "File or folder already exists, so skipping task: data (datafolder)\n",
      "File or folder already exists, so skipping task: C:/Users/13490/AppData/Local/pykoda/pykoda/Cache/sl-tripupdates-2022-12-14.bz2 (file)\n",
      "System tool failed: Command '['7z', 'e', '-oC:/Users/13490/AppData/Local/pykoda/pykoda/Cache/sl-tripupdates-2022-12-14', 'C:/Users/13490/AppData/Local/pykoda/pykoda/Cache/sl-tripupdates-2022-12-14.bz2']' returned non-zero exit status 255.\n",
      "None\n",
      "Executing python function, producing output(s): C:/Users/13490/AppData/Local/pykoda/pykoda/Cache/sl_TripUpdates_2022_12_14_6.feather.tmp\n",
      "Getting C:/Users/13490/AppData/Local/pykoda/pykoda/Cache/sl_TripUpdates_2022_12_14_7.feather\n",
      "File or folder already exists, so skipping task: data (datafolder)\n",
      "File or folder already exists, so skipping task: C:/Users/13490/AppData/Local/pykoda/pykoda/Cache/sl-tripupdates-2022-12-14.bz2 (file)\n"
     ]
    },
    {
     "name": "stderr",
     "output_type": "stream",
     "text": [
      "D:\\lib\\site-packages\\pykoda\\data\\datautils.py:90: RuntimeWarning: The API did not return data for 2022-12-14 06:00:00\n",
      "  warnings.warn(RuntimeWarning(f'The API did not return data for {date_hour}'))\n",
      "D:\\lib\\site-packages\\pykoda\\data\\datautils.py:90: RuntimeWarning: The API did not return data for 2022-12-14 07:00:00\n",
      "  warnings.warn(RuntimeWarning(f'The API did not return data for {date_hour}'))\n",
      "Loading data:  95%|██████████████████████████████████████████████████████████████▌   | 296/312 [00:21<00:01, 13.21it/s]D:\\lib\\site-packages\\pykoda\\data\\datautils.py:90: RuntimeWarning: The API did not return data for 2022-12-14 08:00:00\n",
      "  warnings.warn(RuntimeWarning(f'The API did not return data for {date_hour}'))\n",
      "D:\\lib\\site-packages\\pykoda\\data\\datautils.py:90: RuntimeWarning: The API did not return data for 2022-12-14 09:00:00\n",
      "  warnings.warn(RuntimeWarning(f'The API did not return data for {date_hour}'))\n",
      "Loading data:  96%|███████████████████████████████████████████████████████████████   | 298/312 [00:21<00:01, 13.27it/s]"
     ]
    },
    {
     "name": "stdout",
     "output_type": "stream",
     "text": [
      "System tool failed: Command '['7z', 'e', '-oC:/Users/13490/AppData/Local/pykoda/pykoda/Cache/sl-tripupdates-2022-12-14', 'C:/Users/13490/AppData/Local/pykoda/pykoda/Cache/sl-tripupdates-2022-12-14.bz2']' returned non-zero exit status 255.\n",
      "None\n",
      "Executing python function, producing output(s): C:/Users/13490/AppData/Local/pykoda/pykoda/Cache/sl_TripUpdates_2022_12_14_7.feather.tmp\n",
      "Getting C:/Users/13490/AppData/Local/pykoda/pykoda/Cache/sl_TripUpdates_2022_12_14_8.feather\n",
      "File or folder already exists, so skipping task: data (datafolder)\n",
      "File or folder already exists, so skipping task: C:/Users/13490/AppData/Local/pykoda/pykoda/Cache/sl-tripupdates-2022-12-14.bz2 (file)\n",
      "System tool failed: Command '['7z', 'e', '-oC:/Users/13490/AppData/Local/pykoda/pykoda/Cache/sl-tripupdates-2022-12-14', 'C:/Users/13490/AppData/Local/pykoda/pykoda/Cache/sl-tripupdates-2022-12-14.bz2']' returned non-zero exit status 255.\n",
      "None\n",
      "Executing python function, producing output(s): C:/Users/13490/AppData/Local/pykoda/pykoda/Cache/sl_TripUpdates_2022_12_14_8.feather.tmp\n",
      "Getting C:/Users/13490/AppData/Local/pykoda/pykoda/Cache/sl_TripUpdates_2022_12_14_9.feather\n",
      "File or folder already exists, so skipping task: data (datafolder)\n",
      "File or folder already exists, so skipping task: C:/Users/13490/AppData/Local/pykoda/pykoda/Cache/sl-tripupdates-2022-12-14.bz2 (file)\n",
      "System tool failed: Command '['7z', 'e', '-oC:/Users/13490/AppData/Local/pykoda/pykoda/Cache/sl-tripupdates-2022-12-14', 'C:/Users/13490/AppData/Local/pykoda/pykoda/Cache/sl-tripupdates-2022-12-14.bz2']' returned non-zero exit status 255.\n",
      "None\n",
      "Executing python function, producing output(s): C:/Users/13490/AppData/Local/pykoda/pykoda/Cache/sl_TripUpdates_2022_12_14_9.feather.tmp\n",
      "Getting C:/Users/13490/AppData/Local/pykoda/pykoda/Cache/sl_TripUpdates_2022_12_14_10.feather\n",
      "File or folder already exists, so skipping task: data (datafolder)\n",
      "File or folder already exists, so skipping task: C:/Users/13490/AppData/Local/pykoda/pykoda/Cache/sl-tripupdates-2022-12-14.bz2 (file)\n"
     ]
    },
    {
     "name": "stderr",
     "output_type": "stream",
     "text": [
      "D:\\lib\\site-packages\\pykoda\\data\\datautils.py:90: RuntimeWarning: The API did not return data for 2022-12-14 10:00:00\n",
      "  warnings.warn(RuntimeWarning(f'The API did not return data for {date_hour}'))\n",
      "D:\\lib\\site-packages\\pykoda\\data\\datautils.py:90: RuntimeWarning: The API did not return data for 2022-12-14 11:00:00\n",
      "  warnings.warn(RuntimeWarning(f'The API did not return data for {date_hour}'))\n",
      "Loading data:  96%|███████████████████████████████████████████████████████████████▍  | 300/312 [00:22<00:00, 13.16it/s]"
     ]
    },
    {
     "name": "stdout",
     "output_type": "stream",
     "text": [
      "System tool failed: Command '['7z', 'e', '-oC:/Users/13490/AppData/Local/pykoda/pykoda/Cache/sl-tripupdates-2022-12-14', 'C:/Users/13490/AppData/Local/pykoda/pykoda/Cache/sl-tripupdates-2022-12-14.bz2']' returned non-zero exit status 255.\n",
      "None\n",
      "Executing python function, producing output(s): C:/Users/13490/AppData/Local/pykoda/pykoda/Cache/sl_TripUpdates_2022_12_14_10.feather.tmp\n",
      "Getting C:/Users/13490/AppData/Local/pykoda/pykoda/Cache/sl_TripUpdates_2022_12_14_11.feather\n",
      "File or folder already exists, so skipping task: data (datafolder)\n",
      "File or folder already exists, so skipping task: C:/Users/13490/AppData/Local/pykoda/pykoda/Cache/sl-tripupdates-2022-12-14.bz2 (file)\n",
      "System tool failed: Command '['7z', 'e', '-oC:/Users/13490/AppData/Local/pykoda/pykoda/Cache/sl-tripupdates-2022-12-14', 'C:/Users/13490/AppData/Local/pykoda/pykoda/Cache/sl-tripupdates-2022-12-14.bz2']' returned non-zero exit status 255.\n",
      "None\n",
      "Executing python function, producing output(s): C:/Users/13490/AppData/Local/pykoda/pykoda/Cache/sl_TripUpdates_2022_12_14_11.feather.tmp\n",
      "Getting C:/Users/13490/AppData/Local/pykoda/pykoda/Cache/sl_TripUpdates_2022_12_14_12.feather\n",
      "File or folder already exists, so skipping task: data (datafolder)\n",
      "File or folder already exists, so skipping task: C:/Users/13490/AppData/Local/pykoda/pykoda/Cache/sl-tripupdates-2022-12-14.bz2 (file)\n",
      "System tool failed: Command '['7z', 'e', '-oC:/Users/13490/AppData/Local/pykoda/pykoda/Cache/sl-tripupdates-2022-12-14', 'C:/Users/13490/AppData/Local/pykoda/pykoda/Cache/sl-tripupdates-2022-12-14.bz2']' returned non-zero exit status 255.\n",
      "None\n",
      "Executing python function, producing output(s): C:/Users/13490/AppData/Local/pykoda/pykoda/Cache/sl_TripUpdates_2022_12_14_12.feather.tmp\n",
      "Getting C:/Users/13490/AppData/Local/pykoda/pykoda/Cache/sl_TripUpdates_2022_12_14_13.feather\n",
      "File or folder already exists, so skipping task: data (datafolder)\n",
      "File or folder already exists, so skipping task: C:/Users/13490/AppData/Local/pykoda/pykoda/Cache/sl-tripupdates-2022-12-14.bz2 (file)\n"
     ]
    },
    {
     "name": "stderr",
     "output_type": "stream",
     "text": [
      "D:\\lib\\site-packages\\pykoda\\data\\datautils.py:90: RuntimeWarning: The API did not return data for 2022-12-14 12:00:00\n",
      "  warnings.warn(RuntimeWarning(f'The API did not return data for {date_hour}'))\n",
      "D:\\lib\\site-packages\\pykoda\\data\\datautils.py:90: RuntimeWarning: The API did not return data for 2022-12-14 13:00:00\n",
      "  warnings.warn(RuntimeWarning(f'The API did not return data for {date_hour}'))\n",
      "Loading data:  97%|███████████████████████████████████████████████████████████████▉  | 302/312 [00:22<00:00, 13.38it/s]D:\\lib\\site-packages\\pykoda\\data\\datautils.py:90: RuntimeWarning: The API did not return data for 2022-12-14 14:00:00\n",
      "  warnings.warn(RuntimeWarning(f'The API did not return data for {date_hour}'))\n",
      "D:\\lib\\site-packages\\pykoda\\data\\datautils.py:90: RuntimeWarning: The API did not return data for 2022-12-14 15:00:00\n",
      "  warnings.warn(RuntimeWarning(f'The API did not return data for {date_hour}'))\n",
      "Loading data:  97%|████████████████████████████████████████████████████████████████▎ | 304/312 [00:22<00:00, 13.91it/s]"
     ]
    },
    {
     "name": "stdout",
     "output_type": "stream",
     "text": [
      "System tool failed: Command '['7z', 'e', '-oC:/Users/13490/AppData/Local/pykoda/pykoda/Cache/sl-tripupdates-2022-12-14', 'C:/Users/13490/AppData/Local/pykoda/pykoda/Cache/sl-tripupdates-2022-12-14.bz2']' returned non-zero exit status 255.\n",
      "None\n",
      "Executing python function, producing output(s): C:/Users/13490/AppData/Local/pykoda/pykoda/Cache/sl_TripUpdates_2022_12_14_13.feather.tmp\n",
      "Getting C:/Users/13490/AppData/Local/pykoda/pykoda/Cache/sl_TripUpdates_2022_12_14_14.feather\n",
      "File or folder already exists, so skipping task: data (datafolder)\n",
      "File or folder already exists, so skipping task: C:/Users/13490/AppData/Local/pykoda/pykoda/Cache/sl-tripupdates-2022-12-14.bz2 (file)\n",
      "System tool failed: Command '['7z', 'e', '-oC:/Users/13490/AppData/Local/pykoda/pykoda/Cache/sl-tripupdates-2022-12-14', 'C:/Users/13490/AppData/Local/pykoda/pykoda/Cache/sl-tripupdates-2022-12-14.bz2']' returned non-zero exit status 255.\n",
      "None\n",
      "Executing python function, producing output(s): C:/Users/13490/AppData/Local/pykoda/pykoda/Cache/sl_TripUpdates_2022_12_14_14.feather.tmp\n",
      "Getting C:/Users/13490/AppData/Local/pykoda/pykoda/Cache/sl_TripUpdates_2022_12_14_15.feather\n",
      "File or folder already exists, so skipping task: data (datafolder)\n",
      "File or folder already exists, so skipping task: C:/Users/13490/AppData/Local/pykoda/pykoda/Cache/sl-tripupdates-2022-12-14.bz2 (file)\n",
      "System tool failed: Command '['7z', 'e', '-oC:/Users/13490/AppData/Local/pykoda/pykoda/Cache/sl-tripupdates-2022-12-14', 'C:/Users/13490/AppData/Local/pykoda/pykoda/Cache/sl-tripupdates-2022-12-14.bz2']' returned non-zero exit status 255.\n",
      "None\n",
      "Executing python function, producing output(s): C:/Users/13490/AppData/Local/pykoda/pykoda/Cache/sl_TripUpdates_2022_12_14_15.feather.tmp\n",
      "Getting C:/Users/13490/AppData/Local/pykoda/pykoda/Cache/sl_TripUpdates_2022_12_14_16.feather\n",
      "File or folder already exists, so skipping task: data (datafolder)\n",
      "File or folder already exists, so skipping task: C:/Users/13490/AppData/Local/pykoda/pykoda/Cache/sl-tripupdates-2022-12-14.bz2 (file)\n"
     ]
    },
    {
     "name": "stderr",
     "output_type": "stream",
     "text": [
      "D:\\lib\\site-packages\\pykoda\\data\\datautils.py:90: RuntimeWarning: The API did not return data for 2022-12-14 16:00:00\n",
      "  warnings.warn(RuntimeWarning(f'The API did not return data for {date_hour}'))\n",
      "D:\\lib\\site-packages\\pykoda\\data\\datautils.py:90: RuntimeWarning: The API did not return data for 2022-12-14 17:00:00\n",
      "  warnings.warn(RuntimeWarning(f'The API did not return data for {date_hour}'))\n",
      "Loading data:  98%|████████████████████████████████████████████████████████████████▋ | 306/312 [00:22<00:00, 13.75it/s]"
     ]
    },
    {
     "name": "stdout",
     "output_type": "stream",
     "text": [
      "System tool failed: Command '['7z', 'e', '-oC:/Users/13490/AppData/Local/pykoda/pykoda/Cache/sl-tripupdates-2022-12-14', 'C:/Users/13490/AppData/Local/pykoda/pykoda/Cache/sl-tripupdates-2022-12-14.bz2']' returned non-zero exit status 255.\n",
      "None\n",
      "Executing python function, producing output(s): C:/Users/13490/AppData/Local/pykoda/pykoda/Cache/sl_TripUpdates_2022_12_14_16.feather.tmp\n",
      "Getting C:/Users/13490/AppData/Local/pykoda/pykoda/Cache/sl_TripUpdates_2022_12_14_17.feather\n",
      "File or folder already exists, so skipping task: data (datafolder)\n",
      "File or folder already exists, so skipping task: C:/Users/13490/AppData/Local/pykoda/pykoda/Cache/sl-tripupdates-2022-12-14.bz2 (file)\n",
      "System tool failed: Command '['7z', 'e', '-oC:/Users/13490/AppData/Local/pykoda/pykoda/Cache/sl-tripupdates-2022-12-14', 'C:/Users/13490/AppData/Local/pykoda/pykoda/Cache/sl-tripupdates-2022-12-14.bz2']' returned non-zero exit status 255.\n",
      "None\n",
      "Executing python function, producing output(s): C:/Users/13490/AppData/Local/pykoda/pykoda/Cache/sl_TripUpdates_2022_12_14_17.feather.tmp\n",
      "Getting C:/Users/13490/AppData/Local/pykoda/pykoda/Cache/sl_TripUpdates_2022_12_14_18.feather\n",
      "File or folder already exists, so skipping task: data (datafolder)\n",
      "File or folder already exists, so skipping task: C:/Users/13490/AppData/Local/pykoda/pykoda/Cache/sl-tripupdates-2022-12-14.bz2 (file)\n",
      "System tool failed: Command '['7z', 'e', '-oC:/Users/13490/AppData/Local/pykoda/pykoda/Cache/sl-tripupdates-2022-12-14', 'C:/Users/13490/AppData/Local/pykoda/pykoda/Cache/sl-tripupdates-2022-12-14.bz2']' returned non-zero exit status 255.\n",
      "None\n",
      "Executing python function, producing output(s): C:/Users/13490/AppData/Local/pykoda/pykoda/Cache/sl_TripUpdates_2022_12_14_18.feather.tmp\n",
      "Getting C:/Users/13490/AppData/Local/pykoda/pykoda/Cache/sl_TripUpdates_2022_12_14_19.feather\n",
      "File or folder already exists, so skipping task: data (datafolder)\n",
      "File or folder already exists, so skipping task: C:/Users/13490/AppData/Local/pykoda/pykoda/Cache/sl-tripupdates-2022-12-14.bz2 (file)\n"
     ]
    },
    {
     "name": "stderr",
     "output_type": "stream",
     "text": [
      "D:\\lib\\site-packages\\pykoda\\data\\datautils.py:90: RuntimeWarning: The API did not return data for 2022-12-14 18:00:00\n",
      "  warnings.warn(RuntimeWarning(f'The API did not return data for {date_hour}'))\n",
      "D:\\lib\\site-packages\\pykoda\\data\\datautils.py:90: RuntimeWarning: The API did not return data for 2022-12-14 19:00:00\n",
      "  warnings.warn(RuntimeWarning(f'The API did not return data for {date_hour}'))\n",
      "Loading data:  99%|█████████████████████████████████████████████████████████████████▏| 308/312 [00:22<00:00, 13.71it/s]D:\\lib\\site-packages\\pykoda\\data\\datautils.py:90: RuntimeWarning: The API did not return data for 2022-12-14 20:00:00\n",
      "  warnings.warn(RuntimeWarning(f'The API did not return data for {date_hour}'))\n",
      "D:\\lib\\site-packages\\pykoda\\data\\datautils.py:90: RuntimeWarning: The API did not return data for 2022-12-14 21:00:00\n",
      "  warnings.warn(RuntimeWarning(f'The API did not return data for {date_hour}'))\n",
      "Loading data:  99%|█████████████████████████████████████████████████████████████████▌| 310/312 [00:22<00:00, 13.68it/s]"
     ]
    },
    {
     "name": "stdout",
     "output_type": "stream",
     "text": [
      "System tool failed: Command '['7z', 'e', '-oC:/Users/13490/AppData/Local/pykoda/pykoda/Cache/sl-tripupdates-2022-12-14', 'C:/Users/13490/AppData/Local/pykoda/pykoda/Cache/sl-tripupdates-2022-12-14.bz2']' returned non-zero exit status 255.\n",
      "None\n",
      "Executing python function, producing output(s): C:/Users/13490/AppData/Local/pykoda/pykoda/Cache/sl_TripUpdates_2022_12_14_19.feather.tmp\n",
      "Getting C:/Users/13490/AppData/Local/pykoda/pykoda/Cache/sl_TripUpdates_2022_12_14_20.feather\n",
      "File or folder already exists, so skipping task: data (datafolder)\n",
      "File or folder already exists, so skipping task: C:/Users/13490/AppData/Local/pykoda/pykoda/Cache/sl-tripupdates-2022-12-14.bz2 (file)\n",
      "System tool failed: Command '['7z', 'e', '-oC:/Users/13490/AppData/Local/pykoda/pykoda/Cache/sl-tripupdates-2022-12-14', 'C:/Users/13490/AppData/Local/pykoda/pykoda/Cache/sl-tripupdates-2022-12-14.bz2']' returned non-zero exit status 255.\n",
      "None\n",
      "Executing python function, producing output(s): C:/Users/13490/AppData/Local/pykoda/pykoda/Cache/sl_TripUpdates_2022_12_14_20.feather.tmp\n",
      "Getting C:/Users/13490/AppData/Local/pykoda/pykoda/Cache/sl_TripUpdates_2022_12_14_21.feather\n",
      "File or folder already exists, so skipping task: data (datafolder)\n",
      "File or folder already exists, so skipping task: C:/Users/13490/AppData/Local/pykoda/pykoda/Cache/sl-tripupdates-2022-12-14.bz2 (file)\n",
      "System tool failed: Command '['7z', 'e', '-oC:/Users/13490/AppData/Local/pykoda/pykoda/Cache/sl-tripupdates-2022-12-14', 'C:/Users/13490/AppData/Local/pykoda/pykoda/Cache/sl-tripupdates-2022-12-14.bz2']' returned non-zero exit status 255.\n",
      "None\n",
      "Executing python function, producing output(s): C:/Users/13490/AppData/Local/pykoda/pykoda/Cache/sl_TripUpdates_2022_12_14_21.feather.tmp\n",
      "Getting C:/Users/13490/AppData/Local/pykoda/pykoda/Cache/sl_TripUpdates_2022_12_14_22.feather\n",
      "File or folder already exists, so skipping task: data (datafolder)\n",
      "File or folder already exists, so skipping task: C:/Users/13490/AppData/Local/pykoda/pykoda/Cache/sl-tripupdates-2022-12-14.bz2 (file)\n"
     ]
    },
    {
     "name": "stderr",
     "output_type": "stream",
     "text": [
      "D:\\lib\\site-packages\\pykoda\\data\\datautils.py:90: RuntimeWarning: The API did not return data for 2022-12-14 22:00:00\n",
      "  warnings.warn(RuntimeWarning(f'The API did not return data for {date_hour}'))\n",
      "D:\\lib\\site-packages\\pykoda\\data\\datautils.py:90: RuntimeWarning: The API did not return data for 2022-12-14 23:00:00\n",
      "  warnings.warn(RuntimeWarning(f'The API did not return data for {date_hour}'))\n",
      "Loading data: 100%|██████████████████████████████████████████████████████████████████| 312/312 [00:22<00:00, 13.60it/s]\n"
     ]
    },
    {
     "name": "stdout",
     "output_type": "stream",
     "text": [
      "System tool failed: Command '['7z', 'e', '-oC:/Users/13490/AppData/Local/pykoda/pykoda/Cache/sl-tripupdates-2022-12-14', 'C:/Users/13490/AppData/Local/pykoda/pykoda/Cache/sl-tripupdates-2022-12-14.bz2']' returned non-zero exit status 255.\n",
      "None\n",
      "Executing python function, producing output(s): C:/Users/13490/AppData/Local/pykoda/pykoda/Cache/sl_TripUpdates_2022_12_14_22.feather.tmp\n",
      "Getting C:/Users/13490/AppData/Local/pykoda/pykoda/Cache/sl_TripUpdates_2022_12_14_23.feather\n",
      "File or folder already exists, so skipping task: data (datafolder)\n",
      "File or folder already exists, so skipping task: C:/Users/13490/AppData/Local/pykoda/pykoda/Cache/sl-tripupdates-2022-12-14.bz2 (file)\n",
      "System tool failed: Command '['7z', 'e', '-oC:/Users/13490/AppData/Local/pykoda/pykoda/Cache/sl-tripupdates-2022-12-14', 'C:/Users/13490/AppData/Local/pykoda/pykoda/Cache/sl-tripupdates-2022-12-14.bz2']' returned non-zero exit status 255.\n",
      "None\n",
      "Executing python function, producing output(s): C:/Users/13490/AppData/Local/pykoda/pykoda/Cache/sl_TripUpdates_2022_12_14_23.feather.tmp\n",
      "成功加载实时数据！\n",
      "                   id start_time start_date schedule_relationship route_id  \\\n",
      "0   14010514477669904       None   20221201             SCHEDULED     None   \n",
      "1   14010514477292193       None   20221201             SCHEDULED     None   \n",
      "31  14010514402530242       None   20221201             SCHEDULED     None   \n",
      "36  14010514538169516       None   20221201             SCHEDULED     None   \n",
      "71  14010514537708561       None   20221201             SCHEDULED     None   \n",
      "\n",
      "    direction_id        vehicle_id   timestamp            trip_id  \\\n",
      "0            NaN  9031001004002277  1669935504  14010000550076808   \n",
      "1            NaN  9031001004102977  1669935125  14010000550098469   \n",
      "31           NaN              None  1669935588  14010000611588680   \n",
      "36           NaN  9031001000103791  1669935521  14010000607261967   \n",
      "71           NaN  9031001000107135  1669935585  14010000539915094   \n",
      "\n",
      "    stop_sequence           stop_id  arrival_delay arrival_time  \\\n",
      "0              21  9022001005191001          -48.0   1669934952   \n",
      "1              23  9022001005221005           69.0   1669934889   \n",
      "31             20  9022001004537001           11.0   1669934981   \n",
      "36             28  9022001040463003          277.0   1669935011   \n",
      "71             11  9022001041309001          195.0   1669935027   \n",
      "\n",
      "    departure_delay departure_time  arrival_uncertainty  \\\n",
      "0              21.0     1669935021                  0.0   \n",
      "1               8.0     1669935008                  0.0   \n",
      "31             42.0     1669935012                  0.0   \n",
      "36            277.0     1669935011                  0.0   \n",
      "71            195.0     1669935027                  0.0   \n",
      "\n",
      "    departure_uncertainty tripUpdate_stopTimeUpdate_scheduleRelationship  \\\n",
      "0                     0.0                                           None   \n",
      "1                     0.0                                           None   \n",
      "31                    0.0                                           None   \n",
      "36                    0.0                                           None   \n",
      "71                    0.0                                           None   \n",
      "\n",
      "              datetime  \n",
      "0  2022-12-01 22:58:24  \n",
      "1  2022-12-01 22:52:05  \n",
      "31 2022-12-01 22:59:48  \n",
      "36 2022-12-01 22:58:41  \n",
      "71 2022-12-01 22:59:45  \n",
      "成功加载实时数据，正在保存为 CSV 文件...\n",
      "数据已保存至 ./output_csv/sl_TripUpdates_2weeks_data.csv\n",
      "CSV 文件读取成功！\n"
     ]
    },
    {
     "data": {
      "text/html": [
       "<div>\n",
       "<style scoped>\n",
       "    .dataframe tbody tr th:only-of-type {\n",
       "        vertical-align: middle;\n",
       "    }\n",
       "\n",
       "    .dataframe tbody tr th {\n",
       "        vertical-align: top;\n",
       "    }\n",
       "\n",
       "    .dataframe thead th {\n",
       "        text-align: right;\n",
       "    }\n",
       "</style>\n",
       "<table border=\"1\" class=\"dataframe\">\n",
       "  <thead>\n",
       "    <tr style=\"text-align: right;\">\n",
       "      <th></th>\n",
       "      <th>id</th>\n",
       "      <th>trip_id</th>\n",
       "      <th>stop_sequence</th>\n",
       "      <th>stop_id</th>\n",
       "      <th>arrival_delay</th>\n",
       "      <th>arrival_time</th>\n",
       "      <th>departure_delay</th>\n",
       "      <th>departure_time</th>\n",
       "      <th>datetime</th>\n",
       "    </tr>\n",
       "  </thead>\n",
       "  <tbody>\n",
       "    <tr>\n",
       "      <th>0</th>\n",
       "      <td>14010514477669904</td>\n",
       "      <td>14010000550076808</td>\n",
       "      <td>21</td>\n",
       "      <td>9022001005191001</td>\n",
       "      <td>-48.0</td>\n",
       "      <td>2022-12-01 22:49:12</td>\n",
       "      <td>21.0</td>\n",
       "      <td>2022-12-01 22:50:21</td>\n",
       "      <td>2022-12-01 22:58:24</td>\n",
       "    </tr>\n",
       "    <tr>\n",
       "      <th>1</th>\n",
       "      <td>14010514477292193</td>\n",
       "      <td>14010000550098468</td>\n",
       "      <td>23</td>\n",
       "      <td>9022001005221005</td>\n",
       "      <td>69.0</td>\n",
       "      <td>2022-12-01 22:48:09</td>\n",
       "      <td>8.0</td>\n",
       "      <td>2022-12-01 22:50:08</td>\n",
       "      <td>2022-12-01 22:52:05</td>\n",
       "    </tr>\n",
       "    <tr>\n",
       "      <th>2</th>\n",
       "      <td>14010514402530242</td>\n",
       "      <td>14010000611588680</td>\n",
       "      <td>20</td>\n",
       "      <td>9022001004537001</td>\n",
       "      <td>11.0</td>\n",
       "      <td>2022-12-01 22:49:41</td>\n",
       "      <td>42.0</td>\n",
       "      <td>2022-12-01 22:50:12</td>\n",
       "      <td>2022-12-01 22:59:48</td>\n",
       "    </tr>\n",
       "    <tr>\n",
       "      <th>3</th>\n",
       "      <td>14010514538169516</td>\n",
       "      <td>14010000607261968</td>\n",
       "      <td>28</td>\n",
       "      <td>9022001040463003</td>\n",
       "      <td>277.0</td>\n",
       "      <td>2022-12-01 22:50:11</td>\n",
       "      <td>277.0</td>\n",
       "      <td>2022-12-01 22:50:11</td>\n",
       "      <td>2022-12-01 22:58:41</td>\n",
       "    </tr>\n",
       "    <tr>\n",
       "      <th>4</th>\n",
       "      <td>14010514537708561</td>\n",
       "      <td>14010000539915094</td>\n",
       "      <td>11</td>\n",
       "      <td>9022001041309001</td>\n",
       "      <td>195.0</td>\n",
       "      <td>2022-12-01 22:50:27</td>\n",
       "      <td>195.0</td>\n",
       "      <td>2022-12-01 22:50:27</td>\n",
       "      <td>2022-12-01 22:59:45</td>\n",
       "    </tr>\n",
       "  </tbody>\n",
       "</table>\n",
       "</div>"
      ],
      "text/plain": [
       "                  id            trip_id  stop_sequence           stop_id  \\\n",
       "0  14010514477669904  14010000550076808             21  9022001005191001   \n",
       "1  14010514477292193  14010000550098468             23  9022001005221005   \n",
       "2  14010514402530242  14010000611588680             20  9022001004537001   \n",
       "3  14010514538169516  14010000607261968             28  9022001040463003   \n",
       "4  14010514537708561  14010000539915094             11  9022001041309001   \n",
       "\n",
       "   arrival_delay        arrival_time  departure_delay      departure_time  \\\n",
       "0          -48.0 2022-12-01 22:49:12             21.0 2022-12-01 22:50:21   \n",
       "1           69.0 2022-12-01 22:48:09              8.0 2022-12-01 22:50:08   \n",
       "2           11.0 2022-12-01 22:49:41             42.0 2022-12-01 22:50:12   \n",
       "3          277.0 2022-12-01 22:50:11            277.0 2022-12-01 22:50:11   \n",
       "4          195.0 2022-12-01 22:50:27            195.0 2022-12-01 22:50:27   \n",
       "\n",
       "              datetime  \n",
       "0  2022-12-01 22:58:24  \n",
       "1  2022-12-01 22:52:05  \n",
       "2  2022-12-01 22:59:48  \n",
       "3  2022-12-01 22:58:41  \n",
       "4  2022-12-01 22:59:45  "
      ]
     },
     "execution_count": 5,
     "metadata": {},
     "output_type": "execute_result"
    }
   ],
   "source": [
    "import pykoda\n",
    "import pandas as pd\n",
    "import numpy as np\n",
    "import requests\n",
    "\n",
    "\n",
    "\n",
    "# 定义公司、日期和时间范围\n",
    "company = 'sl'  # 公司代码，例如 'sl' 表示 Stockholm\n",
    "start_date = '2022-12-02'  # 日期，格式为 YYYY-MM-DD\n",
    "end_date = '2022-12-14'\n",
    "start_hour = 0\n",
    "end_hour = 23\n",
    "feed = 'TripUpdates'  # 选项包括 'VehiclePositions', 'TripUpdates', 'ServiceAlerts'\n",
    "\n",
    "\n",
    "# 加载实时数据\n",
    "realtime_data = pykoda.datautils.get_data_range(\n",
    "    feed=feed,\n",
    "    company=company,\n",
    "    start_date=start_date,\n",
    "    start_hour=start_hour,\n",
    "    end_date=end_date,\n",
    "    end_hour=end_hour,\n",
    "    merge_static=False  # 是否合并静态数据\n",
    ")\n",
    "\n",
    "# 检查和显示结果\n",
    "if not realtime_data.empty:\n",
    "    print(\"成功加载实时数据！\")\n",
    "    print(realtime_data.head())\n",
    "else:\n",
    "    print(\"实时数据加载失败或数据为空。\")\n",
    "\n",
    "import os\n",
    "\n",
    "# 定义输出目录和文件名\n",
    "output_dir = \"./output_csv\"\n",
    "output_file = os.path.join(output_dir, f\"{company}_{feed}_2weeks_data.csv\")\n",
    "output_file = output_file.replace(\"\\\\\", \"/\")\n",
    "\n",
    "# 创建输出目录（如果不存在）\n",
    "os.makedirs(output_dir, exist_ok=True)\n",
    "\n",
    "# 检查和保存实时数据到 CSV 文件\n",
    "if not realtime_data.empty:\n",
    "    print(\"成功加载实时数据，正在保存为 CSV 文件...\")\n",
    "    realtime_data.to_csv(output_file, index=False, encoding='utf-8')\n",
    "    print(f\"数据已保存至 {output_file}\")\n",
    "else:\n",
    "    print(\"实时数据加载失败或数据为空，未生成 CSV 文件。\")\n",
    "\n",
    "\n",
    "\n",
    "# 定义 CSV 文件路径\n",
    "file_path = output_file  # \"./output_csv/sl_TripUpdates_2022-12-05_data.csv\"\n",
    "\n",
    "# 初始化 data 变量\n",
    "data = None\n",
    "\n",
    "# 读取 CSV 文件\n",
    "try:\n",
    "    data = pd.read_csv(file_path)\n",
    "    print(\"CSV 文件读取成功！\")\n",
    "except FileNotFoundError:\n",
    "    print(f\"文件未找到：{file_path}\")\n",
    "except Exception as e:\n",
    "    print(f\"读取 CSV 文件时出错: {e}\")\n",
    "\n",
    "\n",
    "\n",
    "# 检查是否有时间戳列需要转换\n",
    "if \"timestamp\" in data.columns:\n",
    "    data['timestamp'] = pd.to_datetime(data['timestamp'], unit='s')\n",
    "if 'arrival_time' in data.columns:\n",
    "    data['arrival_time'] = pd.to_datetime(data['arrival_time'], unit='s')\n",
    "if 'departure_time' in data.columns:\n",
    "    data['departure_time'] = pd.to_datetime(data['departure_time'], unit='s')\n",
    "if 'vehicle_id' in data.columns:\n",
    "    data['vehicle_id'] = data['vehicle_id'].astype(str)\n",
    "\n",
    "# 将 trip_id 转换为字符串格式\n",
    "if 'trip_id' in data.columns:\n",
    "    data['trip_id'] = data['trip_id'].apply(lambda x: str(int(float(x))) if pd.notna(x) else None)\n",
    "\n",
    "# 删除不需要的列\n",
    "columns_to_remove = [\n",
    "    'start_time', 'schedule_relationship', 'route_id', 'direction_id',\n",
    "    'arrival_uncertainty', 'departure_uncertainty', 'tripUpdate_stopTimeUpdate_scheduleRelationship','start_date','timestamp',\n",
    "    'vehicle_id'\n",
    "]\n",
    "cleaned_data = data.drop(columns=columns_to_remove)\n",
    "cleaned_data.to_csv(file_path, index=False)\n",
    "cleaned_data.head()"
   ]
  },
  {
   "cell_type": "code",
   "execution_count": 8,
   "id": "698f7afa",
   "metadata": {},
   "outputs": [
    {
     "name": "stdout",
     "output_type": "stream",
     "text": [
      "Executing python function, producing output(s): C:/Users/13490/AppData/Local/pykoda/pykoda/Cache/sl_static_2022_12_02.zip.tmp\n",
      "Executing command: 7z x \"C:/Users/13490/AppData/Local/pykoda/pykoda/Cache/sl_static_2022_12_02.zip\" -o\"C:/Users/13490/AppData/Local/pykoda/pykoda/Cache/sl_static_2022_12_02\" -y\n"
     ]
    },
    {
     "name": "stderr",
     "output_type": "stream",
     "text": [
      "D:\\lib\\site-packages\\pykoda\\data\\datautils.py:187: FutureWarning: The argument 'date_parser' is deprecated and will be removed in a future version. Please use 'date_format' instead, or read your data in as 'object' dtype and then call 'to_datetime'.\n",
      "  stops_times = pd.read_csv(os.path.join(output_folder, 'stop_times.txt'), dtype={'trip_id': 'str', 'stop_id': 'str'},\n"
     ]
    }
   ],
   "source": [
    "# 因为这玩意（stop_id和stop经纬度）不随时间变化\n",
    "static_data = pykoda.datautils.load_static_data(\n",
    "    company = company,\n",
    "    date = start_date,\n",
    "    remove_unused_stations = True)"
   ]
  },
  {
   "cell_type": "code",
   "execution_count": 23,
   "id": "8a7fd943",
   "metadata": {},
   "outputs": [
    {
     "name": "stdout",
     "output_type": "stream",
     "text": [
      "Index(['stop_id', 'stop_name', 'stop_lat', 'stop_lon', 'location_type',\n",
      "       'parent_station', 'platform_code'],\n",
      "      dtype='object')\n",
      "            stop_id  stop_name   stop_lat   stop_lon  group_id\n",
      "0  9021001000101000   Stavsnäs  59.286405  18.704700         0\n",
      "1  9021001000102000   Styrsvik  59.280184  18.731426         1\n",
      "2  9021001000103000  Nämdöböte  59.208731  18.740060         2\n",
      "3  9021001000104000       Aspö  59.215843  18.753410         3\n",
      "4  9021001000105000    Idöborg  59.204309  18.757769         4\n",
      "Index(['stop_id', 'stop_name', 'stop_lat', 'stop_lon', 'group_id'], dtype='object')\n"
     ]
    },
    {
     "name": "stderr",
     "output_type": "stream",
     "text": [
      "C:\\Users\\13490\\AppData\\Local\\Temp\\ipykernel_3552\\1806901203.py:16: SettingWithCopyWarning: \n",
      "A value is trying to be set on a copy of a slice from a DataFrame.\n",
      "Try using .loc[row_indexer,col_indexer] = value instead\n",
      "\n",
      "See the caveats in the documentation: https://pandas.pydata.org/pandas-docs/stable/user_guide/indexing.html#returning-a-view-versus-a-copy\n",
      "  stops_data['group_id'] = db.labels_\n"
     ]
    }
   ],
   "source": [
    "from sklearn.cluster import DBSCAN\n",
    "\"\"\"下载\"\"\"\n",
    "# static_data.stops\n",
    "stops_data = static_data.stops\n",
    "# stops_data.reset_index(inplace=True)\n",
    "print(stops_data.columns)\n",
    "\n",
    "# 提取 stop_id, stop_lat, stop_lon\n",
    "stops_data = stops_data[['stop_id', 'stop_name', 'stop_lat', 'stop_lon']]\n",
    "\n",
    "# 使用 DBSCAN 聚类算法按经纬度分组\n",
    "coords = stops_data[['stop_lat', 'stop_lon']].values\n",
    "db = DBSCAN(eps=0.01, min_samples=1, metric='euclidean').fit(coords)\n",
    "\n",
    "# 将分组标签添加到 stops_data\n",
    "stops_data['group_id'] = db.labels_\n",
    "\n",
    "# 查看分组结果\n",
    "print(stops_data.head())\n",
    "print(stops_data.columns)"
   ]
  },
  {
   "cell_type": "code",
   "execution_count": 10,
   "id": "f7933e2d-82c4-47db-aef0-6fe1770f5a3d",
   "metadata": {},
   "outputs": [
    {
     "name": "stdout",
     "output_type": "stream",
     "text": [
      "数据共有 18806 行\n",
      "一共有 861 个 group_id\n"
     ]
    }
   ],
   "source": [
    "# 查看数据行数\n",
    "num_rows = stops_data.shape[0]\n",
    "\n",
    "# 打印结果\n",
    "print(f\"数据共有 {num_rows} 行\")\n",
    "\n",
    "group_count = stops_data['group_id'].nunique()\n",
    "print(f\"一共有 {group_count} 个 group_id\")"
   ]
  },
  {
   "cell_type": "code",
   "execution_count": 28,
   "id": "0b4a9c04-cc99-4cbd-a3e9-33d52a43f8f0",
   "metadata": {},
   "outputs": [
    {
     "name": "stderr",
     "output_type": "stream",
     "text": [
      "C:\\Users\\13490\\AppData\\Local\\Temp\\ipykernel_3552\\3138326673.py:42: FutureWarning: The behavior of DataFrame concatenation with empty or all-NA entries is deprecated. In a future version, this will no longer exclude empty or all-NA columns when determining the result dtypes. To retain the old behavior, exclude the relevant entries before the concat operation.\n",
      "  group_weather_data = pd.concat(group_weather_data, ignore_index=True)\n"
     ]
    },
    {
     "name": "stdout",
     "output_type": "stream",
     "text": [
      "            stop_id stop_name   stop_lat  stop_lon  group_id  \\\n",
      "0  9021001000101000  Stavsnäs  59.286405   18.7047         0   \n",
      "1  9021001000101000  Stavsnäs  59.286405   18.7047         0   \n",
      "2  9021001000101000  Stavsnäs  59.286405   18.7047         0   \n",
      "3  9021001000101000  Stavsnäs  59.286405   18.7047         0   \n",
      "4  9021001000101000  Stavsnäs  59.286405   18.7047         0   \n",
      "\n",
      "           datetime  temperature  precipitation  snowfall  snow_depth  \\\n",
      "0  2022-12-01T00:00          3.3            0.2       0.0         0.0   \n",
      "1  2022-12-01T01:00          3.3            0.1       0.0         0.0   \n",
      "2  2022-12-01T02:00          3.3            0.0       0.0         0.0   \n",
      "3  2022-12-01T03:00          3.1            0.0       0.0         0.0   \n",
      "4  2022-12-01T04:00          2.4            0.0       0.0         0.0   \n",
      "\n",
      "   wind_speed  cloud_cover  \n",
      "0         6.5          100  \n",
      "1         7.3          100  \n",
      "2         6.0           90  \n",
      "3         3.3           31  \n",
      "4         5.0           64  \n"
     ]
    }
   ],
   "source": [
    "import requests\n",
    "\n",
    "# 定义函数，获取天气数据\n",
    "def get_historical_weather(lat, lon, start_date, end_date):\n",
    "    variables = \"temperature_2m,precipitation,snowfall,snow_depth,wind_speed_10m,cloud_cover_low\"\n",
    "    url = f\"https://archive-api.open-meteo.com/v1/era5?latitude={lat}&longitude={lon}&start_date={start_date}&end_date={end_date}&hourly={variables}\"\n",
    "    response = requests.get(url)\n",
    "    if response.status_code == 200:\n",
    "        data = response.json()\n",
    "        return pd.DataFrame({\n",
    "            'datetime': data['hourly']['time'],\n",
    "            'temperature': data['hourly']['temperature_2m'],\n",
    "            'precipitation': data['hourly']['precipitation'],\n",
    "            'snowfall': data['hourly']['snowfall'],\n",
    "            'snow_depth': data['hourly']['snow_depth'],\n",
    "            'wind_speed': data['hourly']['wind_speed_10m'],\n",
    "            'cloud_cover': data['hourly']['cloud_cover_low'],\n",
    "        })\n",
    "    else:\n",
    "        print(f\"Error fetching weather data for {lat}, {lon}: {response.status_code}\")\n",
    "        return pd.DataFrame()\n",
    "\n",
    "# 查询日期\n",
    "#query_date = date\n",
    "\n",
    "# 查询每个分组的天气\n",
    "group_weather_data = []\n",
    "group_centers = stops_data.groupby('group_id')[['stop_lat', 'stop_lon']].mean().reset_index()\n",
    "start_date = '2022-12-01'  # 日期，格式为 YYYY-MM-DD\n",
    "end_date = '2022-12-14'\n",
    "\n",
    "for _, row in group_centers.iterrows():\n",
    "    group_id = row['group_id']\n",
    "    lat = row['stop_lat']\n",
    "    lon = row['stop_lon']\n",
    "    #print(f\"Fetching weather data for group_id={group_id}...\")\n",
    "    weather = get_historical_weather(lat, lon, start_date, end_date)\n",
    "    weather['group_id'] = group_id  # 添加 group_id 到结果中\n",
    "    group_weather_data.append(weather)\n",
    "\n",
    "# 合并所有分组的天气数据\n",
    "group_weather_data = pd.concat(group_weather_data, ignore_index=True)\n",
    "\n",
    "\n",
    "\n",
    "# 合并天气数据到 stops_data\n",
    "stops_weather = stops_data.merge(group_weather_data, on='group_id', how='left')\n",
    "\n",
    "# 保存结果\n",
    "stops_weather.to_csv(\"stops_weather_data_grouped.csv\", index=False)\n",
    "\n",
    "# 显示结果\n",
    "print(stops_weather.head())"
   ]
  },
  {
   "cell_type": "code",
   "execution_count": 29,
   "id": "72e46092-38cb-4aad-9705-eed2e04458e7",
   "metadata": {},
   "outputs": [
    {
     "name": "stdout",
     "output_type": "stream",
     "text": [
      "<bound method NDFrame.head of                        id       trip_id  stop_sequence           stop_id  \\\n",
      "0       14010514477669904  1.401000e+16             21  9022001005191001   \n",
      "1       14010514477292193  1.401000e+16             23  9022001005221005   \n",
      "2       14010514402530242  1.401000e+16             20  9022001004537001   \n",
      "3       14010514538169516  1.401000e+16             28  9022001040463003   \n",
      "4       14010514537708561  1.401000e+16             11  9022001041309001   \n",
      "...                   ...           ...            ...               ...   \n",
      "183029  14010514767087233  1.401000e+16             49  9022001080857002   \n",
      "183030  14010514767087233  1.401000e+16             50  9022001080855002   \n",
      "183031  14010514767087233  1.401000e+16             51  9022001080853002   \n",
      "183032  14010514767087233  1.401000e+16             52  9022001081161002   \n",
      "183033  14010514767087233  1.401000e+16             53  9022001080851001   \n",
      "\n",
      "        arrival_delay         arrival_time  departure_delay  \\\n",
      "0               -48.0  2022-12-01 22:49:12             21.0   \n",
      "1                69.0  2022-12-01 22:48:09              8.0   \n",
      "2                11.0  2022-12-01 22:49:41             42.0   \n",
      "3               277.0  2022-12-01 22:50:11            277.0   \n",
      "4               195.0  2022-12-01 22:50:27            195.0   \n",
      "...               ...                  ...              ...   \n",
      "183029            0.0  2022-12-14 01:33:13              0.0   \n",
      "183030            0.0  2022-12-14 01:33:48              0.0   \n",
      "183031            0.0  2022-12-14 01:36:00              0.0   \n",
      "183032            0.0  2022-12-14 01:38:13              0.0   \n",
      "183033            0.0  2022-12-14 01:40:00              0.0   \n",
      "\n",
      "             departure_time          datetime_x      date_hour  \\\n",
      "0       2022-12-01 22:50:21 2022-12-01 22:58:24  2022-12-01 22   \n",
      "1       2022-12-01 22:50:08 2022-12-01 22:52:05  2022-12-01 22   \n",
      "2       2022-12-01 22:50:12 2022-12-01 22:59:48  2022-12-01 22   \n",
      "3       2022-12-01 22:50:11 2022-12-01 22:58:41  2022-12-01 22   \n",
      "4       2022-12-01 22:50:27 2022-12-01 22:59:45  2022-12-01 22   \n",
      "...                     ...                 ...            ...   \n",
      "183029  2022-12-14 01:33:13 2022-12-13 23:59:19  2022-12-13 23   \n",
      "183030  2022-12-14 01:33:48 2022-12-13 23:59:19  2022-12-13 23   \n",
      "183031  2022-12-14 01:36:00 2022-12-13 23:59:19  2022-12-13 23   \n",
      "183032  2022-12-14 01:38:13 2022-12-13 23:59:19  2022-12-13 23   \n",
      "183033  2022-12-14 01:40:00 2022-12-13 23:59:19  2022-12-13 23   \n",
      "\n",
      "                stop_name   stop_lat   stop_lon  group_id  temperature  \\\n",
      "0                   Tumba  59.199676  17.836424      90.0          1.5   \n",
      "1         Södertälje hamn  59.179145  17.646179     183.0          1.4   \n",
      "2          Norra Ulvsunda  59.349790  17.962553      90.0          1.5   \n",
      "3                Eriksvik  59.335283  18.297525      90.0          1.5   \n",
      "4               Ösbydalen  59.318977  18.407196     249.0          2.4   \n",
      "...                   ...        ...        ...       ...          ...   \n",
      "183029   Hammarbergsvägen  59.108556  18.047309     190.0        -10.5   \n",
      "183030    Tungelsta skola  59.106536  18.043016     190.0        -10.5   \n",
      "183031  Tungelsta station  59.102661  18.044153     190.0        -10.5   \n",
      "183032   Kolonilottsvägen  59.100526  18.045941     190.0        -10.5   \n",
      "183033         Lillgården  59.097443  18.044238     190.0        -10.5   \n",
      "\n",
      "        precipitation  snowfall  snow_depth  wind_speed  cloud_cover  \n",
      "0                 0.1       0.0        0.01         8.6        100.0  \n",
      "1                 0.0       0.0        0.03        10.3         44.0  \n",
      "2                 0.1       0.0        0.01         8.6        100.0  \n",
      "3                 0.1       0.0        0.01         8.6        100.0  \n",
      "4                 0.0       0.0        0.00         9.9        100.0  \n",
      "...               ...       ...         ...         ...          ...  \n",
      "183029            0.0       0.0        0.05        13.4         18.0  \n",
      "183030            0.0       0.0        0.05        13.4         18.0  \n",
      "183031            0.0       0.0        0.05        13.4         18.0  \n",
      "183032            0.0       0.0        0.05        13.4         18.0  \n",
      "183033            0.0       0.0        0.05        13.4         18.0  \n",
      "\n",
      "[183034 rows x 20 columns]>\n"
     ]
    }
   ],
   "source": [
    "file1 = pd.read_csv(\"./output_csv/sl_TripUpdates_2weeks_data.csv\")  # 包含图1内容\n",
    "file2 = pd.read_csv(\"./stops_weather_data_grouped.csv\")  # 包含图2内容\n",
    "\n",
    "file1['datetime'] = pd.to_datetime(file1['datetime'])\n",
    "file2['datetime'] = pd.to_datetime(file2['datetime'])\n",
    "# 提取小时信息\n",
    "file1['date_hour'] = file1['datetime'].dt.strftime('%Y-%m-%d %H')  # 提取年月日和小时\n",
    "file2['date_hour'] = file2['datetime'].dt.strftime('%Y-%m-%d %H')  # 提取年月日和小时\n",
    "\n",
    "# 根据 stop_id 和 hour 进行匹配并合并\n",
    "merged = pd.merge(file1, file2, on=['stop_id', 'date_hour'], how='left')\n",
    "\n",
    "# 去除文件2的时间戳列\n",
    "merged.drop(columns=['datetime_y'], inplace=True)\n",
    "print(merged.head)\n",
    "# 保存结果\n",
    "merged.to_csv(\"merged_output.csv\", index=False)"
   ]
  },
  {
   "cell_type": "code",
   "execution_count": 30,
   "id": "5a692d96-b529-469d-9234-b94f302cf3c3",
   "metadata": {},
   "outputs": [
    {
     "name": "stdout",
     "output_type": "stream",
     "text": [
      "Index(['id', 'trip_id', 'stop_sequence', 'stop_id', 'arrival_delay',\n",
      "       'arrival_time', 'departure_delay', 'departure_time', 'datetime_x',\n",
      "       'date_hour', 'stop_name', 'stop_lat', 'stop_lon', 'group_id',\n",
      "       'temperature', 'precipitation', 'snowfall', 'snow_depth', 'wind_speed',\n",
      "       'cloud_cover'],\n",
      "      dtype='object')\n"
     ]
    }
   ],
   "source": [
    "print(merged.columns)"
   ]
  },
  {
   "cell_type": "code",
   "execution_count": null,
   "id": "2f0efedc-d182-4960-a163-75278e6db706",
   "metadata": {},
   "outputs": [],
   "source": [
    "from sklearn.model_selection import train_test_split\n",
    "from sklearn.ensemble import RandomForestRegressor\n",
    "from sklearn.metrics import mean_squared_error, r2_score\n",
    "\n",
    "# 加载数据\n",
    "data_path = \"./merged_output.csv\"  # 替换为实际文件路径\n",
    "data = pd.read_csv(data_path)\n",
    "\n",
    "data = data.dropna(subset=['arrival_delay', 'departure_delay'])\n",
    "\n",
    "# 选择输入和输出列\n",
    "input_columns = [\n",
    "    \"stop_id\", \"datetime_x\", \"temperature\", \"precipitation\", \"snowfall\", \"snow_depth\", \"wind_speed\", \"cloud_cover\"\n",
    "]\n",
    "output_columns = [\"arrival_delay\", \"departure_delay\"]\n",
    "\n",
    "# 确保数据类型正确\n",
    "# 将datetime_x转换为数值时间戳\n",
    "data[\"datetime_x\"] = pd.to_datetime(data['datetime_x'], format='%Y/%m/%d %H:%M', errors='coerce')\n",
    "data[\"datetime_x\"] = data['datetime_x'].astype('int64') // 10**9  # 转换为秒级时间戳\n",
    "\n",
    "# 分离输入和输出数据\n",
    "X = data[input_columns]\n",
    "y = data[output_columns]\n",
    "\n",
    "# 将类别型数据（如stop_id）转为数值型\n",
    "X = pd.get_dummies(X, columns=[\"stop_id\"], drop_first=True)\n",
    "\n",
    "# 拆分训练集和测试集\n",
    "X_train, X_test, y_train, y_test = train_test_split(X, y, test_size=0.2, random_state=42)\n",
    "\n",
    "# 定义并训练模型\n",
    "model = RandomForestRegressor(n_estimators=100, random_state=42)\n",
    "model.fit(X_train, y_train)\n",
    "\n",
    "# 预测\n",
    "y_pred = model.predict(X_test)\n",
    "\n",
    "# 评估模型性能\n",
    "mse = mean_squared_error(y_test, y_pred)\n",
    "r2 = r2_score(y_test, y_pred)\n",
    "\n",
    "print(\"Mean Squared Error (MSE):\", mse)\n",
    "print(\"R^2 Score:\", r2)"
   ]
  },
  {
   "cell_type": "code",
   "execution_count": null,
   "id": "0d4e2ab4-e60f-484c-b640-617038404b6f",
   "metadata": {},
   "outputs": [],
   "source": []
  }
 ],
 "metadata": {
  "kernelspec": {
   "display_name": "Python 3 (ipykernel)",
   "language": "python",
   "name": "python3"
  },
  "language_info": {
   "codemirror_mode": {
    "name": "ipython",
    "version": 3
   },
   "file_extension": ".py",
   "mimetype": "text/x-python",
   "name": "python",
   "nbconvert_exporter": "python",
   "pygments_lexer": "ipython3",
   "version": "3.9.13"
  }
 },
 "nbformat": 4,
 "nbformat_minor": 5
}
