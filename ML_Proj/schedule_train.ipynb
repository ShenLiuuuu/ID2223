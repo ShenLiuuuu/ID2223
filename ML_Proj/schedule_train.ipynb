{
 "cells": [
  {
   "cell_type": "code",
   "execution_count": 18,
   "id": "6e26aad5",
   "metadata": {},
   "outputs": [
    {
     "name": "stdout",
     "output_type": "stream",
     "text": [
      "Files extracted to: C:/Users/13490/ID2223_Project/output_csv\n",
      "File exists: C:/Users/13490/ID2223_Project/output_csv/merged_output.csv\n"
     ]
    }
   ],
   "source": [
    "from sklearn.model_selection import train_test_split\n",
    "from sklearn.ensemble import RandomForestRegressor\n",
    "from sklearn.metrics import mean_squared_error, r2_score\n",
    "import pandas as pd\n",
    "import zipfile\n",
    "import os\n",
    "from pathlib import Path\n",
    "\n",
    "# 加载数据\n",
    "zip_file_path = os.path.join(os.getcwd(), \"Cache\", \"merged_output.zip\")\n",
    "output_dir = os.path.join(os.getcwd(), \"ML_Proj\",\"output_csv\")  \n",
    "zip_file_path = zip_file_path.replace(\"\\\\\", \"/\")\n",
    "output_dir = output_dir.replace(\"\\\\\", \"/\")\n",
    "os.makedirs(output_dir, exist_ok=True)\n",
    "\n",
    "with zipfile.ZipFile(zip_file_path, 'r') as zip_ref:\n",
    "    zip_ref.extractall(output_dir)  # 解压到目标目录\n",
    "    print(f\"Files extracted to: {output_dir}\")\n",
    "data_path = os.path.join(output_dir, \"merged_output.csv\")\n",
    "data_path = data_path.replace(\"\\\\\", \"/\")\n",
    "\n",
    "# 检验文件存在\n",
    "if Path(data_path).is_file():\n",
    "    print(f\"File exists: {data_path}\")\n",
    "else:\n",
    "    print(f\"File does not exist: {data_path}\")\n",
    "data = pd.read_csv(data_path)\n",
    "\n",
    "# 确保数据类型正确\n",
    "data[\"datetime_x\"] = pd.to_datetime(data['datetime_x'], format='%Y/%m/%d %H:%M', errors='coerce')\n",
    "data[\"datetime_x\"] = data['datetime_x'].astype('int64') // 10**9  # 转换为秒级时间戳\n",
    "\n",
    "# 创建二分类标签：延误为 1，否则为 0\n",
    "data[\"delayed\"] = (data[\"arrival_delay\"] > 0).astype(int)\n",
    "\n",
    "# 添加滞后特征\n",
    "data[\"lag_arrival_delay\"] = data.sort_values([\"trip_id\", \"stop_sequence\"]).groupby(\"trip_id\")[\"arrival_delay\"].shift(1)\n",
    "data[\"lag_departure_delay\"] = data.sort_values([\"trip_id\", \"stop_sequence\"]).groupby(\"trip_id\")[\"departure_delay\"].shift(1)\n",
    "\n",
    "data = data.dropna(subset=[\"lag_arrival_delay\", \"lag_departure_delay\"])\n",
    "\n",
    "# 定义输入特征和目标变量\n",
    "input_columns = [\n",
    "    \"stop_id\", \"datetime_x\", \"temperature\", \"precipitation\", \"snowfall\",\n",
    "    \"snow_depth\", \"wind_speed\", \"cloud_cover\", \"lag_arrival_delay\", \"lag_departure_delay\"\n",
    "]\n",
    "X = data[input_columns]\n",
    "y = data[\"delayed\"]\n",
    "\n",
    "# 拆分训练集和测试集\n",
    "X_train, X_test, y_train, y_test = train_test_split(X, y, test_size=0.2, random_state=42)"
   ]
  },
  {
   "cell_type": "code",
   "execution_count": 19,
   "id": "aa7741b1",
   "metadata": {},
   "outputs": [
    {
     "data": {
      "text/plain": [
       "['C:\\\\Users\\\\13490\\\\ID2223_Project\\\\model\\\\xgb_model.pkl']"
      ]
     },
     "execution_count": 19,
     "metadata": {},
     "output_type": "execute_result"
    }
   ],
   "source": [
    "from xgboost import XGBClassifier\n",
    "import joblib  # 用于保存模型\n",
    "\n",
    "xgb_model = XGBClassifier(\n",
    "    n_estimators=100,\n",
    "    learning_rate=0.1,\n",
    "    max_depth=6,\n",
    "    random_state=42,\n",
    "    use_label_encoder=False,\n",
    "    eval_metric='logloss'  # 使用 logloss 作为评估指标\n",
    ")\n",
    "xgb_model.fit(X_train, y_train)\n",
    "\n",
    "# 预测\n",
    "y_pred = xgb_model.predict(X_test)\n",
    "y_pred_proba = xgb_model.predict_proba(X_test)[:, 1]\n",
    "\n",
    "output_model_dir = os.path.join(os.getcwd(), \"ML_Proj\",\"model\")\n",
    "output_model_dir = output_model_dir.replace(\"\\\\\", \"/\")\n",
    "os.makedirs(output_model_dir, exist_ok = True)\n",
    "output_model = os.path.join(output_model_dir, \"xgb_model.pkl\")\n",
    "output_model = output_model.replace(\"\\\\\", \"/\")\n",
    "joblib.dump(xgb_model, output_model)  # 保存为 .pkl 文件"
   ]
  }
 ],
 "metadata": {
  "kernelspec": {
   "display_name": "Python 3 (ipykernel)",
   "language": "python",
   "name": "python3"
  },
  "language_info": {
   "codemirror_mode": {
    "name": "ipython",
    "version": 3
   },
   "file_extension": ".py",
   "mimetype": "text/x-python",
   "name": "python",
   "nbconvert_exporter": "python",
   "pygments_lexer": "ipython3",
   "version": "3.10.9"
  }
 },
 "nbformat": 4,
 "nbformat_minor": 5
}
