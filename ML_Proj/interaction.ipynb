{
 "cells": [
  {
   "cell_type": "code",
   "execution_count": 1,
   "id": "448b77fd",
   "metadata": {},
   "outputs": [
    {
     "name": "stdout",
     "output_type": "stream",
     "text": [
      "Config file path: C:\\Users\\13490\\AppData\\Local\\pykoda\\pykoda\n"
     ]
    }
   ],
   "source": [
    "import pykoda\n",
    "import pandas as pd\n",
    "import numpy as np\n",
    "import requests"
   ]
  },
  {
   "cell_type": "code",
   "execution_count": 113,
   "id": "cbcc951b",
   "metadata": {},
   "outputs": [
    {
     "name": "stdout",
     "output_type": "stream",
     "text": [
      "Index(['stop_id', 'datetime_x', 'temperature', 'precipitation', 'snowfall',\n",
      "       'snow_depth', 'wind_speed', 'cloud_cover', 'lag_arrival_delay',\n",
      "       'lag_departure_delay'],\n",
      "      dtype='object')\n"
     ]
    }
   ],
   "source": [
    "from sklearn.model_selection import train_test_split\n",
    "from sklearn.ensemble import RandomForestRegressor\n",
    "from sklearn.metrics import mean_squared_error, r2_score\n",
    "import pandas as pd\n",
    "\n",
    "# 加载数据\n",
    "data_path = \"./merged_output.csv\"  # 替换为实际文件路径\n",
    "data = pd.read_csv(data_path)\n",
    "\n",
    "# 确保数据类型正确\n",
    "data[\"datetime_x\"] = pd.to_datetime(data['datetime_x'], format='%Y/%m/%d %H:%M', errors='coerce')\n",
    "data[\"datetime_x\"] = data['datetime_x'].astype('int64') // 10**9  # 转换为秒级时间戳\n",
    "\n",
    "# 创建二分类标签：延误为 1，否则为 0\n",
    "data[\"delayed\"] = (data[\"arrival_delay\"] > 0).astype(int)\n",
    "\n",
    "# 添加滞后特征\n",
    "data[\"lag_arrival_delay\"] = data.sort_values([\"trip_id\", \"stop_sequence\"]).groupby(\"trip_id\")[\"arrival_delay\"].shift(1)\n",
    "data[\"lag_departure_delay\"] = data.sort_values([\"trip_id\", \"stop_sequence\"]).groupby(\"trip_id\")[\"departure_delay\"].shift(1)\n",
    "\n",
    "data = data.dropna(subset=[\"lag_arrival_delay\", \"lag_departure_delay\"])\n",
    "\n",
    "# 定义输入特征和目标变量\n",
    "input_columns = [\n",
    "    \"stop_id\", \"datetime_x\", \"temperature\", \"precipitation\", \"snowfall\",\n",
    "    \"snow_depth\", \"wind_speed\", \"cloud_cover\", \"lag_arrival_delay\", \"lag_departure_delay\"\n",
    "]\n",
    "X = data[input_columns]\n",
    "print(X.columns)\n",
    "y = data[\"delayed\"]\n",
    "\n",
    "# 拆分训练集和测试集\n",
    "X_train, X_test, y_train, y_test = train_test_split(X, y, test_size=0.2, random_state=42)\n",
    "#X.to_csv(\"./merged_output_new.csv\", index=False)"
   ]
  },
  {
   "cell_type": "code",
   "execution_count": 114,
   "id": "a6413981",
   "metadata": {},
   "outputs": [
    {
     "data": {
      "text/plain": [
       "['xgb_model.pkl']"
      ]
     },
     "execution_count": 114,
     "metadata": {},
     "output_type": "execute_result"
    }
   ],
   "source": [
    "from xgboost import XGBClassifier\n",
    "import joblib  # 用于保存模型\n",
    "\n",
    "xgb_model = XGBClassifier(\n",
    "    n_estimators=100,\n",
    "    learning_rate=0.1,\n",
    "    max_depth=6,\n",
    "    random_state=42,\n",
    "    use_label_encoder=False,\n",
    "    eval_metric='logloss'  # 使用 logloss 作为评估指标\n",
    ")\n",
    "xgb_model.fit(X_train, y_train)\n",
    "\n",
    "# 预测\n",
    "y_pred = xgb_model.predict(X_test)\n",
    "y_pred_proba = xgb_model.predict_proba(X_test)[:, 1]\n",
    "\n",
    "joblib.dump(xgb_model, \"xgb_model.pkl\")  # 保存为 .pkl 文件"
   ]
  },
  {
   "cell_type": "code",
   "execution_count": 162,
   "id": "09e0f4ef",
   "metadata": {},
   "outputs": [],
   "source": [
    "import joblib\n",
    "\n",
    "def predict_delay(date, time, stop_id):\n",
    "    dataset = pd.read_csv(\"./merged_output_new.csv\")\n",
    "    model = joblib.load(\"xgb_model.pkl\")\n",
    "    dataset['datetime_x'] = pd.to_datetime(dataset['datetime_x'], errors='coerce')\n",
    "    stop_id = float(stop_id)\n",
    "    try:\n",
    "        # 解析输入的日期和时间\n",
    "        print(date)\n",
    "        print(time)\n",
    "        datetime_input = pd.to_datetime(f\"{date} {time}\", format=\"%Y-%m-%d %H:%M\")\n",
    "        # 将数据集中时间列截断到分钟级别\n",
    "        dataset['datetime_minute'] = dataset['datetime_x'].dt.floor('T')  # 假设 datetime_x 是时间列\n",
    "        \n",
    "        matched_row = dataset.loc[\n",
    "             (dataset['datetime_minute'] == datetime_input)&(dataset['stop_id'] == stop_id)]# \n",
    "        \n",
    "        if matched_row.empty:\n",
    "            return \"No data found for the given date and time.\"\n",
    "        \n",
    "        # 提取指定的特征列\n",
    "        feature_columns = [\n",
    "            \"stop_id\", \"datetime_x\", \"temperature\", \"precipitation\",\n",
    "            \"snowfall\", \"snow_depth\", \"wind_speed\", \"cloud_cover\",\n",
    "            \"lag_arrival_delay\", \"lag_departure_delay\"\n",
    "        ]\n",
    "        input_features = matched_row[feature_columns].iloc[0].values.reshape(1, -1)\n",
    "        print(input_features.dtype)\n",
    "        df = pd.DataFrame(input_features, columns=feature_columns)\n",
    "        #df['datetime_x'] = pd.to_datetime(df['datetime_x'], errors='coerce')\n",
    "        df[\"datetime_x\"] = df['datetime_x'].astype('int64') // 10**9\n",
    "        df[feature_columns] = df[feature_columns].astype(float)\n",
    "        \n",
    "        # 使用模型预测延误概率\n",
    "        delay_probability = model.predict_proba(df)[:, 1]\n",
    "        \n",
    "        # 返回预测结果\n",
    "        return f\"Delay Probability is {delay_probability[0]:.2%}\"\n",
    "    \n",
    "    except ValueError:\n",
    "        return \"Invalid date and time format.\"\n",
    "    except KeyError as e:\n",
    "        return f\"Missing feature: {str(e)}\""
   ]
  },
  {
   "cell_type": "code",
   "execution_count": 163,
   "id": "edac7ed0",
   "metadata": {},
   "outputs": [
    {
     "name": "stdout",
     "output_type": "stream",
     "text": [
      "2022-12-15\n",
      "20:29\n"
     ]
    },
    {
     "data": {
      "text/plain": [
       "'No data found for the given date and time.'"
      ]
     },
     "execution_count": 163,
     "metadata": {},
     "output_type": "execute_result"
    }
   ],
   "source": [
    "predict_delay('2022-12-15','20:29','9022001075368001')"
   ]
  },
  {
   "cell_type": "code",
   "execution_count": 165,
   "id": "00bbe001",
   "metadata": {},
   "outputs": [
    {
     "name": "stdout",
     "output_type": "stream",
     "text": [
      "2022-12-15\n",
      "23:29\n",
      "object\n",
      "stop_id                9.022001e+15\n",
      "datetime_x             1.671147e+09\n",
      "temperature           -1.450000e+01\n",
      "precipitation          0.000000e+00\n",
      "snowfall               0.000000e+00\n",
      "snow_depth             8.000000e-02\n",
      "wind_speed             6.600000e+00\n",
      "cloud_cover            1.000000e+00\n",
      "lag_arrival_delay      0.000000e+00\n",
      "lag_departure_delay    0.000000e+00\n",
      "Name: 0, dtype: float64\n",
      "Index(['stop_id', 'datetime_x', 'temperature', 'precipitation', 'snowfall',\n",
      "       'snow_depth', 'wind_speed', 'cloud_cover', 'lag_arrival_delay',\n",
      "       'lag_departure_delay'],\n",
      "      dtype='object')\n"
     ]
    },
    {
     "data": {
      "text/plain": [
       "'Delay Probability is 7.27%'"
      ]
     },
     "execution_count": 165,
     "metadata": {},
     "output_type": "execute_result"
    }
   ],
   "source": [
    "predict_delay('2022-12-15','23:29','9022001075368001')"
   ]
  },
  {
   "cell_type": "code",
   "execution_count": 166,
   "id": "63717e6e",
   "metadata": {},
   "outputs": [
    {
     "name": "stdout",
     "output_type": "stream",
     "text": [
      "* Running on local URL:  http://127.0.0.1:7868\n",
      "* Running on public URL: https://5db16d37b0788dbf2e.gradio.live\n",
      "\n",
      "This share link expires in 72 hours. For free permanent hosting and GPU upgrades, run `gradio deploy` from the terminal in the working directory to deploy to Hugging Face Spaces (https://huggingface.co/spaces)\n"
     ]
    },
    {
     "data": {
      "text/html": [
       "<div><iframe src=\"https://5db16d37b0788dbf2e.gradio.live\" width=\"100%\" height=\"500\" allow=\"autoplay; camera; microphone; clipboard-read; clipboard-write;\" frameborder=\"0\" allowfullscreen></iframe></div>"
      ],
      "text/plain": [
       "<IPython.core.display.HTML object>"
      ]
     },
     "metadata": {},
     "output_type": "display_data"
    },
    {
     "data": {
      "text/plain": []
     },
     "execution_count": 166,
     "metadata": {},
     "output_type": "execute_result"
    }
   ],
   "source": [
    "# import joblib\n",
    "import gradio as gr\n",
    "\n",
    "\n",
    "# 定义接口\n",
    "interface = gr.Interface(\n",
    "    fn=predict_delay,  # 预测函数\n",
    "    inputs=[\n",
    "        gr.Textbox(label=\"Date (YYYY-MM-DD)\"),  # 输入日期\n",
    "        gr.Textbox(label=\"Time (HH:MM)\"),       # 输入时间\n",
    "        gr.Textbox(label=\"stop_id\")                # 输入站点\n",
    "    ],\n",
    "    outputs=gr.Label(label=\"Probability of Delay\"),         # 输出延误概率\n",
    "    title=\"Delay Probability Prediction System\",\n",
    "    description=\"Predict the probability of delay by entering the date, time and station\"\n",
    ")\n",
    "\n",
    "\n",
    "# 启动应用\n",
    "interface.launch(share=True)"
   ]
  }
 ],
 "metadata": {
  "kernelspec": {
   "display_name": "Python 3 (ipykernel)",
   "language": "python",
   "name": "python3"
  },
  "language_info": {
   "codemirror_mode": {
    "name": "ipython",
    "version": 3
   },
   "file_extension": ".py",
   "mimetype": "text/x-python",
   "name": "python",
   "nbconvert_exporter": "python",
   "pygments_lexer": "ipython3",
   "version": "3.10.9"
  }
 },
 "nbformat": 4,
 "nbformat_minor": 5
}
