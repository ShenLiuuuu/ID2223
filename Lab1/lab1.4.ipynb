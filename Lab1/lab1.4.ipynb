{
 "cells": [
  {
   "cell_type": "code",
   "execution_count": 1,
   "id": "6d806a1d",
   "metadata": {},
   "outputs": [],
   "source": [
    "import datetime\n",
    "import pandas as pd\n",
    "from xgboost import XGBRegressor\n",
    "import hopsworks\n",
    "import json\n",
    "from functions import util\n",
    "import os"
   ]
  },
  {
   "cell_type": "code",
   "execution_count": 2,
   "id": "32c7d56b",
   "metadata": {},
   "outputs": [
    {
     "data": {
      "text/plain": [
       "datetime.datetime(2024, 11, 19, 2, 47, 40, 102677)"
      ]
     },
     "execution_count": 2,
     "metadata": {},
     "output_type": "execute_result"
    }
   ],
   "source": [
    "today = datetime.datetime.now() - datetime.timedelta(0)\n",
    "tomorrow = today + datetime.timedelta(days = 1)\n",
    "today"
   ]
  },
  {
   "cell_type": "code",
   "execution_count": 3,
   "id": "2be41f36",
   "metadata": {},
   "outputs": [],
   "source": [
    "with open('./hopsworks_API.txt', 'r') as file:\n",
    "    os.environ[\"HOPSWORKS_API_KEY\"] = file.read().rstrip()"
   ]
  },
  {
   "cell_type": "code",
   "execution_count": 4,
   "id": "4fea6306",
   "metadata": {},
   "outputs": [
    {
     "name": "stdout",
     "output_type": "stream",
     "text": [
      "Connected. Call `.close()` to terminate connection gracefully.\n",
      "\n",
      "Logged in to project, explore it here https://c.app.hopsworks.ai:443/p/1171609\n",
      "Connected. Call `.close()` to terminate connection gracefully.\n",
      "Connected. Call `.close()` to terminate connection gracefully.\n"
     ]
    }
   ],
   "source": [
    "project = hopsworks.login()\n",
    "fs = project.get_feature_store() \n",
    "\n",
    "secrets = util.secrets_api(project.name)\n",
    "location_str = secrets.get_secret(\"SENSOR_LOCATION_JSON\").value\n",
    "location = json.loads(location_str)\n",
    "country=location['country']\n",
    "city=location['city']\n",
    "street=location['street']"
   ]
  },
  {
   "cell_type": "code",
   "execution_count": 5,
   "id": "0c44c5f0",
   "metadata": {},
   "outputs": [],
   "source": [
    "feature_view = fs.get_feature_view(\n",
    "    name='air_quality_fv',\n",
    "    version=1,\n",
    ")"
   ]
  },
  {
   "cell_type": "code",
   "execution_count": 6,
   "id": "de9a751f",
   "metadata": {},
   "outputs": [
    {
     "name": "stdout",
     "output_type": "stream",
     "text": [
      "Connected. Call `.close()` to terminate connection gracefully.\n",
      "Downloading model artifact (1 dirs, 5 files)... DONE\r"
     ]
    }
   ],
   "source": [
    "mr = project.get_model_registry()\n",
    "\n",
    "retrieved_model = mr.get_model(\n",
    "    name=\"air_quality_xgboost_model\",\n",
    "    version=1,\n",
    ")\n",
    "\n",
    "# Download the saved model artifacts to a local directory\n",
    "saved_model_dir = retrieved_model.download()"
   ]
  },
  {
   "cell_type": "code",
   "execution_count": 7,
   "id": "0eba9f2c",
   "metadata": {},
   "outputs": [
    {
     "data": {
      "text/html": [
       "<style>#sk-container-id-1 {color: black;background-color: white;}#sk-container-id-1 pre{padding: 0;}#sk-container-id-1 div.sk-toggleable {background-color: white;}#sk-container-id-1 label.sk-toggleable__label {cursor: pointer;display: block;width: 100%;margin-bottom: 0;padding: 0.3em;box-sizing: border-box;text-align: center;}#sk-container-id-1 label.sk-toggleable__label-arrow:before {content: \"▸\";float: left;margin-right: 0.25em;color: #696969;}#sk-container-id-1 label.sk-toggleable__label-arrow:hover:before {color: black;}#sk-container-id-1 div.sk-estimator:hover label.sk-toggleable__label-arrow:before {color: black;}#sk-container-id-1 div.sk-toggleable__content {max-height: 0;max-width: 0;overflow: hidden;text-align: left;background-color: #f0f8ff;}#sk-container-id-1 div.sk-toggleable__content pre {margin: 0.2em;color: black;border-radius: 0.25em;background-color: #f0f8ff;}#sk-container-id-1 input.sk-toggleable__control:checked~div.sk-toggleable__content {max-height: 200px;max-width: 100%;overflow: auto;}#sk-container-id-1 input.sk-toggleable__control:checked~label.sk-toggleable__label-arrow:before {content: \"▾\";}#sk-container-id-1 div.sk-estimator input.sk-toggleable__control:checked~label.sk-toggleable__label {background-color: #d4ebff;}#sk-container-id-1 div.sk-label input.sk-toggleable__control:checked~label.sk-toggleable__label {background-color: #d4ebff;}#sk-container-id-1 input.sk-hidden--visually {border: 0;clip: rect(1px 1px 1px 1px);clip: rect(1px, 1px, 1px, 1px);height: 1px;margin: -1px;overflow: hidden;padding: 0;position: absolute;width: 1px;}#sk-container-id-1 div.sk-estimator {font-family: monospace;background-color: #f0f8ff;border: 1px dotted black;border-radius: 0.25em;box-sizing: border-box;margin-bottom: 0.5em;}#sk-container-id-1 div.sk-estimator:hover {background-color: #d4ebff;}#sk-container-id-1 div.sk-parallel-item::after {content: \"\";width: 100%;border-bottom: 1px solid gray;flex-grow: 1;}#sk-container-id-1 div.sk-label:hover label.sk-toggleable__label {background-color: #d4ebff;}#sk-container-id-1 div.sk-serial::before {content: \"\";position: absolute;border-left: 1px solid gray;box-sizing: border-box;top: 0;bottom: 0;left: 50%;z-index: 0;}#sk-container-id-1 div.sk-serial {display: flex;flex-direction: column;align-items: center;background-color: white;padding-right: 0.2em;padding-left: 0.2em;position: relative;}#sk-container-id-1 div.sk-item {position: relative;z-index: 1;}#sk-container-id-1 div.sk-parallel {display: flex;align-items: stretch;justify-content: center;background-color: white;position: relative;}#sk-container-id-1 div.sk-item::before, #sk-container-id-1 div.sk-parallel-item::before {content: \"\";position: absolute;border-left: 1px solid gray;box-sizing: border-box;top: 0;bottom: 0;left: 50%;z-index: -1;}#sk-container-id-1 div.sk-parallel-item {display: flex;flex-direction: column;z-index: 1;position: relative;background-color: white;}#sk-container-id-1 div.sk-parallel-item:first-child::after {align-self: flex-end;width: 50%;}#sk-container-id-1 div.sk-parallel-item:last-child::after {align-self: flex-start;width: 50%;}#sk-container-id-1 div.sk-parallel-item:only-child::after {width: 0;}#sk-container-id-1 div.sk-dashed-wrapped {border: 1px dashed gray;margin: 0 0.4em 0.5em 0.4em;box-sizing: border-box;padding-bottom: 0.4em;background-color: white;}#sk-container-id-1 div.sk-label label {font-family: monospace;font-weight: bold;display: inline-block;line-height: 1.2em;}#sk-container-id-1 div.sk-label-container {text-align: center;}#sk-container-id-1 div.sk-container {/* jupyter's `normalize.less` sets `[hidden] { display: none; }` but bootstrap.min.css set `[hidden] { display: none !important; }` so we also need the `!important` here to be able to override the default hidden behavior on the sphinx rendered scikit-learn.org. See: https://github.com/scikit-learn/scikit-learn/issues/21755 */display: inline-block !important;position: relative;}#sk-container-id-1 div.sk-text-repr-fallback {display: none;}</style><div id=\"sk-container-id-1\" class=\"sk-top-container\"><div class=\"sk-text-repr-fallback\"><pre>XGBRegressor(base_score=&#x27;7.840906E1&#x27;, booster=&#x27;gbtree&#x27;, callbacks=None,\n",
       "             colsample_bylevel=None, colsample_bynode=None,\n",
       "             colsample_bytree=None, device=None, early_stopping_rounds=None,\n",
       "             enable_categorical=False, eval_metric=None,\n",
       "             feature_types=[&#x27;float&#x27;, &#x27;float&#x27;, &#x27;float&#x27;, &#x27;float&#x27;], gamma=None,\n",
       "             grow_policy=None, importance_type=None,\n",
       "             interaction_constraints=None, learning_rate=None, max_bin=None,\n",
       "             max_cat_threshold=None, max_cat_to_onehot=None,\n",
       "             max_delta_step=None, max_depth=None, max_leaves=None,\n",
       "             min_child_weight=None, missing=nan, monotone_constraints=None,\n",
       "             multi_strategy=None, n_estimators=None, n_jobs=None,\n",
       "             num_parallel_tree=None, random_state=None, ...)</pre><b>In a Jupyter environment, please rerun this cell to show the HTML representation or trust the notebook. <br />On GitHub, the HTML representation is unable to render, please try loading this page with nbviewer.org.</b></div><div class=\"sk-container\" hidden><div class=\"sk-item\"><div class=\"sk-estimator sk-toggleable\"><input class=\"sk-toggleable__control sk-hidden--visually\" id=\"sk-estimator-id-1\" type=\"checkbox\" checked><label for=\"sk-estimator-id-1\" class=\"sk-toggleable__label sk-toggleable__label-arrow\">XGBRegressor</label><div class=\"sk-toggleable__content\"><pre>XGBRegressor(base_score=&#x27;7.840906E1&#x27;, booster=&#x27;gbtree&#x27;, callbacks=None,\n",
       "             colsample_bylevel=None, colsample_bynode=None,\n",
       "             colsample_bytree=None, device=None, early_stopping_rounds=None,\n",
       "             enable_categorical=False, eval_metric=None,\n",
       "             feature_types=[&#x27;float&#x27;, &#x27;float&#x27;, &#x27;float&#x27;, &#x27;float&#x27;], gamma=None,\n",
       "             grow_policy=None, importance_type=None,\n",
       "             interaction_constraints=None, learning_rate=None, max_bin=None,\n",
       "             max_cat_threshold=None, max_cat_to_onehot=None,\n",
       "             max_delta_step=None, max_depth=None, max_leaves=None,\n",
       "             min_child_weight=None, missing=nan, monotone_constraints=None,\n",
       "             multi_strategy=None, n_estimators=None, n_jobs=None,\n",
       "             num_parallel_tree=None, random_state=None, ...)</pre></div></div></div></div></div>"
      ],
      "text/plain": [
       "XGBRegressor(base_score='7.840906E1', booster='gbtree', callbacks=None,\n",
       "             colsample_bylevel=None, colsample_bynode=None,\n",
       "             colsample_bytree=None, device=None, early_stopping_rounds=None,\n",
       "             enable_categorical=False, eval_metric=None,\n",
       "             feature_types=['float', 'float', 'float', 'float'], gamma=None,\n",
       "             grow_policy=None, importance_type=None,\n",
       "             interaction_constraints=None, learning_rate=None, max_bin=None,\n",
       "             max_cat_threshold=None, max_cat_to_onehot=None,\n",
       "             max_delta_step=None, max_depth=None, max_leaves=None,\n",
       "             min_child_weight=None, missing=nan, monotone_constraints=None,\n",
       "             multi_strategy=None, n_estimators=None, n_jobs=None,\n",
       "             num_parallel_tree=None, random_state=None, ...)"
      ]
     },
     "execution_count": 7,
     "metadata": {},
     "output_type": "execute_result"
    }
   ],
   "source": [
    "# Loading the XGBoost regressor model and label encoder from the saved model directory\n",
    "# retrieved_xgboost_model = joblib.load(saved_model_dir + \"/xgboost_regressor.pkl\")\n",
    "retrieved_xgboost_model = XGBRegressor()\n",
    "\n",
    "retrieved_xgboost_model.load_model(saved_model_dir + \"/model.json\")\n",
    "\n",
    "# Displaying the retrieved XGBoost regressor model\n",
    "retrieved_xgboost_model"
   ]
  },
  {
   "cell_type": "code",
   "execution_count": 10,
   "id": "e226f4c4",
   "metadata": {},
   "outputs": [
    {
     "name": "stdout",
     "output_type": "stream",
     "text": [
      "<class 'datetime.datetime'>\n",
      "<class 'hsfs.feature.Feature'>\n",
      "Finished: Reading data from Hopsworks, using Hopsworks Feature Query Service (0.77s) \n"
     ]
    },
    {
     "data": {
      "text/html": [
       "<div>\n",
       "<style scoped>\n",
       "    .dataframe tbody tr th:only-of-type {\n",
       "        vertical-align: middle;\n",
       "    }\n",
       "\n",
       "    .dataframe tbody tr th {\n",
       "        vertical-align: top;\n",
       "    }\n",
       "\n",
       "    .dataframe thead th {\n",
       "        text-align: right;\n",
       "    }\n",
       "</style>\n",
       "<table border=\"1\" class=\"dataframe\">\n",
       "  <thead>\n",
       "    <tr style=\"text-align: right;\">\n",
       "      <th></th>\n",
       "      <th>date</th>\n",
       "      <th>temperature_2m_mean</th>\n",
       "      <th>precipitation_sum</th>\n",
       "      <th>wind_speed_10m_max</th>\n",
       "      <th>wind_direction_10m_dominant</th>\n",
       "      <th>city</th>\n",
       "    </tr>\n",
       "  </thead>\n",
       "  <tbody>\n",
       "    <tr>\n",
       "      <th>0</th>\n",
       "      <td>2024-11-25 00:00:00+00:00</td>\n",
       "      <td>19.900000</td>\n",
       "      <td>0.0</td>\n",
       "      <td>1.527351</td>\n",
       "      <td>44.999897</td>\n",
       "      <td>Meizhou</td>\n",
       "    </tr>\n",
       "    <tr>\n",
       "      <th>1</th>\n",
       "      <td>2024-11-21 00:00:00+00:00</td>\n",
       "      <td>16.549999</td>\n",
       "      <td>0.2</td>\n",
       "      <td>10.514218</td>\n",
       "      <td>321.952911</td>\n",
       "      <td>Meizhou</td>\n",
       "    </tr>\n",
       "    <tr>\n",
       "      <th>2</th>\n",
       "      <td>2024-11-24 00:00:00+00:00</td>\n",
       "      <td>18.549999</td>\n",
       "      <td>0.0</td>\n",
       "      <td>2.099143</td>\n",
       "      <td>30.963696</td>\n",
       "      <td>Meizhou</td>\n",
       "    </tr>\n",
       "    <tr>\n",
       "      <th>3</th>\n",
       "      <td>2024-11-22 00:00:00+00:00</td>\n",
       "      <td>18.299999</td>\n",
       "      <td>0.0</td>\n",
       "      <td>8.311245</td>\n",
       "      <td>355.030334</td>\n",
       "      <td>Meizhou</td>\n",
       "    </tr>\n",
       "    <tr>\n",
       "      <th>4</th>\n",
       "      <td>2024-11-20 00:00:00+00:00</td>\n",
       "      <td>17.650000</td>\n",
       "      <td>0.6</td>\n",
       "      <td>12.538134</td>\n",
       "      <td>320.826355</td>\n",
       "      <td>Meizhou</td>\n",
       "    </tr>\n",
       "    <tr>\n",
       "      <th>5</th>\n",
       "      <td>2024-11-23 00:00:00+00:00</td>\n",
       "      <td>18.450001</td>\n",
       "      <td>0.0</td>\n",
       "      <td>1.835647</td>\n",
       "      <td>348.690094</td>\n",
       "      <td>Meizhou</td>\n",
       "    </tr>\n",
       "  </tbody>\n",
       "</table>\n",
       "</div>"
      ],
      "text/plain": [
       "                       date  temperature_2m_mean  precipitation_sum  \\\n",
       "0 2024-11-25 00:00:00+00:00            19.900000                0.0   \n",
       "1 2024-11-21 00:00:00+00:00            16.549999                0.2   \n",
       "2 2024-11-24 00:00:00+00:00            18.549999                0.0   \n",
       "3 2024-11-22 00:00:00+00:00            18.299999                0.0   \n",
       "4 2024-11-20 00:00:00+00:00            17.650000                0.6   \n",
       "5 2024-11-23 00:00:00+00:00            18.450001                0.0   \n",
       "\n",
       "   wind_speed_10m_max  wind_direction_10m_dominant     city  \n",
       "0            1.527351                    44.999897  Meizhou  \n",
       "1           10.514218                   321.952911  Meizhou  \n",
       "2            2.099143                    30.963696  Meizhou  \n",
       "3            8.311245                   355.030334  Meizhou  \n",
       "4           12.538134                   320.826355  Meizhou  \n",
       "5            1.835647                   348.690094  Meizhou  "
      ]
     },
     "execution_count": 10,
     "metadata": {},
     "output_type": "execute_result"
    }
   ],
   "source": [
    "weather_fg = fs.get_feature_group(\n",
    "    name='weather',\n",
    "    version=1,\n",
    ")\n",
    "print(type(today)) \n",
    "print(type(weather_fg.date))\n",
    "# today_str = today.strftime(\"%Y-%m-%d %H:%M:%S\")\n",
    "batch_data = weather_fg.filter(weather_fg.date >= today).read()\n",
    "batch_data"
   ]
  },
  {
   "cell_type": "code",
   "execution_count": 11,
   "id": "930b524b",
   "metadata": {},
   "outputs": [
    {
     "data": {
      "text/html": [
       "<div>\n",
       "<style scoped>\n",
       "    .dataframe tbody tr th:only-of-type {\n",
       "        vertical-align: middle;\n",
       "    }\n",
       "\n",
       "    .dataframe tbody tr th {\n",
       "        vertical-align: top;\n",
       "    }\n",
       "\n",
       "    .dataframe thead th {\n",
       "        text-align: right;\n",
       "    }\n",
       "</style>\n",
       "<table border=\"1\" class=\"dataframe\">\n",
       "  <thead>\n",
       "    <tr style=\"text-align: right;\">\n",
       "      <th></th>\n",
       "      <th>date</th>\n",
       "      <th>temperature_2m_mean</th>\n",
       "      <th>precipitation_sum</th>\n",
       "      <th>wind_speed_10m_max</th>\n",
       "      <th>wind_direction_10m_dominant</th>\n",
       "      <th>city</th>\n",
       "      <th>predicted_pm25</th>\n",
       "    </tr>\n",
       "  </thead>\n",
       "  <tbody>\n",
       "    <tr>\n",
       "      <th>0</th>\n",
       "      <td>2024-11-25 00:00:00+00:00</td>\n",
       "      <td>19.900000</td>\n",
       "      <td>0.0</td>\n",
       "      <td>1.527351</td>\n",
       "      <td>44.999897</td>\n",
       "      <td>Meizhou</td>\n",
       "      <td>133.753677</td>\n",
       "    </tr>\n",
       "    <tr>\n",
       "      <th>1</th>\n",
       "      <td>2024-11-21 00:00:00+00:00</td>\n",
       "      <td>16.549999</td>\n",
       "      <td>0.2</td>\n",
       "      <td>10.514218</td>\n",
       "      <td>321.952911</td>\n",
       "      <td>Meizhou</td>\n",
       "      <td>98.162605</td>\n",
       "    </tr>\n",
       "    <tr>\n",
       "      <th>2</th>\n",
       "      <td>2024-11-24 00:00:00+00:00</td>\n",
       "      <td>18.549999</td>\n",
       "      <td>0.0</td>\n",
       "      <td>2.099143</td>\n",
       "      <td>30.963696</td>\n",
       "      <td>Meizhou</td>\n",
       "      <td>142.065811</td>\n",
       "    </tr>\n",
       "    <tr>\n",
       "      <th>3</th>\n",
       "      <td>2024-11-22 00:00:00+00:00</td>\n",
       "      <td>18.299999</td>\n",
       "      <td>0.0</td>\n",
       "      <td>8.311245</td>\n",
       "      <td>355.030334</td>\n",
       "      <td>Meizhou</td>\n",
       "      <td>89.493835</td>\n",
       "    </tr>\n",
       "    <tr>\n",
       "      <th>4</th>\n",
       "      <td>2024-11-20 00:00:00+00:00</td>\n",
       "      <td>17.650000</td>\n",
       "      <td>0.6</td>\n",
       "      <td>12.538134</td>\n",
       "      <td>320.826355</td>\n",
       "      <td>Meizhou</td>\n",
       "      <td>104.352432</td>\n",
       "    </tr>\n",
       "    <tr>\n",
       "      <th>5</th>\n",
       "      <td>2024-11-23 00:00:00+00:00</td>\n",
       "      <td>18.450001</td>\n",
       "      <td>0.0</td>\n",
       "      <td>1.835647</td>\n",
       "      <td>348.690094</td>\n",
       "      <td>Meizhou</td>\n",
       "      <td>116.065285</td>\n",
       "    </tr>\n",
       "  </tbody>\n",
       "</table>\n",
       "</div>"
      ],
      "text/plain": [
       "                       date  temperature_2m_mean  precipitation_sum  \\\n",
       "0 2024-11-25 00:00:00+00:00            19.900000                0.0   \n",
       "1 2024-11-21 00:00:00+00:00            16.549999                0.2   \n",
       "2 2024-11-24 00:00:00+00:00            18.549999                0.0   \n",
       "3 2024-11-22 00:00:00+00:00            18.299999                0.0   \n",
       "4 2024-11-20 00:00:00+00:00            17.650000                0.6   \n",
       "5 2024-11-23 00:00:00+00:00            18.450001                0.0   \n",
       "\n",
       "   wind_speed_10m_max  wind_direction_10m_dominant     city  predicted_pm25  \n",
       "0            1.527351                    44.999897  Meizhou      133.753677  \n",
       "1           10.514218                   321.952911  Meizhou       98.162605  \n",
       "2            2.099143                    30.963696  Meizhou      142.065811  \n",
       "3            8.311245                   355.030334  Meizhou       89.493835  \n",
       "4           12.538134                   320.826355  Meizhou      104.352432  \n",
       "5            1.835647                   348.690094  Meizhou      116.065285  "
      ]
     },
     "execution_count": 11,
     "metadata": {},
     "output_type": "execute_result"
    }
   ],
   "source": [
    "batch_data['predicted_pm25'] = retrieved_xgboost_model.predict(\n",
    "    batch_data[['temperature_2m_mean', 'precipitation_sum', 'wind_speed_10m_max', 'wind_direction_10m_dominant']])\n",
    "batch_data"
   ]
  },
  {
   "cell_type": "code",
   "execution_count": 12,
   "id": "fef12ab7",
   "metadata": {},
   "outputs": [
    {
     "name": "stdout",
     "output_type": "stream",
     "text": [
      "<class 'pandas.core.frame.DataFrame'>\n",
      "RangeIndex: 6 entries, 0 to 5\n",
      "Data columns (total 7 columns):\n",
      " #   Column                       Non-Null Count  Dtype              \n",
      "---  ------                       --------------  -----              \n",
      " 0   date                         6 non-null      datetime64[ns, UTC]\n",
      " 1   temperature_2m_mean          6 non-null      float32            \n",
      " 2   precipitation_sum            6 non-null      float32            \n",
      " 3   wind_speed_10m_max           6 non-null      float32            \n",
      " 4   wind_direction_10m_dominant  6 non-null      float32            \n",
      " 5   city                         6 non-null      object             \n",
      " 6   predicted_pm25               6 non-null      float32            \n",
      "dtypes: datetime64[ns, UTC](1), float32(5), object(1)\n",
      "memory usage: 344.0+ bytes\n"
     ]
    }
   ],
   "source": [
    "batch_data.info()"
   ]
  },
  {
   "cell_type": "code",
   "execution_count": 15,
   "id": "bfa48e80",
   "metadata": {},
   "outputs": [
    {
     "data": {
      "text/html": [
       "<div>\n",
       "<style scoped>\n",
       "    .dataframe tbody tr th:only-of-type {\n",
       "        vertical-align: middle;\n",
       "    }\n",
       "\n",
       "    .dataframe tbody tr th {\n",
       "        vertical-align: top;\n",
       "    }\n",
       "\n",
       "    .dataframe thead th {\n",
       "        text-align: right;\n",
       "    }\n",
       "</style>\n",
       "<table border=\"1\" class=\"dataframe\">\n",
       "  <thead>\n",
       "    <tr style=\"text-align: right;\">\n",
       "      <th></th>\n",
       "      <th>date</th>\n",
       "      <th>temperature_2m_mean</th>\n",
       "      <th>precipitation_sum</th>\n",
       "      <th>wind_speed_10m_max</th>\n",
       "      <th>wind_direction_10m_dominant</th>\n",
       "      <th>city</th>\n",
       "      <th>predicted_pm25</th>\n",
       "      <th>street</th>\n",
       "      <th>country</th>\n",
       "      <th>days_before_forecast_day</th>\n",
       "    </tr>\n",
       "  </thead>\n",
       "  <tbody>\n",
       "    <tr>\n",
       "      <th>4</th>\n",
       "      <td>2024-11-20 00:00:00+00:00</td>\n",
       "      <td>17.650000</td>\n",
       "      <td>0.6</td>\n",
       "      <td>12.538134</td>\n",
       "      <td>320.826355</td>\n",
       "      <td>Meizhou</td>\n",
       "      <td>104.352432</td>\n",
       "      <td>Sanjiao town</td>\n",
       "      <td>China</td>\n",
       "      <td>5</td>\n",
       "    </tr>\n",
       "    <tr>\n",
       "      <th>1</th>\n",
       "      <td>2024-11-21 00:00:00+00:00</td>\n",
       "      <td>16.549999</td>\n",
       "      <td>0.2</td>\n",
       "      <td>10.514218</td>\n",
       "      <td>321.952911</td>\n",
       "      <td>Meizhou</td>\n",
       "      <td>98.162605</td>\n",
       "      <td>Sanjiao town</td>\n",
       "      <td>China</td>\n",
       "      <td>2</td>\n",
       "    </tr>\n",
       "    <tr>\n",
       "      <th>3</th>\n",
       "      <td>2024-11-22 00:00:00+00:00</td>\n",
       "      <td>18.299999</td>\n",
       "      <td>0.0</td>\n",
       "      <td>8.311245</td>\n",
       "      <td>355.030334</td>\n",
       "      <td>Meizhou</td>\n",
       "      <td>89.493835</td>\n",
       "      <td>Sanjiao town</td>\n",
       "      <td>China</td>\n",
       "      <td>4</td>\n",
       "    </tr>\n",
       "    <tr>\n",
       "      <th>5</th>\n",
       "      <td>2024-11-23 00:00:00+00:00</td>\n",
       "      <td>18.450001</td>\n",
       "      <td>0.0</td>\n",
       "      <td>1.835647</td>\n",
       "      <td>348.690094</td>\n",
       "      <td>Meizhou</td>\n",
       "      <td>116.065285</td>\n",
       "      <td>Sanjiao town</td>\n",
       "      <td>China</td>\n",
       "      <td>6</td>\n",
       "    </tr>\n",
       "    <tr>\n",
       "      <th>2</th>\n",
       "      <td>2024-11-24 00:00:00+00:00</td>\n",
       "      <td>18.549999</td>\n",
       "      <td>0.0</td>\n",
       "      <td>2.099143</td>\n",
       "      <td>30.963696</td>\n",
       "      <td>Meizhou</td>\n",
       "      <td>142.065811</td>\n",
       "      <td>Sanjiao town</td>\n",
       "      <td>China</td>\n",
       "      <td>3</td>\n",
       "    </tr>\n",
       "    <tr>\n",
       "      <th>0</th>\n",
       "      <td>2024-11-25 00:00:00+00:00</td>\n",
       "      <td>19.900000</td>\n",
       "      <td>0.0</td>\n",
       "      <td>1.527351</td>\n",
       "      <td>44.999897</td>\n",
       "      <td>Meizhou</td>\n",
       "      <td>133.753677</td>\n",
       "      <td>Sanjiao town</td>\n",
       "      <td>China</td>\n",
       "      <td>1</td>\n",
       "    </tr>\n",
       "  </tbody>\n",
       "</table>\n",
       "</div>"
      ],
      "text/plain": [
       "                       date  temperature_2m_mean  precipitation_sum  \\\n",
       "4 2024-11-20 00:00:00+00:00            17.650000                0.6   \n",
       "1 2024-11-21 00:00:00+00:00            16.549999                0.2   \n",
       "3 2024-11-22 00:00:00+00:00            18.299999                0.0   \n",
       "5 2024-11-23 00:00:00+00:00            18.450001                0.0   \n",
       "2 2024-11-24 00:00:00+00:00            18.549999                0.0   \n",
       "0 2024-11-25 00:00:00+00:00            19.900000                0.0   \n",
       "\n",
       "   wind_speed_10m_max  wind_direction_10m_dominant     city  predicted_pm25  \\\n",
       "4           12.538134                   320.826355  Meizhou      104.352432   \n",
       "1           10.514218                   321.952911  Meizhou       98.162605   \n",
       "3            8.311245                   355.030334  Meizhou       89.493835   \n",
       "5            1.835647                   348.690094  Meizhou      116.065285   \n",
       "2            2.099143                    30.963696  Meizhou      142.065811   \n",
       "0            1.527351                    44.999897  Meizhou      133.753677   \n",
       "\n",
       "         street country  days_before_forecast_day  \n",
       "4  Sanjiao town   China                         5  \n",
       "1  Sanjiao town   China                         2  \n",
       "3  Sanjiao town   China                         4  \n",
       "5  Sanjiao town   China                         6  \n",
       "2  Sanjiao town   China                         3  \n",
       "0  Sanjiao town   China                         1  "
      ]
     },
     "execution_count": 15,
     "metadata": {},
     "output_type": "execute_result"
    }
   ],
   "source": [
    "batch_data['street'] = street\n",
    "batch_data['city'] = city\n",
    "batch_data['country'] = country\n",
    "# Fill in the number of days before the date on which you made the forecast (base_date)\n",
    "batch_data['days_before_forecast_day'] = range(1, len(batch_data)+1)\n",
    "batch_data = batch_data.sort_values(by=['date'])\n",
    "batch_data"
   ]
  },
  {
   "cell_type": "code",
   "execution_count": 16,
   "id": "33675ac6",
   "metadata": {},
   "outputs": [
    {
     "name": "stdout",
     "output_type": "stream",
     "text": [
      "<class 'pandas.core.frame.DataFrame'>\n",
      "Int64Index: 6 entries, 4 to 0\n",
      "Data columns (total 10 columns):\n",
      " #   Column                       Non-Null Count  Dtype              \n",
      "---  ------                       --------------  -----              \n",
      " 0   date                         6 non-null      datetime64[ns, UTC]\n",
      " 1   temperature_2m_mean          6 non-null      float32            \n",
      " 2   precipitation_sum            6 non-null      float32            \n",
      " 3   wind_speed_10m_max           6 non-null      float32            \n",
      " 4   wind_direction_10m_dominant  6 non-null      float32            \n",
      " 5   city                         6 non-null      object             \n",
      " 6   predicted_pm25               6 non-null      float32            \n",
      " 7   street                       6 non-null      object             \n",
      " 8   country                      6 non-null      object             \n",
      " 9   days_before_forecast_day     6 non-null      int64              \n",
      "dtypes: datetime64[ns, UTC](1), float32(5), int64(1), object(3)\n",
      "memory usage: 408.0+ bytes\n"
     ]
    }
   ],
   "source": [
    "batch_data.info()"
   ]
  },
  {
   "cell_type": "code",
   "execution_count": 17,
   "id": "c15728c1",
   "metadata": {},
   "outputs": [
    {
     "data": {
      "image/png": "[encoded data removed]",
      "text/plain": [
       "<Figure size 1000x600 with 1 Axes>"
      ]
     },
     "metadata": {},
     "output_type": "display_data"
    }
   ],
   "source": [
    "file_path = \"./pm25_forecast.png\"\n",
    "plt = util.plot_air_quality_forecast(city, street, batch_data, file_path)\n",
    "plt.show()"
   ]
  },
  {
   "cell_type": "code",
   "execution_count": 18,
   "id": "2a42bc0c",
   "metadata": {},
   "outputs": [],
   "source": [
    "# Get or create feature group\n",
    "monitor_fg = fs.get_or_create_feature_group(\n",
    "    name='aq_predictions',\n",
    "    description='Air Quality prediction monitoring',\n",
    "    version=1,\n",
    "    primary_key=['city','street','date','days_before_forecast_day'],\n",
    "    event_time=\"date\"\n",
    ")"
   ]
  },
  {
   "cell_type": "code",
   "execution_count": 19,
   "id": "87e1c4fb",
   "metadata": {},
   "outputs": [
    {
     "data": {
      "application/vnd.jupyter.widget-view+json": {
       "model_id": "c563e126220f44839d68223e3bba4db0",
       "version_major": 2,
       "version_minor": 0
      },
      "text/plain": [
       "Uploading Dataframe: 0.00% |          | Rows 0/6 | Elapsed Time: 00:00 | Remaining Time: ?"
      ]
     },
     "metadata": {},
     "output_type": "display_data"
    },
    {
     "name": "stdout",
     "output_type": "stream",
     "text": [
      "Launching job: aq_predictions_1_offline_fg_materialization\n",
      "Job started successfully, you can follow the progress at \n",
      "https://c.app.hopsworks.ai/p/1171609/jobs/named/aq_predictions_1_offline_fg_materialization/executions\n"
     ]
    },
    {
     "data": {
      "text/plain": [
       "(<hsfs.core.job.Job at 0x1c6281f63e0>, None)"
      ]
     },
     "execution_count": 19,
     "metadata": {},
     "output_type": "execute_result"
    }
   ],
   "source": [
    "monitor_fg.insert(batch_data, write_options={\"wait_for_job\": True})"
   ]
  },
  {
   "cell_type": "code",
   "execution_count": 20,
   "id": "eaafa390",
   "metadata": {},
   "outputs": [
    {
     "name": "stdout",
     "output_type": "stream",
     "text": [
      "Finished: Reading data from Hopsworks, using Hopsworks Feature Query Service (1.11s) \n"
     ]
    },
    {
     "data": {
      "text/html": [
       "<div>\n",
       "<style scoped>\n",
       "    .dataframe tbody tr th:only-of-type {\n",
       "        vertical-align: middle;\n",
       "    }\n",
       "\n",
       "    .dataframe tbody tr th {\n",
       "        vertical-align: top;\n",
       "    }\n",
       "\n",
       "    .dataframe thead th {\n",
       "        text-align: right;\n",
       "    }\n",
       "</style>\n",
       "<table border=\"1\" class=\"dataframe\">\n",
       "  <thead>\n",
       "    <tr style=\"text-align: right;\">\n",
       "      <th></th>\n",
       "      <th>date</th>\n",
       "      <th>temperature_2m_mean</th>\n",
       "      <th>precipitation_sum</th>\n",
       "      <th>wind_speed_10m_max</th>\n",
       "      <th>wind_direction_10m_dominant</th>\n",
       "      <th>city</th>\n",
       "      <th>predicted_pm25</th>\n",
       "      <th>street</th>\n",
       "      <th>country</th>\n",
       "      <th>days_before_forecast_day</th>\n",
       "    </tr>\n",
       "  </thead>\n",
       "  <tbody>\n",
       "    <tr>\n",
       "      <th>0</th>\n",
       "      <td>2024-11-25 00:00:00+00:00</td>\n",
       "      <td>19.9</td>\n",
       "      <td>0.0</td>\n",
       "      <td>1.527351</td>\n",
       "      <td>44.999897</td>\n",
       "      <td>Meizhou</td>\n",
       "      <td>133.753677</td>\n",
       "      <td>Sanjiao town</td>\n",
       "      <td>China</td>\n",
       "      <td>1</td>\n",
       "    </tr>\n",
       "    <tr>\n",
       "      <th>1</th>\n",
       "      <td>2024-11-16 00:00:00+00:00</td>\n",
       "      <td>24.6</td>\n",
       "      <td>0.0</td>\n",
       "      <td>9.021574</td>\n",
       "      <td>331.389618</td>\n",
       "      <td>Meizhou</td>\n",
       "      <td>115.002296</td>\n",
       "      <td>Sanjiao town</td>\n",
       "      <td>China</td>\n",
       "      <td>1</td>\n",
       "    </tr>\n",
       "  </tbody>\n",
       "</table>\n",
       "</div>"
      ],
      "text/plain": [
       "                       date  temperature_2m_mean  precipitation_sum  \\\n",
       "0 2024-11-25 00:00:00+00:00                 19.9                0.0   \n",
       "1 2024-11-16 00:00:00+00:00                 24.6                0.0   \n",
       "\n",
       "   wind_speed_10m_max  wind_direction_10m_dominant     city  predicted_pm25  \\\n",
       "0            1.527351                    44.999897  Meizhou      133.753677   \n",
       "1            9.021574                   331.389618  Meizhou      115.002296   \n",
       "\n",
       "         street country  days_before_forecast_day  \n",
       "0  Sanjiao town   China                         1  \n",
       "1  Sanjiao town   China                         1  "
      ]
     },
     "execution_count": 20,
     "metadata": {},
     "output_type": "execute_result"
    }
   ],
   "source": [
    "# We will create a hindcast chart for  only the forecasts made 1 day beforehand\n",
    "monitoring_df = monitor_fg.filter(monitor_fg.days_before_forecast_day == 1).read()\n",
    "monitoring_df"
   ]
  },
  {
   "cell_type": "code",
   "execution_count": 21,
   "id": "028a95f9",
   "metadata": {},
   "outputs": [
    {
     "name": "stdout",
     "output_type": "stream",
     "text": [
      "Finished: Reading data from Hopsworks, using Hopsworks Feature Query Service (1.58s) \n"
     ]
    },
    {
     "data": {
      "text/html": [
       "<div>\n",
       "<style scoped>\n",
       "    .dataframe tbody tr th:only-of-type {\n",
       "        vertical-align: middle;\n",
       "    }\n",
       "\n",
       "    .dataframe tbody tr th {\n",
       "        vertical-align: top;\n",
       "    }\n",
       "\n",
       "    .dataframe thead th {\n",
       "        text-align: right;\n",
       "    }\n",
       "</style>\n",
       "<table border=\"1\" class=\"dataframe\">\n",
       "  <thead>\n",
       "    <tr style=\"text-align: right;\">\n",
       "      <th></th>\n",
       "      <th>date</th>\n",
       "      <th>pm25</th>\n",
       "      <th>country</th>\n",
       "      <th>city</th>\n",
       "      <th>street</th>\n",
       "      <th>url</th>\n",
       "    </tr>\n",
       "  </thead>\n",
       "  <tbody>\n",
       "    <tr>\n",
       "      <th>0</th>\n",
       "      <td>2021-09-22 00:00:00+00:00</td>\n",
       "      <td>47.0</td>\n",
       "      <td>China</td>\n",
       "      <td>Meizhou</td>\n",
       "      <td>Sanjiao town</td>\n",
       "      <td>https://api.waqi.info/feed/@4341</td>\n",
       "    </tr>\n",
       "    <tr>\n",
       "      <th>1</th>\n",
       "      <td>2014-06-15 00:00:00+00:00</td>\n",
       "      <td>91.0</td>\n",
       "      <td>China</td>\n",
       "      <td>Meizhou</td>\n",
       "      <td>Sanjiao town</td>\n",
       "      <td>https://api.waqi.info/feed/@4341</td>\n",
       "    </tr>\n",
       "    <tr>\n",
       "      <th>2</th>\n",
       "      <td>2018-07-10 00:00:00+00:00</td>\n",
       "      <td>75.0</td>\n",
       "      <td>China</td>\n",
       "      <td>Meizhou</td>\n",
       "      <td>Sanjiao town</td>\n",
       "      <td>https://api.waqi.info/feed/@4341</td>\n",
       "    </tr>\n",
       "    <tr>\n",
       "      <th>3</th>\n",
       "      <td>2014-04-12 00:00:00+00:00</td>\n",
       "      <td>114.0</td>\n",
       "      <td>China</td>\n",
       "      <td>Meizhou</td>\n",
       "      <td>Sanjiao town</td>\n",
       "      <td>https://api.waqi.info/feed/@4341</td>\n",
       "    </tr>\n",
       "    <tr>\n",
       "      <th>4</th>\n",
       "      <td>2018-10-29 00:00:00+00:00</td>\n",
       "      <td>85.0</td>\n",
       "      <td>China</td>\n",
       "      <td>Meizhou</td>\n",
       "      <td>Sanjiao town</td>\n",
       "      <td>https://api.waqi.info/feed/@4341</td>\n",
       "    </tr>\n",
       "    <tr>\n",
       "      <th>...</th>\n",
       "      <td>...</td>\n",
       "      <td>...</td>\n",
       "      <td>...</td>\n",
       "      <td>...</td>\n",
       "      <td>...</td>\n",
       "      <td>...</td>\n",
       "    </tr>\n",
       "    <tr>\n",
       "      <th>3937</th>\n",
       "      <td>2017-03-23 00:00:00+00:00</td>\n",
       "      <td>63.0</td>\n",
       "      <td>China</td>\n",
       "      <td>Meizhou</td>\n",
       "      <td>Sanjiao town</td>\n",
       "      <td>https://api.waqi.info/feed/@4341</td>\n",
       "    </tr>\n",
       "    <tr>\n",
       "      <th>3938</th>\n",
       "      <td>2020-07-31 00:00:00+00:00</td>\n",
       "      <td>34.0</td>\n",
       "      <td>China</td>\n",
       "      <td>Meizhou</td>\n",
       "      <td>Sanjiao town</td>\n",
       "      <td>https://api.waqi.info/feed/@4341</td>\n",
       "    </tr>\n",
       "    <tr>\n",
       "      <th>3939</th>\n",
       "      <td>2019-11-14 00:00:00+00:00</td>\n",
       "      <td>112.0</td>\n",
       "      <td>China</td>\n",
       "      <td>Meizhou</td>\n",
       "      <td>Sanjiao town</td>\n",
       "      <td>https://api.waqi.info/feed/@4341</td>\n",
       "    </tr>\n",
       "    <tr>\n",
       "      <th>3940</th>\n",
       "      <td>2022-05-05 00:00:00+00:00</td>\n",
       "      <td>83.0</td>\n",
       "      <td>China</td>\n",
       "      <td>Meizhou</td>\n",
       "      <td>Sanjiao town</td>\n",
       "      <td>https://api.waqi.info/feed/@4341</td>\n",
       "    </tr>\n",
       "    <tr>\n",
       "      <th>3941</th>\n",
       "      <td>2024-11-16 00:00:00+00:00</td>\n",
       "      <td>57.0</td>\n",
       "      <td>China</td>\n",
       "      <td>Meizhou</td>\n",
       "      <td>Sanjiao town</td>\n",
       "      <td>https://api.waqi.info/feed/@4341</td>\n",
       "    </tr>\n",
       "  </tbody>\n",
       "</table>\n",
       "<p>3942 rows × 6 columns</p>\n",
       "</div>"
      ],
      "text/plain": [
       "                          date   pm25 country     city        street  \\\n",
       "0    2021-09-22 00:00:00+00:00   47.0   China  Meizhou  Sanjiao town   \n",
       "1    2014-06-15 00:00:00+00:00   91.0   China  Meizhou  Sanjiao town   \n",
       "2    2018-07-10 00:00:00+00:00   75.0   China  Meizhou  Sanjiao town   \n",
       "3    2014-04-12 00:00:00+00:00  114.0   China  Meizhou  Sanjiao town   \n",
       "4    2018-10-29 00:00:00+00:00   85.0   China  Meizhou  Sanjiao town   \n",
       "...                        ...    ...     ...      ...           ...   \n",
       "3937 2017-03-23 00:00:00+00:00   63.0   China  Meizhou  Sanjiao town   \n",
       "3938 2020-07-31 00:00:00+00:00   34.0   China  Meizhou  Sanjiao town   \n",
       "3939 2019-11-14 00:00:00+00:00  112.0   China  Meizhou  Sanjiao town   \n",
       "3940 2022-05-05 00:00:00+00:00   83.0   China  Meizhou  Sanjiao town   \n",
       "3941 2024-11-16 00:00:00+00:00   57.0   China  Meizhou  Sanjiao town   \n",
       "\n",
       "                                   url  \n",
       "0     https://api.waqi.info/feed/@4341  \n",
       "1     https://api.waqi.info/feed/@4341  \n",
       "2     https://api.waqi.info/feed/@4341  \n",
       "3     https://api.waqi.info/feed/@4341  \n",
       "4     https://api.waqi.info/feed/@4341  \n",
       "...                                ...  \n",
       "3937  https://api.waqi.info/feed/@4341  \n",
       "3938  https://api.waqi.info/feed/@4341  \n",
       "3939  https://api.waqi.info/feed/@4341  \n",
       "3940  https://api.waqi.info/feed/@4341  \n",
       "3941  https://api.waqi.info/feed/@4341  \n",
       "\n",
       "[3942 rows x 6 columns]"
      ]
     },
     "execution_count": 21,
     "metadata": {},
     "output_type": "execute_result"
    }
   ],
   "source": [
    "air_quality_fg = fs.get_feature_group(\n",
    "    name='air_quality',\n",
    "    version=1,\n",
    ")\n",
    "air_quality_df = air_quality_fg.read()\n",
    "air_quality_df"
   ]
  },
  {
   "cell_type": "code",
   "execution_count": 22,
   "id": "0bf056c9",
   "metadata": {},
   "outputs": [
    {
     "data": {
      "text/html": [
       "<div>\n",
       "<style scoped>\n",
       "    .dataframe tbody tr th:only-of-type {\n",
       "        vertical-align: middle;\n",
       "    }\n",
       "\n",
       "    .dataframe tbody tr th {\n",
       "        vertical-align: top;\n",
       "    }\n",
       "\n",
       "    .dataframe thead th {\n",
       "        text-align: right;\n",
       "    }\n",
       "</style>\n",
       "<table border=\"1\" class=\"dataframe\">\n",
       "  <thead>\n",
       "    <tr style=\"text-align: right;\">\n",
       "      <th></th>\n",
       "      <th>date</th>\n",
       "      <th>predicted_pm25</th>\n",
       "      <th>pm25</th>\n",
       "    </tr>\n",
       "  </thead>\n",
       "  <tbody>\n",
       "    <tr>\n",
       "      <th>0</th>\n",
       "      <td>2024-11-16 00:00:00+00:00</td>\n",
       "      <td>115.002296</td>\n",
       "      <td>57.0</td>\n",
       "    </tr>\n",
       "  </tbody>\n",
       "</table>\n",
       "</div>"
      ],
      "text/plain": [
       "                       date  predicted_pm25  pm25\n",
       "0 2024-11-16 00:00:00+00:00      115.002296  57.0"
      ]
     },
     "execution_count": 22,
     "metadata": {},
     "output_type": "execute_result"
    }
   ],
   "source": [
    "outcome_df = air_quality_df[['date', 'pm25']]\n",
    "preds_df =  monitoring_df[['date', 'predicted_pm25']]\n",
    "\n",
    "hindcast_df = pd.merge(preds_df, outcome_df, on=\"date\")\n",
    "hindcast_df = hindcast_df.sort_values(by=['date'])\n",
    "\n",
    "# If there are no outcomes for predictions yet, generate some predictions/outcomes from existing data\n",
    "if len(hindcast_df) == 0:\n",
    "    hindcast_df = util.backfill_predictions_for_monitoring(weather_fg, air_quality_df, monitor_fg, retrieved_xgboost_model)\n",
    "hindcast_df"
   ]
  },
  {
   "cell_type": "code",
   "execution_count": 23,
   "id": "d060b743",
   "metadata": {},
   "outputs": [
    {
     "data": {
      "text/html": [
       "<div>\n",
       "<style scoped>\n",
       "    .dataframe tbody tr th:only-of-type {\n",
       "        vertical-align: middle;\n",
       "    }\n",
       "\n",
       "    .dataframe tbody tr th {\n",
       "        vertical-align: top;\n",
       "    }\n",
       "\n",
       "    .dataframe thead th {\n",
       "        text-align: right;\n",
       "    }\n",
       "</style>\n",
       "<table border=\"1\" class=\"dataframe\">\n",
       "  <thead>\n",
       "    <tr style=\"text-align: right;\">\n",
       "      <th></th>\n",
       "      <th>date</th>\n",
       "      <th>predicted_pm25</th>\n",
       "    </tr>\n",
       "  </thead>\n",
       "  <tbody>\n",
       "    <tr>\n",
       "      <th>0</th>\n",
       "      <td>2024-11-25 00:00:00+00:00</td>\n",
       "      <td>133.753677</td>\n",
       "    </tr>\n",
       "    <tr>\n",
       "      <th>1</th>\n",
       "      <td>2024-11-16 00:00:00+00:00</td>\n",
       "      <td>115.002296</td>\n",
       "    </tr>\n",
       "  </tbody>\n",
       "</table>\n",
       "</div>"
      ],
      "text/plain": [
       "                       date  predicted_pm25\n",
       "0 2024-11-25 00:00:00+00:00      133.753677\n",
       "1 2024-11-16 00:00:00+00:00      115.002296"
      ]
     },
     "execution_count": 23,
     "metadata": {},
     "output_type": "execute_result"
    }
   ],
   "source": [
    "preds_df"
   ]
  },
  {
   "cell_type": "code",
   "execution_count": 28,
   "id": "3af991a5",
   "metadata": {},
   "outputs": [
    {
     "data": {
      "image/png": "[encoded data removed]",
      "text/plain": [
       "<Figure size 1000x600 with 1 Axes>"
      ]
     },
     "metadata": {},
     "output_type": "display_data"
    }
   ],
   "source": [
    "file_path = \"./pm25_hindcast_1day.png\"\n",
    "plt = util.plot_air_quality_forecast(city, street, hindcast_df, file_path, hindcast=True)\n",
    "plt.show()"
   ]
  }
 ],
 "metadata": {
  "kernelspec": {
   "display_name": "Python 3 (ipykernel)",
   "language": "python",
   "name": "python3"
  },
  "language_info": {
   "codemirror_mode": {
    "name": "ipython",
    "version": 3
   },
   "file_extension": ".py",
   "mimetype": "text/x-python",
   "name": "python",
   "nbconvert_exporter": "python",
   "pygments_lexer": "ipython3",
   "version": "3.10.9"
  }
 },
 "nbformat": 4,
 "nbformat_minor": 5
}
