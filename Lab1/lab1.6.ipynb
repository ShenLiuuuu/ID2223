{
 "cells": [
  {
   "cell_type": "code",
   "execution_count": 1,
   "id": "432e6de9",
   "metadata": {},
   "outputs": [],
   "source": [
    "import datetime\n",
    "import pandas as pd\n",
    "from xgboost import XGBRegressor\n",
    "from xgboost import plot_importance\n",
    "import hopsworks\n",
    "import json\n",
    "from functions import util\n",
    "import os\n",
    "from datetime import datetime, timedelta\n",
    "import matplotlib.pyplot as plt\n",
    "from sklearn.metrics import mean_squared_error, r2_score\n",
    "import warnings\n",
    "warnings.filterwarnings(\"ignore\")"
   ]
  },
  {
   "cell_type": "code",
   "execution_count": 2,
   "id": "bd0a9cb6",
   "metadata": {},
   "outputs": [],
   "source": [
    "with open('./hopsworks_API.txt', 'r') as file:\n",
    "    os.environ[\"HOPSWORKS_API_KEY\"] = file.read().rstrip()"
   ]
  },
  {
   "cell_type": "code",
   "execution_count": 3,
   "id": "c7507993",
   "metadata": {},
   "outputs": [
    {
     "name": "stdout",
     "output_type": "stream",
     "text": [
      "Connected. Call `.close()` to terminate connection gracefully.\n",
      "\n",
      "Logged in to project, explore it here https://c.app.hopsworks.ai:443/p/1171609\n",
      "Connected. Call `.close()` to terminate connection gracefully.\n"
     ]
    }
   ],
   "source": [
    "project = hopsworks.login()\n",
    "fs = project.get_feature_store()"
   ]
  },
  {
   "cell_type": "code",
   "execution_count": 4,
   "id": "b1e51900",
   "metadata": {},
   "outputs": [],
   "source": [
    "air_quality_fg = fs.get_feature_group(\n",
    "    name='air_quality',\n",
    "    version=1,\n",
    ")"
   ]
  },
  {
   "cell_type": "code",
   "execution_count": 5,
   "id": "59ac5e8a",
   "metadata": {},
   "outputs": [
    {
     "name": "stdout",
     "output_type": "stream",
     "text": [
      "Finished: Reading data from Hopsworks, using Hopsworks Feature Query Service (1.19s) \n"
     ]
    },
    {
     "data": {
      "text/html": [
       "<div>\n",
       "<style scoped>\n",
       "    .dataframe tbody tr th:only-of-type {\n",
       "        vertical-align: middle;\n",
       "    }\n",
       "\n",
       "    .dataframe tbody tr th {\n",
       "        vertical-align: top;\n",
       "    }\n",
       "\n",
       "    .dataframe thead th {\n",
       "        text-align: right;\n",
       "    }\n",
       "</style>\n",
       "<table border=\"1\" class=\"dataframe\">\n",
       "  <thead>\n",
       "    <tr style=\"text-align: right;\">\n",
       "      <th></th>\n",
       "      <th>date</th>\n",
       "      <th>pm25</th>\n",
       "      <th>lagged_1to3days</th>\n",
       "    </tr>\n",
       "  </thead>\n",
       "  <tbody>\n",
       "    <tr>\n",
       "      <th>3</th>\n",
       "      <td>2014-04-12 00:00:00+00:00</td>\n",
       "      <td>114.0</td>\n",
       "      <td>75.0,91.0,47.0</td>\n",
       "    </tr>\n",
       "    <tr>\n",
       "      <th>4</th>\n",
       "      <td>2018-10-29 00:00:00+00:00</td>\n",
       "      <td>85.0</td>\n",
       "      <td>114.0,75.0,91.0</td>\n",
       "    </tr>\n",
       "    <tr>\n",
       "      <th>5</th>\n",
       "      <td>2023-07-27 00:00:00+00:00</td>\n",
       "      <td>30.0</td>\n",
       "      <td>85.0,114.0,75.0</td>\n",
       "    </tr>\n",
       "    <tr>\n",
       "      <th>6</th>\n",
       "      <td>2020-03-24 00:00:00+00:00</td>\n",
       "      <td>98.0</td>\n",
       "      <td>30.0,85.0,114.0</td>\n",
       "    </tr>\n",
       "    <tr>\n",
       "      <th>7</th>\n",
       "      <td>2021-06-12 00:00:00+00:00</td>\n",
       "      <td>23.0</td>\n",
       "      <td>98.0,30.0,85.0</td>\n",
       "    </tr>\n",
       "    <tr>\n",
       "      <th>...</th>\n",
       "      <td>...</td>\n",
       "      <td>...</td>\n",
       "      <td>...</td>\n",
       "    </tr>\n",
       "    <tr>\n",
       "      <th>3937</th>\n",
       "      <td>2017-03-23 00:00:00+00:00</td>\n",
       "      <td>63.0</td>\n",
       "      <td>70.0,31.0,59.0</td>\n",
       "    </tr>\n",
       "    <tr>\n",
       "      <th>3938</th>\n",
       "      <td>2020-07-31 00:00:00+00:00</td>\n",
       "      <td>34.0</td>\n",
       "      <td>63.0,70.0,31.0</td>\n",
       "    </tr>\n",
       "    <tr>\n",
       "      <th>3939</th>\n",
       "      <td>2019-11-14 00:00:00+00:00</td>\n",
       "      <td>112.0</td>\n",
       "      <td>34.0,63.0,70.0</td>\n",
       "    </tr>\n",
       "    <tr>\n",
       "      <th>3940</th>\n",
       "      <td>2022-05-05 00:00:00+00:00</td>\n",
       "      <td>83.0</td>\n",
       "      <td>112.0,34.0,63.0</td>\n",
       "    </tr>\n",
       "    <tr>\n",
       "      <th>3941</th>\n",
       "      <td>2024-11-16 00:00:00+00:00</td>\n",
       "      <td>57.0</td>\n",
       "      <td>83.0,112.0,34.0</td>\n",
       "    </tr>\n",
       "  </tbody>\n",
       "</table>\n",
       "<p>3939 rows × 3 columns</p>\n",
       "</div>"
      ],
      "text/plain": [
       "                          date   pm25  lagged_1to3days\n",
       "3    2014-04-12 00:00:00+00:00  114.0   75.0,91.0,47.0\n",
       "4    2018-10-29 00:00:00+00:00   85.0  114.0,75.0,91.0\n",
       "5    2023-07-27 00:00:00+00:00   30.0  85.0,114.0,75.0\n",
       "6    2020-03-24 00:00:00+00:00   98.0  30.0,85.0,114.0\n",
       "7    2021-06-12 00:00:00+00:00   23.0   98.0,30.0,85.0\n",
       "...                        ...    ...              ...\n",
       "3937 2017-03-23 00:00:00+00:00   63.0   70.0,31.0,59.0\n",
       "3938 2020-07-31 00:00:00+00:00   34.0   63.0,70.0,31.0\n",
       "3939 2019-11-14 00:00:00+00:00  112.0   34.0,63.0,70.0\n",
       "3940 2022-05-05 00:00:00+00:00   83.0  112.0,34.0,63.0\n",
       "3941 2024-11-16 00:00:00+00:00   57.0  83.0,112.0,34.0\n",
       "\n",
       "[3939 rows x 3 columns]"
      ]
     },
     "execution_count": 5,
     "metadata": {},
     "output_type": "execute_result"
    }
   ],
   "source": [
    "air_quality = air_quality_fg.read()\n",
    "\n",
    "air_quality['lag_1'] = air_quality['pm25'].shift(1)\n",
    "air_quality['lag_2'] = air_quality['pm25'].shift(2)\n",
    "air_quality['lag_3'] = air_quality['pm25'].shift(3)\n",
    "\n",
    "air_quality['lagged_1to3days'] = air_quality[['lag_1', 'lag_2', 'lag_3']].apply(\n",
    "    lambda x: ','.join(map(str, x)), axis=1\n",
    ")\n",
    "\n",
    "air_quality = air_quality.dropna()\n",
    "\n",
    "air_quality[['date', 'pm25', 'lagged_1to3days']]"
   ]
  },
  {
   "cell_type": "code",
   "execution_count": 6,
   "id": "121fb6bf",
   "metadata": {},
   "outputs": [
    {
     "name": "stdout",
     "output_type": "stream",
     "text": [
      "Deleted air_quality_new/1\n"
     ]
    }
   ],
   "source": [
    "util.delete_feature_groups(fs, \"air_quality_new\")"
   ]
  },
  {
   "cell_type": "code",
   "execution_count": 7,
   "id": "f0ba463d",
   "metadata": {
    "scrolled": true
   },
   "outputs": [],
   "source": [
    "air_quality_new = fs.create_feature_group(\n",
    "    name='air_quality_new',\n",
    "    version=1,\n",
    "    description=\"new feature group with new figure lagged 1-3 days data\",\n",
    "    primary_key=['date', 'city', 'street'],\n",
    "    event_time=\"date\")"
   ]
  },
  {
   "cell_type": "code",
   "execution_count": 8,
   "id": "9ef257a0",
   "metadata": {},
   "outputs": [
    {
     "name": "stdout",
     "output_type": "stream",
     "text": [
      "Feature Group created successfully, explore it at \n",
      "https://c.app.hopsworks.ai:443/p/1171609/fs/1162312/fg/1357132\n"
     ]
    },
    {
     "data": {
      "application/vnd.jupyter.widget-view+json": {
       "model_id": "50bdb8f590b94615b68d58a4f6a35ece",
       "version_major": 2,
       "version_minor": 0
      },
      "text/plain": [
       "Uploading Dataframe: 0.00% |          | Rows 0/3939 | Elapsed Time: 00:00 | Remaining Time: ?"
      ]
     },
     "metadata": {},
     "output_type": "display_data"
    },
    {
     "name": "stdout",
     "output_type": "stream",
     "text": [
      "Launching job: air_quality_new_1_offline_fg_materialization\n",
      "Job started successfully, you can follow the progress at \n",
      "https://c.app.hopsworks.ai/p/1171609/jobs/named/air_quality_new_1_offline_fg_materialization/executions\n"
     ]
    },
    {
     "data": {
      "text/plain": [
       "(<hsfs.core.job.Job at 0x25b9b1a6350>, None)"
      ]
     },
     "execution_count": 8,
     "metadata": {},
     "output_type": "execute_result"
    }
   ],
   "source": [
    "air_quality_new.insert(\n",
    "    air_quality[['date', 'pm25', 'country', 'city', 'street', 'url', 'lag_1','lag_2','lag_3']],\n",
    "    write_options={\"wait_for_job\": True}\n",
    ")"
   ]
  },
  {
   "cell_type": "code",
   "execution_count": 9,
   "id": "760673c5",
   "metadata": {},
   "outputs": [],
   "source": [
    "weather_fg = fs.get_feature_group(\n",
    "    name='weather',\n",
    "    version=1,\n",
    ")"
   ]
  },
  {
   "cell_type": "code",
   "execution_count": 12,
   "id": "a9723136",
   "metadata": {},
   "outputs": [
    {
     "name": "stdout",
     "output_type": "stream",
     "text": [
      "Finished: Reading data from Hopsworks, using Hopsworks Feature Query Service (1.54s) \n"
     ]
    },
    {
     "data": {
      "text/html": [
       "<div>\n",
       "<style scoped>\n",
       "    .dataframe tbody tr th:only-of-type {\n",
       "        vertical-align: middle;\n",
       "    }\n",
       "\n",
       "    .dataframe tbody tr th {\n",
       "        vertical-align: top;\n",
       "    }\n",
       "\n",
       "    .dataframe thead th {\n",
       "        text-align: right;\n",
       "    }\n",
       "</style>\n",
       "<table border=\"1\" class=\"dataframe\">\n",
       "  <thead>\n",
       "    <tr style=\"text-align: right;\">\n",
       "      <th></th>\n",
       "      <th>pm25</th>\n",
       "      <th>lag_1</th>\n",
       "      <th>lag_2</th>\n",
       "      <th>lag_3</th>\n",
       "      <th>date</th>\n",
       "      <th>temperature_2m_mean</th>\n",
       "      <th>precipitation_sum</th>\n",
       "      <th>wind_speed_10m_max</th>\n",
       "      <th>wind_direction_10m_dominant</th>\n",
       "      <th>city</th>\n",
       "    </tr>\n",
       "  </thead>\n",
       "  <tbody>\n",
       "    <tr>\n",
       "      <th>0</th>\n",
       "      <td>157.0</td>\n",
       "      <td>50.0</td>\n",
       "      <td>62.0</td>\n",
       "      <td>73.0</td>\n",
       "      <td>2014-01-01 00:00:00+00:00</td>\n",
       "      <td>12.381081</td>\n",
       "      <td>0.0</td>\n",
       "      <td>6.130579</td>\n",
       "      <td>110.833450</td>\n",
       "      <td>Meizhou</td>\n",
       "    </tr>\n",
       "    <tr>\n",
       "      <th>1</th>\n",
       "      <td>170.0</td>\n",
       "      <td>21.0</td>\n",
       "      <td>53.0</td>\n",
       "      <td>87.0</td>\n",
       "      <td>2014-01-02 00:00:00+00:00</td>\n",
       "      <td>15.585250</td>\n",
       "      <td>0.0</td>\n",
       "      <td>6.193674</td>\n",
       "      <td>124.484024</td>\n",
       "      <td>Meizhou</td>\n",
       "    </tr>\n",
       "    <tr>\n",
       "      <th>2</th>\n",
       "      <td>169.0</td>\n",
       "      <td>124.0</td>\n",
       "      <td>61.0</td>\n",
       "      <td>147.0</td>\n",
       "      <td>2014-01-03 00:00:00+00:00</td>\n",
       "      <td>15.187329</td>\n",
       "      <td>0.0</td>\n",
       "      <td>10.002560</td>\n",
       "      <td>336.879120</td>\n",
       "      <td>Meizhou</td>\n",
       "    </tr>\n",
       "    <tr>\n",
       "      <th>3</th>\n",
       "      <td>168.0</td>\n",
       "      <td>140.0</td>\n",
       "      <td>63.0</td>\n",
       "      <td>122.0</td>\n",
       "      <td>2014-01-04 00:00:00+00:00</td>\n",
       "      <td>11.337335</td>\n",
       "      <td>0.0</td>\n",
       "      <td>12.371645</td>\n",
       "      <td>353.517029</td>\n",
       "      <td>Meizhou</td>\n",
       "    </tr>\n",
       "    <tr>\n",
       "      <th>4</th>\n",
       "      <td>172.0</td>\n",
       "      <td>85.0</td>\n",
       "      <td>49.0</td>\n",
       "      <td>158.0</td>\n",
       "      <td>2014-01-05 00:00:00+00:00</td>\n",
       "      <td>11.814416</td>\n",
       "      <td>0.0</td>\n",
       "      <td>8.209263</td>\n",
       "      <td>94.712585</td>\n",
       "      <td>Meizhou</td>\n",
       "    </tr>\n",
       "    <tr>\n",
       "      <th>5</th>\n",
       "      <td>194.0</td>\n",
       "      <td>50.0</td>\n",
       "      <td>69.0</td>\n",
       "      <td>101.0</td>\n",
       "      <td>2014-01-06 00:00:00+00:00</td>\n",
       "      <td>13.312335</td>\n",
       "      <td>0.0</td>\n",
       "      <td>9.449572</td>\n",
       "      <td>110.497421</td>\n",
       "      <td>Meizhou</td>\n",
       "    </tr>\n",
       "    <tr>\n",
       "      <th>6</th>\n",
       "      <td>167.0</td>\n",
       "      <td>81.0</td>\n",
       "      <td>75.0</td>\n",
       "      <td>84.0</td>\n",
       "      <td>2014-01-07 00:00:00+00:00</td>\n",
       "      <td>16.772749</td>\n",
       "      <td>0.4</td>\n",
       "      <td>10.137691</td>\n",
       "      <td>174.696701</td>\n",
       "      <td>Meizhou</td>\n",
       "    </tr>\n",
       "    <tr>\n",
       "      <th>7</th>\n",
       "      <td>155.0</td>\n",
       "      <td>93.0</td>\n",
       "      <td>78.0</td>\n",
       "      <td>61.0</td>\n",
       "      <td>2014-01-08 00:00:00+00:00</td>\n",
       "      <td>12.503999</td>\n",
       "      <td>1.2</td>\n",
       "      <td>16.595179</td>\n",
       "      <td>349.205231</td>\n",
       "      <td>Meizhou</td>\n",
       "    </tr>\n",
       "    <tr>\n",
       "      <th>8</th>\n",
       "      <td>107.0</td>\n",
       "      <td>22.0</td>\n",
       "      <td>68.0</td>\n",
       "      <td>40.0</td>\n",
       "      <td>2014-01-09 00:00:00+00:00</td>\n",
       "      <td>11.701917</td>\n",
       "      <td>0.1</td>\n",
       "      <td>9.346143</td>\n",
       "      <td>12.299344</td>\n",
       "      <td>Meizhou</td>\n",
       "    </tr>\n",
       "    <tr>\n",
       "      <th>9</th>\n",
       "      <td>137.0</td>\n",
       "      <td>57.0</td>\n",
       "      <td>53.0</td>\n",
       "      <td>104.0</td>\n",
       "      <td>2014-01-10 00:00:00+00:00</td>\n",
       "      <td>11.639417</td>\n",
       "      <td>0.0</td>\n",
       "      <td>6.409617</td>\n",
       "      <td>59.524239</td>\n",
       "      <td>Meizhou</td>\n",
       "    </tr>\n",
       "  </tbody>\n",
       "</table>\n",
       "</div>"
      ],
      "text/plain": [
       "    pm25  lag_1  lag_2  lag_3                      date  temperature_2m_mean  \\\n",
       "0  157.0   50.0   62.0   73.0 2014-01-01 00:00:00+00:00            12.381081   \n",
       "1  170.0   21.0   53.0   87.0 2014-01-02 00:00:00+00:00            15.585250   \n",
       "2  169.0  124.0   61.0  147.0 2014-01-03 00:00:00+00:00            15.187329   \n",
       "3  168.0  140.0   63.0  122.0 2014-01-04 00:00:00+00:00            11.337335   \n",
       "4  172.0   85.0   49.0  158.0 2014-01-05 00:00:00+00:00            11.814416   \n",
       "5  194.0   50.0   69.0  101.0 2014-01-06 00:00:00+00:00            13.312335   \n",
       "6  167.0   81.0   75.0   84.0 2014-01-07 00:00:00+00:00            16.772749   \n",
       "7  155.0   93.0   78.0   61.0 2014-01-08 00:00:00+00:00            12.503999   \n",
       "8  107.0   22.0   68.0   40.0 2014-01-09 00:00:00+00:00            11.701917   \n",
       "9  137.0   57.0   53.0  104.0 2014-01-10 00:00:00+00:00            11.639417   \n",
       "\n",
       "   precipitation_sum  wind_speed_10m_max  wind_direction_10m_dominant     city  \n",
       "0                0.0            6.130579                   110.833450  Meizhou  \n",
       "1                0.0            6.193674                   124.484024  Meizhou  \n",
       "2                0.0           10.002560                   336.879120  Meizhou  \n",
       "3                0.0           12.371645                   353.517029  Meizhou  \n",
       "4                0.0            8.209263                    94.712585  Meizhou  \n",
       "5                0.0            9.449572                   110.497421  Meizhou  \n",
       "6                0.4           10.137691                   174.696701  Meizhou  \n",
       "7                1.2           16.595179                   349.205231  Meizhou  \n",
       "8                0.1            9.346143                    12.299344  Meizhou  \n",
       "9                0.0            6.409617                    59.524239  Meizhou  "
      ]
     },
     "execution_count": 12,
     "metadata": {},
     "output_type": "execute_result"
    }
   ],
   "source": [
    "# Select features for training data.\n",
    "selected_features = air_quality_new.select(['pm25', 'lag_1', 'lag_2', 'lag_3']).join(weather_fg.select_all(), on=['city']) # 将pm25特征加入weather_fg生成新特征组\n",
    "selected_features.show(10)"
   ]
  },
  {
   "cell_type": "code",
   "execution_count": 13,
   "id": "f8a9c4fc",
   "metadata": {},
   "outputs": [
    {
     "name": "stdout",
     "output_type": "stream",
     "text": [
      "Feature view created successfully, explore it at \n",
      "https://c.app.hopsworks.ai:443/p/1171609/fs/1162312/fv/air_quality_view/version/1\n"
     ]
    }
   ],
   "source": [
    "feature_view_new = fs.create_feature_view(\n",
    "    name='air_quality_view',\n",
    "    description=\"weather features with air quality as the target\",\n",
    "    version=1,\n",
    "    labels=['pm25'],\n",
    "    query=selected_features,\n",
    ")"
   ]
  },
  {
   "cell_type": "code",
   "execution_count": 14,
   "id": "8a0649f6",
   "metadata": {},
   "outputs": [
    {
     "data": {
      "text/plain": [
       "[Training Dataset Feature('pm25', 'float', 0, True, None, pm25, 1357132),\n",
       " Training Dataset Feature('lag_1', 'float', 1, False, None, lag_1, 1357132),\n",
       " Training Dataset Feature('lag_2', 'float', 2, False, None, lag_2, 1357132),\n",
       " Training Dataset Feature('lag_3', 'float', 3, False, None, lag_3, 1357132),\n",
       " Training Dataset Feature('date', 'timestamp', 4, False, None, date, 1348993),\n",
       " Training Dataset Feature('temperature_2m_mean', 'float', 5, False, None, temperature_2m_mean, 1348993),\n",
       " Training Dataset Feature('precipitation_sum', 'float', 6, False, None, precipitation_sum, 1348993),\n",
       " Training Dataset Feature('wind_speed_10m_max', 'float', 7, False, None, wind_speed_10m_max, 1348993),\n",
       " Training Dataset Feature('wind_direction_10m_dominant', 'float', 8, False, None, wind_direction_10m_dominant, 1348993),\n",
       " Training Dataset Feature('city', 'string', 9, False, None, city, 1348993)]"
      ]
     },
     "execution_count": 14,
     "metadata": {},
     "output_type": "execute_result"
    }
   ],
   "source": [
    "feature_view_new.schema"
   ]
  },
  {
   "cell_type": "code",
   "execution_count": 15,
   "id": "a68b677a",
   "metadata": {},
   "outputs": [],
   "source": [
    "start_date_test_data = \"2024-10-15\"\n",
    "# Convert string to datetime object\n",
    "test_start = datetime.strptime(start_date_test_data, \"%Y-%m-%d\")"
   ]
  },
  {
   "cell_type": "code",
   "execution_count": 16,
   "id": "9068eb91",
   "metadata": {},
   "outputs": [
    {
     "name": "stdout",
     "output_type": "stream",
     "text": [
      "Finished: Reading data from Hopsworks, using Hopsworks Feature Query Service (1.42s) \n"
     ]
    }
   ],
   "source": [
    "X_train, X_test, y_train, y_test = feature_view_new.train_test_split(\n",
    "    # test_start=test_start\n",
    "    test_size = 0.2\n",
    ")"
   ]
  },
  {
   "cell_type": "code",
   "execution_count": 17,
   "id": "9516f09a",
   "metadata": {},
   "outputs": [
    {
     "data": {
      "text/html": [
       "<div>\n",
       "<style scoped>\n",
       "    .dataframe tbody tr th:only-of-type {\n",
       "        vertical-align: middle;\n",
       "    }\n",
       "\n",
       "    .dataframe tbody tr th {\n",
       "        vertical-align: top;\n",
       "    }\n",
       "\n",
       "    .dataframe thead th {\n",
       "        text-align: right;\n",
       "    }\n",
       "</style>\n",
       "<table border=\"1\" class=\"dataframe\">\n",
       "  <thead>\n",
       "    <tr style=\"text-align: right;\">\n",
       "      <th></th>\n",
       "      <th>lag_1</th>\n",
       "      <th>lag_2</th>\n",
       "      <th>lag_3</th>\n",
       "      <th>date</th>\n",
       "      <th>temperature_2m_mean</th>\n",
       "      <th>precipitation_sum</th>\n",
       "      <th>wind_speed_10m_max</th>\n",
       "      <th>wind_direction_10m_dominant</th>\n",
       "      <th>city</th>\n",
       "    </tr>\n",
       "  </thead>\n",
       "  <tbody>\n",
       "    <tr>\n",
       "      <th>0</th>\n",
       "      <td>50.0</td>\n",
       "      <td>62.0</td>\n",
       "      <td>73.0</td>\n",
       "      <td>2014-01-01 00:00:00+00:00</td>\n",
       "      <td>12.381081</td>\n",
       "      <td>0.0</td>\n",
       "      <td>6.130579</td>\n",
       "      <td>110.833450</td>\n",
       "      <td>Meizhou</td>\n",
       "    </tr>\n",
       "    <tr>\n",
       "      <th>1</th>\n",
       "      <td>21.0</td>\n",
       "      <td>53.0</td>\n",
       "      <td>87.0</td>\n",
       "      <td>2014-01-02 00:00:00+00:00</td>\n",
       "      <td>15.585250</td>\n",
       "      <td>0.0</td>\n",
       "      <td>6.193674</td>\n",
       "      <td>124.484024</td>\n",
       "      <td>Meizhou</td>\n",
       "    </tr>\n",
       "    <tr>\n",
       "      <th>2</th>\n",
       "      <td>124.0</td>\n",
       "      <td>61.0</td>\n",
       "      <td>147.0</td>\n",
       "      <td>2014-01-03 00:00:00+00:00</td>\n",
       "      <td>15.187329</td>\n",
       "      <td>0.0</td>\n",
       "      <td>10.002560</td>\n",
       "      <td>336.879120</td>\n",
       "      <td>Meizhou</td>\n",
       "    </tr>\n",
       "    <tr>\n",
       "      <th>4</th>\n",
       "      <td>85.0</td>\n",
       "      <td>49.0</td>\n",
       "      <td>158.0</td>\n",
       "      <td>2014-01-05 00:00:00+00:00</td>\n",
       "      <td>11.814416</td>\n",
       "      <td>0.0</td>\n",
       "      <td>8.209263</td>\n",
       "      <td>94.712585</td>\n",
       "      <td>Meizhou</td>\n",
       "    </tr>\n",
       "    <tr>\n",
       "      <th>6</th>\n",
       "      <td>81.0</td>\n",
       "      <td>75.0</td>\n",
       "      <td>84.0</td>\n",
       "      <td>2014-01-07 00:00:00+00:00</td>\n",
       "      <td>16.772749</td>\n",
       "      <td>0.4</td>\n",
       "      <td>10.137691</td>\n",
       "      <td>174.696701</td>\n",
       "      <td>Meizhou</td>\n",
       "    </tr>\n",
       "    <tr>\n",
       "      <th>...</th>\n",
       "      <td>...</td>\n",
       "      <td>...</td>\n",
       "      <td>...</td>\n",
       "      <td>...</td>\n",
       "      <td>...</td>\n",
       "      <td>...</td>\n",
       "      <td>...</td>\n",
       "      <td>...</td>\n",
       "      <td>...</td>\n",
       "    </tr>\n",
       "    <tr>\n",
       "      <th>3934</th>\n",
       "      <td>56.0</td>\n",
       "      <td>40.0</td>\n",
       "      <td>52.0</td>\n",
       "      <td>2024-11-12 00:00:00+00:00</td>\n",
       "      <td>25.458998</td>\n",
       "      <td>0.0</td>\n",
       "      <td>10.182337</td>\n",
       "      <td>38.583073</td>\n",
       "      <td>Meizhou</td>\n",
       "    </tr>\n",
       "    <tr>\n",
       "      <th>3935</th>\n",
       "      <td>139.0</td>\n",
       "      <td>147.0</td>\n",
       "      <td>116.0</td>\n",
       "      <td>2024-11-13 00:00:00+00:00</td>\n",
       "      <td>25.398581</td>\n",
       "      <td>0.3</td>\n",
       "      <td>14.529915</td>\n",
       "      <td>45.245213</td>\n",
       "      <td>Meizhou</td>\n",
       "    </tr>\n",
       "    <tr>\n",
       "      <th>3936</th>\n",
       "      <td>107.0</td>\n",
       "      <td>115.0</td>\n",
       "      <td>78.0</td>\n",
       "      <td>2024-11-13 00:00:00+00:00</td>\n",
       "      <td>25.398581</td>\n",
       "      <td>0.3</td>\n",
       "      <td>14.529915</td>\n",
       "      <td>45.245213</td>\n",
       "      <td>Meizhou</td>\n",
       "    </tr>\n",
       "    <tr>\n",
       "      <th>3937</th>\n",
       "      <td>93.0</td>\n",
       "      <td>65.0</td>\n",
       "      <td>125.0</td>\n",
       "      <td>2024-11-13 00:00:00+00:00</td>\n",
       "      <td>25.398581</td>\n",
       "      <td>0.3</td>\n",
       "      <td>14.529915</td>\n",
       "      <td>45.245213</td>\n",
       "      <td>Meizhou</td>\n",
       "    </tr>\n",
       "    <tr>\n",
       "      <th>3938</th>\n",
       "      <td>83.0</td>\n",
       "      <td>112.0</td>\n",
       "      <td>34.0</td>\n",
       "      <td>2024-11-16 00:00:00+00:00</td>\n",
       "      <td>24.600000</td>\n",
       "      <td>0.0</td>\n",
       "      <td>9.021574</td>\n",
       "      <td>331.389618</td>\n",
       "      <td>Meizhou</td>\n",
       "    </tr>\n",
       "  </tbody>\n",
       "</table>\n",
       "<p>3151 rows × 9 columns</p>\n",
       "</div>"
      ],
      "text/plain": [
       "      lag_1  lag_2  lag_3                       date  temperature_2m_mean  \\\n",
       "0      50.0   62.0   73.0  2014-01-01 00:00:00+00:00            12.381081   \n",
       "1      21.0   53.0   87.0  2014-01-02 00:00:00+00:00            15.585250   \n",
       "2     124.0   61.0  147.0  2014-01-03 00:00:00+00:00            15.187329   \n",
       "4      85.0   49.0  158.0  2014-01-05 00:00:00+00:00            11.814416   \n",
       "6      81.0   75.0   84.0  2014-01-07 00:00:00+00:00            16.772749   \n",
       "...     ...    ...    ...                        ...                  ...   \n",
       "3934   56.0   40.0   52.0  2024-11-12 00:00:00+00:00            25.458998   \n",
       "3935  139.0  147.0  116.0  2024-11-13 00:00:00+00:00            25.398581   \n",
       "3936  107.0  115.0   78.0  2024-11-13 00:00:00+00:00            25.398581   \n",
       "3937   93.0   65.0  125.0  2024-11-13 00:00:00+00:00            25.398581   \n",
       "3938   83.0  112.0   34.0  2024-11-16 00:00:00+00:00            24.600000   \n",
       "\n",
       "      precipitation_sum  wind_speed_10m_max  wind_direction_10m_dominant  \\\n",
       "0                   0.0            6.130579                   110.833450   \n",
       "1                   0.0            6.193674                   124.484024   \n",
       "2                   0.0           10.002560                   336.879120   \n",
       "4                   0.0            8.209263                    94.712585   \n",
       "6                   0.4           10.137691                   174.696701   \n",
       "...                 ...                 ...                          ...   \n",
       "3934                0.0           10.182337                    38.583073   \n",
       "3935                0.3           14.529915                    45.245213   \n",
       "3936                0.3           14.529915                    45.245213   \n",
       "3937                0.3           14.529915                    45.245213   \n",
       "3938                0.0            9.021574                   331.389618   \n",
       "\n",
       "         city  \n",
       "0     Meizhou  \n",
       "1     Meizhou  \n",
       "2     Meizhou  \n",
       "4     Meizhou  \n",
       "6     Meizhou  \n",
       "...       ...  \n",
       "3934  Meizhou  \n",
       "3935  Meizhou  \n",
       "3936  Meizhou  \n",
       "3937  Meizhou  \n",
       "3938  Meizhou  \n",
       "\n",
       "[3151 rows x 9 columns]"
      ]
     },
     "execution_count": 17,
     "metadata": {},
     "output_type": "execute_result"
    }
   ],
   "source": [
    "X_train"
   ]
  },
  {
   "cell_type": "code",
   "execution_count": 18,
   "id": "145e03fb",
   "metadata": {},
   "outputs": [],
   "source": [
    "# Drop the index columns - 'date' (event_time) and 'city' (primary key)\n",
    "\n",
    "train_features = X_train.drop(['date', 'city'], axis=1)\n",
    "test_features = X_test.drop(['date', 'city'], axis=1)"
   ]
  },
  {
   "cell_type": "code",
   "execution_count": 19,
   "id": "3ec1553f",
   "metadata": {},
   "outputs": [
    {
     "data": {
      "text/html": [
       "<style>#sk-container-id-1 {color: black;background-color: white;}#sk-container-id-1 pre{padding: 0;}#sk-container-id-1 div.sk-toggleable {background-color: white;}#sk-container-id-1 label.sk-toggleable__label {cursor: pointer;display: block;width: 100%;margin-bottom: 0;padding: 0.3em;box-sizing: border-box;text-align: center;}#sk-container-id-1 label.sk-toggleable__label-arrow:before {content: \"▸\";float: left;margin-right: 0.25em;color: #696969;}#sk-container-id-1 label.sk-toggleable__label-arrow:hover:before {color: black;}#sk-container-id-1 div.sk-estimator:hover label.sk-toggleable__label-arrow:before {color: black;}#sk-container-id-1 div.sk-toggleable__content {max-height: 0;max-width: 0;overflow: hidden;text-align: left;background-color: #f0f8ff;}#sk-container-id-1 div.sk-toggleable__content pre {margin: 0.2em;color: black;border-radius: 0.25em;background-color: #f0f8ff;}#sk-container-id-1 input.sk-toggleable__control:checked~div.sk-toggleable__content {max-height: 200px;max-width: 100%;overflow: auto;}#sk-container-id-1 input.sk-toggleable__control:checked~label.sk-toggleable__label-arrow:before {content: \"▾\";}#sk-container-id-1 div.sk-estimator input.sk-toggleable__control:checked~label.sk-toggleable__label {background-color: #d4ebff;}#sk-container-id-1 div.sk-label input.sk-toggleable__control:checked~label.sk-toggleable__label {background-color: #d4ebff;}#sk-container-id-1 input.sk-hidden--visually {border: 0;clip: rect(1px 1px 1px 1px);clip: rect(1px, 1px, 1px, 1px);height: 1px;margin: -1px;overflow: hidden;padding: 0;position: absolute;width: 1px;}#sk-container-id-1 div.sk-estimator {font-family: monospace;background-color: #f0f8ff;border: 1px dotted black;border-radius: 0.25em;box-sizing: border-box;margin-bottom: 0.5em;}#sk-container-id-1 div.sk-estimator:hover {background-color: #d4ebff;}#sk-container-id-1 div.sk-parallel-item::after {content: \"\";width: 100%;border-bottom: 1px solid gray;flex-grow: 1;}#sk-container-id-1 div.sk-label:hover label.sk-toggleable__label {background-color: #d4ebff;}#sk-container-id-1 div.sk-serial::before {content: \"\";position: absolute;border-left: 1px solid gray;box-sizing: border-box;top: 0;bottom: 0;left: 50%;z-index: 0;}#sk-container-id-1 div.sk-serial {display: flex;flex-direction: column;align-items: center;background-color: white;padding-right: 0.2em;padding-left: 0.2em;position: relative;}#sk-container-id-1 div.sk-item {position: relative;z-index: 1;}#sk-container-id-1 div.sk-parallel {display: flex;align-items: stretch;justify-content: center;background-color: white;position: relative;}#sk-container-id-1 div.sk-item::before, #sk-container-id-1 div.sk-parallel-item::before {content: \"\";position: absolute;border-left: 1px solid gray;box-sizing: border-box;top: 0;bottom: 0;left: 50%;z-index: -1;}#sk-container-id-1 div.sk-parallel-item {display: flex;flex-direction: column;z-index: 1;position: relative;background-color: white;}#sk-container-id-1 div.sk-parallel-item:first-child::after {align-self: flex-end;width: 50%;}#sk-container-id-1 div.sk-parallel-item:last-child::after {align-self: flex-start;width: 50%;}#sk-container-id-1 div.sk-parallel-item:only-child::after {width: 0;}#sk-container-id-1 div.sk-dashed-wrapped {border: 1px dashed gray;margin: 0 0.4em 0.5em 0.4em;box-sizing: border-box;padding-bottom: 0.4em;background-color: white;}#sk-container-id-1 div.sk-label label {font-family: monospace;font-weight: bold;display: inline-block;line-height: 1.2em;}#sk-container-id-1 div.sk-label-container {text-align: center;}#sk-container-id-1 div.sk-container {/* jupyter's `normalize.less` sets `[hidden] { display: none; }` but bootstrap.min.css set `[hidden] { display: none !important; }` so we also need the `!important` here to be able to override the default hidden behavior on the sphinx rendered scikit-learn.org. See: https://github.com/scikit-learn/scikit-learn/issues/21755 */display: inline-block !important;position: relative;}#sk-container-id-1 div.sk-text-repr-fallback {display: none;}</style><div id=\"sk-container-id-1\" class=\"sk-top-container\"><div class=\"sk-text-repr-fallback\"><pre>XGBRegressor(base_score=None, booster=None, callbacks=None,\n",
       "             colsample_bylevel=None, colsample_bynode=None,\n",
       "             colsample_bytree=None, device=None, early_stopping_rounds=None,\n",
       "             enable_categorical=False, eval_metric=None, feature_types=None,\n",
       "             gamma=None, grow_policy=None, importance_type=None,\n",
       "             interaction_constraints=None, learning_rate=None, max_bin=None,\n",
       "             max_cat_threshold=None, max_cat_to_onehot=None,\n",
       "             max_delta_step=None, max_depth=None, max_leaves=None,\n",
       "             min_child_weight=None, missing=nan, monotone_constraints=None,\n",
       "             multi_strategy=None, n_estimators=None, n_jobs=None,\n",
       "             num_parallel_tree=None, random_state=None, ...)</pre><b>In a Jupyter environment, please rerun this cell to show the HTML representation or trust the notebook. <br />On GitHub, the HTML representation is unable to render, please try loading this page with nbviewer.org.</b></div><div class=\"sk-container\" hidden><div class=\"sk-item\"><div class=\"sk-estimator sk-toggleable\"><input class=\"sk-toggleable__control sk-hidden--visually\" id=\"sk-estimator-id-1\" type=\"checkbox\" checked><label for=\"sk-estimator-id-1\" class=\"sk-toggleable__label sk-toggleable__label-arrow\">XGBRegressor</label><div class=\"sk-toggleable__content\"><pre>XGBRegressor(base_score=None, booster=None, callbacks=None,\n",
       "             colsample_bylevel=None, colsample_bynode=None,\n",
       "             colsample_bytree=None, device=None, early_stopping_rounds=None,\n",
       "             enable_categorical=False, eval_metric=None, feature_types=None,\n",
       "             gamma=None, grow_policy=None, importance_type=None,\n",
       "             interaction_constraints=None, learning_rate=None, max_bin=None,\n",
       "             max_cat_threshold=None, max_cat_to_onehot=None,\n",
       "             max_delta_step=None, max_depth=None, max_leaves=None,\n",
       "             min_child_weight=None, missing=nan, monotone_constraints=None,\n",
       "             multi_strategy=None, n_estimators=None, n_jobs=None,\n",
       "             num_parallel_tree=None, random_state=None, ...)</pre></div></div></div></div></div>"
      ],
      "text/plain": [
       "XGBRegressor(base_score=None, booster=None, callbacks=None,\n",
       "             colsample_bylevel=None, colsample_bynode=None,\n",
       "             colsample_bytree=None, device=None, early_stopping_rounds=None,\n",
       "             enable_categorical=False, eval_metric=None, feature_types=None,\n",
       "             gamma=None, grow_policy=None, importance_type=None,\n",
       "             interaction_constraints=None, learning_rate=None, max_bin=None,\n",
       "             max_cat_threshold=None, max_cat_to_onehot=None,\n",
       "             max_delta_step=None, max_depth=None, max_leaves=None,\n",
       "             min_child_weight=None, missing=nan, monotone_constraints=None,\n",
       "             multi_strategy=None, n_estimators=None, n_jobs=None,\n",
       "             num_parallel_tree=None, random_state=None, ...)"
      ]
     },
     "execution_count": 19,
     "metadata": {},
     "output_type": "execute_result"
    }
   ],
   "source": [
    "# Creating an instance of the XGBoost Regressor\n",
    "xgb_regressor = XGBRegressor()\n",
    "\n",
    "# Fitting the XGBoost Regressor to the training data\n",
    "xgb_regressor.fit(train_features, y_train)"
   ]
  },
  {
   "cell_type": "code",
   "execution_count": 21,
   "id": "aab413fd",
   "metadata": {},
   "outputs": [
    {
     "name": "stdout",
     "output_type": "stream",
     "text": [
      "MSE: 718.5762\n",
      "R squared: 0.33121478969990414\n"
     ]
    }
   ],
   "source": [
    "# Predicting target values on the test set\n",
    "y_pred = xgb_regressor.predict(test_features)\n",
    "\n",
    "# Calculating Mean Squared Error (MSE) using sklearn\n",
    "mse = mean_squared_error(y_test.iloc[:,0], y_pred)\n",
    "print(\"MSE:\", mse)\n",
    "\n",
    "# Calculating R squared using sklearn\n",
    "r2 = r2_score(y_test.iloc[:,0], y_pred)\n",
    "print(\"R squared:\", r2)"
   ]
  },
  {
   "cell_type": "code",
   "execution_count": 22,
   "id": "96922da9",
   "metadata": {},
   "outputs": [],
   "source": [
    "df = y_test\n",
    "df['predicted_pm25'] = y_pred"
   ]
  },
  {
   "cell_type": "code",
   "execution_count": 23,
   "id": "4bc11f15",
   "metadata": {},
   "outputs": [
    {
     "data": {
      "text/html": [
       "<div>\n",
       "<style scoped>\n",
       "    .dataframe tbody tr th:only-of-type {\n",
       "        vertical-align: middle;\n",
       "    }\n",
       "\n",
       "    .dataframe tbody tr th {\n",
       "        vertical-align: top;\n",
       "    }\n",
       "\n",
       "    .dataframe thead th {\n",
       "        text-align: right;\n",
       "    }\n",
       "</style>\n",
       "<table border=\"1\" class=\"dataframe\">\n",
       "  <thead>\n",
       "    <tr style=\"text-align: right;\">\n",
       "      <th></th>\n",
       "      <th>pm25</th>\n",
       "      <th>predicted_pm25</th>\n",
       "      <th>date</th>\n",
       "    </tr>\n",
       "  </thead>\n",
       "  <tbody>\n",
       "    <tr>\n",
       "      <th>3</th>\n",
       "      <td>168.0</td>\n",
       "      <td>68.422043</td>\n",
       "      <td>2014-01-04 00:00:00+00:00</td>\n",
       "    </tr>\n",
       "    <tr>\n",
       "      <th>5</th>\n",
       "      <td>194.0</td>\n",
       "      <td>136.910782</td>\n",
       "      <td>2014-01-06 00:00:00+00:00</td>\n",
       "    </tr>\n",
       "    <tr>\n",
       "      <th>9</th>\n",
       "      <td>137.0</td>\n",
       "      <td>135.202286</td>\n",
       "      <td>2014-01-10 00:00:00+00:00</td>\n",
       "    </tr>\n",
       "    <tr>\n",
       "      <th>10</th>\n",
       "      <td>149.0</td>\n",
       "      <td>149.484100</td>\n",
       "      <td>2014-01-11 00:00:00+00:00</td>\n",
       "    </tr>\n",
       "    <tr>\n",
       "      <th>21</th>\n",
       "      <td>131.0</td>\n",
       "      <td>83.491524</td>\n",
       "      <td>2014-01-22 00:00:00+00:00</td>\n",
       "    </tr>\n",
       "  </tbody>\n",
       "</table>\n",
       "</div>"
      ],
      "text/plain": [
       "     pm25  predicted_pm25                       date\n",
       "3   168.0       68.422043  2014-01-04 00:00:00+00:00\n",
       "5   194.0      136.910782  2014-01-06 00:00:00+00:00\n",
       "9   137.0      135.202286  2014-01-10 00:00:00+00:00\n",
       "10  149.0      149.484100  2014-01-11 00:00:00+00:00\n",
       "21  131.0       83.491524  2014-01-22 00:00:00+00:00"
      ]
     },
     "execution_count": 23,
     "metadata": {},
     "output_type": "execute_result"
    }
   ],
   "source": [
    "df['date'] = X_test['date']\n",
    "df = df.sort_values(by=['date'])\n",
    "df.head(5)"
   ]
  },
  {
   "cell_type": "code",
   "execution_count": 24,
   "id": "29512821",
   "metadata": {},
   "outputs": [],
   "source": [
    "# Creating a directory for the model artifacts if it doesn't exist\n",
    "model_dir = \"air_quality_model\"\n",
    "if not os.path.exists(model_dir):\n",
    "    os.mkdir(model_dir)\n",
    "images_dir = model_dir + \"/images\"\n",
    "if not os.path.exists(images_dir):\n",
    "    os.mkdir(images_dir)"
   ]
  },
  {
   "cell_type": "code",
   "execution_count": 25,
   "id": "270507fa",
   "metadata": {},
   "outputs": [
    {
     "name": "stdout",
     "output_type": "stream",
     "text": [
      "Connected. Call `.close()` to terminate connection gracefully.\n"
     ]
    }
   ],
   "source": [
    "secrets = util.secrets_api(project.name)\n",
    "location_str = secrets.get_secret(\"SENSOR_LOCATION_JSON\").value\n",
    "location = json.loads(location_str)\n",
    "country=location['country']\n",
    "city=location['city']\n",
    "street=location['street']"
   ]
  },
  {
   "cell_type": "code",
   "execution_count": 26,
   "id": "1c7b2235",
   "metadata": {},
   "outputs": [
    {
     "data": {
      "image/png": "[encoded data removed]",
      "text/plain": [
       "<Figure size 1000x600 with 1 Axes>"
      ]
     },
     "metadata": {},
     "output_type": "display_data"
    }
   ],
   "source": [
    "file_path = images_dir + \"/pm25_hindcast_new.png\"\n",
    "plt = util.plot_air_quality_forecast(city, street, df, file_path, hindcast=True) \n",
    "plt.show()"
   ]
  },
  {
   "cell_type": "code",
   "execution_count": 27,
   "id": "90677a7e",
   "metadata": {},
   "outputs": [
    {
     "data": {
      "image/png": "[encoded data removed]",
      "text/plain": [
       "<Figure size 640x480 with 1 Axes>"
      ]
     },
     "metadata": {},
     "output_type": "display_data"
    }
   ],
   "source": [
    "# Plotting feature importances using the plot_importance function from XGBoost\n",
    "plot_importance(xgb_regressor, max_num_features=4)  # plot重要性，可设置重要性指标\n",
    "feature_importance_path = images_dir + \"/feature_importance_new.png\"\n",
    "plt.savefig(feature_importance_path)\n",
    "plt.show()"
   ]
  },
  {
   "cell_type": "code",
   "execution_count": 28,
   "id": "a51e2210",
   "metadata": {},
   "outputs": [],
   "source": [
    "from hsml.schema import Schema\n",
    "from hsml.model_schema import ModelSchema\n",
    "\n",
    "# Creating input and output schemas using the 'Schema' class for features (X) and target variable (y)\n",
    "input_schema = Schema(X_train)\n",
    "output_schema = Schema(y_train)\n",
    "\n",
    "# Creating a model schema using 'ModelSchema' with the input and output schemas\n",
    "model_schema = ModelSchema(input_schema=input_schema, output_schema=output_schema)\n",
    "\n",
    "# Converting the model schema to a dictionary representation\n",
    "schema_dict = model_schema.to_dict()"
   ]
  },
  {
   "cell_type": "code",
   "execution_count": 29,
   "id": "c0c61ab8",
   "metadata": {},
   "outputs": [],
   "source": [
    "xgb_regressor.save_model(model_dir + \"/model_new.json\")"
   ]
  },
  {
   "cell_type": "code",
   "execution_count": 30,
   "id": "f23cbddd",
   "metadata": {},
   "outputs": [],
   "source": [
    "res_dict = { \n",
    "        \"MSE\": str(mse),\n",
    "        \"R squared\": str(r2),\n",
    "}"
   ]
  },
  {
   "cell_type": "code",
   "execution_count": 31,
   "id": "874d07b6",
   "metadata": {},
   "outputs": [
    {
     "name": "stdout",
     "output_type": "stream",
     "text": [
      "Connected. Call `.close()` to terminate connection gracefully.\n"
     ]
    },
    {
     "data": {
      "application/vnd.jupyter.widget-view+json": {
       "model_id": "8100d4cb348d43f78a06a66d2c503391",
       "version_major": 2,
       "version_minor": 0
      },
      "text/plain": [
       "  0%|          | 0/6 [00:00<?, ?it/s]"
      ]
     },
     "metadata": {},
     "output_type": "display_data"
    },
    {
     "data": {
      "application/vnd.jupyter.widget-view+json": {
       "model_id": "51805188a50840ed99093285af6f1f81",
       "version_major": 2,
       "version_minor": 0
      },
      "text/plain": [
       "Uploading: 0.000%|          | 0/541452 elapsed<00:00 remaining<?"
      ]
     },
     "metadata": {},
     "output_type": "display_data"
    },
    {
     "data": {
      "application/vnd.jupyter.widget-view+json": {
       "model_id": "679981f991b442c4baa3e87cbfc8e7f3",
       "version_major": 2,
       "version_minor": 0
      },
      "text/plain": [
       "Uploading: 0.000%|          | 0/517504 elapsed<00:00 remaining<?"
      ]
     },
     "metadata": {},
     "output_type": "display_data"
    },
    {
     "data": {
      "application/vnd.jupyter.widget-view+json": {
       "model_id": "febc8c3910b14a17936d1abad5d3f039",
       "version_major": 2,
       "version_minor": 0
      },
      "text/plain": [
       "Uploading: 0.000%|          | 0/19695 elapsed<00:00 remaining<?"
      ]
     },
     "metadata": {},
     "output_type": "display_data"
    },
    {
     "data": {
      "application/vnd.jupyter.widget-view+json": {
       "model_id": "a74b0dd9f22441a792f73e3a49538a8d",
       "version_major": 2,
       "version_minor": 0
      },
      "text/plain": [
       "Uploading: 0.000%|          | 0/17648 elapsed<00:00 remaining<?"
      ]
     },
     "metadata": {},
     "output_type": "display_data"
    },
    {
     "data": {
      "application/vnd.jupyter.widget-view+json": {
       "model_id": "524f27663b52485a8d331b3917f0b586",
       "version_major": 2,
       "version_minor": 0
      },
      "text/plain": [
       "Uploading: 0.000%|          | 0/151304 elapsed<00:00 remaining<?"
      ]
     },
     "metadata": {},
     "output_type": "display_data"
    },
    {
     "data": {
      "application/vnd.jupyter.widget-view+json": {
       "model_id": "e06ed765397b440a9ff5dd9bc9a4e449",
       "version_major": 2,
       "version_minor": 0
      },
      "text/plain": [
       "Uploading: 0.000%|          | 0/148280 elapsed<00:00 remaining<?"
      ]
     },
     "metadata": {},
     "output_type": "display_data"
    },
    {
     "data": {
      "application/vnd.jupyter.widget-view+json": {
       "model_id": "e88bedfa173f4de5b3a759b8b827c4bc",
       "version_major": 2,
       "version_minor": 0
      },
      "text/plain": [
       "Uploading: 0.000%|          | 0/136 elapsed<00:00 remaining<?"
      ]
     },
     "metadata": {},
     "output_type": "display_data"
    },
    {
     "data": {
      "application/vnd.jupyter.widget-view+json": {
       "model_id": "b7e4e221badd41f79bd7155727607874",
       "version_major": 2,
       "version_minor": 0
      },
      "text/plain": [
       "Uploading: 0.000%|          | 0/898 elapsed<00:00 remaining<?"
      ]
     },
     "metadata": {},
     "output_type": "display_data"
    },
    {
     "name": "stdout",
     "output_type": "stream",
     "text": [
      "Model created, explore it at https://c.app.hopsworks.ai:443/p/1171609/models/air_quality_xgboost_model_new/2\n"
     ]
    },
    {
     "data": {
      "text/plain": [
       "Model(name: 'air_quality_xgboost_model_new', version: 2)"
      ]
     },
     "execution_count": 31,
     "metadata": {},
     "output_type": "execute_result"
    }
   ],
   "source": [
    "mr = project.get_model_registry()\n",
    "\n",
    "# Creating a Python model in the model registry named 'air_quality_xgboost_model'\n",
    "\n",
    "aq_model = mr.python.create_model(\n",
    "    name=\"air_quality_xgboost_model_new\", \n",
    "    metrics= res_dict,\n",
    "    model_schema=model_schema,\n",
    "    input_example=X_test.sample().values, \n",
    "    description=\"Air Quality (PM2.5) predictor\",\n",
    ")\n",
    "\n",
    "# Saving the model artifacts to the 'air_quality_model' directory in the model registry\n",
    "aq_model.save(model_dir)"
   ]
  }
 ],
 "metadata": {
  "kernelspec": {
   "display_name": "Python 3 (ipykernel)",
   "language": "python",
   "name": "python3"
  },
  "language_info": {
   "codemirror_mode": {
    "name": "ipython",
    "version": 3
   },
   "file_extension": ".py",
   "mimetype": "text/x-python",
   "name": "python",
   "nbconvert_exporter": "python",
   "pygments_lexer": "ipython3",
   "version": "3.10.9"
  }
 },
 "nbformat": 4,
 "nbformat_minor": 5
}
